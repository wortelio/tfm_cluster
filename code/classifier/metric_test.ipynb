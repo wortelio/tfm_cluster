{
 "cells": [
  {
   "cell_type": "code",
   "execution_count": 103,
   "id": "74f8d00a-33e1-4a87-827a-8672669bbe3d",
   "metadata": {},
   "outputs": [],
   "source": [
    "import numpy as np\n",
    "import torch\n",
    "import torchmetrics\n",
    "\n",
    "import matplotlib.pyplot as plt"
   ]
  },
  {
   "cell_type": "code",
   "execution_count": 104,
   "id": "780ccc5f-f860-4759-8c3a-3c5c461501b2",
   "metadata": {},
   "outputs": [],
   "source": [
    "target1 = np.array([[0], [1], [0], [1], [0], [0]])\n",
    "pred1 = np.array([[0.7], [0.4], [0.3], [0.8], [0.6], [0.2]])\n",
    "target2 = np.array([[0], [1], [0], [1], [0], [0]])\n",
    "pred2 = np.array([[0.7], [0.3], [0], [0.6], [0], [0.3]])"
   ]
  },
  {
   "cell_type": "code",
   "execution_count": 105,
   "id": "78a9a2d1-fea8-4170-8bad-9d890d2eab4f",
   "metadata": {},
   "outputs": [],
   "source": [
    "tg1 = torch.tensor(target1)\n",
    "pd1 = torch.tensor(pred1)\n",
    "tg2 = torch.tensor(target2)\n",
    "pd2 = torch.tensor(pred2)\n",
    "\n",
    "l_tg = [tg1, tg2]\n",
    "l_pd = [pd1, pd2]"
   ]
  },
  {
   "cell_type": "code",
   "execution_count": 106,
   "id": "9b83e7d4-8921-422e-b24a-fc7be28fec0d",
   "metadata": {},
   "outputs": [
    {
     "name": "stdout",
     "output_type": "stream",
     "text": [
      "Accuracy on batch 0: 0.5\n",
      "Precision on batch 0: 0.3333333432674408\n",
      "Recall on batch 0: 0.5\n",
      "F1 on batch 0: 0.4000000059604645\n",
      "Accuracy on batch 1: 0.6666666865348816\n",
      "Precision on batch 1: 0.5\n",
      "Recall on batch 1: 0.5\n",
      "F1 on batch 1: 0.5\n",
      "Accuracy on all data: 0.5833333134651184\n",
      "Precision on all data: 0.4000000059604645\n",
      "Recall on all data: 0.5\n",
      "F1 on all data: 0.4444444477558136\n"
     ]
    }
   ],
   "source": [
    "# initialize metric\n",
    "metric_acc = torchmetrics.classification.BinaryAccuracy()\n",
    "metric_pre = torchmetrics.classification.BinaryPrecision()\n",
    "metric_rec = torchmetrics.classification.BinaryRecall()\n",
    "metric_f1 = torchmetrics.classification.BinaryF1Score()\n",
    "\n",
    "n_batches = 2\n",
    "for i in range(n_batches):\n",
    "    # simulate a classification problem\n",
    "    acc = metric_acc(l_pd[i], l_tg[i])\n",
    "    pre = metric_pre(l_pd[i], l_tg[i])\n",
    "    rec = metric_rec(l_pd[i], l_tg[i])\n",
    "    f1 = metric_f1(l_pd[i], l_tg[i])\n",
    "    print(f\"Accuracy on batch {i}: {acc}\")\n",
    "    print(f\"Precision on batch {i}: {pre}\")\n",
    "    print(f\"Recall on batch {i}: {rec}\")\n",
    "    print(f\"F1 on batch {i}: {f1}\")\n",
    "\n",
    "# metric on all batches using custom accumulation\n",
    "acc = metric_acc.compute()\n",
    "pre = metric_pre.compute()\n",
    "rec = metric_rec.compute()\n",
    "f1 = metric_f1.compute()\n",
    "print(f\"Accuracy on all data: {acc}\")\n",
    "print(f\"Precision on all data: {pre}\")\n",
    "print(f\"Recall on all data: {rec}\")\n",
    "print(f\"F1 on all data: {f1}\")\n",
    "\n",
    "# Resetting internal state such that metric ready for new data\n",
    "metric_acc.reset()\n",
    "metric_pre.reset()\n",
    "metric_rec.reset()\n",
    "metric_f1.reset()"
   ]
  },
  {
   "cell_type": "markdown",
   "id": "056f07fa-ccbe-4123-9fd0-ace58f491a41",
   "metadata": {},
   "source": [
    "# Multilabel"
   ]
  },
  {
   "cell_type": "code",
   "execution_count": 107,
   "id": "eba5617a-0025-4505-bdfb-df971941c9d4",
   "metadata": {},
   "outputs": [
    {
     "name": "stdout",
     "output_type": "stream",
     "text": [
      "Target: [tensor([[0, 1],\n",
      "        [1, 0]]), tensor([[1, 1],\n",
      "        [0, 0]])]\n",
      "Preds: [tensor([[0.1192, 0.7311],\n",
      "        [0.8808, 0.9526]]), tensor([[0.8808, 0.7311],\n",
      "        [0.1192, 0.3775]], dtype=torch.float64)]\n"
     ]
    }
   ],
   "source": [
    "y1 = torch.tensor(np.array([[0, 1], [1, 0]]))     \n",
    "yhat1 = torch.sigmoid(torch.tensor(np.array([[-2, 1], [2, 3]])))\n",
    "    \n",
    "y2 = torch.tensor(np.array([[1, 1], [0, 0]]))     \n",
    "yhat2 = torch.sigmoid(torch.tensor(np.array([[2, 1], [-2, -0.5]])))\n",
    "\n",
    "batches_y = [y1, y2]\n",
    "batches_yhat = [yhat1, yhat2]\n",
    "print(f'Target: {batches_y}')\n",
    "print(f'Preds: {batches_yhat}')"
   ]
  },
  {
   "cell_type": "code",
   "execution_count": 108,
   "id": "80d44959-acce-4846-9edb-d57bbcd7d930",
   "metadata": {},
   "outputs": [
    {
     "name": "stdout",
     "output_type": "stream",
     "text": [
      "tensor([[[2, 0],\n",
      "         [0, 2]],\n",
      "\n",
      "        [[1, 1],\n",
      "         [0, 2]]])\n"
     ]
    }
   ],
   "source": [
    "conf_metric = torchmetrics.classification.MultilabelConfusionMatrix(num_labels = 2, threshold = 0.5)\n",
    "\n",
    "n_batches = 2\n",
    "for i in range(n_batches):\n",
    "    # simulate a classification problem\n",
    "    conf_mtx = conf_metric(batches_yhat[i], batches_y[i])\n",
    "\n",
    "conf_mtx = conf_metric.compute()\n",
    "print(conf_mtx)"
   ]
  },
  {
   "cell_type": "code",
   "execution_count": 109,
   "id": "ac6930d4-e289-4d3b-baa6-d40cb1f9a7ba",
   "metadata": {},
   "outputs": [
    {
     "name": "stdout",
     "output_type": "stream",
     "text": [
      "Precision: tensor([1.0000, 0.6667])\n",
      "Recall: tensor([1., 1.])\n",
      "Accuracy: tensor([1.0000, 0.7500])\n",
      "F1: tensor([1.0000, 0.8000])\n"
     ]
    }
   ],
   "source": [
    "precision_metric = torchmetrics.classification.MultilabelPrecision(num_labels = 2, threshold = 0.5, average = None)\n",
    "recall_metric = torchmetrics.classification.MultilabelRecall(num_labels = 2, threshold = 0.5, average = None)\n",
    "accuracy_metric = torchmetrics.classification.MultilabelAccuracy(num_labels = 2, threshold = 0.5, average = None)\n",
    "f1_metric = torchmetrics.classification.MultilabelF1Score(num_labels = 2, threshold = 0.5, average = None)\n",
    "\n",
    "\n",
    "n_batches = 2\n",
    "for i in range(n_batches):\n",
    "    # simulate a classification problem\n",
    "    precision = precision_metric(batches_yhat[i], batches_y[i])\n",
    "    recall = recall_metric(batches_yhat[i], batches_y[i])\n",
    "    accuracy = accuracy_metric(batches_yhat[i], batches_y[i])\n",
    "    f1 = f1_metric(batches_yhat[i], batches_y[i])\n",
    "\n",
    "precision = precision_metric.compute()\n",
    "recall = recall_metric.compute()\n",
    "accuracy = accuracy_metric.compute()\n",
    "f1 = f1_metric.compute()\n",
    "\n",
    "print(f'Precision: {precision}')\n",
    "print(f'Recall: {recall}')\n",
    "print(f'Accuracy: {accuracy}')\n",
    "print(f'F1: {f1}')"
   ]
  },
  {
   "cell_type": "markdown",
   "id": "3db06ec9-6548-410c-a972-528fe7657d38",
   "metadata": {},
   "source": [
    "# My Precision Metric"
   ]
  },
  {
   "cell_type": "code",
   "execution_count": 110,
   "id": "a625157d-1f7b-43e0-8e2c-35c7f694b4c8",
   "metadata": {},
   "outputs": [],
   "source": [
    "# target1 = np.array([[0], [1], [0], [1], [0], [0]])\n",
    "# pred1 = np.array([[0.7], [0.6], [0.3], [0.8], [0.6], [0.2]])\n",
    "# target2 = np.array([[0], [1], [0], [1], [0], [0]])\n",
    "# pred2 = np.array([[1], [1], [0], [1], [0], [0]])"
   ]
  },
  {
   "cell_type": "code",
   "execution_count": 111,
   "id": "e530547a-197c-4268-b0aa-f09099539da2",
   "metadata": {},
   "outputs": [],
   "source": [
    "# tg1 = torch.tensor(target1, dtype=torch.float32)\n",
    "# pd1 = torch.tensor(pred1, dtype=torch.float32)\n",
    "# tg2 = torch.tensor(target2, dtype=torch.float32)\n",
    "# pd2 = torch.tensor(pred2, dtype=torch.float32)\n",
    "\n",
    "# l_tg = [tg1, tg2]\n",
    "# l_pd = [pd1, pd2]"
   ]
  },
  {
   "cell_type": "code",
   "execution_count": 112,
   "id": "8537af65-906a-42b5-89d8-fdcf1fb74681",
   "metadata": {},
   "outputs": [
    {
     "data": {
      "text/plain": [
       "[tensor([[0.7000],\n",
       "         [0.4000],\n",
       "         [0.3000],\n",
       "         [0.8000],\n",
       "         [0.6000],\n",
       "         [0.2000]], dtype=torch.float64),\n",
       " tensor([[0.7000],\n",
       "         [0.3000],\n",
       "         [0.0000],\n",
       "         [0.6000],\n",
       "         [0.0000],\n",
       "         [0.3000]], dtype=torch.float64)]"
      ]
     },
     "execution_count": 112,
     "metadata": {},
     "output_type": "execute_result"
    }
   ],
   "source": [
    "l_pd"
   ]
  },
  {
   "cell_type": "code",
   "execution_count": 113,
   "id": "fdc034d7-5133-4ef5-b50f-adbd0e5aceef",
   "metadata": {},
   "outputs": [
    {
     "name": "stdout",
     "output_type": "stream",
     "text": [
      "Accuracy on batch 0: 0.500\n",
      "Precision on batch 0: 0.333\n",
      "Recall on batch 0: 0.500\n",
      "F1 on batch 0: 0.400\n",
      "Accuracy on batch 1: 0.667\n",
      "Precision on batch 1: 0.500\n",
      "Recall on batch 1: 0.500\n",
      "F1 on batch 1: 0.500\n",
      "Accuracy on all data: 0.583\n",
      "Precision on all data: 0.400\n",
      "Recall on all data: 0.500\n",
      "F1 on all data: 0.444\n"
     ]
    }
   ],
   "source": [
    "# initialize metric\n",
    "metric_acc = torchmetrics.classification.BinaryAccuracy()\n",
    "metric_pre = torchmetrics.classification.BinaryPrecision()\n",
    "metric_rec = torchmetrics.classification.BinaryRecall()\n",
    "metric_f1 = torchmetrics.classification.BinaryF1Score()\n",
    "\n",
    "n_batches = 2\n",
    "for i in range(n_batches):\n",
    "    # simulate a classification problem\n",
    "    acc = metric_acc(l_pd[i], l_tg[i])\n",
    "    pre = metric_pre(l_pd[i], l_tg[i])\n",
    "    rec = metric_rec(l_pd[i], l_tg[i])\n",
    "    f1 = metric_f1(l_pd[i], l_tg[i])\n",
    "    print(f\"Accuracy on batch {i}: {acc:.3f}\")\n",
    "    print(f\"Precision on batch {i}: {pre:.3f}\")\n",
    "    print(f\"Recall on batch {i}: {rec:.3f}\")\n",
    "    print(f\"F1 on batch {i}: {f1:.3f}\")\n",
    "\n",
    "# metric on all batches using custom accumulation\n",
    "acc = metric_acc.compute()\n",
    "pre = metric_pre.compute()\n",
    "rec = metric_rec.compute()\n",
    "f1 = metric_f1.compute()\n",
    "print(f\"Accuracy on all data: {acc:.3f}\")\n",
    "print(f\"Precision on all data: {pre:.3f}\")\n",
    "print(f\"Recall on all data: {rec:.3f}\")\n",
    "print(f\"F1 on all data: {f1:.3f}\")\n",
    "\n",
    "# Resetting internal state such that metric ready for new data\n",
    "metric_acc.reset()\n",
    "metric_pre.reset()\n",
    "metric_rec.reset()\n",
    "metric_f1.reset()"
   ]
  },
  {
   "cell_type": "code",
   "execution_count": 114,
   "id": "32e6989a-a428-4870-b078-d77963c53efa",
   "metadata": {},
   "outputs": [
    {
     "data": {
      "text/plain": [
       "[tensor([[1.],\n",
       "         [0.],\n",
       "         [0.],\n",
       "         [1.],\n",
       "         [1.],\n",
       "         [0.]], dtype=torch.float64),\n",
       " tensor([[1.],\n",
       "         [0.],\n",
       "         [0.],\n",
       "         [1.],\n",
       "         [0.],\n",
       "         [0.]], dtype=torch.float64)]"
      ]
     },
     "execution_count": 114,
     "metadata": {},
     "output_type": "execute_result"
    }
   ],
   "source": [
    "l_pd_round = [torch.round(pd) for pd in l_pd]\n",
    "l_pd_round"
   ]
  },
  {
   "cell_type": "code",
   "execution_count": 115,
   "id": "ad5b5ae5-6047-4e8f-a7f8-fad7308c69f9",
   "metadata": {},
   "outputs": [
    {
     "name": "stdout",
     "output_type": "stream",
     "text": [
      "tensor([[1.],\n",
      "        [0.],\n",
      "        [0.],\n",
      "        [1.],\n",
      "        [1.],\n",
      "        [0.]], dtype=torch.float64)\n",
      "tensor([[0],\n",
      "        [1],\n",
      "        [0],\n",
      "        [1],\n",
      "        [0],\n",
      "        [0]])\n"
     ]
    }
   ],
   "source": [
    "print(l_pd_round[0])\n",
    "print(l_tg[0])"
   ]
  },
  {
   "cell_type": "markdown",
   "id": "098df88b-8584-4d71-8f17-8cd50f0dd859",
   "metadata": {},
   "source": [
    "# Accuracy"
   ]
  },
  {
   "cell_type": "code",
   "execution_count": 116,
   "id": "ee17e573-6e28-4042-8ed3-932dd24ee8bb",
   "metadata": {},
   "outputs": [
    {
     "name": "stdout",
     "output_type": "stream",
     "text": [
      "tensor([[False],\n",
      "        [False],\n",
      "        [ True],\n",
      "        [ True],\n",
      "        [False],\n",
      "        [ True]])\n"
     ]
    }
   ],
   "source": [
    "eq_tensor = torch.eq(l_pd_round[0], l_tg[0])\n",
    "print(eq_tensor)"
   ]
  },
  {
   "cell_type": "code",
   "execution_count": 117,
   "id": "fb74f013-5a6b-4e7e-ab37-c77b24b96a40",
   "metadata": {},
   "outputs": [
    {
     "data": {
      "text/plain": [
       "tensor(3)"
      ]
     },
     "execution_count": 117,
     "metadata": {},
     "output_type": "execute_result"
    }
   ],
   "source": [
    "torch.count_nonzero(eq_tensor)"
   ]
  },
  {
   "cell_type": "code",
   "execution_count": 118,
   "id": "f44c1abf-be86-46c7-987d-a111daa67637",
   "metadata": {},
   "outputs": [],
   "source": [
    "my_acc = torch.count_nonzero(eq_tensor) / eq_tensor.size()[0]"
   ]
  },
  {
   "cell_type": "code",
   "execution_count": 119,
   "id": "9aa525ec-ebdf-4587-8a4c-caf0c5316ff3",
   "metadata": {},
   "outputs": [
    {
     "data": {
      "text/plain": [
       "tensor(0.5000)"
      ]
     },
     "execution_count": 119,
     "metadata": {},
     "output_type": "execute_result"
    }
   ],
   "source": [
    "my_acc"
   ]
  },
  {
   "cell_type": "markdown",
   "id": "eb7a1a8e-32b3-4c62-a649-f17fdd82567a",
   "metadata": {},
   "source": [
    "# Precision"
   ]
  },
  {
   "cell_type": "code",
   "execution_count": 120,
   "id": "bb3e9ddf-288e-445e-b853-232351614382",
   "metadata": {},
   "outputs": [
    {
     "data": {
      "text/plain": [
       "tensor([[ True],\n",
       "        [False],\n",
       "        [False],\n",
       "        [ True],\n",
       "        [ True],\n",
       "        [False]])"
      ]
     },
     "execution_count": 120,
     "metadata": {},
     "output_type": "execute_result"
    }
   ],
   "source": [
    "pred_true = l_pd_round[0] == 1\n",
    "pred_true"
   ]
  },
  {
   "cell_type": "code",
   "execution_count": 121,
   "id": "61ef065c-11a2-4606-a50a-3730c3c7ea99",
   "metadata": {},
   "outputs": [
    {
     "data": {
      "text/plain": [
       "tensor([[False],\n",
       "        [ True],\n",
       "        [False],\n",
       "        [ True],\n",
       "        [False],\n",
       "        [False]])"
      ]
     },
     "execution_count": 121,
     "metadata": {},
     "output_type": "execute_result"
    }
   ],
   "source": [
    "target_true = l_tg[0] == 1\n",
    "target_true"
   ]
  },
  {
   "cell_type": "code",
   "execution_count": 122,
   "id": "d9357f8a-2433-4c1e-832b-faf91f4421fa",
   "metadata": {},
   "outputs": [
    {
     "data": {
      "text/plain": [
       "tensor(2)"
      ]
     },
     "execution_count": 122,
     "metadata": {},
     "output_type": "execute_result"
    }
   ],
   "source": [
    "n_true = torch.count_nonzero(target_true)\n",
    "n_true"
   ]
  },
  {
   "cell_type": "code",
   "execution_count": 123,
   "id": "bedaa9f3-7ee0-4684-b760-4ae2a46aed8c",
   "metadata": {},
   "outputs": [
    {
     "data": {
      "text/plain": [
       "tensor([[False],\n",
       "        [False],\n",
       "        [False],\n",
       "        [ True],\n",
       "        [False],\n",
       "        [False]])"
      ]
     },
     "execution_count": 123,
     "metadata": {},
     "output_type": "execute_result"
    }
   ],
   "source": [
    "torch.eq(pred_true, target_true)*target_true"
   ]
  },
  {
   "cell_type": "code",
   "execution_count": 124,
   "id": "f335462c-378e-4e51-8679-55c96d69ece4",
   "metadata": {},
   "outputs": [],
   "source": [
    "my_prec = torch.count_nonzero(torch.eq(pred_true, target_true)*target_true) / torch.count_nonzero(pred_true)"
   ]
  },
  {
   "cell_type": "code",
   "execution_count": 125,
   "id": "480d2977-99e8-45e2-8f58-b94abf52a765",
   "metadata": {},
   "outputs": [
    {
     "data": {
      "text/plain": [
       "tensor(0.3333)"
      ]
     },
     "execution_count": 125,
     "metadata": {},
     "output_type": "execute_result"
    }
   ],
   "source": [
    "my_prec"
   ]
  },
  {
   "cell_type": "markdown",
   "id": "5803a51d-4617-4d4f-9281-6697db3aab77",
   "metadata": {},
   "source": [
    "# Recall\n",
    "\n",
    "- 1 Multiplicas target * pred = mask_pred\n",
    "- 2 Recall = non_zero(mask_pred) / non_zero(target)"
   ]
  },
  {
   "cell_type": "code",
   "execution_count": 126,
   "id": "95b4f3ca-3cbb-459f-afa8-eff77d0ca7d0",
   "metadata": {},
   "outputs": [
    {
     "data": {
      "text/plain": [
       "tensor([[0.],\n",
       "        [0.],\n",
       "        [0.],\n",
       "        [1.],\n",
       "        [0.],\n",
       "        [0.]], dtype=torch.float64)"
      ]
     },
     "execution_count": 126,
     "metadata": {},
     "output_type": "execute_result"
    }
   ],
   "source": [
    "mask_pred = l_tg[0] * torch.round(l_pd[0])\n",
    "mask_pred"
   ]
  },
  {
   "cell_type": "code",
   "execution_count": 127,
   "id": "05ba9bbb-5c4b-4c21-8c4a-4ae3fc8cc083",
   "metadata": {},
   "outputs": [],
   "source": [
    "my_recall = torch.count_nonzero(mask_pred) / torch.count_nonzero(l_tg[0])"
   ]
  },
  {
   "cell_type": "code",
   "execution_count": 128,
   "id": "eeccca79-9314-47f0-be68-6a4ddab5aee0",
   "metadata": {},
   "outputs": [
    {
     "data": {
      "text/plain": [
       "tensor(0.5000)"
      ]
     },
     "execution_count": 128,
     "metadata": {},
     "output_type": "execute_result"
    }
   ],
   "source": [
    "my_recall"
   ]
  },
  {
   "cell_type": "code",
   "execution_count": null,
   "id": "451d0eab-c4fa-47e6-86e3-c729ffe773b5",
   "metadata": {},
   "outputs": [],
   "source": []
  }
 ],
 "metadata": {
  "kernelspec": {
   "display_name": "Python 3 (ipykernel)",
   "language": "python",
   "name": "python3"
  },
  "language_info": {
   "codemirror_mode": {
    "name": "ipython",
    "version": 3
   },
   "file_extension": ".py",
   "mimetype": "text/x-python",
   "name": "python",
   "nbconvert_exporter": "python",
   "pygments_lexer": "ipython3",
   "version": "3.10.6"
  }
 },
 "nbformat": 4,
 "nbformat_minor": 5
}
