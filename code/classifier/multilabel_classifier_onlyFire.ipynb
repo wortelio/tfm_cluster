{
 "cells": [
  {
   "cell_type": "code",
   "execution_count": 1,
   "id": "6e8a513a-1549-4be7-af63-4f9542994187",
   "metadata": {},
   "outputs": [],
   "source": [
    "import os\n",
    "import logging\n",
    "from pathlib import Path\n",
    "import datetime\n",
    "import xml.etree.ElementTree as ET\n",
    "\n",
    "from tqdm import tqdm\n",
    "import numpy as np\n",
    "import math\n",
    "import pandas as pd\n",
    "import random\n",
    "\n",
    "import torch\n",
    "from torch.utils.data import Dataset\n",
    "from torch.utils.data import DataLoader\n",
    "# Not needed\n",
    "# from torchvision.transforms import ToTensor \n",
    "# from torchvision.transforms.v2 import (Compose, ToImage, ToDtype, \n",
    "#                                        Normalize, RandomPhotometricDistort)\n",
    "\n",
    "import albumentations as A\n",
    "from albumentations.pytorch import ToTensorV2\n",
    "\n",
    "import matplotlib.pyplot as plt\n",
    "\n",
    "import torch.nn as nn \n",
    "from torch.nn.utils import parameters_to_vector\n",
    "import torch.optim as optim\n",
    "\n",
    "\n",
    "import cv2"
   ]
  },
  {
   "cell_type": "markdown",
   "id": "6dfc923c-eb11-4077-88d4-82c09c17e1a1",
   "metadata": {},
   "source": [
    "# Logger"
   ]
  },
  {
   "cell_type": "code",
   "execution_count": 2,
   "id": "0b4e5f0e-110e-4319-aeb1-ea3fcc692ef9",
   "metadata": {},
   "outputs": [],
   "source": [
    "log_path = 'results/'\n",
    "\n",
    "logger = logging.getLogger(\"GonLogger\")\n",
    "logger.propagate = False\n",
    "logger.setLevel(logging.INFO)\n",
    "file_handler = logging.FileHandler(log_path + 'logfile.log')\n",
    "formatter = logging.Formatter('%(message)s')\n",
    "file_handler.setFormatter(formatter)\n",
    "\n",
    "# add file handler to logger\n",
    "logger.addHandler(file_handler)\n",
    "\n",
    "logger.info('SqueezeNet Classifier. First Test.')"
   ]
  },
  {
   "cell_type": "markdown",
   "id": "80118e57-7ba6-4ea3-bac9-d5c27f05863c",
   "metadata": {},
   "source": [
    "# Config"
   ]
  },
  {
   "cell_type": "code",
   "execution_count": 3,
   "id": "243f4966-29cb-45c0-84a4-8e33c37656a0",
   "metadata": {},
   "outputs": [],
   "source": [
    "#CLASSES = [\"smoke\", \"fire\"]\n",
    "CLASSES = [\"fire\"]\n",
    "N_CLASSES = len(CLASSES)\n",
    "\n",
    "IMG_DIM = {'W':224, 'H':224} # (W, H)\n",
    "IMG_H = IMG_DIM['H']\n",
    "IMG_W = IMG_DIM['W']"
   ]
  },
  {
   "cell_type": "markdown",
   "id": "1e4b172f-2792-4ef1-b1c8-2d492ecbe197",
   "metadata": {},
   "source": [
    "# Dataset"
   ]
  },
  {
   "cell_type": "markdown",
   "id": "525abf46-8138-4808-bb69-7dbaa55807d9",
   "metadata": {},
   "source": [
    "# DFire"
   ]
  },
  {
   "cell_type": "code",
   "execution_count": 4,
   "id": "f2c01c04-ca3b-4ff1-99c6-5d2bc76f17dc",
   "metadata": {},
   "outputs": [],
   "source": [
    "class DFireDataset(Dataset):\n",
    "    '''\n",
    "    Creates a Pytorch Dataset to train the Yolov1 Network.\n",
    "    Encodes labels to match the format [xcell, ycell, w, h, confidence, class_0 (smoke), class_1 (fire)]\n",
    "        - Final encoding format is: [xcell, ycell, w, h, conf=1, smoke?, fire?]\n",
    "\n",
    "    Discard images when there are more than 1 object in the same cell\n",
    "    \n",
    "    Arguments:\n",
    "        - img_h:            image height\n",
    "        - img_w:            image width\n",
    "        - img_dir:          path to images folder\n",
    "        - label_dir:        path to labels folder\n",
    "        - num_classes:      number of classes\n",
    "        - transform:        transformation applied to input images -> Albumentations\n",
    "        - target_transform: transformation applied to labels -> nothing by default\n",
    "\n",
    "    Return:\n",
    "        - img:              1 image of the dataset\n",
    "        - target:           corresponding label encoded: [smoke, fire]\n",
    "    '''\n",
    "\n",
    "    def __init__(self, img_h, img_w, img_dir, label_dir, num_classes,\n",
    "                 transform=None, target_transform=None):\n",
    "        self.img_h = img_h\n",
    "        self.img_w = img_w\n",
    "        self.img_dir = img_dir\n",
    "        self.label_dir = label_dir\n",
    "        self.num_classes = num_classes\n",
    "        self.transform = transform\n",
    "        self.target_transform = target_transform\n",
    "\n",
    "        self.labels_list = sorted(\n",
    "            [\n",
    "                os.path.join(self.label_dir, file_name)\n",
    "                for file_name in os.listdir(self.label_dir)\n",
    "                if file_name.endswith(\".txt\")\n",
    "            ]\n",
    "        )[:8]\n",
    "    \n",
    "        self.images_path, self.labels = self.__build_ds__(self.labels_list)\n",
    "        \n",
    "        self.num_samples = len(self.labels_list)\n",
    "\n",
    "    def __len__(self):\n",
    "        return self.num_samples   \n",
    "\n",
    "    def __build_ds__(self, labels_list):\n",
    "        labels = []\n",
    "        images = []\n",
    "        wrong_imgs = 0\n",
    "                \n",
    "        for label in labels_list:\n",
    "            fname = Path(label).stem\n",
    "            image_path = self.img_dir + fname + '.jpg'   \n",
    "            #print(fname, image_path)\n",
    "                                   \n",
    "            if cv2.imread(image_path) is None:\n",
    "                print(f'{image_path} cannot be read by cv2 -> removed')\n",
    "                wrong_imgs += 1\n",
    "            \n",
    "            else:\n",
    "                \n",
    "                label_array = np.zeros((self.num_classes))\n",
    "                ones_array = np.ones((self.num_classes))\n",
    "            \n",
    "                with open(label) as f:\n",
    "                    lines = f.readlines()\n",
    "                       \n",
    "                    for line in lines:\n",
    "                        class_id, _, _, _, _ = line.strip().split()\n",
    "                        class_id = int(class_id)\n",
    "                        if np.array_equal(label_array, ones_array):\n",
    "                            break\n",
    "                        elif class_id == 1:\n",
    "                            label_array[0] = 1.\n",
    "                        else:\n",
    "                            continue\n",
    "\n",
    "                    labels.append(label_array)\n",
    "                    images.append(image_path)\n",
    "        \n",
    "        print(f'DFire Removed wrong images: {wrong_imgs}')\n",
    "        logger.info(f'DFire Removed wrong images: {wrong_imgs}')\n",
    "\n",
    "        labels_np = np.array(labels)\n",
    "        labels_tensor = torch.tensor(labels_np, dtype=torch.float32)\n",
    "        images_array = np.array(images)\n",
    "        \n",
    "        return images_array, labels_tensor\n",
    "\n",
    "    def __getitem__(self, index):\n",
    "\n",
    "        # Image processing\n",
    "        img_file = self.images_path[index]\n",
    "        img = cv2.imread(img_file)\n",
    "        img = cv2.cvtColor(img, cv2.COLOR_BGR2RGB)   \n",
    "\n",
    "        # Labels processing\n",
    "        label = self.labels[index]\n",
    "        \n",
    "        # Data Augmentation\n",
    "        if self.transform is not None:\n",
    "            try:\n",
    "                aug = self.transform(image=img)\n",
    "                #img = aug['image'] / 255.0\n",
    "                img = aug['image'] \n",
    "            except:\n",
    "                #print(f'Error trying to augment image {img_file}')\n",
    "                img = cv2.resize(img, (self.img_w, self.img_h), interpolation = cv2.INTER_NEAREST)\n",
    "                img = (img / 255.0)\n",
    "                img = torch.tensor(img, dtype=torch.float32)\n",
    "                img = img.permute(2, 0, 1)\n",
    "        else:        \n",
    "            img = cv2.resize(img, (self.img_w, self.img_h), interpolation = cv2.INTER_NEAREST)\n",
    "            img = (img / 255.0)\n",
    "            img = torch.tensor(img, dtype=torch.float32)\n",
    "            img = img.permute(2, 0, 1)\n",
    "        \n",
    "        return img, label"
   ]
  },
  {
   "cell_type": "markdown",
   "id": "8357391c-f22c-4810-a68a-dfe6ae3421a1",
   "metadata": {},
   "source": [
    "### View Dataset"
   ]
  },
  {
   "cell_type": "code",
   "execution_count": 5,
   "id": "eb44e93c-b177-4c16-a4b4-c79ea28e2343",
   "metadata": {},
   "outputs": [
    {
     "name": "stdout",
     "output_type": "stream",
     "text": [
      "Train dir: ['labels', 'images']\n",
      "val dir: ['labels', 'images']\n"
     ]
    }
   ],
   "source": [
    "#ds_dir = '../../ds2fire/dfire_yolo/'\n",
    "ds_dir = '../pets/pets/'\n",
    "\n",
    "train_dir = ds_dir + 'train/'\n",
    "train_imgs = train_dir + 'images/'\n",
    "train_labels = train_dir + 'labels/'\n",
    "\n",
    "#val_dir = ds_dir + 'test/'\n",
    "\n",
    "val_dir = ds_dir + 'test/'\n",
    "val_imgs = val_dir + 'images/'\n",
    "val_labels = val_dir + 'labels/'\n",
    "\n",
    "print(f'Train dir: {os.listdir(train_dir)}')\n",
    "print(f'val dir: {os.listdir(val_dir)}')"
   ]
  },
  {
   "cell_type": "markdown",
   "id": "e2918fed-198a-4119-9037-9627b6855ff3",
   "metadata": {},
   "source": [
    "### Transform"
   ]
  },
  {
   "cell_type": "code",
   "execution_count": 6,
   "id": "49c4fb08-a23f-42f3-a534-e19134953a4a",
   "metadata": {},
   "outputs": [],
   "source": [
    "view_transform = A.Compose([\n",
    "        A.HorizontalFlip(p=0.5),\n",
    "        A.OneOf([\n",
    "            A.RandomBrightnessContrast(p=0.4),\n",
    "            A.HueSaturationValue(hue_shift_limit=10, p=0.2),\n",
    "            A.Blur(blur_limit=(3,3), p=0.3),\n",
    "            A.CLAHE(clip_limit=2.0, p=0.3),\n",
    "            A.RGBShift(r_shift_limit=15, g_shift_limit=15, b_shift_limit=15, p=0.5),\n",
    "        ], p=0.9),\n",
    "        A.ShiftScaleRotate(shift_limit=0.05, scale_limit=0.05, rotate_limit=15, p=0.5),\n",
    "        A.Resize(IMG_H, IMG_W, p=1),\n",
    "        ToTensorV2(p=1),\n",
    "    ]\n",
    ")"
   ]
  },
  {
   "cell_type": "code",
   "execution_count": 7,
   "id": "cb301ea9-2f85-419a-80a7-81167293c478",
   "metadata": {},
   "outputs": [
    {
     "name": "stdout",
     "output_type": "stream",
     "text": [
      "DFire Removed wrong images: 0\n",
      "Val dataset length: 8\n"
     ]
    }
   ],
   "source": [
    "view_dfire_ds = DFireDataset(img_h=IMG_H, \n",
    "                             img_w=IMG_W, \n",
    "                             img_dir=val_imgs, \n",
    "                             label_dir=val_labels, \n",
    "                             num_classes=N_CLASSES,\n",
    "                             transform=view_transform)\n",
    "                             #transform=None)\n",
    "VIEW_BATCH_SIZE = 4\n",
    "view_loader = DataLoader(dataset=view_dfire_ds,\n",
    "                         batch_size=VIEW_BATCH_SIZE,\n",
    "                         num_workers=1,\n",
    "                         pin_memory=True,\n",
    "                         shuffle=True,\n",
    "                         drop_last=False)\n",
    "print(f'Val dataset length: {len(view_dfire_ds)}')"
   ]
  },
  {
   "cell_type": "markdown",
   "id": "5e8eb57d-4f0d-4f9b-aad1-2b88ac6fe373",
   "metadata": {},
   "source": [
    "# Plot Dataset Pictures"
   ]
  },
  {
   "cell_type": "code",
   "execution_count": 8,
   "id": "66c1e82b-974f-4282-91f9-444f2ec2b569",
   "metadata": {},
   "outputs": [
    {
     "name": "stderr",
     "output_type": "stream",
     "text": [
      "/opt/conda/lib/python3.10/site-packages/transformers/utils/generic.py:441: UserWarning: torch.utils._pytree._register_pytree_node is deprecated. Please use torch.utils._pytree.register_pytree_node instead.\n",
      "  _torch_pytree._register_pytree_node(\n"
     ]
    },
    {
     "data": {
      "image/png": "[encoded data removed]",
      "text/plain": [
       "<Figure size 1000x2000 with 4 Axes>"
      ]
     },
     "metadata": {},
     "output_type": "display_data"
    }
   ],
   "source": [
    "for i, (img, label) in enumerate(view_loader):\n",
    "\n",
    "    plt.subplots(1,4, figsize=(10, 20))\n",
    "    \n",
    "    for idx in range(VIEW_BATCH_SIZE):\n",
    "        plt.subplot(1, 4, idx+1)\n",
    "        plt.imshow(img[idx].permute(1, 2, 0))\n",
    "        title = \"\"\n",
    "        if label[idx] == 1:\n",
    "            title += \"Fire\"\n",
    "        else:\n",
    "            title += \"Empty\"\n",
    "        plt.title(title)\n",
    "        if (idx == 3):\n",
    "            break\n",
    "    plt.tight_layout()\n",
    "    plt.show()\n",
    "    break"
   ]
  },
  {
   "cell_type": "markdown",
   "id": "46b8a4ea-c839-4710-b4fa-f554887d8c93",
   "metadata": {},
   "source": [
    "# Model: Optim Bed"
   ]
  },
  {
   "cell_type": "code",
   "execution_count": 9,
   "id": "f582081b-1b2e-4176-ae58-11a1bbe80aad",
   "metadata": {},
   "outputs": [],
   "source": [
    "class BED_CLASSIFIER(nn.Module):\n",
    "    def __init__(self, num_classes, in_channels=3):\n",
    "        super(BED_CLASSIFIER, self).__init__()\n",
    "        self.in_channels = in_channels\n",
    "        self.last_channels = 128\n",
    "        self.num_classes = num_classes\n",
    "        \n",
    "        self.model = self.__create_BED__()\n",
    "        \n",
    "        self.pool = nn.AdaptiveAvgPool2d((1, 1))\n",
    "        # self.smoke = nn.Sequential(\n",
    "        #     nn.Dropout(p=0.2),\n",
    "        #     nn.Linear(in_features=self.last_channels, out_features=1)\n",
    "        # )\n",
    "        self.fire = nn.Sequential(\n",
    "            nn.Dropout(p=0.2),\n",
    "            nn.Linear(in_features=self.last_channels, out_features=1)\n",
    "        )\n",
    "\n",
    "        \n",
    "    def __create_BED__(self):\n",
    "        BED_model = nn.Sequential(\n",
    "            # Conv2d [in_channels, out_channels, kernel_size, stride, padding, bias]\n",
    "\n",
    "            # CNNBlock 224x224\n",
    "            nn.Conv2d(self.in_channels, 64, kernel_size=3, stride=1, padding=1,  bias=False),\n",
    "            nn.BatchNorm2d(64, affine=False),\n",
    "            nn.ReLU(),\n",
    "            nn.Dropout2d(p=0.3),\n",
    "\n",
    "            # CNNBlock 112x112\n",
    "            nn.MaxPool2d(kernel_size=2, stride=2),\n",
    "            nn.Conv2d(64, 24, kernel_size=3, stride=1, padding=1,  bias=False),\n",
    "            nn.BatchNorm2d(24, affine=False),\n",
    "            nn.ReLU(),\n",
    "            nn.Dropout2d(p=0.3),\n",
    "\n",
    "            # CNNBlock 56x56\n",
    "            nn.MaxPool2d(kernel_size=2, stride=2),\n",
    "            # kernel = 1 in github\n",
    "            nn.Conv2d(24, 16, kernel_size=1, stride=1, padding=0,  bias=False),\n",
    "            nn.BatchNorm2d(16, affine=False),\n",
    "            nn.ReLU(),\n",
    "            \n",
    "            nn.Conv2d(16, 32, kernel_size=3, stride=1, padding=1,  bias=False),\n",
    "            nn.BatchNorm2d(32, affine=False),\n",
    "            nn.ReLU(),\n",
    "            \n",
    "            # kernel = 1 in github\n",
    "            nn.Conv2d(32, 32, kernel_size=1, stride=1, padding=0,  bias=False),\n",
    "            nn.BatchNorm2d(32, affine=False),\n",
    "            nn.ReLU(),\n",
    "            \n",
    "            nn.Conv2d(32, 64, kernel_size=3, stride=1, padding=1,  bias=False),\n",
    "            nn.BatchNorm2d(64, affine=False),\n",
    "            nn.ReLU(),\n",
    "\n",
    "            # CNNBlock 28x28\n",
    "            nn.MaxPool2d(kernel_size=2, stride=2),\n",
    "            nn.Conv2d(64, 32, kernel_size=1, stride=1, padding=0,  bias=False),\n",
    "            nn.BatchNorm2d(32, affine=False),\n",
    "            nn.ReLU(),\n",
    "            \n",
    "            nn.Conv2d(32, 64, kernel_size=3, stride=1, padding=1,  bias=False),\n",
    "            nn.BatchNorm2d(64, affine=False),\n",
    "            nn.ReLU(),\n",
    "            \n",
    "            nn.Conv2d(64, 32, kernel_size=1, stride=1, padding=0,  bias=False),\n",
    "            nn.BatchNorm2d(32, affine=False),\n",
    "            nn.ReLU(),\n",
    "            \n",
    "            nn.Conv2d(32, 64, kernel_size=3, stride=1, padding=1,  bias=False),\n",
    "            nn.BatchNorm2d(64, affine=False),\n",
    "            nn.ReLU(),\n",
    "            \n",
    "            nn.Conv2d(64, 32, kernel_size=1, stride=1, padding=0,  bias=False),\n",
    "            nn.BatchNorm2d(32, affine=False),\n",
    "            nn.ReLU(),\n",
    "            \n",
    "            nn.Conv2d(32, 64, kernel_size=3, stride=1, padding=1,  bias=False),\n",
    "            nn.BatchNorm2d(64, affine=False),\n",
    "            nn.ReLU(),\n",
    "\n",
    "            # CNNBlock 14x14\n",
    "            nn.MaxPool2d(kernel_size=2, stride=2), \n",
    "            nn.Conv2d(64, 32, kernel_size=1, stride=1, padding=0,  bias=False),\n",
    "            nn.BatchNorm2d(32, affine=False),\n",
    "            nn.ReLU(),\n",
    "            \n",
    "            nn.Conv2d(32, 64, kernel_size=3, stride=1, padding=1,  bias=False),\n",
    "            nn.BatchNorm2d(64, affine=False),\n",
    "            nn.ReLU(),\n",
    "            \n",
    "            nn.Conv2d(64, 32, kernel_size=1, stride=1, padding=0,  bias=False),\n",
    "            nn.BatchNorm2d(32, affine=False),\n",
    "            nn.ReLU(),\n",
    "            \n",
    "            nn.Conv2d(32, 64, kernel_size=3, stride=1, padding=1,  bias=False),\n",
    "            nn.BatchNorm2d(64, affine=False),\n",
    "            nn.ReLU(),\n",
    "            \n",
    "            nn.Conv2d(64, 64, kernel_size=3, stride=1, padding=1,  bias=False),\n",
    "            nn.BatchNorm2d(64, affine=False),\n",
    "            nn.ReLU(),\n",
    "            \n",
    "            nn.Conv2d(64, 64, kernel_size=3, stride=1, padding=1,  bias=False),\n",
    "            nn.BatchNorm2d(64, affine=False),\n",
    "            nn.ReLU(),\n",
    "            \n",
    "            # CNNBlock 7x7\n",
    "            nn.MaxPool2d(kernel_size=2, stride=2),\n",
    "            nn.Conv2d(64, 128, kernel_size=3, stride=1, padding=1,  bias=False),\n",
    "            nn.BatchNorm2d(128, affine=False),\n",
    "            nn.ReLU(),\n",
    "            nn.Conv2d(128, self.last_channels, kernel_size=3, stride=1, padding=1,  bias=False),\n",
    "            nn.BatchNorm2d(self.last_channels, affine=False),\n",
    "            nn.ReLU(),\n",
    "            \n",
    "        )\n",
    "        return BED_model\n",
    "        \n",
    "          \n",
    "\n",
    "    def _initialize_weights(self):\n",
    "        for m in self.modules():\n",
    "            if isinstance(m, nn.Conv2d):\n",
    "                nn.init.kaiming_normal_(m.weight, mode='fan_in',\n",
    "                    nonlinearity='relu'\n",
    "                )\n",
    "                if m.bias is not None:\n",
    "                        nn.init.constant_(m.bias, 0)\n",
    "            elif isinstance(m, nn.Linear):\n",
    "                nn.init.normal_(m.weight, 0, 0.01)\n",
    "                nn.init.constant_(m.bias, 0)\n",
    "\n",
    "\n",
    "    def forward(self, x):\n",
    "        print(f'Input: {x}')\n",
    "        x = self.model(x)\n",
    "        print(f'X before avg pooling: {x}')\n",
    "        x = self.pool(x)\n",
    "        print(f'X after avg pooling: {x}')\n",
    "        x = torch.flatten(x, start_dim=1)\n",
    "        print(f'X before linnear:\\n{x}')\n",
    "        # x = torch.cat((self.smoke(x), self.fire(x)), dim=-1)\n",
    "        # print(f'X after linnear:\\n{x}')\n",
    "        x = self.fire(x)\n",
    "        x = torch.sigmoid(x)\n",
    "        return x"
   ]
  },
  {
   "cell_type": "markdown",
   "id": "0cd76c42-0ec1-426a-9826-a25b4f3d8870",
   "metadata": {},
   "source": [
    "# Test CNN"
   ]
  },
  {
   "cell_type": "code",
   "execution_count": 10,
   "id": "b7208334-8e27-483c-8271-8d212eeeaec0",
   "metadata": {},
   "outputs": [],
   "source": [
    "class TEST_CNN(nn.Module):\n",
    "    def __init__(self):\n",
    "        super(TEST_CNN, self).__init__()\n",
    "        \n",
    "        self.model = self.__create_model__()\n",
    "        \n",
    "    def __create_model__(self):\n",
    "        model = nn.Sequential(\n",
    "            # Conv2d [in_channels, out_channels, kernel_size, stride, padding, bias]\n",
    "\n",
    "            # CNNBlock 224x224\n",
    "            nn.Conv2d(3, 64, kernel_size=3, stride=1, padding=1,  bias=False),\n",
    "            nn.BatchNorm2d(64, affine=False),\n",
    "            nn.ReLU(),\n",
    "\n",
    "            # CNNBlock 112x112\n",
    "            nn.MaxPool2d(kernel_size=2, stride=2),\n",
    "            nn.Conv2d(64, 24, kernel_size=3, stride=1, padding=1,  bias=False),\n",
    "            nn.BatchNorm2d(24, affine=False),\n",
    "            nn.ReLU(),\n",
    "\n",
    "            nn.AdaptiveAvgPool2d(1),\n",
    "            nn.Flatten(),\n",
    "            nn.Linear(in_features=24, out_features=1),\n",
    "            nn.Sigmoid(),\n",
    " \n",
    "        )\n",
    "        return model        \n",
    "\n",
    "    def _initialize_weights(self):\n",
    "        for m in self.modules():\n",
    "            if isinstance(m, nn.Conv2d):\n",
    "                nn.init.kaiming_normal_(m.weight, mode='fan_in',\n",
    "                    nonlinearity='relu'\n",
    "                )\n",
    "                if m.bias is not None:\n",
    "                        nn.init.constant_(m.bias, 0)\n",
    "            elif isinstance(m, nn.Linear):\n",
    "                nn.init.normal_(m.weight, 0, 0.01)\n",
    "                nn.init.constant_(m.bias, 0)\n",
    "\n",
    "\n",
    "    def forward(self, x):\n",
    "        x = self.model(x)\n",
    "        return x"
   ]
  },
  {
   "cell_type": "markdown",
   "id": "d26df9f8-d9ed-4368-96c8-5a2f41a0aaf9",
   "metadata": {},
   "source": [
    "# Loss"
   ]
  },
  {
   "cell_type": "code",
   "execution_count": 11,
   "id": "1cff6a5c-3dd1-4e7c-b054-98c9e3f8b20a",
   "metadata": {},
   "outputs": [],
   "source": [
    "class BCE_LOSS(nn.Module):\n",
    "    '''\n",
    "    dataset output: (image, {smoke: x, fire: x})\n",
    "    model output: {smoke: x, fire: x}\n",
    "    '''\n",
    "\n",
    "    def __init__(self, device):\n",
    "        super(BCE_LOSS, self).__init__()\n",
    "        self.device = device\n",
    "        self.bce = nn.BCELoss(reduction='mean')\n",
    "        self.mse = nn.MSELoss(reduction='mean')\n",
    "        self.eps = 1e-10\n",
    "        \n",
    "        self.fire_loss = 0\n",
    "\n",
    "    def forward(self, ground_truth, predictions):\n",
    "        \n",
    "        print(f'Ground trunth: {ground_truth}')\n",
    "        print(f'Predictions: {predictions}')\n",
    "\n",
    "        fire_loss = self.bce(ground_truth + self.eps, predictions + self.eps)\n",
    "        #fire_loss = self.mse(ground_truth, predictions)\n",
    "        self.fire_loss = fire_loss.item()\n",
    "              \n",
    "        return fire_loss\n",
    "\n",
    "    def get_last_losses(self):     \n",
    "        return self.fire_loss"
   ]
  },
  {
   "cell_type": "markdown",
   "id": "803a3d7c-90bf-4049-9e90-211a635a8589",
   "metadata": {},
   "source": [
    "# Train Loop"
   ]
  },
  {
   "cell_type": "code",
   "execution_count": 12,
   "id": "8d572e28-eee1-4252-907c-3f727429788b",
   "metadata": {},
   "outputs": [],
   "source": [
    "'''\n",
    "Train function\n",
    "'''\n",
    "def get_lr(optimizer):\n",
    "    for param_group in optimizer.param_groups:\n",
    "        return param_group['lr']\n",
    "\n",
    "def train_fn(loader, model, optimizer, loss_fn, device):\n",
    "    \n",
    "    print(f'Learning Rate = {get_lr(optimizer=optimizer)}\\n')\n",
    "    logger.info(f'Learning Rate = {get_lr(optimizer=optimizer)}')\n",
    "\n",
    "    model.train()\n",
    "    loop = tqdm(loader, desc='Training', leave=True)\n",
    "    train_losses = []\n",
    "    fire_losses = []\n",
    "\n",
    "    for batch_idx, (x, y) in enumerate(loop):\n",
    "        x, y = x.to(device), y.to(device)\n",
    "        out = model(x)\n",
    "        train_loss = loss_fn(ground_truth=y, \n",
    "                             predictions=out)\n",
    "      \n",
    "        # Gradient Descent\n",
    "        optimizer.zero_grad()\n",
    "        train_loss.backward()\n",
    "        torch.nn.utils.clip_grad_norm_(model.parameters(), max_norm=10.0)\n",
    "        optimizer.step()\n",
    "\n",
    "        # BCE Loss\n",
    "        last_losses = loss_fn.get_last_losses()\n",
    "        train_losses.append(train_loss.item())\n",
    "        fire_losses.append(last_losses)\n",
    "        \n",
    "        print(f'Train loss: {train_loss}')\n",
    "        print(f'Train loss: {train_losses}')\n",
    "\n",
    "\n",
    "    logger.info(\"\\nTRAIN losses\")\n",
    "    train_mean_loss = sum(train_losses)/len(train_losses)\n",
    "    fire_mean_loss = sum(fire_losses)/len(fire_losses)\n",
    "\n",
    "\n",
    "    print(\"Total Loss\".ljust(12) + \"|\" + \n",
    "          \"Fire Loss\".ljust(12))\n",
    "    print(\"------------\".ljust(12) + \" \" + \n",
    "          \"------------\".ljust(12))\n",
    "    print(f'{train_mean_loss:.3f}'.ljust(12) + \"|\" +\n",
    "          f'{fire_mean_loss:.3f}'.ljust(12) + \"\\n\")\n",
    "    \n",
    "    logger.info(\"Total Loss\".ljust(12) + \"|\" + \n",
    "          \"Fire Loss\".ljust(12))\n",
    "    logger.info(\"------------\".ljust(12) + \" \" + \n",
    "          \"------------\".ljust(12))\n",
    "    logger.info(f'{train_mean_loss:.3f}'.ljust(12) + \"|\" +\n",
    "          f'{fire_mean_loss:.3f}'.ljust(12) + \"\\n\")   \n",
    "\n",
    "    \n",
    "    return (train_mean_loss, \n",
    "            fire_mean_loss)"
   ]
  },
  {
   "cell_type": "markdown",
   "id": "78310769-2eab-402e-91bb-c2a3dc30ca49",
   "metadata": {},
   "source": [
    "# Validation Loop"
   ]
  },
  {
   "cell_type": "code",
   "execution_count": 13,
   "id": "43c8d405-8edb-44db-99ce-5bda955262b0",
   "metadata": {},
   "outputs": [],
   "source": [
    "'''\n",
    "Evaluation Function\n",
    "'''\n",
    "def eval_fn(loader, model, loss_fn, device):\n",
    "    \n",
    "    model.eval()\n",
    "    loop = tqdm(loader, desc='Validating', leave=True)\n",
    "    val_losses = []\n",
    "    fire_losses = []\n",
    "\n",
    "    for batch_idx, (x, y) in enumerate(loop):\n",
    "        x, y = x.to(device), y.to(device)\n",
    "        out = model(x)\n",
    "        val_loss = loss_fn(ground_truth=y, \n",
    "                           predictions=out)\n",
    "        \n",
    "        # BCE Loss\n",
    "        last_losses = loss_fn.get_last_losses()\n",
    "        val_losses.append(val_loss.item())\n",
    "        fire_losses.append(last_losses)\n",
    "\n",
    "    logger.info(\"\\nTRAIN losses\")\n",
    "    val_mean_loss = sum(val_losses)/len(val_losses)\n",
    "    fire_mean_loss = sum(fire_losses)/len(fire_losses)\n",
    "\n",
    "\n",
    "    print(\"Total Loss\".ljust(12) + \"|\" + \n",
    "          \"Fire Loss\".ljust(12))\n",
    "    print(\"------------\".ljust(12) + \" \" + \n",
    "          \"------------\".ljust(12))\n",
    "    print(f'{val_mean_loss:.3f}'.ljust(12) + \"|\" +\n",
    "          f'{fire_mean_loss:.3f}'.ljust(12) + \"\\n\")\n",
    "    \n",
    "    logger.info(\"Total Loss\".ljust(12) + \"|\" + \n",
    "          \"Fire Loss\".ljust(12))\n",
    "    logger.info(\"------------\".ljust(12) + \" \" + \n",
    "          \"------------\".ljust(12))\n",
    "    logger.info(f'{val_mean_loss:.3f}'.ljust(12) + \"|\" +\n",
    "          f'{fire_mean_loss:.3f}'.ljust(12) + \"\\n\")   \n",
    "\n",
    "    \n",
    "    return (val_mean_loss, \n",
    "            fire_mean_loss)"
   ]
  },
  {
   "cell_type": "markdown",
   "id": "542018a0-be77-4989-84e8-860a54e106ce",
   "metadata": {},
   "source": [
    "# Hyperparameters"
   ]
  },
  {
   "cell_type": "code",
   "execution_count": 14,
   "id": "eff49d4d-b030-45df-943f-d7360278f6ab",
   "metadata": {},
   "outputs": [],
   "source": [
    "''' ============================\n",
    "    Hyperparameters and More\n",
    "============================ '''\n",
    "\n",
    "MODEL = \"BED\"\n",
    "#MODEL = \"SQUEEZE\"\n",
    "MODEL = \"TEST_CNN\"\n",
    "\n",
    "\n",
    "LEARNING_RATE = 5e-4\n",
    "#LEARNING_RATE = 0.1\n",
    "#DEVICE = \"cuda\" if torch.cuda.is_available() else \"cpu\"\n",
    "DEVICE = \"cpu\"\n",
    "BATCH_SIZE = 4 \n",
    "#WEIGHT_DECAY = 1e-4\n",
    "WEIGHT_DECAY = 0\n",
    "EPOCHS = 10\n",
    "NUM_WORKERS = 2\n",
    "PIN_MEMORY = True\n",
    "LOAD_MODEL = False\n",
    "LOAD_MODEL_FILE = log_path + \"bed_classifier_best.pt\"\n",
    "\n",
    "LOSS_FN = \"BCE\"\n",
    "\n",
    "TRAIN_IMG_DIR = train_imgs\n",
    "TRAIN_LABEL_DIR = train_labels\n",
    "VAL_IMG_DIR = val_imgs\n",
    "VAL_LABEL_DIR = val_labels\n",
    "\n",
    "LOG_FILE = \"log_file.xlsx\"\n",
    "\n",
    "\n",
    "''' ============================\n",
    "    Metrics\n",
    "============================ '''\n",
    "# Loss output\n",
    "## Train\n",
    "train_total_loss = []\n",
    "train_fire_loss = []\n",
    "## Val\n",
    "val_total_loss = []\n",
    "val_fire_loss = []\n",
    "\n",
    "epochs_plot = []"
   ]
  },
  {
   "cell_type": "markdown",
   "id": "453ff6ca-4e1a-40a3-a173-1de75ba0ef11",
   "metadata": {},
   "source": [
    "# Main Function"
   ]
  },
  {
   "cell_type": "code",
   "execution_count": 15,
   "id": "da2d2348-c75c-4596-9d8f-e6da9144ee82",
   "metadata": {},
   "outputs": [],
   "source": [
    "def main():\n",
    "\n",
    "    ''' ============================\n",
    "        Print Config Values\n",
    "    ============================ '''\n",
    "    print(f'Device: {DEVICE}')\n",
    "    print(f'Learning Rate: {LEARNING_RATE}')\n",
    "    print(f'Weight Decay: {WEIGHT_DECAY}')\n",
    "    print(f'Batch Size: {BATCH_SIZE}')\n",
    "    print(f'IMG DIMS: ({IMG_H}, {IMG_W})')\n",
    "    print(f'W: {IMG_W}\\nH: {IMG_H}')\n",
    "    \n",
    "    logger.info(f'Device: {DEVICE}')\n",
    "    logger.info(f'Learning Rate: {LEARNING_RATE}')\n",
    "    logger.info(f'Weight Decay: {WEIGHT_DECAY}')\n",
    "    logger.info(f'Batch Size: {BATCH_SIZE}')\n",
    "    logger.info(f'IMG DIMS: ({IMG_H}, {IMG_W})')\n",
    "    logger.info(f'W: {IMG_W}\\nH: {IMG_H}')\n",
    "\n",
    "    ''' ======================================\n",
    "        SETUP: Model, Loss, Dataset, Loader\n",
    "    ====================================== '''\n",
    "    if MODEL == \"BED\":\n",
    "        print(\"Using BED Classifier\")\n",
    "        logger.info(\"Using BED Classifier\")\n",
    "        model = BED_CLASSIFIER(num_classes=N_CLASSES).to(DEVICE)\n",
    "    elif MODEL == \"SQUEEZE\":\n",
    "        print(\"Using Squeeze Classifier\")\n",
    "        logger.info(\"Using Squeeze Classifier\")\n",
    "        model = SqueezeNet_CLASSIFIER().to(DEVICE)   \n",
    "    elif MODEL == \"TEST_CNN\":\n",
    "        print(\"Using Test CNN Classifier\")\n",
    "        logger.info(\"Using Test CNN Classifier\")\n",
    "        model = TEST_CNN().to(DEVICE)           \n",
    "    else:\n",
    "        print(\"Wrong Model\")\n",
    "        logger.info(\"Wrong Model\")\n",
    "        raise SystemExit(\"Wrong Model\")\n",
    "    \n",
    "    # Check model shape\n",
    "    in_rand_np = np.random.rand(4, 3, IMG_H, IMG_W)\n",
    "    in_rand = torch.tensor(in_rand_np, dtype=torch.float32, device=DEVICE)\n",
    "    out_test = model(in_rand)\n",
    "    print(f'Model shape is {out_test.shape}')\n",
    "    print(f'BED Model Arquitecture\\n{model}')\n",
    "    logger.info(f'Model shape is {out_test}')\n",
    "    logger.info(f'BED Model Arquitecture\\n{model}')\n",
    "    \n",
    "    \n",
    "    optimizer = optim.Adam(model.parameters(), \n",
    "                           lr=LEARNING_RATE, \n",
    "                           weight_decay=WEIGHT_DECAY)\n",
    "    \n",
    "    # optimizer = torch.optim.SGD(model.parameters(), \n",
    "    #                             lr=LEARNING_RATE,\n",
    "    #                             momentum=0.9, \n",
    "    #                             weight_decay=WEIGHT_DECAY, \n",
    "    #                             nesterov=True)\n",
    "    \n",
    "    scheduler = optim.lr_scheduler.ReduceLROnPlateau(optimizer, \n",
    "                                                     mode='min',\n",
    "                                                     factor=0.8, \n",
    "                                                     patience=2, \n",
    "                                                     threshold=0.1, \n",
    "                                                     threshold_mode='abs',\n",
    "                                                     min_lr=1e-6)\n",
    "    \n",
    "    # MODEL PARAMETERS\n",
    "    n_trainable = sum(p.numel() for p in model.parameters() if p.requires_grad)\n",
    "    print(f'\\nTrainable parameters = {n_trainable}')\n",
    "    logger.info(f'\\nTrainable parameters = {n_trainable}')\n",
    "\n",
    "    n_params = parameters_to_vector(model.parameters()).numel()\n",
    "    print(f'Total parameters = {n_params}\\n')\n",
    "    logger.info(f'Total parameters = {n_params}\\n')\n",
    "    \n",
    "    # LOSS FUNCTION\n",
    "    if LOSS_FN == \"BCE\":\n",
    "        print(f'Loss Function: BCE')\n",
    "        logger.info(f'Loss Function: BCE')\n",
    "        loss_fn = BCE_LOSS(device=DEVICE)\n",
    "    else:\n",
    "        print(\"Wrong loss function\")\n",
    "        logger.info(\"Wrong loss function\")\n",
    "        raise SystemExit(\"Wrong loss function\")\n",
    "\n",
    "    train_transform = A.Compose([\n",
    "            # A.HorizontalFlip(p=0.5),\n",
    "            # A.OneOf([\n",
    "            #     A.RandomBrightnessContrast(p=0.4),\n",
    "            #     A.HueSaturationValue(hue_shift_limit=10, p=0.2),\n",
    "            #     A.Blur(blur_limit=(3,3), p=0.3),\n",
    "            #     A.CLAHE(clip_limit=2.0, p=0.3),\n",
    "            #     A.RGBShift(r_shift_limit=15, g_shift_limit=15, b_shift_limit=15, p=0.5),\n",
    "            # ], p=0.9),\n",
    "            # A.ShiftScaleRotate(shift_limit=0.05, scale_limit=0.05, rotate_limit=15, p=0.5),\n",
    "            A.Resize(IMG_H, IMG_W, p=1),\n",
    "            A.Normalize(mean=(0.485, 0.456, 0.406), std=(0.229, 0.224, 0.225), p=1),\n",
    "            ToTensorV2(p=1),\n",
    "        ]\n",
    "    )\n",
    "    \n",
    "    # TRAIN DATASET\n",
    "    print(\"\\nTRAIN DFIRE dataset\")\n",
    "    logger.info(\"\\nTRAIN DFIRE dataset\")\n",
    "    train_dataset = DFireDataset(img_h = IMG_H,\n",
    "                                 img_w = IMG_W,\n",
    "                                 img_dir = TRAIN_IMG_DIR,\n",
    "                                 label_dir = TRAIN_LABEL_DIR,\n",
    "                                 num_classes=N_CLASSES,\n",
    "                                 #transform=train_transform)\n",
    "                                 transform=None)\n",
    "\n",
    "    print(f'Train dataset len: {len(train_dataset)}')\n",
    "    logger.info(f'Train dataset len: {len(train_dataset)}')\n",
    "\n",
    "    \n",
    "    # VALIDATION DATASET\n",
    "    val_transform = A.Compose([\n",
    "        A.Resize(IMG_H, IMG_W, p=1),\n",
    "        A.Normalize(mean=(0.485, 0.456, 0.406), std=(0.229, 0.224, 0.225), p=1), # Removed to divide by 255. in dataset\n",
    "        ToTensorV2(p=1),\n",
    "        ]\n",
    "    )\n",
    "    \n",
    "    print(\"\\nTEST DFire dataset\")\n",
    "    logger.info(\"\\nTEST DFire dataset\")\n",
    "    val_dataset = DFireDataset(img_h = IMG_H,\n",
    "                               img_w = IMG_W,\n",
    "                               img_dir = VAL_IMG_DIR,\n",
    "                               label_dir = VAL_LABEL_DIR,\n",
    "                               num_classes = N_CLASSES,\n",
    "                               #transform=val_transform)\n",
    "                               transform=None)\n",
    "\n",
    "    print(f'Test dataset len: {len(val_dataset)}')\n",
    "    logger.info(f'Test dataset len: {len(val_dataset)}')\n",
    "    \n",
    "    \n",
    "    # LOADERS\n",
    "    train_loader = DataLoader(dataset=train_dataset,\n",
    "                              batch_size=BATCH_SIZE,\n",
    "                              num_workers=NUM_WORKERS,\n",
    "                              pin_memory=PIN_MEMORY,\n",
    "                              shuffle=True,\n",
    "                              drop_last=True)\n",
    "\n",
    "    val_loader = DataLoader(dataset=val_dataset,\n",
    "                            batch_size=BATCH_SIZE,\n",
    "                            num_workers=NUM_WORKERS,\n",
    "                            pin_memory=PIN_MEMORY,\n",
    "                            shuffle=False,\n",
    "                            drop_last=True)\n",
    "\n",
    "\n",
    "    ''' ==============================================================\n",
    "                                TRAINING LOOP\n",
    "    ============================================================== '''\n",
    "    # Start with infinite validation loss\n",
    "    best_valid_loss = np.inf\n",
    "\n",
    "    start = datetime.datetime.now()\n",
    "    start_time = start.strftime(\"%H:%M:%S\")\n",
    "    print(f'\\n***Start Training: {start_time}\\n')\n",
    "    logger.info(f'\\n***Start Training: {start_time}\\n')\n",
    "\n",
    "    start_epoch = 0\n",
    "\n",
    "    if LOAD_MODEL == False:\n",
    "        if MODEL == \"BED\":\n",
    "            model._initialize_weights()\n",
    "            print(\"Initializing Weights\")\n",
    "            logger.info(\"Initializing Weights\")\n",
    "        elif MODEL == \"SQUEEZE\":\n",
    "            print(\"Pretrained Weights\")\n",
    "            logger.info(\"Pretrained Weights\")\n",
    "    else:\n",
    "        checkpoint = torch.load(LOAD_MODEL_FILE)\n",
    "        model.load_state_dict(checkpoint['model_state_dict'])\n",
    "        optimizer.load_state_dict(checkpoint['optimizer_state_dict'])\n",
    "        scheduler.load_state_dict(checkpoint['scheduler_state_dict'])\n",
    "        start_epoch = checkpoint['epoch']\n",
    "        print(f\"Loading Model. Train from epoch: {start_epoch}\")\n",
    "        logger.info(f\"Loading Model. Train from epoch: {start_epoch}\")\n",
    "        \n",
    "    for epoch in range(start_epoch, EPOCHS):\n",
    "\n",
    "        print(f'\\n=== EPOCH {epoch}/{EPOCHS-1} ===')\n",
    "        logger.info(f'\\n=== EPOCH {epoch}/{EPOCHS-1} ===')\n",
    "        \n",
    "        # TRAINING\n",
    "        train_loss, fire_loss = train_fn(loader=train_loader, \n",
    "                                                     model=model, \n",
    "                                                     optimizer=optimizer, \n",
    "                                                     loss_fn=loss_fn,\n",
    "                                                     device=DEVICE)\n",
    "        # Appending Train Losses\n",
    "        train_total_loss.append(train_loss)\n",
    "        train_fire_loss.append(fire_loss)\n",
    "        \n",
    "        # VALIDATING\n",
    "        with torch.no_grad():\n",
    "            val_loss, fire_loss = eval_fn(loader=val_loader, \n",
    "                                                      model=model,                         \n",
    "                                                      loss_fn=loss_fn,\n",
    "                                                      device=DEVICE)\n",
    "            # Appending Validation Losses\n",
    "            val_total_loss.append(val_loss)\n",
    "            val_fire_loss.append(fire_loss)\n",
    "            \n",
    "            scheduler.step(val_loss)\n",
    "            \n",
    "\n",
    "            epochs_plot.append(epoch)\n",
    "            plt.plot(epochs_plot, train_total_loss, label=\"Train Loss\")\n",
    "            plt.plot(epochs_plot, val_total_loss, label=\"Train Loss\")\n",
    "            plt.title(\"Train vs Val Loss\")\n",
    "            plt.xlabel(\"Epochs\")\n",
    "            plt.ylabel(\"Loss\")\n",
    "            plt.legend()\n",
    "            plt.grid()\n",
    "            plt.savefig(log_path + \"Temp_bed_loss.png\")\n",
    "            plt.close()\n",
    "\n",
    "        if ( (epoch+1) % 5 ) == 0:\n",
    "            torch.save({\n",
    "                'epoch': epoch,\n",
    "                'model_state_dict': model.state_dict(),\n",
    "                'optimizer_state_dict': optimizer.state_dict(),\n",
    "                'scheduler_state_dict': scheduler.state_dict()}, log_path + 'bed_classifier_5epoch.pt') \n",
    "            \n",
    "        if best_valid_loss > val_loss:\n",
    "            best_valid_loss = val_loss\n",
    "            print(f\"\\nSaving model with new best validation loss: {best_valid_loss:.3f}\")\n",
    "            logger.info(f\"\\nSaving model with new best validation loss: {best_valid_loss:.3f}\")\n",
    "            torch.save({\n",
    "                'epoch': epoch,\n",
    "                'model_state_dict': model.state_dict(),\n",
    "                'optimizer_state_dict': optimizer.state_dict(),\n",
    "                'scheduler_state_dict': scheduler.state_dict()}, log_path + 'best_bed_classifier.pt')    \n",
    "        \n",
    "    logger.info('Saving last model')   \n",
    "    torch.save(model.state_dict(), log_path + 'last_bed_classifier.pt') \n",
    "    \n",
    "#     save_log(epochs=EPOCHS, \n",
    "#              train_total_loss=train_total_loss,\n",
    "#              train_box_loss=train_box_loss,\n",
    "#              train_class_loss=train_class_loss,\n",
    "#              train_confidence_loss=train_confidence_loss,\n",
    "#              train_noobj_loss=train_noobj_loss,\n",
    "#              train_mAP=train_mAP,\n",
    "#              train_class_AP=train_class_AP,\n",
    "#              train_class_precision=train_class_precision,\n",
    "#              train_class_recall=train_class_recall,\n",
    "#              val_total_loss=val_total_loss,\n",
    "#              val_box_loss=val_box_loss,\n",
    "#              val_class_loss=val_class_loss,\n",
    "#              val_confidence_loss=val_confidence_loss,\n",
    "#              val_noobj_loss=val_noobj_loss,\n",
    "#              val_mAP=val_mAP,\n",
    "#              val_class_AP=val_class_AP,\n",
    "#              val_class_precision=val_class_precision,\n",
    "#              val_class_recall=val_class_recall,\n",
    "#              log_file_dst=LOG_FILE)\n",
    "\n",
    "    end = datetime.datetime.now()\n",
    "    end_time = end.strftime(\"%H:%M:%S\")\n",
    "    print(f'\\n***Script finished: {end_time}\\n')  \n",
    "    print(f'Time elapsed: {end-start}')\n",
    "    logger.info(f'\\n***Script finished: {end_time}\\n')  \n",
    "    logger.info(f'Time elapsed: {end-start}')"
   ]
  },
  {
   "cell_type": "markdown",
   "id": "405eb53c-8e16-4b14-a818-fe53e68c1637",
   "metadata": {},
   "source": [
    "# Main execute"
   ]
  },
  {
   "cell_type": "code",
   "execution_count": 16,
   "id": "fc5957bb-da57-4e84-ae3d-a83545e04704",
   "metadata": {},
   "outputs": [
    {
     "name": "stdout",
     "output_type": "stream",
     "text": [
      "Starting script\n",
      "\n",
      "Device: cpu\n",
      "Learning Rate: 0.0005\n",
      "Weight Decay: 0\n",
      "Batch Size: 4\n",
      "IMG DIMS: (224, 224)\n",
      "W: 224\n",
      "H: 224\n",
      "Using Test CNN Classifier\n",
      "Model shape is torch.Size([4, 1])\n",
      "BED Model Arquitecture\n",
      "TEST_CNN(\n",
      "  (model): Sequential(\n",
      "    (0): Conv2d(3, 64, kernel_size=(3, 3), stride=(1, 1), padding=(1, 1), bias=False)\n",
      "    (1): BatchNorm2d(64, eps=1e-05, momentum=0.1, affine=False, track_running_stats=True)\n",
      "    (2): ReLU()\n",
      "    (3): MaxPool2d(kernel_size=2, stride=2, padding=0, dilation=1, ceil_mode=False)\n",
      "    (4): Conv2d(64, 24, kernel_size=(3, 3), stride=(1, 1), padding=(1, 1), bias=False)\n",
      "    (5): BatchNorm2d(24, eps=1e-05, momentum=0.1, affine=False, track_running_stats=True)\n",
      "    (6): ReLU()\n",
      "    (7): AdaptiveAvgPool2d(output_size=1)\n",
      "    (8): Flatten(start_dim=1, end_dim=-1)\n",
      "    (9): Linear(in_features=24, out_features=1, bias=True)\n",
      "    (10): Sigmoid()\n",
      "  )\n",
      ")\n"
     ]
    },
    {
     "name": "stderr",
     "output_type": "stream",
     "text": [
      "/opt/conda/lib/python3.10/site-packages/transformers/utils/generic.py:441: UserWarning: torch.utils._pytree._register_pytree_node is deprecated. Please use torch.utils._pytree.register_pytree_node instead.\n",
      "  _torch_pytree._register_pytree_node(\n"
     ]
    },
    {
     "name": "stdout",
     "output_type": "stream",
     "text": [
      "\n",
      "Trainable parameters = 15577\n",
      "Total parameters = 15577\n",
      "\n",
      "Loss Function: BCE\n",
      "\n",
      "TRAIN DFIRE dataset\n",
      "DFire Removed wrong images: 0\n",
      "Train dataset len: 8\n",
      "\n",
      "TEST DFire dataset\n",
      "DFire Removed wrong images: 0\n",
      "Test dataset len: 8\n",
      "\n",
      "***Start Training: 17:07:22\n",
      "\n",
      "\n",
      "=== EPOCH 0/9 ===\n",
      "Learning Rate = 0.0005\n",
      "\n"
     ]
    },
    {
     "name": "stderr",
     "output_type": "stream",
     "text": [
      "Training:   0%|          | 0/2 [00:00<?, ?it/s]"
     ]
    },
    {
     "name": "stdout",
     "output_type": "stream",
     "text": [
      "Ground trunth: tensor([[0.],\n",
      "        [0.],\n",
      "        [0.],\n",
      "        [0.]])\n",
      "Predictions: tensor([[0.4933],\n",
      "        [0.4650],\n",
      "        [0.5095],\n",
      "        [0.5101]], grad_fn=<SigmoidBackward0>)\n"
     ]
    },
    {
     "name": "stderr",
     "output_type": "stream",
     "text": [
      "Training:  50%|█████     | 1/2 [00:01<00:01,  1.04s/it]"
     ]
    },
    {
     "name": "stdout",
     "output_type": "stream",
     "text": [
      "Train loss: 11.385380744934082\n",
      "Train loss: [11.385380744934082]\n",
      "Ground trunth: tensor([[0.],\n",
      "        [0.],\n",
      "        [0.],\n",
      "        [0.]])\n",
      "Predictions: tensor([[0.5244],\n",
      "        [0.4840],\n",
      "        [0.4478],\n",
      "        [0.4879]], grad_fn=<SigmoidBackward0>)\n"
     ]
    },
    {
     "name": "stderr",
     "output_type": "stream",
     "text": [
      "Training: 100%|██████████| 2/2 [00:01<00:00,  1.03it/s]\n"
     ]
    },
    {
     "name": "stdout",
     "output_type": "stream",
     "text": [
      "Train loss: 11.191102981567383\n",
      "Train loss: [11.385380744934082, 11.191102981567383]\n",
      "Total Loss  |Fire Loss   \n",
      "------------ ------------\n",
      "11.288      |11.288      \n",
      "\n"
     ]
    },
    {
     "name": "stderr",
     "output_type": "stream",
     "text": [
      "Validating:  50%|█████     | 1/2 [00:00<00:00,  1.68it/s]"
     ]
    },
    {
     "name": "stdout",
     "output_type": "stream",
     "text": [
      "Ground trunth: tensor([[0.],\n",
      "        [0.],\n",
      "        [0.],\n",
      "        [0.]])\n",
      "Predictions: tensor([[0.4936],\n",
      "        [0.5059],\n",
      "        [0.5084],\n",
      "        [0.5109]])\n"
     ]
    },
    {
     "name": "stderr",
     "output_type": "stream",
     "text": [
      "Validating: 100%|██████████| 2/2 [00:01<00:00,  1.84it/s]"
     ]
    },
    {
     "name": "stdout",
     "output_type": "stream",
     "text": [
      "Ground trunth: tensor([[0.],\n",
      "        [0.],\n",
      "        [0.],\n",
      "        [0.]])\n",
      "Predictions: tensor([[0.5120],\n",
      "        [0.5102],\n",
      "        [0.5084],\n",
      "        [0.5020]])\n",
      "Total Loss  |Fire Loss   \n",
      "------------ ------------\n",
      "11.661      |11.661      \n",
      "\n"
     ]
    },
    {
     "name": "stderr",
     "output_type": "stream",
     "text": [
      "\n"
     ]
    },
    {
     "name": "stdout",
     "output_type": "stream",
     "text": [
      "\n",
      "Saving model with new best validation loss: 11.661\n",
      "\n",
      "=== EPOCH 1/9 ===\n",
      "Learning Rate = 0.0005\n",
      "\n"
     ]
    },
    {
     "name": "stderr",
     "output_type": "stream",
     "text": [
      "Training:   0%|          | 0/2 [00:00<?, ?it/s]"
     ]
    },
    {
     "name": "stdout",
     "output_type": "stream",
     "text": [
      "Ground trunth: tensor([[0.],\n",
      "        [0.],\n",
      "        [0.],\n",
      "        [0.]])\n",
      "Predictions: tensor([[0.4748],\n",
      "        [0.4407],\n",
      "        [0.4392],\n",
      "        [0.5595]], grad_fn=<SigmoidBackward0>)\n"
     ]
    },
    {
     "name": "stderr",
     "output_type": "stream",
     "text": [
      "Training:  50%|█████     | 1/2 [00:01<00:01,  1.09s/it]"
     ]
    },
    {
     "name": "stdout",
     "output_type": "stream",
     "text": [
      "Train loss: 11.018930435180664\n",
      "Train loss: [11.018930435180664]\n",
      "Ground trunth: tensor([[0.],\n",
      "        [0.],\n",
      "        [0.],\n",
      "        [0.]])\n",
      "Predictions: tensor([[0.4857],\n",
      "        [0.4807],\n",
      "        [0.4233],\n",
      "        [0.4977]], grad_fn=<SigmoidBackward0>)\n"
     ]
    },
    {
     "name": "stderr",
     "output_type": "stream",
     "text": [
      "Training: 100%|██████████| 2/2 [00:01<00:00,  1.04it/s]\n"
     ]
    },
    {
     "name": "stdout",
     "output_type": "stream",
     "text": [
      "Train loss: 10.864776611328125\n",
      "Train loss: [11.018930435180664, 10.864776611328125]\n",
      "Total Loss  |Fire Loss   \n",
      "------------ ------------\n",
      "10.942      |10.942      \n",
      "\n"
     ]
    },
    {
     "name": "stderr",
     "output_type": "stream",
     "text": [
      "Validating:  50%|█████     | 1/2 [00:00<00:00,  1.55it/s]"
     ]
    },
    {
     "name": "stdout",
     "output_type": "stream",
     "text": [
      "Ground trunth: tensor([[0.],\n",
      "        [0.],\n",
      "        [0.],\n",
      "        [0.]])\n",
      "Predictions: tensor([[0.5000],\n",
      "        [0.5111],\n",
      "        [0.5131],\n",
      "        [0.5143]])\n"
     ]
    },
    {
     "name": "stderr",
     "output_type": "stream",
     "text": [
      "Validating: 100%|██████████| 2/2 [00:01<00:00,  1.92it/s]"
     ]
    },
    {
     "name": "stdout",
     "output_type": "stream",
     "text": [
      "Ground trunth: tensor([[0.],\n",
      "        [0.],\n",
      "        [0.],\n",
      "        [0.]])\n",
      "Predictions: tensor([[0.5142],\n",
      "        [0.5156],\n",
      "        [0.5109],\n",
      "        [0.5071]])\n",
      "Total Loss  |Fire Loss   \n",
      "------------ ------------\n",
      "11.761      |11.761      \n",
      "\n"
     ]
    },
    {
     "name": "stderr",
     "output_type": "stream",
     "text": [
      "\n"
     ]
    },
    {
     "name": "stdout",
     "output_type": "stream",
     "text": [
      "\n",
      "=== EPOCH 2/9 ===\n",
      "Learning Rate = 0.0005\n",
      "\n"
     ]
    },
    {
     "name": "stderr",
     "output_type": "stream",
     "text": [
      "Training:   0%|          | 0/2 [00:00<?, ?it/s]"
     ]
    },
    {
     "name": "stdout",
     "output_type": "stream",
     "text": [
      "Ground trunth: tensor([[0.],\n",
      "        [0.],\n",
      "        [0.],\n",
      "        [0.]])\n",
      "Predictions: tensor([[0.4382],\n",
      "        [0.5450],\n",
      "        [0.4997],\n",
      "        [0.3928]], grad_fn=<SigmoidBackward0>)\n"
     ]
    },
    {
     "name": "stderr",
     "output_type": "stream",
     "text": [
      "Training:  50%|█████     | 1/2 [00:01<00:01,  1.11s/it]"
     ]
    },
    {
     "name": "stdout",
     "output_type": "stream",
     "text": [
      "Train loss: 10.7975492477417\n",
      "Train loss: [10.7975492477417]\n",
      "Ground trunth: tensor([[0.],\n",
      "        [0.],\n",
      "        [0.],\n",
      "        [0.]])\n",
      "Predictions: tensor([[0.5182],\n",
      "        [0.3869],\n",
      "        [0.4179],\n",
      "        [0.5418]], grad_fn=<SigmoidBackward0>)\n"
     ]
    },
    {
     "name": "stderr",
     "output_type": "stream",
     "text": [
      "Training: 100%|██████████| 2/2 [00:02<00:00,  1.03s/it]\n"
     ]
    },
    {
     "name": "stdout",
     "output_type": "stream",
     "text": [
      "Train loss: 10.73440170288086\n",
      "Train loss: [10.7975492477417, 10.73440170288086]\n",
      "Total Loss  |Fire Loss   \n",
      "------------ ------------\n",
      "10.766      |10.766      \n",
      "\n"
     ]
    },
    {
     "name": "stderr",
     "output_type": "stream",
     "text": [
      "Validating:  50%|█████     | 1/2 [00:00<00:00,  1.82it/s]"
     ]
    },
    {
     "name": "stdout",
     "output_type": "stream",
     "text": [
      "Ground trunth: tensor([[0.],\n",
      "        [0.],\n",
      "        [0.],\n",
      "        [0.]])\n",
      "Predictions: tensor([[0.4960],\n",
      "        [0.5087],\n",
      "        [0.5115],\n",
      "        [0.5123]])\n"
     ]
    },
    {
     "name": "stderr",
     "output_type": "stream",
     "text": [
      "Validating: 100%|██████████| 2/2 [00:01<00:00,  1.95it/s]"
     ]
    },
    {
     "name": "stdout",
     "output_type": "stream",
     "text": [
      "Ground trunth: tensor([[0.],\n",
      "        [0.],\n",
      "        [0.],\n",
      "        [0.]])\n",
      "Predictions: tensor([[0.5124],\n",
      "        [0.5139],\n",
      "        [0.5091],\n",
      "        [0.5046]])\n",
      "Total Loss  |Fire Loss   \n",
      "------------ ------------\n",
      "11.709      |11.709      \n",
      "\n"
     ]
    },
    {
     "name": "stderr",
     "output_type": "stream",
     "text": [
      "\n"
     ]
    },
    {
     "name": "stdout",
     "output_type": "stream",
     "text": [
      "\n",
      "=== EPOCH 3/9 ===\n",
      "Learning Rate = 0.0005\n",
      "\n"
     ]
    },
    {
     "name": "stderr",
     "output_type": "stream",
     "text": [
      "Training:   0%|          | 0/2 [00:00<?, ?it/s]"
     ]
    },
    {
     "name": "stdout",
     "output_type": "stream",
     "text": [
      "Ground trunth: tensor([[0.],\n",
      "        [0.],\n",
      "        [0.],\n",
      "        [0.]])\n",
      "Predictions: tensor([[0.5052],\n",
      "        [0.4836],\n",
      "        [0.5232],\n",
      "        [0.3577]], grad_fn=<SigmoidBackward0>)\n"
     ]
    },
    {
     "name": "stderr",
     "output_type": "stream",
     "text": [
      "Training:  50%|█████     | 1/2 [00:01<00:01,  1.07s/it]"
     ]
    },
    {
     "name": "stdout",
     "output_type": "stream",
     "text": [
      "Train loss: 10.762152671813965\n",
      "Train loss: [10.762152671813965]\n",
      "Ground trunth: tensor([[0.],\n",
      "        [0.],\n",
      "        [0.],\n",
      "        [0.]])\n",
      "Predictions: tensor([[0.4075],\n",
      "        [0.5433],\n",
      "        [0.4858],\n",
      "        [0.4291]], grad_fn=<SigmoidBackward0>)\n"
     ]
    },
    {
     "name": "stderr",
     "output_type": "stream",
     "text": [
      "Training: 100%|██████████| 2/2 [00:01<00:00,  1.00it/s]\n"
     ]
    },
    {
     "name": "stdout",
     "output_type": "stream",
     "text": [
      "Train loss: 10.739847183227539\n",
      "Train loss: [10.762152671813965, 10.739847183227539]\n",
      "Total Loss  |Fire Loss   \n",
      "------------ ------------\n",
      "10.751      |10.751      \n",
      "\n"
     ]
    },
    {
     "name": "stderr",
     "output_type": "stream",
     "text": [
      "Validating:  50%|█████     | 1/2 [00:00<00:00,  1.64it/s]"
     ]
    },
    {
     "name": "stdout",
     "output_type": "stream",
     "text": [
      "Ground trunth: tensor([[0.],\n",
      "        [0.],\n",
      "        [0.],\n",
      "        [0.]])\n",
      "Predictions: tensor([[0.4877],\n",
      "        [0.5043],\n",
      "        [0.5084],\n",
      "        [0.5089]])\n"
     ]
    },
    {
     "name": "stderr",
     "output_type": "stream",
     "text": [
      "Validating: 100%|██████████| 2/2 [00:01<00:00,  1.96it/s]"
     ]
    },
    {
     "name": "stdout",
     "output_type": "stream",
     "text": [
      "Ground trunth: tensor([[0.],\n",
      "        [0.],\n",
      "        [0.],\n",
      "        [0.]])\n",
      "Predictions: tensor([[0.5098],\n",
      "        [0.5102],\n",
      "        [0.5059],\n",
      "        [0.4989]])\n",
      "Total Loss  |Fire Loss   \n",
      "------------ ------------\n",
      "11.611      |11.611      \n",
      "\n"
     ]
    },
    {
     "name": "stderr",
     "output_type": "stream",
     "text": [
      "\n"
     ]
    },
    {
     "name": "stdout",
     "output_type": "stream",
     "text": [
      "\n",
      "Saving model with new best validation loss: 11.611\n",
      "\n",
      "=== EPOCH 4/9 ===\n",
      "Learning Rate = 0.0004\n",
      "\n"
     ]
    },
    {
     "name": "stderr",
     "output_type": "stream",
     "text": [
      "Training:   0%|          | 0/2 [00:00<?, ?it/s]"
     ]
    },
    {
     "name": "stdout",
     "output_type": "stream",
     "text": [
      "Ground trunth: tensor([[0.],\n",
      "        [0.],\n",
      "        [0.],\n",
      "        [0.]])\n",
      "Predictions: tensor([[0.3977],\n",
      "        [0.4926],\n",
      "        [0.3843],\n",
      "        [0.5244]], grad_fn=<SigmoidBackward0>)\n"
     ]
    },
    {
     "name": "stderr",
     "output_type": "stream",
     "text": [
      "Training:  50%|█████     | 1/2 [00:01<00:01,  1.05s/it]"
     ]
    },
    {
     "name": "stdout",
     "output_type": "stream",
     "text": [
      "Train loss: 10.355667114257812\n",
      "Train loss: [10.355667114257812]\n",
      "Ground trunth: tensor([[0.],\n",
      "        [0.],\n",
      "        [0.],\n",
      "        [0.]])\n",
      "Predictions: tensor([[0.3905],\n",
      "        [0.5116],\n",
      "        [0.4818],\n",
      "        [0.4462]], grad_fn=<SigmoidBackward0>)\n"
     ]
    },
    {
     "name": "stderr",
     "output_type": "stream",
     "text": [
      "Training: 100%|██████████| 2/2 [00:02<00:00,  1.01s/it]\n"
     ]
    },
    {
     "name": "stdout",
     "output_type": "stream",
     "text": [
      "Train loss: 10.534542083740234\n",
      "Train loss: [10.355667114257812, 10.534542083740234]\n",
      "Total Loss  |Fire Loss   \n",
      "------------ ------------\n",
      "10.445      |10.445      \n",
      "\n"
     ]
    },
    {
     "name": "stderr",
     "output_type": "stream",
     "text": [
      "Validating:  50%|█████     | 1/2 [00:00<00:00,  1.72it/s]"
     ]
    },
    {
     "name": "stdout",
     "output_type": "stream",
     "text": [
      "Ground trunth: tensor([[0.],\n",
      "        [0.],\n",
      "        [0.],\n",
      "        [0.]])\n",
      "Predictions: tensor([[0.4827],\n",
      "        [0.5022],\n",
      "        [0.5068],\n",
      "        [0.5074]])\n"
     ]
    },
    {
     "name": "stderr",
     "output_type": "stream",
     "text": [
      "Validating: 100%|██████████| 2/2 [00:01<00:00,  1.87it/s]"
     ]
    },
    {
     "name": "stdout",
     "output_type": "stream",
     "text": [
      "Ground trunth: tensor([[0.],\n",
      "        [0.],\n",
      "        [0.],\n",
      "        [0.]])\n",
      "Predictions: tensor([[0.5086],\n",
      "        [0.5082],\n",
      "        [0.5036],\n",
      "        [0.4953]])\n",
      "Total Loss  |Fire Loss   \n",
      "------------ ------------\n",
      "11.556      |11.556      \n",
      "\n"
     ]
    },
    {
     "name": "stderr",
     "output_type": "stream",
     "text": [
      "\n"
     ]
    },
    {
     "name": "stdout",
     "output_type": "stream",
     "text": [
      "\n",
      "Saving model with new best validation loss: 11.556\n",
      "\n",
      "=== EPOCH 5/9 ===\n",
      "Learning Rate = 0.0004\n",
      "\n"
     ]
    },
    {
     "name": "stderr",
     "output_type": "stream",
     "text": [
      "Training:   0%|          | 0/2 [00:00<?, ?it/s]"
     ]
    },
    {
     "name": "stdout",
     "output_type": "stream",
     "text": [
      "Ground trunth: tensor([[0.],\n",
      "        [0.],\n",
      "        [0.],\n",
      "        [0.]])\n",
      "Predictions: tensor([[0.4175],\n",
      "        [0.4357],\n",
      "        [0.5126],\n",
      "        [0.4274]], grad_fn=<SigmoidBackward0>)\n"
     ]
    },
    {
     "name": "stderr",
     "output_type": "stream",
     "text": [
      "Training:  50%|█████     | 1/2 [00:01<00:01,  1.21s/it]"
     ]
    },
    {
     "name": "stdout",
     "output_type": "stream",
     "text": [
      "Train loss: 10.323019981384277\n",
      "Train loss: [10.323019981384277]\n",
      "Ground trunth: tensor([[0.],\n",
      "        [0.],\n",
      "        [0.],\n",
      "        [0.]])\n",
      "Predictions: tensor([[0.4737],\n",
      "        [0.4109],\n",
      "        [0.4543],\n",
      "        [0.4588]], grad_fn=<SigmoidBackward0>)\n"
     ]
    },
    {
     "name": "stderr",
     "output_type": "stream",
     "text": [
      "Training: 100%|██████████| 2/2 [00:02<00:00,  1.07s/it]\n"
     ]
    },
    {
     "name": "stdout",
     "output_type": "stream",
     "text": [
      "Train loss: 10.348382949829102\n",
      "Train loss: [10.323019981384277, 10.348382949829102]\n",
      "Total Loss  |Fire Loss   \n",
      "------------ ------------\n",
      "10.336      |10.336      \n",
      "\n"
     ]
    },
    {
     "name": "stderr",
     "output_type": "stream",
     "text": [
      "Validating:  50%|█████     | 1/2 [00:00<00:00,  1.69it/s]"
     ]
    },
    {
     "name": "stdout",
     "output_type": "stream",
     "text": [
      "Ground trunth: tensor([[0.],\n",
      "        [0.],\n",
      "        [0.],\n",
      "        [0.]])\n",
      "Predictions: tensor([[0.4784],\n",
      "        [0.5010],\n",
      "        [0.5064],\n",
      "        [0.5072]])\n"
     ]
    },
    {
     "name": "stderr",
     "output_type": "stream",
     "text": [
      "Validating: 100%|██████████| 2/2 [00:01<00:00,  1.95it/s]"
     ]
    },
    {
     "name": "stdout",
     "output_type": "stream",
     "text": [
      "Ground trunth: tensor([[0.],\n",
      "        [0.],\n",
      "        [0.],\n",
      "        [0.]])\n",
      "Predictions: tensor([[0.5084],\n",
      "        [0.5075],\n",
      "        [0.5024],\n",
      "        [0.4927]])\n",
      "Total Loss  |Fire Loss   \n",
      "------------ ------------\n",
      "11.524      |11.524      \n",
      "\n"
     ]
    },
    {
     "name": "stderr",
     "output_type": "stream",
     "text": [
      "\n"
     ]
    },
    {
     "name": "stdout",
     "output_type": "stream",
     "text": [
      "\n",
      "Saving model with new best validation loss: 11.524\n",
      "\n",
      "=== EPOCH 6/9 ===\n",
      "Learning Rate = 0.0004\n",
      "\n"
     ]
    },
    {
     "name": "stderr",
     "output_type": "stream",
     "text": [
      "Training:   0%|          | 0/2 [00:00<?, ?it/s]"
     ]
    },
    {
     "name": "stdout",
     "output_type": "stream",
     "text": [
      "Ground trunth: tensor([[0.],\n",
      "        [0.],\n",
      "        [0.],\n",
      "        [0.]])\n",
      "Predictions: tensor([[0.4606],\n",
      "        [0.3575],\n",
      "        [0.4796],\n",
      "        [0.4850]], grad_fn=<SigmoidBackward0>)\n"
     ]
    },
    {
     "name": "stderr",
     "output_type": "stream",
     "text": [
      "Training:  50%|█████     | 1/2 [00:01<00:01,  1.01s/it]"
     ]
    },
    {
     "name": "stdout",
     "output_type": "stream",
     "text": [
      "Train loss: 10.262495040893555\n",
      "Train loss: [10.262495040893555]\n",
      "Ground trunth: tensor([[0.],\n",
      "        [0.],\n",
      "        [0.],\n",
      "        [0.]])\n",
      "Predictions: tensor([[0.4694],\n",
      "        [0.4084],\n",
      "        [0.4196],\n",
      "        [0.4972]], grad_fn=<SigmoidBackward0>)\n"
     ]
    },
    {
     "name": "stderr",
     "output_type": "stream",
     "text": [
      "Training: 100%|██████████| 2/2 [00:01<00:00,  1.06it/s]\n"
     ]
    },
    {
     "name": "stdout",
     "output_type": "stream",
     "text": [
      "Train loss: 10.330353736877441\n",
      "Train loss: [10.262495040893555, 10.330353736877441]\n",
      "Total Loss  |Fire Loss   \n",
      "------------ ------------\n",
      "10.296      |10.296      \n",
      "\n"
     ]
    },
    {
     "name": "stderr",
     "output_type": "stream",
     "text": [
      "Validating:  50%|█████     | 1/2 [00:00<00:00,  1.71it/s]"
     ]
    },
    {
     "name": "stdout",
     "output_type": "stream",
     "text": [
      "Ground trunth: tensor([[0.],\n",
      "        [0.],\n",
      "        [0.],\n",
      "        [0.]])\n",
      "Predictions: tensor([[0.4728],\n",
      "        [0.5003],\n",
      "        [0.5068],\n",
      "        [0.5083]])\n"
     ]
    },
    {
     "name": "stderr",
     "output_type": "stream",
     "text": [
      "Validating: 100%|██████████| 2/2 [00:01<00:00,  1.84it/s]"
     ]
    },
    {
     "name": "stdout",
     "output_type": "stream",
     "text": [
      "Ground trunth: tensor([[0.],\n",
      "        [0.],\n",
      "        [0.],\n",
      "        [0.]])\n",
      "Predictions: tensor([[0.5092],\n",
      "        [0.5080],\n",
      "        [0.5020],\n",
      "        [0.4904]])\n",
      "Total Loss  |Fire Loss   \n",
      "------------ ------------\n",
      "11.506      |11.506      \n",
      "\n"
     ]
    },
    {
     "name": "stderr",
     "output_type": "stream",
     "text": [
      "\n"
     ]
    },
    {
     "name": "stdout",
     "output_type": "stream",
     "text": [
      "\n",
      "Saving model with new best validation loss: 11.506\n",
      "\n",
      "=== EPOCH 7/9 ===\n",
      "Learning Rate = 0.0004\n",
      "\n"
     ]
    },
    {
     "name": "stderr",
     "output_type": "stream",
     "text": [
      "Training:   0%|          | 0/2 [00:00<?, ?it/s]"
     ]
    },
    {
     "name": "stdout",
     "output_type": "stream",
     "text": [
      "Ground trunth: tensor([[0.],\n",
      "        [0.],\n",
      "        [0.],\n",
      "        [0.]])\n",
      "Predictions: tensor([[0.4727],\n",
      "        [0.4170],\n",
      "        [0.4246],\n",
      "        [0.4959]], grad_fn=<SigmoidBackward0>)\n"
     ]
    },
    {
     "name": "stderr",
     "output_type": "stream",
     "text": [
      "Training:  50%|█████     | 1/2 [00:01<00:01,  1.04s/it]"
     ]
    },
    {
     "name": "stdout",
     "output_type": "stream",
     "text": [
      "Train loss: 10.420526504516602\n",
      "Train loss: [10.420526504516602]\n",
      "Ground trunth: tensor([[0.],\n",
      "        [0.],\n",
      "        [0.],\n",
      "        [0.]])\n",
      "Predictions: tensor([[0.4855],\n",
      "        [0.4472],\n",
      "        [0.3719],\n",
      "        [0.4842]], grad_fn=<SigmoidBackward0>)\n"
     ]
    },
    {
     "name": "stderr",
     "output_type": "stream",
     "text": [
      "Training: 100%|██████████| 2/2 [00:01<00:00,  1.03it/s]\n"
     ]
    },
    {
     "name": "stdout",
     "output_type": "stream",
     "text": [
      "Train loss: 10.296831130981445\n",
      "Train loss: [10.420526504516602, 10.296831130981445]\n",
      "Total Loss  |Fire Loss   \n",
      "------------ ------------\n",
      "10.359      |10.359      \n",
      "\n"
     ]
    },
    {
     "name": "stderr",
     "output_type": "stream",
     "text": [
      "Validating:  50%|█████     | 1/2 [00:00<00:00,  1.72it/s]"
     ]
    },
    {
     "name": "stdout",
     "output_type": "stream",
     "text": [
      "Ground trunth: tensor([[0.],\n",
      "        [0.],\n",
      "        [0.],\n",
      "        [0.]])\n",
      "Predictions: tensor([[0.4677],\n",
      "        [0.4999],\n",
      "        [0.5080],\n",
      "        [0.5098]])\n"
     ]
    },
    {
     "name": "stderr",
     "output_type": "stream",
     "text": [
      "Validating: 100%|██████████| 2/2 [00:01<00:00,  1.96it/s]"
     ]
    },
    {
     "name": "stdout",
     "output_type": "stream",
     "text": [
      "Ground trunth: tensor([[0.],\n",
      "        [0.],\n",
      "        [0.],\n",
      "        [0.]])\n",
      "Predictions: tensor([[0.5105],\n",
      "        [0.5094],\n",
      "        [0.5023],\n",
      "        [0.4885]])\n",
      "Total Loss  |Fire Loss   \n",
      "------------ ------------\n",
      "11.502      |11.502      \n",
      "\n"
     ]
    },
    {
     "name": "stderr",
     "output_type": "stream",
     "text": [
      "\n"
     ]
    },
    {
     "name": "stdout",
     "output_type": "stream",
     "text": [
      "\n",
      "Saving model with new best validation loss: 11.502\n",
      "\n",
      "=== EPOCH 8/9 ===\n",
      "Learning Rate = 0.00032\n",
      "\n"
     ]
    },
    {
     "name": "stderr",
     "output_type": "stream",
     "text": [
      "Training:   0%|          | 0/2 [00:00<?, ?it/s]"
     ]
    },
    {
     "name": "stdout",
     "output_type": "stream",
     "text": [
      "Ground trunth: tensor([[0.],\n",
      "        [0.],\n",
      "        [0.],\n",
      "        [0.]])\n",
      "Predictions: tensor([[0.3726],\n",
      "        [0.4766],\n",
      "        [0.4802],\n",
      "        [0.4483]], grad_fn=<SigmoidBackward0>)\n"
     ]
    },
    {
     "name": "stderr",
     "output_type": "stream",
     "text": [
      "Training:  50%|█████     | 1/2 [00:01<00:01,  1.03s/it]"
     ]
    },
    {
     "name": "stdout",
     "output_type": "stream",
     "text": [
      "Train loss: 10.233613967895508\n",
      "Train loss: [10.233613967895508]\n",
      "Ground trunth: tensor([[0.],\n",
      "        [0.],\n",
      "        [0.],\n",
      "        [0.]])\n",
      "Predictions: tensor([[0.4794],\n",
      "        [0.4002],\n",
      "        [0.4656],\n",
      "        [0.3882]], grad_fn=<SigmoidBackward0>)\n"
     ]
    },
    {
     "name": "stderr",
     "output_type": "stream",
     "text": [
      "Training: 100%|██████████| 2/2 [00:02<00:00,  1.00s/it]\n"
     ]
    },
    {
     "name": "stdout",
     "output_type": "stream",
     "text": [
      "Train loss: 9.977790832519531\n",
      "Train loss: [10.233613967895508, 9.977790832519531]\n",
      "Total Loss  |Fire Loss   \n",
      "------------ ------------\n",
      "10.106      |10.106      \n",
      "\n"
     ]
    },
    {
     "name": "stderr",
     "output_type": "stream",
     "text": [
      "Validating:  50%|█████     | 1/2 [00:00<00:00,  1.67it/s]"
     ]
    },
    {
     "name": "stdout",
     "output_type": "stream",
     "text": [
      "Ground trunth: tensor([[0.],\n",
      "        [0.],\n",
      "        [0.],\n",
      "        [0.]])\n",
      "Predictions: tensor([[0.4655],\n",
      "        [0.4999],\n",
      "        [0.5100],\n",
      "        [0.5104]])\n"
     ]
    },
    {
     "name": "stderr",
     "output_type": "stream",
     "text": [
      "Validating: 100%|██████████| 2/2 [00:01<00:00,  1.96it/s]"
     ]
    },
    {
     "name": "stdout",
     "output_type": "stream",
     "text": [
      "Ground trunth: tensor([[0.],\n",
      "        [0.],\n",
      "        [0.],\n",
      "        [0.]])\n",
      "Predictions: tensor([[0.5117],\n",
      "        [0.5111],\n",
      "        [0.5020],\n",
      "        [0.4885]])\n",
      "Total Loss  |Fire Loss   \n",
      "------------ ------------\n",
      "11.510      |11.510      \n",
      "\n"
     ]
    },
    {
     "name": "stderr",
     "output_type": "stream",
     "text": [
      "\n"
     ]
    },
    {
     "name": "stdout",
     "output_type": "stream",
     "text": [
      "\n",
      "=== EPOCH 9/9 ===\n",
      "Learning Rate = 0.00032\n",
      "\n"
     ]
    },
    {
     "name": "stderr",
     "output_type": "stream",
     "text": [
      "Training:   0%|          | 0/2 [00:00<?, ?it/s]"
     ]
    },
    {
     "name": "stdout",
     "output_type": "stream",
     "text": [
      "Ground trunth: tensor([[0.],\n",
      "        [0.],\n",
      "        [0.],\n",
      "        [0.]])\n",
      "Predictions: tensor([[0.4604],\n",
      "        [0.4004],\n",
      "        [0.3924],\n",
      "        [0.4715]], grad_fn=<SigmoidBackward0>)\n"
     ]
    },
    {
     "name": "stderr",
     "output_type": "stream",
     "text": [
      "Training:  50%|█████     | 1/2 [00:01<00:01,  1.08s/it]"
     ]
    },
    {
     "name": "stdout",
     "output_type": "stream",
     "text": [
      "Train loss: 9.928007125854492\n",
      "Train loss: [9.928007125854492]\n",
      "Ground trunth: tensor([[0.],\n",
      "        [0.],\n",
      "        [0.],\n",
      "        [0.]])\n",
      "Predictions: tensor([[0.4815],\n",
      "        [0.4382],\n",
      "        [0.4747],\n",
      "        [0.3746]], grad_fn=<SigmoidBackward0>)\n"
     ]
    },
    {
     "name": "stderr",
     "output_type": "stream",
     "text": [
      "Training: 100%|██████████| 2/2 [00:01<00:00,  1.02it/s]\n"
     ]
    },
    {
     "name": "stdout",
     "output_type": "stream",
     "text": [
      "Train loss: 10.183266639709473\n",
      "Train loss: [9.928007125854492, 10.183266639709473]\n",
      "Total Loss  |Fire Loss   \n",
      "------------ ------------\n",
      "10.056      |10.056      \n",
      "\n"
     ]
    },
    {
     "name": "stderr",
     "output_type": "stream",
     "text": [
      "Validating:  50%|█████     | 1/2 [00:00<00:00,  1.72it/s]"
     ]
    },
    {
     "name": "stdout",
     "output_type": "stream",
     "text": [
      "Ground trunth: tensor([[0.],\n",
      "        [0.],\n",
      "        [0.],\n",
      "        [0.]])\n",
      "Predictions: tensor([[0.4642],\n",
      "        [0.4997],\n",
      "        [0.5121],\n",
      "        [0.5105]])\n"
     ]
    },
    {
     "name": "stderr",
     "output_type": "stream",
     "text": [
      "Validating: 100%|██████████| 2/2 [00:00<00:00,  2.05it/s]"
     ]
    },
    {
     "name": "stdout",
     "output_type": "stream",
     "text": [
      "Ground trunth: tensor([[0.],\n",
      "        [0.],\n",
      "        [0.],\n",
      "        [0.]])\n",
      "Predictions: tensor([[0.5125],\n",
      "        [0.5128],\n",
      "        [0.5013],\n",
      "        [0.4889]])\n",
      "Total Loss  |Fire Loss   \n",
      "------------ ------------\n",
      "11.519      |11.519      \n",
      "\n"
     ]
    },
    {
     "name": "stderr",
     "output_type": "stream",
     "text": [
      "\n"
     ]
    },
    {
     "name": "stdout",
     "output_type": "stream",
     "text": [
      "\n",
      "***Script finished: 17:07:54\n",
      "\n",
      "Time elapsed: 0:00:32.529213\n"
     ]
    }
   ],
   "source": [
    "if __name__ == \"__main__\":\n",
    "    print(\"Starting script\\n\")\n",
    "    logger.info(\"Starting script\\n\")\n",
    "    main()"
   ]
  },
  {
   "cell_type": "code",
   "execution_count": null,
   "id": "40943080-eb7a-47f7-89b3-9073b6c0984b",
   "metadata": {},
   "outputs": [],
   "source": []
  }
 ],
 "metadata": {
  "kernelspec": {
   "display_name": "Python 3 (ipykernel)",
   "language": "python",
   "name": "python3"
  },
  "language_info": {
   "codemirror_mode": {
    "name": "ipython",
    "version": 3
   },
   "file_extension": ".py",
   "mimetype": "text/x-python",
   "name": "python",
   "nbconvert_exporter": "python",
   "pygments_lexer": "ipython3",
   "version": "3.10.6"
  }
 },
 "nbformat": 4,
 "nbformat_minor": 5
}
