{
 "cells": [
  {
   "cell_type": "code",
   "execution_count": 1,
   "id": "d3933b7a-3277-459c-b89d-b2fd3a4a71c1",
   "metadata": {},
   "outputs": [
    {
     "name": "stdout",
     "output_type": "stream",
     "text": [
      "/home/jovyan/Gonzalo_Moreno\n"
     ]
    }
   ],
   "source": [
    "!pwd"
   ]
  },
  {
   "cell_type": "code",
   "execution_count": 3,
   "id": "43e895d3-4ec3-4fff-b851-6860e996cfe2",
   "metadata": {},
   "outputs": [],
   "source": [
    "import os\n",
    "import shutil"
   ]
  },
  {
   "cell_type": "code",
   "execution_count": 4,
   "id": "ea63e010-d4be-4636-af59-c61c2b02ed6a",
   "metadata": {},
   "outputs": [
    {
     "name": "stdout",
     "output_type": "stream",
     "text": [
      "['ds2fire.zip', '.ipynb_checkpoints', 'unzip_ds.ipynb']\n"
     ]
    }
   ],
   "source": [
    "base_dir = '/home/jovyan/Gonzalo_Moreno/'\n",
    "print(os.listdir(base_dir))"
   ]
  },
  {
   "cell_type": "code",
   "execution_count": 5,
   "id": "d1bb122e-de85-4f80-8bba-430b1fbd437b",
   "metadata": {},
   "outputs": [],
   "source": [
    "shutil.unpack_archive('ds2fire.zip', 'ds2fire')"
   ]
  },
  {
   "cell_type": "code",
   "execution_count": null,
   "id": "1d53f0f2-96cc-4c01-bf14-af8dced11666",
   "metadata": {},
   "outputs": [],
   "source": []
  }
 ],
 "metadata": {
  "kernelspec": {
   "display_name": "Python 3 (ipykernel)",
   "language": "python",
   "name": "python3"
  },
  "language_info": {
   "codemirror_mode": {
    "name": "ipython",
    "version": 3
   },
   "file_extension": ".py",
   "mimetype": "text/x-python",
   "name": "python",
   "nbconvert_exporter": "python",
   "pygments_lexer": "ipython3",
   "version": "3.10.6"
  }
 },
 "nbformat": 4,
 "nbformat_minor": 5
}
