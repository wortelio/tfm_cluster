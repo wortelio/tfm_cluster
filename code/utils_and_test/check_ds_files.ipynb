{
 "cells": [
  {
   "cell_type": "code",
   "execution_count": 1,
   "id": "fb957a2c-fbca-45f6-a7c5-e113e83c9c6d",
   "metadata": {},
   "outputs": [],
   "source": [
    "import os"
   ]
  },
  {
   "cell_type": "code",
   "execution_count": 8,
   "id": "73722a87-8f9c-4cf6-9731-0f5e619fddb9",
   "metadata": {},
   "outputs": [
    {
     "name": "stdout",
     "output_type": "stream",
     "text": [
      "['dfire_yolo', 'dfs_xml']\n"
     ]
    }
   ],
   "source": [
    "ds_dir = 'ds2fire/'\n",
    "\n",
    "all_ds = os.listdir(ds_dir)\n",
    "print(all_ds)"
   ]
  },
  {
   "cell_type": "markdown",
   "id": "0314cb11-bec5-43fa-91f9-4d406e9c6b99",
   "metadata": {},
   "source": [
    "### DFire Yolo"
   ]
  },
  {
   "cell_type": "code",
   "execution_count": 9,
   "id": "64ff2b24-ed0f-4199-a394-3d8cc3f7a46f",
   "metadata": {},
   "outputs": [
    {
     "name": "stdout",
     "output_type": "stream",
     "text": [
      "Train images: 17221\n",
      "Train labels: 17221\n",
      "Test images: 4306\n",
      "Test labels: 4306\n"
     ]
    }
   ],
   "source": [
    "dfire_train_images = [os.path.join(ds_dir, 'dfire_yolo', 'train', 'images', x) \n",
    "                      for x in os.listdir(os.path.join(ds_dir, 'dfire_yolo', 'train', 'images'))]\n",
    "dfire_train_labels = [os.path.join(ds_dir, 'dfire_yolo', 'train', 'labels', x) \n",
    "                      for x in os.listdir(os.path.join(ds_dir, 'dfire_yolo', 'train', 'labels'))]\n",
    "dfire_test_images = [os.path.join(ds_dir, 'dfire_yolo', 'train', 'images', x) \n",
    "                      for x in os.listdir(os.path.join(ds_dir, 'dfire_yolo', 'test', 'images'))]\n",
    "dfire_test_labels = [os.path.join(ds_dir, 'dfire_yolo', 'train', 'images', x) \n",
    "                      for x in os.listdir(os.path.join(ds_dir, 'dfire_yolo', 'test', 'labels'))]\n",
    "\n",
    "print(f'DFire Train images: {len(dfire_train_images)}')\n",
    "print(f'DFire Train labels: {len(dfire_train_labels)}')\n",
    "print(f'DFire Test images: {len(dfire_test_images)}')\n",
    "print(f'DFire Test labels: {len(dfire_test_labels)}')"
   ]
  },
  {
   "cell_type": "markdown",
   "id": "90a588bf-ff48-48b9-bce1-79be0a99a7c1",
   "metadata": {},
   "source": [
    "### DFS XML"
   ]
  },
  {
   "cell_type": "code",
   "execution_count": 13,
   "id": "6125f254-4bda-4612-8a6c-d4a4d11d4054",
   "metadata": {},
   "outputs": [
    {
     "name": "stdout",
     "output_type": "stream",
     "text": [
      "DFS images: 9462\n",
      "DFS labels: 9462\n"
     ]
    }
   ],
   "source": [
    "dfs_images = [os.path.join(ds_dir, 'dfs_xml', 'images', x) \n",
    "                      for x in os.listdir(os.path.join(ds_dir, 'dfs_xml', 'images'))]\n",
    "dfs_labels = [os.path.join(ds_dir, 'dfs_xml', 'labels', x) \n",
    "                      for x in os.listdir(os.path.join(ds_dir, 'dfs_xml', 'labels'))]\n",
    "\n",
    "print(f'DFS images: {len(dfs_images)}')\n",
    "print(f'DFS labels: {len(dfs_labels)}')"
   ]
  },
  {
   "cell_type": "code",
   "execution_count": null,
   "id": "96101aa0-9856-40df-a016-d4ef9af42b5c",
   "metadata": {},
   "outputs": [],
   "source": []
  }
 ],
 "metadata": {
  "kernelspec": {
   "display_name": "Python 3 (ipykernel)",
   "language": "python",
   "name": "python3"
  },
  "language_info": {
   "codemirror_mode": {
    "name": "ipython",
    "version": 3
   },
   "file_extension": ".py",
   "mimetype": "text/x-python",
   "name": "python",
   "nbconvert_exporter": "python",
   "pygments_lexer": "ipython3",
   "version": "3.10.6"
  }
 },
 "nbformat": 4,
 "nbformat_minor": 5
}
