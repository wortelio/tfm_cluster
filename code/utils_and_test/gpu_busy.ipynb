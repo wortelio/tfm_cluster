{
 "cells": [
  {
   "cell_type": "code",
   "execution_count": 4,
   "id": "02891f67-ceb1-4151-964d-7c888cc34dfb",
   "metadata": {},
   "outputs": [],
   "source": [
    "import time\n",
    "from tqdm import tqdm\n",
    "with open(\"__progress_log.txt\", \"w\") as log_file:\n",
    "    for i in tqdm(range(200),file=log_file):\n",
    "        time.sleep(0.5)"
   ]
  },
  {
   "cell_type": "code",
   "execution_count": 2,
   "id": "e00a286a-ac36-407c-b093-232ee21888b8",
   "metadata": {},
   "outputs": [],
   "source": [
    "import torch"
   ]
  },
  {
   "cell_type": "code",
   "execution_count": 5,
   "id": "0fdefd2a-2885-438d-8914-11d3593a0a91",
   "metadata": {},
   "outputs": [
    {
     "name": "stdout",
     "output_type": "stream",
     "text": [
      "Training on: cuda\n"
     ]
    }
   ],
   "source": [
    "device = (torch.device('cuda') if torch.cuda.is_available()\n",
    "          else torch.device('cpu'))\n",
    "print(f'Training on: {device}')"
   ]
  },
  {
   "cell_type": "code",
   "execution_count": null,
   "id": "e30f0aaf-b7ff-46c1-8e92-db9b76b9ea3b",
   "metadata": {},
   "outputs": [],
   "source": []
  }
 ],
 "metadata": {
  "kernelspec": {
   "display_name": "Python 3 (ipykernel)",
   "language": "python",
   "name": "python3"
  },
  "language_info": {
   "codemirror_mode": {
    "name": "ipython",
    "version": 3
   },
   "file_extension": ".py",
   "mimetype": "text/x-python",
   "name": "python",
   "nbconvert_exporter": "python",
   "pygments_lexer": "ipython3",
   "version": "3.10.6"
  }
 },
 "nbformat": 4,
 "nbformat_minor": 5
}
