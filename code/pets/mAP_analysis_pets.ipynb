{
 "cells": [
  {
   "cell_type": "code",
   "execution_count": 1,
   "id": "fd8089a1-9aea-4c7b-9c03-e4ce770bd14a",
   "metadata": {},
   "outputs": [
    {
     "name": "stderr",
     "output_type": "stream",
     "text": [
      "INFO:numexpr.utils:Note: detected 96 virtual cores but NumExpr set to maximum of 64, check \"NUMEXPR_MAX_THREADS\" environment variable.\n",
      "INFO:numexpr.utils:Note: NumExpr detected 96 cores but \"NUMEXPR_MAX_THREADS\" not set, so enforcing safe limit of 8.\n",
      "INFO:numexpr.utils:NumExpr defaulting to 8 threads.\n"
     ]
    }
   ],
   "source": [
    "import os\n",
    "from pathlib import Path\n",
    "import xml.etree.ElementTree as ET\n",
    "\n",
    "from tqdm import tqdm\n",
    "import numpy as np\n",
    "import math\n",
    "import random\n",
    "\n",
    "import torch\n",
    "import torch.nn as nn\n",
    "from torch.utils.data import Dataset\n",
    "from torch.utils.data import DataLoader\n",
    "\n",
    "import albumentations as A\n",
    "from albumentations.pytorch import ToTensorV2\n",
    "\n",
    "import matplotlib.pyplot as plt\n",
    "\n",
    "import cv2\n",
    "\n",
    "from utils import (\n",
    "    yolo2pixel,\n",
    "    nms_yv1,\n",
    "    get_bboxes,\n",
    "    mAP,\n",
    "    plot_preds)"
   ]
  },
  {
   "cell_type": "markdown",
   "id": "0267249b-0c46-412c-a3c9-9863d855e117",
   "metadata": {},
   "source": [
    "# Folders"
   ]
  },
  {
   "cell_type": "code",
   "execution_count": 2,
   "id": "0f08692a-7366-4769-bd80-820be3f0735c",
   "metadata": {},
   "outputs": [],
   "source": [
    "ds_dir = 'pets/test/'"
   ]
  },
  {
   "cell_type": "markdown",
   "id": "ea37aa0c-abe6-4bfe-b5a0-b629dc853f84",
   "metadata": {},
   "source": [
    "### PETS"
   ]
  },
  {
   "cell_type": "code",
   "execution_count": 3,
   "id": "16923085-8e02-4ac6-abf1-349413355a8f",
   "metadata": {},
   "outputs": [
    {
     "name": "stdout",
     "output_type": "stream",
     "text": [
      "DFire val dir: 368\n"
     ]
    }
   ],
   "source": [
    "val_imgs = ds_dir + 'images/'\n",
    "val_labels = ds_dir + 'labels/'\n",
    "\n",
    "print(f'DFire val dir: {len(os.listdir(val_imgs))}')"
   ]
  },
  {
   "cell_type": "markdown",
   "id": "ea17edca-4cff-48f3-bad5-6ab846d1ab7e",
   "metadata": {},
   "source": [
    "# Config"
   ]
  },
  {
   "cell_type": "code",
   "execution_count": 4,
   "id": "6f73f679-c99f-4dbe-8413-2fe358655ad8",
   "metadata": {},
   "outputs": [],
   "source": [
    "CLASSES = [\"cat\", \"dog\"]\n",
    "\n",
    "IMG_DIM = {'W':224, 'H':224} # (W, H)\n",
    "IMG_W = IMG_DIM['W']\n",
    "IMG_H = IMG_DIM['H']\n",
    "\n",
    "SX = 7\n",
    "SY = 7\n",
    "B = 2 # Number of bounding boxes to predict.\n",
    "C = len(CLASSES) # Number of classes in the dataset.\n",
    "\n",
    "BATCH_SIZE = 64\n",
    "WORKERS = 2"
   ]
  },
  {
   "cell_type": "markdown",
   "id": "b119e5c6-8df6-4c42-8c6e-ef01945c82b8",
   "metadata": {},
   "source": [
    "# PETS Dataset"
   ]
  },
  {
   "cell_type": "code",
   "execution_count": 5,
   "id": "34bf5ab7-85c0-41e9-ab7e-1e48f58c0c4b",
   "metadata": {},
   "outputs": [],
   "source": [
    "class PETS(Dataset):\n",
    "    '''\n",
    "    Creates a Pytorch Dataset to train the Yolov1 Network.\n",
    "    Encodes labels to match the format [xcell, ycell, w, h, confidence, class_0 (smoke), class_1 (fire)]\n",
    "        - Final encoding format is: [xcell, ycell, w, h, conf=1, smoke?, fire?]\n",
    "\n",
    "    Discard images when there are more than 1 object in the same cell\n",
    "    \n",
    "    Arguments:\n",
    "        - img_h:            image height\n",
    "        - img_w:            image width\n",
    "        - img_dir:          path to images folder\n",
    "        - label_dir:        path to labels folder\n",
    "        - SX:               number of cells in X axis (horizontal -> width)\n",
    "        - SY:               number of cells in Y axis (vertical -> height)\n",
    "        - C:                number of classes, 2 in this case\n",
    "        - transform:        transformation applied to input images -> Albumentations\n",
    "        - target_transform: transformation applied to labels -> nothing by default\n",
    "\n",
    "    Return:\n",
    "        - img:              1 image of the dataset\n",
    "        - target:           corresponding label encoded\n",
    "    '''\n",
    "\n",
    "    def __init__(self, img_h, img_w, img_dir, label_dir, \n",
    "                 SX, SY, C, \n",
    "                 transform=None, target_transform=None):\n",
    "        self.img_h = img_h\n",
    "        self.img_w = img_w\n",
    "        self.img_dir = img_dir\n",
    "        self.label_dir = label_dir\n",
    "        self.SX = SX\n",
    "        self.SY = SY\n",
    "        self.C = C\n",
    "        self.transform = transform\n",
    "        self.target_transform = target_transform\n",
    "\n",
    "        self.labels_list = sorted(\n",
    "            [\n",
    "                os.path.join(self.label_dir, file_name)\n",
    "                for file_name in os.listdir(self.label_dir)\n",
    "                if file_name.endswith(\".txt\")\n",
    "            ]\n",
    "        )\n",
    "        \n",
    "        self.images, self.bboxes, self.labels = self.__build_ds__(self.labels_list)\n",
    "        \n",
    "        self.num_samples = self.images.shape[0]\n",
    "\n",
    "    def __len__(self):\n",
    "        return self.num_samples\n",
    "    \n",
    "    def __bbox_check__(self, bbox):\n",
    "        eps = 1e-6\n",
    "        \n",
    "        xc, yc, w, h = bbox[0], bbox[1], bbox[2], bbox[3]\n",
    "        xmin = xc - w/2\n",
    "        ymin = yc - h/2\n",
    "        xmax = xc + w/2\n",
    "        ymax = yc + h/2\n",
    "        \n",
    "        xmin = max(xmin, 0 + eps)\n",
    "        ymin = max(ymin, 0 + eps)\n",
    "        xmax = min(xmax, 1)\n",
    "        ymax = min(ymax, 1)\n",
    "        \n",
    "        bbox = np.array([ \n",
    "                (xmin+xmax)/2,\n",
    "                (ymin+ymax)/2,\n",
    "                xmax-xmin,\n",
    "                ymax-ymin\n",
    "                 ]).astype(np.float32)\n",
    "        \n",
    "        return bbox        \n",
    "\n",
    "\n",
    "    def __build_ds__(self, labels_list):\n",
    "        bboxes = []\n",
    "        labels = []\n",
    "        images = []\n",
    "        wrong_imgs = 0\n",
    "        overlapping_rem = 0\n",
    "        more_than_3 = 0\n",
    "                \n",
    "        for label in labels_list:\n",
    "            fname = Path(label).stem\n",
    "            image_path = self.img_dir + fname + '.jpg'   \n",
    "            #print(fname, image_path)\n",
    "                                   \n",
    "            if cv2.imread(image_path) is None:\n",
    "                print(f'{image_path} cannot be read by cv2 -> removed')\n",
    "                wrong_imgs += 1\n",
    "            \n",
    "            else:\n",
    "                \n",
    "                label_mtx = np.zeros((self.SY, self.SX))\n",
    "                overlapping_object = 0\n",
    "\n",
    "                one_bboxes = []\n",
    "                one_labels = []\n",
    "            \n",
    "                with open(label) as f:\n",
    "                    lines = f.readlines()\n",
    "\n",
    "                    # Restrict to 3 boxes per sample\n",
    "                    if len(lines) > 3:\n",
    "                        more_than_3 += 1\n",
    "                        #continue\n",
    "                        \n",
    "                    for line in lines:\n",
    "                        class_id, x, y, w, h = line.strip().split()\n",
    "                        class_id = int(class_id)\n",
    "                        box = np.array([x, y, w, h]).astype(np.float32)\n",
    "                        x, y, w, h = box[0], box[1], box[2], box[3]\n",
    "                        box_ok = self.__bbox_check__([x, y, w, h])\n",
    "                        x, y, w, h = box_ok[0], box_ok[1], box_ok[2], box_ok[3]\n",
    "                        i, j = math.floor(y * self.SY), math.floor(x * self.SX)\n",
    "                        if label_mtx[i, j] == 1:\n",
    "                            overlapping_object = 1\n",
    "                            overlapping_rem += 1\n",
    "                            #print(f'Removed {label} due to overlapping object in cell {i, j}')\n",
    "                            break\n",
    "                        else:\n",
    "                            label_mtx[i, j] = 1\n",
    "                            one_bboxes.append([x, y, w, h])\n",
    "                            # smoke\n",
    "                            if class_id == 0:\n",
    "                                one_labels.append(0)\n",
    "                            # fire\n",
    "                            elif class_id == 1:\n",
    "                                one_labels.append(1)\n",
    "                            else:\n",
    "                                print(f'File {label} errored in cell {i, j}')\n",
    "\n",
    "                    if overlapping_object == 0:\n",
    "                        # Padding to SX*SY labels and bounding boxes, so you can store tensors\n",
    "                        # Label -1 indicates no box\n",
    "                        for idx in range(self.SX*self.SY - len(one_labels)):\n",
    "                            one_bboxes.append([0, 0, 0, 0])\n",
    "                            one_labels.append(-1)\n",
    "                        # print(f'\\nBboxes and Labels of image {image_path}')\n",
    "                        # print(\"Bboxes\")\n",
    "                        # for box in one_bboxes:\n",
    "                        #     print(box)\n",
    "                        # print(\"Labels\")\n",
    "                        # for label in one_labels:\n",
    "                        #     print(label)\n",
    "                        bboxes.append(one_bboxes)\n",
    "                        labels.append(one_labels)\n",
    "                        images.append(image_path)\n",
    "        \n",
    "        print(f'Removed wrong images: {wrong_imgs}')\n",
    "        print(f'Removed due to overlapping: {overlapping_rem}')\n",
    "        print(f'More than 3: {more_than_3}')\n",
    " \n",
    "        labels_np = np.array(labels)\n",
    "        labels_tensor = torch.tensor(labels_np, dtype=torch.float32)\n",
    "        bboxes_np = np.array(bboxes)\n",
    "        bboxes_tensor = torch.tensor(bboxes_np, dtype=torch.float32)\n",
    "        images_array = np.array(images)\n",
    "        # print(f'Images array {images_array}')\n",
    "        # print(f'Bboxes tensor {bboxes_tensor}')\n",
    "        # print(f'Labels tensor {labels_tensor}')\n",
    "        \n",
    "        return images_array, bboxes_tensor, labels_tensor\n",
    "        #return images, bboxes, labels\n",
    "\n",
    "    def __getitem__(self, index):\n",
    "\n",
    "        # Image processing\n",
    "        img_file = self.images[index]\n",
    "        img = cv2.imread(img_file)\n",
    "        img = cv2.cvtColor(img, cv2.COLOR_BGR2RGB)   \n",
    "        #img = cv2.resize(img, (self.img_w, self.img_h), interpolation = cv2.INTER_NEAREST)\n",
    "\n",
    "        # Labels processing\n",
    "        bboxes = self.bboxes[index]\n",
    "        bboxes = bboxes[~torch.all(bboxes == torch.tensor([0,0,0,0]), dim=1)]\n",
    "        bboxes = bboxes.numpy().tolist()\n",
    "        #print(bboxes)\n",
    "        labels = self.labels[index]\n",
    "        labels = labels[labels != -1.]\n",
    "        labels = labels.numpy().tolist()\n",
    "        #print(f'Labels inside dataset {labels}')\n",
    "        \n",
    "        # Data Augmentation\n",
    "        if self.transform is not None:\n",
    "            try:\n",
    "                aug = self.transform(image=img, bboxes=bboxes, class_labels=labels)\n",
    "                img = aug['image']\n",
    "                bboxes = aug['bboxes']\n",
    "                labels = aug['class_labels']\n",
    "            except:\n",
    "                #print(f'Error trying to augment image {img_file}')\n",
    "                img = cv2.resize(img, (self.img_w, self.img_h), interpolation = cv2.INTER_NEAREST)\n",
    "                img = (img / 255.)\n",
    "                img = torch.tensor(img, dtype=torch.float32)\n",
    "                img = img.permute(2, 0, 1)\n",
    "        \n",
    "        label_mtx = np.zeros((self.SY, self.SX, 5+self.C))\n",
    "        \n",
    "        for box, label in zip(bboxes, labels):\n",
    "            class_id = int(label)\n",
    "            i, j = int(box[1]*self.SY), int(box[0]*self.SX)\n",
    "            xcell, ycell = box[0]*self.SX - j, box[1]*self.SY - i\n",
    "            label_mtx[i, j, :5] = [xcell, ycell, box[2], box[3], 1]\n",
    "            label_mtx[i, j, 5+class_id] = 1\n",
    "\n",
    "        label_mtx = torch.tensor(label_mtx, dtype=torch.float32)\n",
    "        \n",
    "        #return img, label_mtx, img_file\n",
    "        return img, label_mtx"
   ]
  },
  {
   "cell_type": "markdown",
   "id": "877a1ea7-30d2-479b-8813-dce909ac84d9",
   "metadata": {},
   "source": [
    "# Preprocess, Datasets and DataLoaders"
   ]
  },
  {
   "cell_type": "code",
   "execution_count": 6,
   "id": "c247aac6-0203-4275-8fa7-365fa1950c48",
   "metadata": {},
   "outputs": [
    {
     "name": "stdout",
     "output_type": "stream",
     "text": [
      "Removed wrong images: 0\n",
      "Removed due to overlapping: 0\n",
      "More than 3: 0\n"
     ]
    }
   ],
   "source": [
    "val_transform = A.Compose([\n",
    "    A.Resize(IMG_H, IMG_W, p=1),\n",
    "    A.Normalize(mean=(0.485, 0.456, 0.406), std=(0.229, 0.224, 0.225), p=1),\n",
    "    ToTensorV2(p=1),\n",
    "], bbox_params=A.BboxParams(format='yolo', label_fields=['class_labels']))\n",
    "\n",
    "val_dataset = PETS(img_h = IMG_H,\n",
    "                   img_w = IMG_W,\n",
    "                   img_dir = val_imgs,\n",
    "                   label_dir = val_labels,\n",
    "                   SX = SX,\n",
    "                   SY = SY,\n",
    "                   C = C,\n",
    "                   transform=val_transform)\n",
    "\n",
    "\n",
    "val_loader = DataLoader(dataset=val_dataset,\n",
    "                        batch_size=BATCH_SIZE,\n",
    "                        num_workers=WORKERS,\n",
    "                        pin_memory=True,\n",
    "                        shuffle=False,\n",
    "                        drop_last=True)"
   ]
  },
  {
   "cell_type": "markdown",
   "id": "d17ae0b1-24e1-4394-92f3-a89b92abe17b",
   "metadata": {},
   "source": [
    "# Model"
   ]
  },
  {
   "cell_type": "code",
   "execution_count": 7,
   "id": "2afd781f-5843-46d9-81ad-13a8a66f3ac4",
   "metadata": {},
   "outputs": [],
   "source": [
    "class OPTIM_BED(nn.Module):\n",
    "    def __init__(self, num_classes, S, B, in_channels=3):\n",
    "        super(OPTIM_BED, self).__init__()\n",
    "        self.in_channels = in_channels\n",
    "        self.num_classes = num_classes\n",
    "        self.S = S\n",
    "        self.B = B\n",
    "        \n",
    "        self.model = self.__create_BED__()\n",
    "\n",
    "        \n",
    "    def __create_BED__(self):\n",
    "        BED_model = nn.Sequential(\n",
    "            # Conv2d [in_channels, out_channels, kernel_size, stride, padding, bias]\n",
    "\n",
    "            # CNNBlock 224x224\n",
    "            nn.Conv2d(self.in_channels, 64, kernel_size=3, stride=1, padding=1,  bias=False),\n",
    "            nn.BatchNorm2d(64, affine=False),\n",
    "            nn.ReLU(),\n",
    "            nn.Dropout2d(p=0.5),\n",
    "\n",
    "            # CNNBlock 112x112\n",
    "            nn.MaxPool2d(kernel_size=2, stride=2),\n",
    "            nn.Conv2d(64, 24, kernel_size=3, stride=1, padding=1,  bias=False),\n",
    "            nn.BatchNorm2d(24, affine=False),\n",
    "            nn.ReLU(),\n",
    "            nn.Dropout2d(p=0.5),\n",
    "\n",
    "            # CNNBlock 56x56\n",
    "            nn.MaxPool2d(kernel_size=2, stride=2),\n",
    "            # kernel = 1 in github\n",
    "            nn.Conv2d(24, 16, kernel_size=1, stride=1, padding=0,  bias=False),\n",
    "            nn.BatchNorm2d(16, affine=False),\n",
    "            nn.ReLU(),\n",
    "            \n",
    "            nn.Conv2d(16, 32, kernel_size=3, stride=1, padding=1,  bias=False),\n",
    "            nn.BatchNorm2d(32, affine=False),\n",
    "            nn.ReLU(),\n",
    "            \n",
    "            # kernel = 1 in github\n",
    "            nn.Conv2d(32, 32, kernel_size=1, stride=1, padding=0,  bias=False),\n",
    "            nn.BatchNorm2d(32, affine=False),\n",
    "            nn.ReLU(),\n",
    "            \n",
    "            nn.Conv2d(32, 64, kernel_size=3, stride=1, padding=1,  bias=False),\n",
    "            nn.BatchNorm2d(64, affine=False),\n",
    "            nn.ReLU(),\n",
    "\n",
    "            # CNNBlock 28x28\n",
    "            nn.MaxPool2d(kernel_size=2, stride=2),\n",
    "            nn.Conv2d(64, 32, kernel_size=1, stride=1, padding=0,  bias=False),\n",
    "            nn.BatchNorm2d(32, affine=False),\n",
    "            nn.ReLU(),\n",
    "            \n",
    "            nn.Conv2d(32, 64, kernel_size=3, stride=1, padding=1,  bias=False),\n",
    "            nn.BatchNorm2d(64, affine=False),\n",
    "            nn.ReLU(),\n",
    "            \n",
    "            nn.Conv2d(64, 32, kernel_size=1, stride=1, padding=0,  bias=False),\n",
    "            nn.BatchNorm2d(32, affine=False),\n",
    "            nn.ReLU(),\n",
    "            \n",
    "            nn.Conv2d(32, 64, kernel_size=3, stride=1, padding=1,  bias=False),\n",
    "            nn.BatchNorm2d(64, affine=False),\n",
    "            nn.ReLU(),\n",
    "            \n",
    "            nn.Conv2d(64, 32, kernel_size=1, stride=1, padding=0,  bias=False),\n",
    "            nn.BatchNorm2d(32, affine=False),\n",
    "            nn.ReLU(),\n",
    "            \n",
    "            nn.Conv2d(32, 64, kernel_size=3, stride=1, padding=1,  bias=False),\n",
    "            nn.BatchNorm2d(64, affine=False),\n",
    "            nn.ReLU(),\n",
    "\n",
    "            # CNNBlock 14x14\n",
    "            nn.MaxPool2d(kernel_size=2, stride=2), \n",
    "            nn.Conv2d(64, 32, kernel_size=1, stride=1, padding=0,  bias=False),\n",
    "            nn.BatchNorm2d(32, affine=False),\n",
    "            nn.ReLU(),\n",
    "            \n",
    "            nn.Conv2d(32, 64, kernel_size=3, stride=1, padding=1,  bias=False),\n",
    "            nn.BatchNorm2d(64, affine=False),\n",
    "            nn.ReLU(),\n",
    "            \n",
    "            nn.Conv2d(64, 32, kernel_size=1, stride=1, padding=0,  bias=False),\n",
    "            nn.BatchNorm2d(32, affine=False),\n",
    "            nn.ReLU(),\n",
    "            \n",
    "            nn.Conv2d(32, 64, kernel_size=3, stride=1, padding=1,  bias=False),\n",
    "            nn.BatchNorm2d(64, affine=False),\n",
    "            nn.ReLU(),\n",
    "            \n",
    "            nn.Conv2d(64, 64, kernel_size=3, stride=1, padding=1,  bias=False),\n",
    "            nn.BatchNorm2d(64, affine=False),\n",
    "            nn.ReLU(),\n",
    "            \n",
    "            nn.Conv2d(64, 64, kernel_size=3, stride=1, padding=1,  bias=False),\n",
    "            nn.BatchNorm2d(64, affine=False),\n",
    "            nn.ReLU(),\n",
    "            \n",
    "            # CNNBlock 7x7\n",
    "            nn.MaxPool2d(kernel_size=2, stride=2),\n",
    "            nn.Conv2d(64, 128, kernel_size=3, stride=1, padding=1,  bias=False),\n",
    "            nn.BatchNorm2d(128, affine=False),\n",
    "            nn.ReLU(),\n",
    "            nn.Conv2d(128, 128, kernel_size=3, stride=1, padding=1,  bias=False),\n",
    "            nn.BatchNorm2d(128, affine=False),\n",
    "            nn.ReLU(),\n",
    "            \n",
    "            # CNNBlock Out\n",
    "            nn.Conv2d(128, 128, kernel_size=1, stride=1, padding=0,  bias=False),\n",
    "            nn.BatchNorm2d(128, affine=False),\n",
    "            nn.ReLU(),\n",
    "            \n",
    "            nn.Conv2d(128, 64, kernel_size=1, stride=1, padding=0,  bias=False),\n",
    "            nn.BatchNorm2d(64, affine=False),\n",
    "            nn.ReLU(),\n",
    "            \n",
    "            nn.Conv2d(64, 16, kernel_size=1, stride=1, padding=0,  bias=False),\n",
    "            nn.BatchNorm2d(16, affine=False),\n",
    "            nn.ReLU(),\n",
    "            \n",
    "            nn.Conv2d(16, self.B*5 + self.num_classes, kernel_size=1, stride=1, padding=0,  bias=False),\n",
    "            \n",
    "        )\n",
    "        return BED_model\n",
    "        \n",
    "          \n",
    "\n",
    "    def _initialize_weights(self):\n",
    "        for m in self.modules():\n",
    "            if isinstance(m, nn.Conv2d):\n",
    "                nn.init.kaiming_normal_(m.weight, mode='fan_in',\n",
    "                    nonlinearity='relu'\n",
    "                )\n",
    "                if m.bias is not None:\n",
    "                        nn.init.constant_(m.bias, 0)\n",
    "            elif isinstance(m, nn.Linear):\n",
    "                nn.init.normal_(m.weight, 0, 0.01)\n",
    "                nn.init.constant_(m.bias, 0)\n",
    "\n",
    "    # [xc1, yc1, w1, h1, conf1, xc2, yc2, w2, h2, conf2, smoke, fire]\n",
    "    # [0 ................. 4,    5 ................ 9      10    11 ]\n",
    "    def forward(self, x):\n",
    "        x_out = self.model(x)\n",
    "        x = x_out.permute(0, 2, 3, 1)\n",
    "        if self.B == 1:\n",
    "            class_softmax = torch.softmax(x[..., 5:7], dim=-1)\n",
    "            x = torch.cat((torch.sigmoid(x[..., 0:5]), class_softmax), dim=-1)  \n",
    "        else:\n",
    "            class_softmax = torch.softmax(x[..., 10:12], dim=-1)\n",
    "            x = torch.cat((torch.sigmoid(x[..., 0:10]), class_softmax), dim=-1)\n",
    "        return x "
   ]
  },
  {
   "cell_type": "code",
   "execution_count": 8,
   "id": "635819cd-31ee-43a3-b49d-ae44f10b465e",
   "metadata": {},
   "outputs": [
    {
     "name": "stdout",
     "output_type": "stream",
     "text": [
      "cuda\n"
     ]
    }
   ],
   "source": [
    "DEVICE = \"cuda\" if torch.cuda.is_available() else \"cpu\"\n",
    "print(DEVICE)"
   ]
  },
  {
   "cell_type": "code",
   "execution_count": 9,
   "id": "c7f16b61-da8f-4499-bae9-509609963202",
   "metadata": {},
   "outputs": [
    {
     "data": {
      "text/plain": [
       "OPTIM_BED(\n",
       "  (model): Sequential(\n",
       "    (0): Conv2d(3, 64, kernel_size=(3, 3), stride=(1, 1), padding=(1, 1), bias=False)\n",
       "    (1): BatchNorm2d(64, eps=1e-05, momentum=0.1, affine=False, track_running_stats=True)\n",
       "    (2): ReLU()\n",
       "    (3): Dropout2d(p=0.5, inplace=False)\n",
       "    (4): MaxPool2d(kernel_size=2, stride=2, padding=0, dilation=1, ceil_mode=False)\n",
       "    (5): Conv2d(64, 24, kernel_size=(3, 3), stride=(1, 1), padding=(1, 1), bias=False)\n",
       "    (6): BatchNorm2d(24, eps=1e-05, momentum=0.1, affine=False, track_running_stats=True)\n",
       "    (7): ReLU()\n",
       "    (8): Dropout2d(p=0.5, inplace=False)\n",
       "    (9): MaxPool2d(kernel_size=2, stride=2, padding=0, dilation=1, ceil_mode=False)\n",
       "    (10): Conv2d(24, 16, kernel_size=(1, 1), stride=(1, 1), bias=False)\n",
       "    (11): BatchNorm2d(16, eps=1e-05, momentum=0.1, affine=False, track_running_stats=True)\n",
       "    (12): ReLU()\n",
       "    (13): Conv2d(16, 32, kernel_size=(3, 3), stride=(1, 1), padding=(1, 1), bias=False)\n",
       "    (14): BatchNorm2d(32, eps=1e-05, momentum=0.1, affine=False, track_running_stats=True)\n",
       "    (15): ReLU()\n",
       "    (16): Conv2d(32, 32, kernel_size=(1, 1), stride=(1, 1), bias=False)\n",
       "    (17): BatchNorm2d(32, eps=1e-05, momentum=0.1, affine=False, track_running_stats=True)\n",
       "    (18): ReLU()\n",
       "    (19): Conv2d(32, 64, kernel_size=(3, 3), stride=(1, 1), padding=(1, 1), bias=False)\n",
       "    (20): BatchNorm2d(64, eps=1e-05, momentum=0.1, affine=False, track_running_stats=True)\n",
       "    (21): ReLU()\n",
       "    (22): MaxPool2d(kernel_size=2, stride=2, padding=0, dilation=1, ceil_mode=False)\n",
       "    (23): Conv2d(64, 32, kernel_size=(1, 1), stride=(1, 1), bias=False)\n",
       "    (24): BatchNorm2d(32, eps=1e-05, momentum=0.1, affine=False, track_running_stats=True)\n",
       "    (25): ReLU()\n",
       "    (26): Conv2d(32, 64, kernel_size=(3, 3), stride=(1, 1), padding=(1, 1), bias=False)\n",
       "    (27): BatchNorm2d(64, eps=1e-05, momentum=0.1, affine=False, track_running_stats=True)\n",
       "    (28): ReLU()\n",
       "    (29): Conv2d(64, 32, kernel_size=(1, 1), stride=(1, 1), bias=False)\n",
       "    (30): BatchNorm2d(32, eps=1e-05, momentum=0.1, affine=False, track_running_stats=True)\n",
       "    (31): ReLU()\n",
       "    (32): Conv2d(32, 64, kernel_size=(3, 3), stride=(1, 1), padding=(1, 1), bias=False)\n",
       "    (33): BatchNorm2d(64, eps=1e-05, momentum=0.1, affine=False, track_running_stats=True)\n",
       "    (34): ReLU()\n",
       "    (35): Conv2d(64, 32, kernel_size=(1, 1), stride=(1, 1), bias=False)\n",
       "    (36): BatchNorm2d(32, eps=1e-05, momentum=0.1, affine=False, track_running_stats=True)\n",
       "    (37): ReLU()\n",
       "    (38): Conv2d(32, 64, kernel_size=(3, 3), stride=(1, 1), padding=(1, 1), bias=False)\n",
       "    (39): BatchNorm2d(64, eps=1e-05, momentum=0.1, affine=False, track_running_stats=True)\n",
       "    (40): ReLU()\n",
       "    (41): MaxPool2d(kernel_size=2, stride=2, padding=0, dilation=1, ceil_mode=False)\n",
       "    (42): Conv2d(64, 32, kernel_size=(1, 1), stride=(1, 1), bias=False)\n",
       "    (43): BatchNorm2d(32, eps=1e-05, momentum=0.1, affine=False, track_running_stats=True)\n",
       "    (44): ReLU()\n",
       "    (45): Conv2d(32, 64, kernel_size=(3, 3), stride=(1, 1), padding=(1, 1), bias=False)\n",
       "    (46): BatchNorm2d(64, eps=1e-05, momentum=0.1, affine=False, track_running_stats=True)\n",
       "    (47): ReLU()\n",
       "    (48): Conv2d(64, 32, kernel_size=(1, 1), stride=(1, 1), bias=False)\n",
       "    (49): BatchNorm2d(32, eps=1e-05, momentum=0.1, affine=False, track_running_stats=True)\n",
       "    (50): ReLU()\n",
       "    (51): Conv2d(32, 64, kernel_size=(3, 3), stride=(1, 1), padding=(1, 1), bias=False)\n",
       "    (52): BatchNorm2d(64, eps=1e-05, momentum=0.1, affine=False, track_running_stats=True)\n",
       "    (53): ReLU()\n",
       "    (54): Conv2d(64, 64, kernel_size=(3, 3), stride=(1, 1), padding=(1, 1), bias=False)\n",
       "    (55): BatchNorm2d(64, eps=1e-05, momentum=0.1, affine=False, track_running_stats=True)\n",
       "    (56): ReLU()\n",
       "    (57): Conv2d(64, 64, kernel_size=(3, 3), stride=(1, 1), padding=(1, 1), bias=False)\n",
       "    (58): BatchNorm2d(64, eps=1e-05, momentum=0.1, affine=False, track_running_stats=True)\n",
       "    (59): ReLU()\n",
       "    (60): MaxPool2d(kernel_size=2, stride=2, padding=0, dilation=1, ceil_mode=False)\n",
       "    (61): Conv2d(64, 128, kernel_size=(3, 3), stride=(1, 1), padding=(1, 1), bias=False)\n",
       "    (62): BatchNorm2d(128, eps=1e-05, momentum=0.1, affine=False, track_running_stats=True)\n",
       "    (63): ReLU()\n",
       "    (64): Conv2d(128, 128, kernel_size=(3, 3), stride=(1, 1), padding=(1, 1), bias=False)\n",
       "    (65): BatchNorm2d(128, eps=1e-05, momentum=0.1, affine=False, track_running_stats=True)\n",
       "    (66): ReLU()\n",
       "    (67): Conv2d(128, 128, kernel_size=(1, 1), stride=(1, 1), bias=False)\n",
       "    (68): BatchNorm2d(128, eps=1e-05, momentum=0.1, affine=False, track_running_stats=True)\n",
       "    (69): ReLU()\n",
       "    (70): Conv2d(128, 64, kernel_size=(1, 1), stride=(1, 1), bias=False)\n",
       "    (71): BatchNorm2d(64, eps=1e-05, momentum=0.1, affine=False, track_running_stats=True)\n",
       "    (72): ReLU()\n",
       "    (73): Conv2d(64, 16, kernel_size=(1, 1), stride=(1, 1), bias=False)\n",
       "    (74): BatchNorm2d(16, eps=1e-05, momentum=0.1, affine=False, track_running_stats=True)\n",
       "    (75): ReLU()\n",
       "    (76): Conv2d(16, 12, kernel_size=(1, 1), stride=(1, 1), bias=False)\n",
       "  )\n",
       ")"
      ]
     },
     "execution_count": 9,
     "metadata": {},
     "output_type": "execute_result"
    }
   ],
   "source": [
    "model = OPTIM_BED(num_classes=C, S=SX, B=B, in_channels=3).to(DEVICE)\n",
    "model_path = 'results/'\n",
    "model_file = model_path + 'bed_best_2BB_mAP.pt'\n",
    "\n",
    "checkpoint = torch.load(model_file, map_location=torch.device(DEVICE))\n",
    "model.load_state_dict(checkpoint['model_state_dict'])\n",
    "\n",
    "model.eval() "
   ]
  },
  {
   "cell_type": "markdown",
   "id": "9fcaf0b0-e8e0-4e42-a266-89961a6b6247",
   "metadata": {},
   "source": [
    "# Calculate mAP"
   ]
  },
  {
   "cell_type": "code",
   "execution_count": 10,
   "id": "b11bb1b7-adb5-44b0-93b3-6ceb036f8922",
   "metadata": {},
   "outputs": [],
   "source": [
    "cell2box_mask = torch.zeros((SY, SX, 2))\n",
    "for i in range(SY):\n",
    "    for j in range(SX):\n",
    "        cell2box_mask[i,j,0] = j\n",
    "        cell2box_mask[i,j,1] = i "
   ]
  },
  {
   "cell_type": "code",
   "execution_count": 11,
   "id": "290e95fd-6aad-4d3c-8789-9dec7eee9262",
   "metadata": {},
   "outputs": [],
   "source": [
    "def calculate_mAP(thres, iou_nms, iou_map, loader, model, mask):\n",
    "    pred_boxes, target_boxes = get_bboxes(loader=loader, \n",
    "                                      model=model,\n",
    "                                      SX=SX,\n",
    "                                      SY=SY,\n",
    "                                      B=B,\n",
    "                                      C=C,\n",
    "                                      mask=mask,\n",
    "                                      iou_threshold=iou_nms, \n",
    "                                      threshold=thres,\n",
    "                                      device=DEVICE,\n",
    "                                      box_format=\"midpoint\")\n",
    "\n",
    "    mean_avg_prec, avg_prec, cls_prec, cls_rec = mAP(pred_boxes=pred_boxes, \n",
    "                                                     true_boxes=target_boxes, \n",
    "                                                     iou_threshold=iou_map, \n",
    "                                                     box_format=\"midpoint\",\n",
    "                                                     num_classes=C)\n",
    "    # print(f'mAP: {mean_avg_prec}')\n",
    "    # print(f'smoke AP: {avg_prec[0]}')\n",
    "    # print(f'fire AP: {avg_prec[1]}')\n",
    "    # print(f'smoke precision: {cls_prec[0]}')\n",
    "    # print(f'fire precision: {cls_prec[1]}')\n",
    "    # print(f'smoke recall: {cls_rec[0]}')\n",
    "    # print(f'fire recall: {cls_rec[1]}')\n",
    "\n",
    "    f1_smoke = 2*(cls_prec[0]*cls_rec[0])/(cls_prec[0]+cls_rec[0])\n",
    "    f1_fire = 2*(cls_prec[1]*cls_rec[1])/(cls_prec[1]+cls_rec[1])\n",
    "    f1_mean = (f1_smoke + f1_fire) / 2\n",
    "\n",
    "    print(\"mAP\".ljust(9) + \"|\" + \n",
    "          \"AP smoke\".ljust(9) + \"|\" + \n",
    "          \"AP fire\".ljust(9) + \"|\" + \n",
    "          \"F1 mean\".ljust(9) + \"|\" + \n",
    "          \"F1 smoke\".ljust(9) + \"|\" + \n",
    "          \"F1 fire\".ljust(9) + \"|\" +\n",
    "          \"Pr smoke\".ljust(9) + \"|\" +\n",
    "          \"Pr fire\".ljust(9) + \"|\" +\n",
    "          \"Re smoke\".ljust(9) + \"|\" +\n",
    "          \"Re fire\".ljust(9))\n",
    "\n",
    "    print_hyphen = \"\"\n",
    "    for i in range(10): # 10 = # of metrics\n",
    "        print_hyphen += \"---------\".ljust(9) + \" \"\n",
    "    print(print_hyphen)\n",
    "    \n",
    "    print(f'{mean_avg_prec:.3f}'.ljust(9) + \"|\" +\n",
    "          f'{avg_prec[0]:.3f}'.ljust(9) + \"|\" +\n",
    "          f'{avg_prec[1]:.3f}'.ljust(9) + \"|\" +\n",
    "          f'{f1_mean:.3f}'.ljust(9) + \"|\" +\n",
    "          f'{f1_smoke:.3f}'.ljust(9) + \"|\" +\n",
    "          f'{f1_fire:.3f}'.ljust(9) + \"|\" +\n",
    "          f'{cls_prec[0]:.3f}'.ljust(9) + \"|\" +\n",
    "          f'{cls_prec[1]:.3f}'.ljust(9) + \"|\" +\n",
    "          f'{cls_rec[0]:.3f}'.ljust(9) + \"|\" +\n",
    "          f'{cls_rec[1]:.3f}'.ljust(9) + \"\\n\")\n"
   ]
  },
  {
   "cell_type": "code",
   "execution_count": 12,
   "id": "43e1f333-7fe2-4a72-b9cf-99e9b61f2d68",
   "metadata": {},
   "outputs": [
    {
     "name": "stderr",
     "output_type": "stream",
     "text": [
      "Get Boxes:   0%|          | 0/5 [00:00<?, ?it/s]/opt/conda/lib/python3.11/site-packages/transformers/utils/generic.py:441: UserWarning: torch.utils._pytree._register_pytree_node is deprecated. Please use torch.utils._pytree.register_pytree_node instead.\n",
      "  _torch_pytree._register_pytree_node(\n",
      "/opt/conda/lib/python3.11/site-packages/transformers/utils/generic.py:441: UserWarning: torch.utils._pytree._register_pytree_node is deprecated. Please use torch.utils._pytree.register_pytree_node instead.\n",
      "  _torch_pytree._register_pytree_node(\n",
      "Get Boxes: 100%|██████████| 5/5 [00:02<00:00,  2.39it/s]\n",
      "mAP:@.5: 100%|██████████| 2/2 [00:00<00:00, 29.58it/s]"
     ]
    },
    {
     "name": "stdout",
     "output_type": "stream",
     "text": [
      "mAP      |AP smoke |AP fire  |F1 mean  |F1 smoke |F1 fire  |Pr smoke |Pr fire  |Re smoke |Re fire  \n",
      "--------- --------- --------- --------- --------- --------- --------- --------- --------- --------- \n",
      "0.681    |0.689    |0.672    |0.755    |0.770    |0.741    |0.764    |0.686    |0.776    |0.805    \n",
      "\n"
     ]
    },
    {
     "name": "stderr",
     "output_type": "stream",
     "text": [
      "\n"
     ]
    }
   ],
   "source": [
    "calculate_mAP(thres=0.2,\n",
    "              iou_nms=0.3,\n",
    "              iou_map=0.5,\n",
    "              loader=val_loader,\n",
    "              model=model,\n",
    "              mask=cell2box_mask)"
   ]
  },
  {
   "cell_type": "code",
   "execution_count": 13,
   "id": "cdf97d5b-b838-424c-a06e-dd648074b82d",
   "metadata": {},
   "outputs": [
    {
     "name": "stderr",
     "output_type": "stream",
     "text": [
      "Get Boxes:   0%|          | 0/5 [00:00<?, ?it/s]/opt/conda/lib/python3.11/site-packages/transformers/utils/generic.py:441: UserWarning: torch.utils._pytree._register_pytree_node is deprecated. Please use torch.utils._pytree.register_pytree_node instead.\n",
      "  _torch_pytree._register_pytree_node(\n",
      "/opt/conda/lib/python3.11/site-packages/transformers/utils/generic.py:441: UserWarning: torch.utils._pytree._register_pytree_node is deprecated. Please use torch.utils._pytree.register_pytree_node instead.\n",
      "  _torch_pytree._register_pytree_node(\n",
      "Get Boxes: 100%|██████████| 5/5 [00:01<00:00,  2.73it/s]\n",
      "mAP:@.5: 100%|██████████| 2/2 [00:00<00:00, 26.86it/s]"
     ]
    },
    {
     "name": "stdout",
     "output_type": "stream",
     "text": [
      "mAP      |AP smoke |AP fire  |F1 mean  |F1 smoke |F1 fire  |Pr smoke |Pr fire  |Re smoke |Re fire  \n",
      "--------- --------- --------- --------- --------- --------- --------- --------- --------- --------- \n",
      "0.685    |0.689    |0.680    |0.736    |0.755    |0.717    |0.735    |0.637    |0.776    |0.821    \n",
      "\n"
     ]
    },
    {
     "name": "stderr",
     "output_type": "stream",
     "text": [
      "\n"
     ]
    }
   ],
   "source": [
    "calculate_mAP(thres=0.2,\n",
    "              iou_nms=0.5,\n",
    "              iou_map=0.5,\n",
    "              loader=val_loader,\n",
    "              model=model,\n",
    "              mask=cell2box_mask)"
   ]
  },
  {
   "cell_type": "code",
   "execution_count": 14,
   "id": "af7ab0ab-c78f-4251-bd17-61399261910b",
   "metadata": {},
   "outputs": [
    {
     "name": "stderr",
     "output_type": "stream",
     "text": [
      "Get Boxes:   0%|          | 0/5 [00:00<?, ?it/s]/opt/conda/lib/python3.11/site-packages/transformers/utils/generic.py:441: UserWarning: torch.utils._pytree._register_pytree_node is deprecated. Please use torch.utils._pytree.register_pytree_node instead.\n",
      "  _torch_pytree._register_pytree_node(\n",
      "/opt/conda/lib/python3.11/site-packages/transformers/utils/generic.py:441: UserWarning: torch.utils._pytree._register_pytree_node is deprecated. Please use torch.utils._pytree.register_pytree_node instead.\n",
      "  _torch_pytree._register_pytree_node(\n",
      "Get Boxes: 100%|██████████| 5/5 [00:02<00:00,  2.45it/s]\n",
      "mAP:@.5: 100%|██████████| 2/2 [00:00<00:00, 23.39it/s]"
     ]
    },
    {
     "name": "stdout",
     "output_type": "stream",
     "text": [
      "mAP      |AP smoke |AP fire  |F1 mean  |F1 smoke |F1 fire  |Pr smoke |Pr fire  |Re smoke |Re fire  \n",
      "--------- --------- --------- --------- --------- --------- --------- --------- --------- --------- \n",
      "0.697    |0.710    |0.683    |0.676    |0.711    |0.640    |0.635    |0.523    |0.808    |0.826    \n",
      "\n"
     ]
    },
    {
     "name": "stderr",
     "output_type": "stream",
     "text": [
      "\n"
     ]
    }
   ],
   "source": [
    "calculate_mAP(thres=0.1,\n",
    "              iou_nms=0.5,\n",
    "              iou_map=0.5,\n",
    "              loader=val_loader,\n",
    "              model=model,\n",
    "              mask=cell2box_mask)"
   ]
  },
  {
   "cell_type": "code",
   "execution_count": 15,
   "id": "34650d18-258b-4a50-964d-18a672c875a1",
   "metadata": {},
   "outputs": [
    {
     "name": "stderr",
     "output_type": "stream",
     "text": [
      "Get Boxes:   0%|          | 0/5 [00:00<?, ?it/s]/opt/conda/lib/python3.11/site-packages/transformers/utils/generic.py:441: UserWarning: torch.utils._pytree._register_pytree_node is deprecated. Please use torch.utils._pytree.register_pytree_node instead.\n",
      "  _torch_pytree._register_pytree_node(\n",
      "/opt/conda/lib/python3.11/site-packages/transformers/utils/generic.py:441: UserWarning: torch.utils._pytree._register_pytree_node is deprecated. Please use torch.utils._pytree.register_pytree_node instead.\n",
      "  _torch_pytree._register_pytree_node(\n",
      "Get Boxes: 100%|██████████| 5/5 [00:01<00:00,  2.98it/s]\n",
      "mAP:@.5: 100%|██████████| 2/2 [00:00<00:00, 31.96it/s]"
     ]
    },
    {
     "name": "stdout",
     "output_type": "stream",
     "text": [
      "mAP      |AP smoke |AP fire  |F1 mean  |F1 smoke |F1 fire  |Pr smoke |Pr fire  |Re smoke |Re fire  \n",
      "--------- --------- --------- --------- --------- --------- --------- --------- --------- --------- \n",
      "0.763    |0.741    |0.786    |0.807    |0.794    |0.821    |0.787    |0.760    |0.800    |0.892    \n",
      "\n"
     ]
    },
    {
     "name": "stderr",
     "output_type": "stream",
     "text": [
      "\n"
     ]
    }
   ],
   "source": [
    "calculate_mAP(thres=0.2,\n",
    "              iou_nms=0.3,\n",
    "              iou_map=0.4,\n",
    "              loader=val_loader,\n",
    "              model=model,\n",
    "              mask=cell2box_mask)"
   ]
  },
  {
   "cell_type": "code",
   "execution_count": 16,
   "id": "a7157629-8e15-4e51-bfe1-4359ed9ae164",
   "metadata": {},
   "outputs": [
    {
     "name": "stderr",
     "output_type": "stream",
     "text": [
      "Get Boxes:   0%|          | 0/5 [00:00<?, ?it/s]/opt/conda/lib/python3.11/site-packages/transformers/utils/generic.py:441: UserWarning: torch.utils._pytree._register_pytree_node is deprecated. Please use torch.utils._pytree.register_pytree_node instead.\n",
      "  _torch_pytree._register_pytree_node(\n",
      "/opt/conda/lib/python3.11/site-packages/transformers/utils/generic.py:441: UserWarning: torch.utils._pytree._register_pytree_node is deprecated. Please use torch.utils._pytree.register_pytree_node instead.\n",
      "  _torch_pytree._register_pytree_node(\n",
      "Get Boxes: 100%|██████████| 5/5 [00:01<00:00,  2.71it/s]\n",
      "mAP:@.5: 100%|██████████| 2/2 [00:00<00:00, 27.58it/s]"
     ]
    },
    {
     "name": "stdout",
     "output_type": "stream",
     "text": [
      "mAP      |AP smoke |AP fire  |F1 mean  |F1 smoke |F1 fire  |Pr smoke |Pr fire  |Re smoke |Re fire  \n",
      "--------- --------- --------- --------- --------- --------- --------- --------- --------- --------- \n",
      "0.789    |0.749    |0.829    |0.825    |0.802    |0.849    |0.795    |0.786    |0.808    |0.923    \n",
      "\n"
     ]
    },
    {
     "name": "stderr",
     "output_type": "stream",
     "text": [
      "\n"
     ]
    }
   ],
   "source": [
    "calculate_mAP(thres=0.2,\n",
    "              iou_nms=0.3,\n",
    "              iou_map=0.3,\n",
    "              loader=val_loader,\n",
    "              model=model,\n",
    "              mask=cell2box_mask)"
   ]
  },
  {
   "cell_type": "code",
   "execution_count": 17,
   "id": "9580e734-da19-4831-b195-f1696b8b998e",
   "metadata": {},
   "outputs": [
    {
     "name": "stderr",
     "output_type": "stream",
     "text": [
      "Get Boxes:   0%|          | 0/5 [00:00<?, ?it/s]/opt/conda/lib/python3.11/site-packages/transformers/utils/generic.py:441: UserWarning: torch.utils._pytree._register_pytree_node is deprecated. Please use torch.utils._pytree.register_pytree_node instead.\n",
      "  _torch_pytree._register_pytree_node(\n",
      "/opt/conda/lib/python3.11/site-packages/transformers/utils/generic.py:441: UserWarning: torch.utils._pytree._register_pytree_node is deprecated. Please use torch.utils._pytree.register_pytree_node instead.\n",
      "  _torch_pytree._register_pytree_node(\n",
      "Get Boxes: 100%|██████████| 5/5 [00:01<00:00,  2.67it/s]\n",
      "mAP:@.5: 100%|██████████| 2/2 [00:00<00:00, 23.49it/s]"
     ]
    },
    {
     "name": "stdout",
     "output_type": "stream",
     "text": [
      "mAP      |AP smoke |AP fire  |F1 mean  |F1 smoke |F1 fire  |Pr smoke |Pr fire  |Re smoke |Re fire  \n",
      "--------- --------- --------- --------- --------- --------- --------- --------- --------- --------- \n",
      "0.781    |0.763    |0.798    |0.720    |0.732    |0.708    |0.654    |0.578    |0.832    |0.913    \n",
      "\n"
     ]
    },
    {
     "name": "stderr",
     "output_type": "stream",
     "text": [
      "\n"
     ]
    }
   ],
   "source": [
    "calculate_mAP(thres=0.1,\n",
    "              iou_nms=0.5,\n",
    "              iou_map=0.4,\n",
    "              loader=val_loader,\n",
    "              model=model,\n",
    "              mask=cell2box_mask)"
   ]
  },
  {
   "cell_type": "code",
   "execution_count": 18,
   "id": "8c7c437e-888b-4e57-84f9-dafd663e8204",
   "metadata": {},
   "outputs": [
    {
     "name": "stderr",
     "output_type": "stream",
     "text": [
      "Get Boxes:   0%|          | 0/5 [00:00<?, ?it/s]/opt/conda/lib/python3.11/site-packages/transformers/utils/generic.py:441: UserWarning: torch.utils._pytree._register_pytree_node is deprecated. Please use torch.utils._pytree.register_pytree_node instead.\n",
      "  _torch_pytree._register_pytree_node(\n",
      "/opt/conda/lib/python3.11/site-packages/transformers/utils/generic.py:441: UserWarning: torch.utils._pytree._register_pytree_node is deprecated. Please use torch.utils._pytree.register_pytree_node instead.\n",
      "  _torch_pytree._register_pytree_node(\n",
      "Get Boxes: 100%|██████████| 5/5 [00:01<00:00,  2.54it/s]\n",
      "mAP:@.5: 100%|██████████| 2/2 [00:00<00:00, 23.41it/s]"
     ]
    },
    {
     "name": "stdout",
     "output_type": "stream",
     "text": [
      "mAP      |AP smoke |AP fire  |F1 mean  |F1 smoke |F1 fire  |Pr smoke |Pr fire  |Re smoke |Re fire  \n",
      "--------- --------- --------- --------- --------- --------- --------- --------- --------- --------- \n",
      "0.801    |0.772    |0.830    |0.730    |0.739    |0.720    |0.660    |0.588    |0.840    |0.928    \n",
      "\n"
     ]
    },
    {
     "name": "stderr",
     "output_type": "stream",
     "text": [
      "\n"
     ]
    }
   ],
   "source": [
    "calculate_mAP(thres=0.1,\n",
    "              iou_nms=0.5,\n",
    "              iou_map=0.3,\n",
    "              loader=val_loader,\n",
    "              model=model,\n",
    "              mask=cell2box_mask)"
   ]
  },
  {
   "cell_type": "code",
   "execution_count": 22,
   "id": "f249e85d-7adb-4d24-8bb0-07bef9ce8203",
   "metadata": {},
   "outputs": [
    {
     "name": "stderr",
     "output_type": "stream",
     "text": [
      "Get Boxes:   0%|          | 0/5 [00:00<?, ?it/s]/opt/conda/lib/python3.11/site-packages/transformers/utils/generic.py:441: UserWarning: torch.utils._pytree._register_pytree_node is deprecated. Please use torch.utils._pytree.register_pytree_node instead.\n",
      "  _torch_pytree._register_pytree_node(\n",
      "/opt/conda/lib/python3.11/site-packages/transformers/utils/generic.py:441: UserWarning: torch.utils._pytree._register_pytree_node is deprecated. Please use torch.utils._pytree.register_pytree_node instead.\n",
      "  _torch_pytree._register_pytree_node(\n",
      "Get Boxes: 100%|██████████| 5/5 [00:01<00:00,  2.53it/s]\n",
      "mAP:@.5: 100%|██████████| 2/2 [00:00<00:00, 28.69it/s]"
     ]
    },
    {
     "name": "stdout",
     "output_type": "stream",
     "text": [
      "mAP      |AP smoke |AP fire  |F1 mean  |F1 smoke |F1 fire  |Pr smoke |Pr fire  |Re smoke |Re fire  \n",
      "--------- --------- --------- --------- --------- --------- --------- --------- --------- --------- \n",
      "0.614    |0.616    |0.612    |0.749    |0.768    |0.731    |0.869    |0.738    |0.688    |0.723    \n",
      "\n"
     ]
    },
    {
     "name": "stderr",
     "output_type": "stream",
     "text": [
      "\n"
     ]
    }
   ],
   "source": [
    "calculate_mAP(thres=0.5,\n",
    "              iou_nms=0.5,\n",
    "              iou_map=0.5,\n",
    "              loader=val_loader,\n",
    "              model=model,\n",
    "              mask=cell2box_mask)"
   ]
  },
  {
   "cell_type": "code",
   "execution_count": 23,
   "id": "591a052e-bb6b-4a76-9255-74a1551bf371",
   "metadata": {},
   "outputs": [
    {
     "name": "stderr",
     "output_type": "stream",
     "text": [
      "Get Boxes:   0%|          | 0/5 [00:00<?, ?it/s]/opt/conda/lib/python3.11/site-packages/transformers/utils/generic.py:441: UserWarning: torch.utils._pytree._register_pytree_node is deprecated. Please use torch.utils._pytree.register_pytree_node instead.\n",
      "  _torch_pytree._register_pytree_node(\n",
      "/opt/conda/lib/python3.11/site-packages/transformers/utils/generic.py:441: UserWarning: torch.utils._pytree._register_pytree_node is deprecated. Please use torch.utils._pytree.register_pytree_node instead.\n",
      "  _torch_pytree._register_pytree_node(\n",
      "Get Boxes: 100%|██████████| 5/5 [00:01<00:00,  2.60it/s]\n",
      "mAP:@.5: 100%|██████████| 2/2 [00:00<00:00, 30.17it/s]"
     ]
    },
    {
     "name": "stdout",
     "output_type": "stream",
     "text": [
      "mAP      |AP smoke |AP fire  |F1 mean  |F1 smoke |F1 fire  |Pr smoke |Pr fire  |Re smoke |Re fire  \n",
      "--------- --------- --------- --------- --------- --------- --------- --------- --------- --------- \n",
      "0.636    |0.636    |0.635    |0.753    |0.771    |0.735    |0.840    |0.717    |0.712    |0.754    \n",
      "\n"
     ]
    },
    {
     "name": "stderr",
     "output_type": "stream",
     "text": [
      "\n"
     ]
    }
   ],
   "source": [
    "calculate_mAP(thres=0.4,\n",
    "              iou_nms=0.5,\n",
    "              iou_map=0.5,\n",
    "              loader=val_loader,\n",
    "              model=model,\n",
    "              mask=cell2box_mask)"
   ]
  },
  {
   "cell_type": "code",
   "execution_count": 24,
   "id": "53d30f41-4301-469f-bbde-7cf32352ff63",
   "metadata": {},
   "outputs": [
    {
     "name": "stderr",
     "output_type": "stream",
     "text": [
      "Get Boxes:   0%|          | 0/5 [00:00<?, ?it/s]/opt/conda/lib/python3.11/site-packages/transformers/utils/generic.py:441: UserWarning: torch.utils._pytree._register_pytree_node is deprecated. Please use torch.utils._pytree.register_pytree_node instead.\n",
      "  _torch_pytree._register_pytree_node(\n",
      "/opt/conda/lib/python3.11/site-packages/transformers/utils/generic.py:441: UserWarning: torch.utils._pytree._register_pytree_node is deprecated. Please use torch.utils._pytree.register_pytree_node instead.\n",
      "  _torch_pytree._register_pytree_node(\n",
      "Get Boxes: 100%|██████████| 5/5 [00:01<00:00,  2.62it/s]\n",
      "mAP:@.5: 100%|██████████| 2/2 [00:00<00:00, 28.03it/s]"
     ]
    },
    {
     "name": "stdout",
     "output_type": "stream",
     "text": [
      "mAP      |AP smoke |AP fire  |F1 mean  |F1 smoke |F1 fire  |Pr smoke |Pr fire  |Re smoke |Re fire  \n",
      "--------- --------- --------- --------- --------- --------- --------- --------- --------- --------- \n",
      "0.671    |0.689    |0.653    |0.761    |0.789    |0.733    |0.802    |0.691    |0.776    |0.779    \n",
      "\n"
     ]
    },
    {
     "name": "stderr",
     "output_type": "stream",
     "text": [
      "\n"
     ]
    }
   ],
   "source": [
    "calculate_mAP(thres=0.3,\n",
    "              iou_nms=0.5,\n",
    "              iou_map=0.5,\n",
    "              loader=val_loader,\n",
    "              model=model,\n",
    "              mask=cell2box_mask)"
   ]
  },
  {
   "cell_type": "code",
   "execution_count": null,
   "id": "dcb68b54-b0a7-4a6d-812d-5a0376c4ada2",
   "metadata": {},
   "outputs": [],
   "source": []
  }
 ],
 "metadata": {
  "kernelspec": {
   "display_name": "Python 3 (ipykernel)",
   "language": "python",
   "name": "python3"
  },
  "language_info": {
   "codemirror_mode": {
    "name": "ipython",
    "version": 3
   },
   "file_extension": ".py",
   "mimetype": "text/x-python",
   "name": "python",
   "nbconvert_exporter": "python",
   "pygments_lexer": "ipython3",
   "version": "3.11.4"
  }
 },
 "nbformat": 4,
 "nbformat_minor": 5
}
