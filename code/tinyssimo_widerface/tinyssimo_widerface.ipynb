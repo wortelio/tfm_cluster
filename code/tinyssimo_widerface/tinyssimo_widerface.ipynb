{
 "cells": [
  {
   "cell_type": "code",
   "execution_count": 1,
   "id": "225b20d5-15c5-4de6-b91b-228405789ed7",
   "metadata": {},
   "outputs": [],
   "source": [
    "import os\n",
    "import logging\n",
    "from pathlib import Path\n",
    "import datetime\n",
    "import xml.etree.ElementTree as ET\n",
    "\n",
    "from tqdm import tqdm\n",
    "import numpy as np\n",
    "import math\n",
    "import pandas as pd\n",
    "import random\n",
    "\n",
    "from collections import Counter # for mAP\n",
    "\n",
    "import torch\n",
    "from torch.utils.data import Dataset\n",
    "from torch.utils.data import DataLoader\n",
    "# Not needed\n",
    "# from torchvision.transforms import ToTensor \n",
    "# from torchvision.transforms.v2 import (Compose, ToImage, ToDtype, \n",
    "#                                        Normalize, RandomPhotometricDistort)\n",
    "\n",
    "import albumentations as A\n",
    "from albumentations.pytorch import ToTensorV2\n",
    "\n",
    "import matplotlib.pyplot as plt\n",
    "\n",
    "import torch.nn as nn \n",
    "from torch.nn.utils import parameters_to_vector\n",
    "import torch.optim as optim\n",
    "\n",
    "import cv2"
   ]
  },
  {
   "cell_type": "markdown",
   "id": "a744c25c-0962-4cc8-986f-2ca69aca323e",
   "metadata": {},
   "source": [
    "# Logger"
   ]
  },
  {
   "cell_type": "code",
   "execution_count": 2,
   "id": "c4072248-8bb2-4cb7-a71b-7b4586d8b188",
   "metadata": {},
   "outputs": [],
   "source": [
    "log_path = 'results/'\n",
    "\n",
    "logger = logging.getLogger(__name__)\n",
    "logger.setLevel(logging.INFO)\n",
    "file_handler = logging.FileHandler(log_path + 'logfile.log')\n",
    "formatter = logging.Formatter('%(message)s')\n",
    "file_handler.setFormatter(formatter)\n",
    "\n",
    "# add file handler to logger\n",
    "logger.addHandler(file_handler)\n",
    "\n",
    "logger.info('Tinyssimo with WiderFace Dataset')"
   ]
  },
  {
   "cell_type": "markdown",
   "id": "5c28235c-9cc5-4676-b2b1-c31b3c214e83",
   "metadata": {},
   "source": [
    "# Folders"
   ]
  },
  {
   "cell_type": "code",
   "execution_count": 5,
   "id": "a0f22cd0-ef45-4a0c-a23d-63a3dd938a83",
   "metadata": {},
   "outputs": [
    {
     "name": "stdout",
     "output_type": "stream",
     "text": [
      "/home/jovyan/Gonzalo_Moreno/code/tinyssimo_widerface\n"
     ]
    }
   ],
   "source": [
    "!pwd"
   ]
  },
  {
   "cell_type": "code",
   "execution_count": 6,
   "id": "af468cf3-f6ef-4eff-9713-3034a68830c6",
   "metadata": {},
   "outputs": [
    {
     "name": "stdout",
     "output_type": "stream",
     "text": [
      "Train 1 dir: ['image_1645.jpg', 'image_10644.jpg', 'image_4405.jpg']\n",
      "Test dir: image_1276.jpg\n"
     ]
    }
   ],
   "source": [
    "ds_dir = '../../../Carlos_Gonzalez/YOLO/WiderFace/'\n",
    "\n",
    "train_imgs = ds_dir + 'images/train/'\n",
    "train_labels = ds_dir + 'labels/train/'\n",
    "\n",
    "val_imgs = ds_dir + 'images/valid/'\n",
    "val_labels = ds_dir + 'labels/valid/'\n",
    "\n",
    "print(f'Train 1 dir: {os.listdir(train_imgs)[:3]}')\n",
    "print(f'Test dir: {os.listdir(val_imgs)[3]}')"
   ]
  },
  {
   "cell_type": "markdown",
   "id": "676dbf6f-f393-4b79-8d23-bda75a58caea",
   "metadata": {},
   "source": [
    "# Config"
   ]
  },
  {
   "cell_type": "code",
   "execution_count": 7,
   "id": "f92b6578-e873-4f1b-a47e-b0788f9c612a",
   "metadata": {},
   "outputs": [],
   "source": [
    "CLASSES = [\"face\"]\n",
    "\n",
    "IMG_DIM = {'W':88, 'H':88} # (W, H)\n",
    "\n",
    "SX = 4\n",
    "SY = 4\n",
    "B = 2 # Number of bounding boxes to predict.\n",
    "C = len(CLASSES) # Number of classes in the dataset."
   ]
  },
  {
   "cell_type": "markdown",
   "id": "8704ff2a-2926-4fc7-b2fc-ac3a3fcff843",
   "metadata": {},
   "source": [
    "# Utils"
   ]
  },
  {
   "cell_type": "code",
   "execution_count": 8,
   "id": "7b30097d-3161-4cc1-81fa-ebdf9f0c4e2a",
   "metadata": {},
   "outputs": [],
   "source": [
    "def yolo2pixel(bbox):\n",
    "    '''\n",
    "    Transforms yolo coordinates of the box to pixel coordinates. \n",
    "    \n",
    "    Arguments:\n",
    "        - bbox: yolo coordinates [xc, yc, width, height]\n",
    "    \n",
    "    Returns: \n",
    "        - pixel coordinates [xmin, xmax, ymin, ymax]\n",
    "    '''\n",
    "    xc = bbox[0]\n",
    "    yc = bbox[1]\n",
    "    width = bbox[2]\n",
    "    height = bbox[3]\n",
    "      \n",
    "    xmin = xc - (width/2)          \n",
    "    xmax = xc + (width/2)         \n",
    "    ymin = yc - (height/2)            \n",
    "    ymax = yc + (height/2)\n",
    "        \n",
    "    nbox = [xmin, ymin, xmax, ymax]\n",
    "    \n",
    "    return nbox\n",
    "\n",
    "\n",
    "def iou_tensor(\n",
    "    boxes_preds, boxes_labels, \n",
    "    box_format=\"midpoint\",\n",
    "    epsilon=1e-6\n",
    "):\n",
    "    \"\"\"\n",
    "    Calculates intersection over union for bounding boxes.\n",
    "    \n",
    "    :param boxes_preds (tensor): Bounding box predictions of shape (BATCH_SIZE, 4)\n",
    "    :param boxes_labels (tensor): Ground truth bounding box of shape (BATCH_SIZE, 4)\n",
    "    :param box_format (str): midpoint/corners, if boxes (x,y,w,h) format or (x1,y1,x2,y2) format\n",
    "    :param epsilon: Small value to prevent division by zero.\n",
    "    Returns:\n",
    "        tensor: Intersection over union for all examples\n",
    "    \"\"\"\n",
    "\n",
    "    if box_format == 'midpoint':\n",
    "        box1_x1 = boxes_preds[..., 0:1] - boxes_preds[..., 2:3] / 2\n",
    "        box1_y1 = boxes_preds[..., 1:2] - boxes_preds[..., 3:4] / 2\n",
    "        box1_x2 = boxes_preds[..., 0:1] + boxes_preds[..., 2:3] / 2\n",
    "        box1_y2 = boxes_preds[..., 1:2] + boxes_preds[..., 3:4] / 2\n",
    "        box2_x1 = boxes_labels[..., 0:1] - boxes_labels[..., 2:3] / 2\n",
    "        box2_y1 = boxes_labels[..., 1:2] - boxes_labels[..., 3:4] / 2\n",
    "        box2_x2 = boxes_labels[..., 0:1] + boxes_labels[..., 2:3] / 2\n",
    "        box2_y2 = boxes_labels[..., 1:2] + boxes_labels[..., 3:4] / 2\n",
    "\n",
    "    if box_format == 'corners':\n",
    "        box1_x1 = boxes_preds[..., 0:1]\n",
    "        box1_y1 = boxes_preds[..., 1:2]\n",
    "        box1_x2 = boxes_preds[..., 2:3]\n",
    "        box1_y2 = boxes_preds[..., 3:4] \n",
    "        box2_x1 = boxes_labels[..., 0:1]\n",
    "        box2_y1 = boxes_labels[..., 1:2]\n",
    "        box2_x2 = boxes_labels[..., 2:3]\n",
    "        box2_y2 = boxes_labels[..., 3:4]\n",
    "\n",
    "    x1 = torch.max(box1_x1, box2_x1)\n",
    "    y1 = torch.max(box1_y1, box2_y1)\n",
    "    x2 = torch.min(box1_x2, box2_x2)\n",
    "    y2 = torch.min(box1_y2, box2_y2)\n",
    "\n",
    "    intersection = (x2 - x1).clamp(0) * (y2 - y1).clamp(0)\n",
    "\n",
    "    box1_area = abs((box1_x2 - box1_x1) * (box1_y2 - box1_y1))\n",
    "    box2_area = abs((box2_x2 - box2_x1) * (box2_y2 - box2_y1))\n",
    "\n",
    "    union = (box1_area + box2_area - intersection + epsilon)\n",
    "\n",
    "    iou = intersection / union\n",
    "    #print(f'IOU is numpy: {iou.numpy()}')\n",
    "\n",
    "    return iou\n",
    "\n",
    "def nms_yv1(bboxes, iou_threshold, threshold, box_format=\"corners\"):\n",
    "    \"\"\"\n",
    "    Does Non Max Suppression given bboxes\n",
    "\n",
    "    Parameters:\n",
    "        bboxes (list): list of lists containing all bboxes with each bboxes\n",
    "        specified as [x1, y1, x2, y2, confidence, class_id] MY FORMAT VERSION       \n",
    "        iou_threshold (float): threshold where predicted bboxes is correct\n",
    "        threshold (float): threshold to remove predicted bboxes (independent of IoU) \n",
    "        box_format (str): \"midpoint\" or \"corners\" used to specify bboxes\n",
    "\n",
    "    Returns:\n",
    "        list: bboxes after performing NMS given a specific IoU threshold\n",
    "    \"\"\"\n",
    "\n",
    "    assert type(bboxes) == list\n",
    "\n",
    "    bboxes = [box for box in bboxes if box[4] > threshold]\n",
    "    bboxes = sorted(bboxes, key=lambda x: x[4], reverse=True)\n",
    "    bboxes_after_nms = []\n",
    "\n",
    "    while bboxes:\n",
    "        chosen_box = bboxes.pop(0)\n",
    "\n",
    "        bboxes = [\n",
    "            box\n",
    "            for box in bboxes\n",
    "            if box[5] != chosen_box[5]\n",
    "            or iou_tensor(\n",
    "                torch.tensor(chosen_box[:4]),\n",
    "                torch.tensor(box[:4]),\n",
    "                box_format=box_format,\n",
    "            )\n",
    "            < iou_threshold\n",
    "        ]\n",
    "\n",
    "        bboxes_after_nms.append(chosen_box)\n",
    "\n",
    "    return bboxes_after_nms\n",
    "\n",
    "def nms_yv1_getBBoxes(bboxes, iou_threshold, threshold, box_format=\"corners\"):\n",
    "    \"\"\"\n",
    "    Does Non Max Suppression given bboxes\n",
    "\n",
    "    Parameters:\n",
    "        bboxes (list): list of lists containing all bboxes with each bboxes\n",
    "        specified as [class_id, score, xc, yc, w, h] Output of outcell_2_outboxes       \n",
    "        iou_threshold (float): threshold where predicted bboxes is correct\n",
    "        threshold (float): threshold to remove predicted bboxes (independent of IoU) \n",
    "        box_format (str): \"midpoint\" or \"corners\" used to specify bboxes\n",
    "\n",
    "    Returns:\n",
    "        list: bboxes after performing NMS given a specific IoU threshold\n",
    "    \"\"\"\n",
    "\n",
    "    assert type(bboxes) == list\n",
    "\n",
    "    bboxes = [box for box in bboxes if box[1] > threshold]\n",
    "    bboxes = sorted(bboxes, key=lambda x: x[1], reverse=True)\n",
    "    bboxes_after_nms = []\n",
    "\n",
    "    while bboxes:\n",
    "        chosen_box = bboxes.pop(0)\n",
    "\n",
    "        bboxes = [\n",
    "            box\n",
    "            for box in bboxes\n",
    "            if box[0] != chosen_box[0]\n",
    "            or iou_tensor(\n",
    "                torch.tensor(chosen_box[2:6]),\n",
    "                torch.tensor(box[2:6]),\n",
    "                box_format=box_format,\n",
    "            )\n",
    "            < iou_threshold\n",
    "        ]\n",
    "\n",
    "        bboxes_after_nms.append(chosen_box)\n",
    "\n",
    "    return bboxes_after_nms\n",
    "\n",
    "\n",
    "\n",
    "def mAP(\n",
    "    pred_boxes, true_boxes, iou_threshold=0.5, box_format=\"midpoint\", num_classes=2\n",
    "):\n",
    "    \"\"\"\n",
    "    Calculates mean average precision \n",
    "\n",
    "    Parameters:\n",
    "        pred_boxes (list): list of lists containing all bboxes with each bboxes\n",
    "        specified as [train_idx, class_prediction, prob_score, x1, y1, x2, y2]\n",
    "        true_boxes (list): Similar as pred_boxes except all the correct ones \n",
    "        iou_threshold (float): threshold where predicted bboxes is correct\n",
    "        box_format (str): \"midpoint\" or \"corners\" used to specify bboxes\n",
    "        num_classes (int): number of classes\n",
    "\n",
    "    Returns:\n",
    "        float: mAP value across all classes given a specific IoU threshold \n",
    "    \"\"\"\n",
    "\n",
    "    # list storing all AP for respective classes\n",
    "    average_precisions = []\n",
    "    avg_prec = {}\n",
    "\n",
    "    # Precision and Recall for each class\n",
    "    cls_prec = {}\n",
    "    cls_rec = {}\n",
    "\n",
    "    # used for numerical stability later on\n",
    "    epsilon = 1e-6\n",
    "\n",
    "    #for c in range(num_classes):\n",
    "    for c in tqdm(range(num_classes), desc =\"mAP:@.5\"):\n",
    "        detections = []\n",
    "        ground_truths = []\n",
    "\n",
    "        # Go through all predictions and targets,\n",
    "        # and only add the ones that belong to the\n",
    "        # current class c\n",
    "        for detection in pred_boxes:\n",
    "            if detection[1] == c:\n",
    "                detections.append(detection)\n",
    "        \n",
    "        #print(f'Detections of class {c}: {detections}')\n",
    "        \n",
    "        for true_box in true_boxes:\n",
    "            if true_box[1] == c:\n",
    "                ground_truths.append(true_box)\n",
    "\n",
    "        # find the amount of bboxes for each training example\n",
    "        # Counter here finds how many ground truth bboxes we get\n",
    "        # for each training example, so let's say img 0 has 3,\n",
    "        # img 1 has 5 then we will obtain a dictionary with:\n",
    "        # amount_bboxes = {0:3, 1:5}\n",
    "        amount_bboxes = Counter([gt[0] for gt in ground_truths])\n",
    "        \n",
    "        #print(f'Amount bboxes of class {c}: {amount_bboxes}')\n",
    "\n",
    "        # We then go through each key, val in this dictionary\n",
    "        # and convert to the following (w.r.t same example):\n",
    "        # ammount_bboxes = {0:torch.tensor[0,0,0], 1:torch.tensor[0,0,0,0,0]}\n",
    "        for key, val in amount_bboxes.items():\n",
    "            amount_bboxes[key] = torch.zeros(val)\n",
    "\n",
    "        #print(f'Amount bboxes of class {c} converted: {amount_bboxes}')\n",
    "        \n",
    "        # sort by box probabilities which is index 2\n",
    "        detections.sort(key=lambda x: x[2], reverse=True)\n",
    "        TP = torch.zeros((len(detections)))\n",
    "        FP = torch.zeros((len(detections)))\n",
    "        total_true_bboxes = len(ground_truths)\n",
    "       \n",
    "        #print(f'Total true bboxes of class {c}: {total_true_bboxes}')\n",
    "        \n",
    "        # If none exists for this class then we can safely skip\n",
    "        # Maybe removing this is enough to take into account False Positives\n",
    "        # for images with no objects\n",
    "        if total_true_bboxes == 0:\n",
    "            continue\n",
    "\n",
    "        for detection_idx, detection in enumerate(detections):\n",
    "            # Only take out the ground_truths that have the same\n",
    "            # training idx as detection\n",
    "            ground_truth_img = [\n",
    "                bbox for bbox in ground_truths if bbox[0] == detection[0]\n",
    "            ]\n",
    "\n",
    "            num_gts = len(ground_truth_img)\n",
    "            best_iou = 0\n",
    "\n",
    "            for idx, gt in enumerate(ground_truth_img):\n",
    "                iou = iou_tensor(\n",
    "                    torch.tensor(detection[3:]),\n",
    "                    torch.tensor(gt[3:]),\n",
    "                    box_format=box_format,\n",
    "                )\n",
    "                # iou, _, _ = ut.iou(detection[3:], \n",
    "                #                    gt[3:]) \n",
    "\n",
    "                if iou > best_iou:\n",
    "                    best_iou = iou\n",
    "                    best_gt_idx = idx\n",
    "\n",
    "            if best_iou > iou_threshold:\n",
    "                # only detect ground truth detection once\n",
    "                if amount_bboxes[detection[0]][best_gt_idx] == 0:\n",
    "                    # true positive and add this bounding box to seen\n",
    "                    TP[detection_idx] = 1\n",
    "                    amount_bboxes[detection[0]][best_gt_idx] = 1\n",
    "                else:\n",
    "                    FP[detection_idx] = 1\n",
    "\n",
    "            # if IOU is lower then the detection is a false positive\n",
    "            else:\n",
    "                FP[detection_idx] = 1\n",
    "\n",
    "        #print(f'True Positives class {c}: {TP}')\n",
    "        #print(f'False Positives class {c}: {FP}')\n",
    "\n",
    "        TP_cumsum = torch.cumsum(TP, dim=0)\n",
    "        FP_cumsum = torch.cumsum(FP, dim=0)\n",
    "        recalls = TP_cumsum / (total_true_bboxes + epsilon)\n",
    "        precisions = TP_cumsum / (TP_cumsum + FP_cumsum + epsilon)\n",
    "\n",
    "        if precisions.numel() > 0:\n",
    "            #cls_prec.update({c: precisions[-1].numpy()})\n",
    "            cls_prec.update({c: precisions[-1].item()})\n",
    "        else:\n",
    "            cls_prec.update({c: 0.})\n",
    "        if recalls.numel() > 0:\n",
    "            #cls_rec.update({c: recalls[-1].numpy()})\n",
    "            cls_rec.update({c: recalls[-1].item()})\n",
    "        else:\n",
    "            cls_rec.update({c: 0.})\n",
    "\n",
    "        precisions = torch.cat((torch.tensor([1]), precisions))\n",
    "        recalls = torch.cat((torch.tensor([0]), recalls))\n",
    "        # torch.trapz for numerical integration\n",
    "        average_precisions.append(torch.trapz(precisions, recalls))\n",
    "        avg_prec.update({c: torch.trapz(precisions, recalls)})\n",
    "\n",
    "    mAP = sum(average_precisions) / (len(average_precisions) + epsilon)\n",
    "\n",
    "    #return mAP, average_precisions, cls_prec, cls_rec\n",
    "    return (mAP, \n",
    "            avg_prec,\n",
    "            cls_prec, \n",
    "            cls_rec)\n",
    "\n",
    "\n",
    "def get_bboxes(\n",
    "    loader,\n",
    "    model,\n",
    "    SX,\n",
    "    SY,\n",
    "    B,\n",
    "    C,\n",
    "    mask,\n",
    "    iou_threshold,\n",
    "    threshold,\n",
    "    device,\n",
    "    box_format=\"midpoint\"):\n",
    "    \n",
    "    \n",
    "    all_pred_boxes = []\n",
    "    all_true_boxes = []\n",
    "\n",
    "    # make sure model is in eval before get bboxes\n",
    "    model.eval()\n",
    "    train_idx = 0\n",
    "\n",
    "    #for batch_idx, (imgs, labels, _, _) in enumerate(loader):\n",
    "    for batch_idx, (imgs, labels) in enumerate(loader):\n",
    "        imgs = imgs.to(device)\n",
    "        labels = labels.to(device)\n",
    "\n",
    "        with torch.no_grad():\n",
    "            predictions = model(imgs)\n",
    "\n",
    "        batch_size = imgs.shape[0]\n",
    "        true_bboxes = outcell_2_outboxes(out_cells=labels, \n",
    "                                         SX=SX, SY=SY, B=B, C=C, \n",
    "                                         mask=mask, \n",
    "                                         device='cpu', # Changed to cpu\n",
    "                                         is_pred=False)\n",
    "        bboxes = outcell_2_outboxes(out_cells=predictions, \n",
    "                                    SX=SX, SY=SY, B=B, C=C, \n",
    "                                    mask=mask, \n",
    "                                    device='cpu', # Changed to cpu\n",
    "                                    is_pred=True)\n",
    "\n",
    "        for idx in range(batch_size):\n",
    "            #nms_boxes = nms_yv1(\n",
    "            nms_boxes = nms_yv1_getBBoxes(\n",
    "                bboxes[idx],\n",
    "                iou_threshold=iou_threshold,\n",
    "                threshold=threshold,\n",
    "                box_format=box_format, # Midpoint, to use iou_tensor inside\n",
    "            )\n",
    "\n",
    "\n",
    "            #if batch_idx == 0 and idx == 0:\n",
    "            #    plot_image(x[idx].permute(1,2,0).to(\"cpu\"), nms_boxes)\n",
    "            #    print(nms_boxes)\n",
    "\n",
    "            for nms_box in nms_boxes:\n",
    "                all_pred_boxes.append([train_idx] + nms_box)\n",
    "\n",
    "            for box in true_bboxes[idx]:\n",
    "                # many will get converted to 0 pred, as bboxes have Conf = 1 and the rest are 0\n",
    "                if box[1] > threshold:\n",
    "                    all_true_boxes.append([train_idx] + box)\n",
    "\n",
    "            train_idx += 1\n",
    "\n",
    "    model.train()\n",
    "    return all_pred_boxes, all_true_boxes\n",
    "\n",
    "\n",
    "def outcell_2_outboxes(out_cells, SX, SY, B, C, mask, device, is_pred = True):\n",
    "    '''\n",
    "    Convert batch of cells to batch of boxes: out_cells must be of shape (BATCH_SIZE, SX, SY, B*5+C) \n",
    "        [xcel, ycel, w, h, conf, class_0, class_1] -> [pred_class, score, xc, yc, w, h]\n",
    "    \n",
    "    Arguments:\n",
    "        - out_cells: labels at loader output or predictions at model output\n",
    "            Format: [xcel, ycel, w, h, conf, class_0, class_1]\n",
    "    Return:\n",
    "        - all_bboxes: list of bounding boxes\n",
    "            Format: [[bboxes idx 0], [bboxes idx 1], ... [bboxes idx BATCH_SIZE-1]]\n",
    "    '''\n",
    "\n",
    "    out_cells = out_cells.to(device) # TAKE A LOOK TO CPU DECISION\n",
    "\n",
    "    out_cells[out_cells <= 0] = 0 # Zeroing all negative values. Avoid (-conf * -class_id) = +score\n",
    "    #out_cells[out_cells >= 1] = 1 # Clamping all values to 1. Avoid being out of the image. Maybe afterwards, although it does not hurt here.\n",
    "                                   # This is due to yolo2pixel transformation, which could led to out of image values, depending on (w, h)\n",
    "\n",
    "    batch_size = out_cells.shape[0]\n",
    "    if is_pred:\n",
    "        out_cells = out_cells.reshape(batch_size, SY, SX, B*5+C)\n",
    "    else:\n",
    "        out_cells = out_cells.reshape(batch_size, SY, SX, 5+C)\n",
    "    \n",
    "    # With 2 BBoxes, choose the one with highest confidence. How highest IOU, without label?\n",
    "    if (B>1 and is_pred):\n",
    "        '''\n",
    "        2 BB: [xcell, ycell, w, h, confidence_A, xcell, ycell, w, h, confidence_B, face]\n",
    "        '''\n",
    "        bbox1 = out_cells[..., :4]\n",
    "        bbox2 = out_cells[..., 5:9]\n",
    "        score = torch.cat((out_cells[..., 4:5],out_cells[..., 9:10]), dim=-1)\n",
    "        best_score, idx = torch.max(score, dim=-1, keepdim=True)\n",
    "\n",
    "        bestbbox = (1-idx)*bbox1 + idx*bbox2\n",
    "\n",
    "        #class_prob = a[..., 10:12] # Esto no hace falta, se hace debajo\n",
    "        #cls_pred = class_prob.argmax(dim=-1, keepdim=True)\n",
    "        out_cells = torch.cat((bestbbox, best_score, out_cells[..., 10:11]), dim=-1)\n",
    "        \n",
    "    \n",
    "    # All cells are converted to boxes. Format will be [xc, yc, w, h, conf, face]\n",
    "    boxes = cell2boxes(cells = out_cells, mask = mask)\n",
    "\n",
    "    # ================================================================================================================== #\n",
    "    #                                                                                                                    #\n",
    "    #     Convert [xc, yc, w, h, conf, class_0, class_1] to [pred_class, score, xc, yc, w, h]                            #\n",
    "    #         Identify class predicted: class_0 > class_1 ??? or the opposite                                            #\n",
    "    #         Multiply (conf * class_id) to get score and compare to threshold afterwards. It will be 1 for ground truth #\n",
    "    #                                                                                                                    #\n",
    "    # ================================================================================================================== #\n",
    "    classes = boxes[...,5:6].argmax(-1).unsqueeze(-1) # Indices of class predictes, matching class_id: index 0 -> smoke, class id = 0 // same for fire\n",
    "    #print(f'Tensor of classes predicted\\n {classes}')   \n",
    "    \n",
    "    # If SOFTMAX is used, there is no need to multiply conf * class_prob\n",
    "    # scores = ( boxes[...,4].unsqueeze(-1) ) * boxes[...,5:7] # score = confidence * [class_0_prob, class_1_prob]\n",
    "    # scores, _ = torch.max(scores, dim=-1, keepdim=True) # Get maximum values -> score of class predicted\n",
    "    scores = boxes[..., 4:5]\n",
    "    #print(f'Scores together\\n {scores}')     \n",
    "    \n",
    "    out_boxes = torch.concat((classes, scores, boxes[...,:4]), dim=-1) # Concat all data\n",
    "    #print(f'Final Output {out_boxes}')    \n",
    "\n",
    "    # =========================================== #\n",
    "    #                                             #\n",
    "    #             Convert boxes to List           #\n",
    "    #                                             #\n",
    "    #    [[bboxes idx 0] , [bboxes idx 1], etc]   #\n",
    "    #                                             #\n",
    "    # =========================================== #\n",
    "    all_bboxes = []\n",
    "\n",
    "    for ex_idx in range(batch_size):\n",
    "        bboxes = []\n",
    "\n",
    "#         for bbox_i in range(SX):\n",
    "#             for bbox_j in range(SY):\n",
    "#                 bboxes.append([x.item() for x in out_boxes[ex_idx, bbox_i, bbox_j, :]])\n",
    "        for bbox_i in range(SX):\n",
    "            for bbox_j in range(SY):\n",
    "                bboxes.append([x.item() for x in out_boxes[ex_idx, bbox_j, bbox_i, :]])     \n",
    "        all_bboxes.append(bboxes)\n",
    "    \n",
    "    return all_bboxes\n",
    "\n",
    "\n",
    "def cell2boxes(cells, mask):\n",
    "    '''\n",
    "    Converts cells to boxes using the cell2box_mask and broadcasting over batches\n",
    "    In targets, sum only when score = 1\n",
    "\n",
    "    Arguments:\n",
    "        - cells: cells to convert, as yield by Dataloader in batches\n",
    "        - mask: mask used for conversion\n",
    "\n",
    "    Return:\n",
    "        - cells converted to boxes\n",
    "    '''\n",
    "\n",
    "    #out_boxes = cells.clone().detach()\n",
    "    out_boxes = cells.detach().clone()\n",
    "    out_boxes[...,0:1] = (out_boxes[...,0:1] + mask[...,0:1])/SX \n",
    "    out_boxes[...,1:2] = (out_boxes[...,1:2] + mask[...,1:2])/SY \n",
    "\n",
    "    return out_boxes\n",
    "\n",
    "\n",
    "def plot_preds(ori_img, img_w, img_h, nms_preds, names, colors):\n",
    "    '''\n",
    "    It draws the bounding boxes over the image.\n",
    "\n",
    "    Arguments:\n",
    "        - ori_img: original image with no modification or letterbox\n",
    "        - nms_preds: Non Maximum Supression predictions [x0, y0, x1, y1, class_id, score]\n",
    "        - names: list of class names\n",
    "        - colors: list of colors asigned to each class in cv2 format (B,G,R)\n",
    "        - ratio: ratio of letterbox conversion\n",
    "        - dwdh: paddings of letterbox conversion\n",
    "\n",
    "    Returns:\n",
    "        - pic: picture with bounding boxes on top of original picture\n",
    "    '''\n",
    "    \n",
    "    pic = ori_img.copy()\n",
    "    \n",
    "    for i,(xc,yc,w,h,score,class_id) in enumerate(nms_preds):\n",
    "        box = np.array(yolo2pixel([xc,yc,w,h]))\n",
    "        box[0] = box[0]*img_w\n",
    "        box[1] = box[1]*img_h\n",
    "        box[2] = box[2]*img_w\n",
    "        box[3] = box[3]*img_h\n",
    "        box = box.round().astype(np.int32).tolist()\n",
    "        cls_id = int(class_id)\n",
    "        score = round(float(score),3)\n",
    "        name = names[cls_id]\n",
    "        color = colors[name]\n",
    "        name += ' '+str(score)\n",
    "        cv2.rectangle(pic,box[:2],box[2:],color,2) # 1 -> rectangle thickness\n",
    "        cv2.putText(pic,name,(box[0]+6, box[1] + 20),cv2.FONT_HERSHEY_SIMPLEX,0.4,[225, 255, 255],thickness=1)  # 0.5 -> font size\n",
    "\n",
    "    return pic\n",
    "\n",
    "def save_log(epochs, \n",
    "             train_total_loss,\n",
    "             train_box_loss,\n",
    "             train_class_loss,\n",
    "             train_confidence_loss,\n",
    "             train_noobj_loss,\n",
    "             train_mAP,\n",
    "             train_class_AP,\n",
    "             train_class_precision,\n",
    "             train_class_recall,\n",
    "             val_total_loss,\n",
    "             val_box_loss,\n",
    "             val_class_loss,\n",
    "             val_confidence_loss,\n",
    "             val_noobj_loss,\n",
    "             val_mAP,\n",
    "             val_class_AP,\n",
    "             val_class_precision,\n",
    "             val_class_recall,\n",
    "             log_file_dst):\n",
    "    \n",
    "    '''\n",
    "    Create a dictionary with all metrics\n",
    "    Save the dictionary as excel file with Pandas\n",
    "    '''\n",
    "    \n",
    "    epoch_range = range(epochs)\n",
    "    log_file = {}\n",
    "    log_file.update({\"epoch\": epoch_range})\n",
    "    \n",
    "    # Train Losses\n",
    "    log_file.update({\"train_total_loss\": train_total_loss})\n",
    "    log_file.update({\"train_box_loss\": train_box_loss})\n",
    "    log_file.update({\"train_class_loss\": train_class_loss})\n",
    "    log_file.update({\"train_confidence_loss\": train_confidence_loss})\n",
    "    log_file.update({\"train_noobj_loss\": train_noobj_loss})\n",
    "    \n",
    "    # Train mAP, Class AP, Precision, Recall\n",
    "    train_mAP_log = []\n",
    "    for e in train_mAP:\n",
    "        #train_mAP_log.append(e.numpy())\n",
    "        #train_mAP_log.append(e)\n",
    "        train_mAP_log.append(e.item())\n",
    "    log_file.update({\"train_mAP\": train_mAP_log})\n",
    "    \n",
    "    train_smk_AP = []\n",
    "    train_fire_AP = []\n",
    "    for e in train_class_AP:\n",
    "        #train_smk_AP.append(e[0].numpy())\n",
    "        #train_smk_AP.append(e[0])\n",
    "        train_smk_AP.append(e[0].item())\n",
    "        #train_fire_AP.append(e[1].numpy())\n",
    "        #train_fire_AP.append(e[1])\n",
    "        train_fire_AP.append(e[1].item())\n",
    "    log_file.update({\"train_smk_AP\": train_smk_AP})\n",
    "    log_file.update({\"train_fire_AP\": train_fire_AP})\n",
    "    \n",
    "    \n",
    "    train_smk_precision = []\n",
    "    train_fire_precision = []\n",
    "    for e in train_class_precision:\n",
    "        #train_smk_precision.append(e[0].numpy())\n",
    "        train_smk_precision.append(e[0])\n",
    "        #train_fire_precision.append(e[1].numpy())\n",
    "        train_fire_precision.append(e[1])\n",
    "    log_file.update({\"train_smk_precision\": train_smk_precision})\n",
    "    log_file.update({\"train_fire_precision\": train_fire_precision})\n",
    "        \n",
    "    train_smk_recall = []\n",
    "    train_fire_recall = []\n",
    "    for e in train_class_recall:\n",
    "        #train_smk_recall.append(e[0].numpy())\n",
    "        train_smk_recall.append(e[0])\n",
    "        #train_fire_recall.append(e[1].numpy())\n",
    "        train_fire_recall.append(e[1])\n",
    "    log_file.update({\"train_smk_recall\": train_smk_recall})\n",
    "    log_file.update({\"train_fire_recall\": train_fire_recall})\n",
    "    \n",
    "    # Validation Losses\n",
    "    log_file.update({\"val_total_loss\": val_total_loss})\n",
    "    log_file.update({\"val_box_loss\": val_box_loss})\n",
    "    log_file.update({\"val_class_loss\": val_class_loss})\n",
    "    log_file.update({\"val_confidence_loss\": val_confidence_loss})\n",
    "    log_file.update({\"val_noobj_loss\": val_noobj_loss})\n",
    "    \n",
    "    # Val mAP, Class AP, Precision, Recall\n",
    "    val_mAP_log = []\n",
    "    for e in val_mAP:\n",
    "        #val_mAP_log.append(e.numpy())\n",
    "        val_mAP_log.append(e.item())\n",
    "    log_file.update({\"val_mAP\": val_mAP_log})\n",
    "    \n",
    "    val_smk_AP = []\n",
    "    val_fire_AP = []\n",
    "    for e in val_class_AP:\n",
    "        val_smk_AP.append(e[0].item())\n",
    "        val_fire_AP.append(e[1].item())\n",
    "    log_file.update({\"val_smk_AP\": val_smk_AP})\n",
    "    log_file.update({\"val_fire_AP\": val_fire_AP})\n",
    "    \n",
    "    val_smk_precision = []\n",
    "    val_fire_precision = []\n",
    "    for e in val_class_precision:\n",
    "        val_smk_precision.append(e[0])\n",
    "        val_fire_precision.append(e[1])\n",
    "    log_file.update({\"val_smk_precision\": val_smk_precision})\n",
    "    log_file.update({\"val_fire_precision\": val_fire_precision})\n",
    "    \n",
    "    val_smk_recall = []\n",
    "    val_fire_recall = []\n",
    "    for e in val_class_recall:\n",
    "        val_smk_recall.append(e[0])\n",
    "        val_fire_recall.append(e[1])\n",
    "    log_file.update({\"val_smk_recall\": val_smk_recall})\n",
    "    log_file.update({\"val_fire_recall\": val_fire_recall})\n",
    "    \n",
    "    df = pd.DataFrame(log_file)\n",
    "    df.to_excel(log_file_dst)"
   ]
  },
  {
   "cell_type": "markdown",
   "id": "c5891d5e-3ee7-45b3-ad2a-fe9d6c1ff00b",
   "metadata": {},
   "source": [
    "# Dataset"
   ]
  },
  {
   "cell_type": "markdown",
   "id": "b76e6703-39c8-41d1-940a-91c1de8c8809",
   "metadata": {},
   "source": [
    "# WiderFace Dataset"
   ]
  },
  {
   "cell_type": "code",
   "execution_count": 9,
   "id": "c57d78ca-ac32-41b6-bff4-991135f5e9cc",
   "metadata": {},
   "outputs": [],
   "source": [
    "class WiderFace(Dataset):\n",
    "    '''\n",
    "    Creates a Pytorch Dataset to train the Yolov1 Network.\n",
    "    Encodes labels to match the format [xcell, ycell, w, h, confidence, face]\n",
    "        - Final encoding format is: [xcell, ycell, w, h, conf=1, face]\n",
    "\n",
    "    Discard images when there are more than 1 object in the same cell\n",
    "    \n",
    "    Arguments:\n",
    "        - img_h:            image height\n",
    "        - img_w:            image width\n",
    "        - img_dir:          path to images folder\n",
    "        - label_dir:        path to labels folder\n",
    "        - SX:               number of cells in X axis (horizontal -> width)\n",
    "        - SY:               number of cells in Y axis (vertical -> height)\n",
    "        - C:                number of classes, 2 in this case\n",
    "        - transform:        transformation applied to input images -> Albumentations\n",
    "        - target_transform: transformation applied to labels -> nothing by default\n",
    "\n",
    "    Return:\n",
    "        - img:              1 image of the dataset\n",
    "        - target:           corresponding label encoded\n",
    "    '''\n",
    "\n",
    "    def __init__(self, img_h, img_w, img_dir, label_dir, \n",
    "                 SX, SY, C, \n",
    "                 transform=None, target_transform=None):\n",
    "        self.img_h = img_h\n",
    "        self.img_w = img_w\n",
    "        self.img_dir = img_dir\n",
    "        self.label_dir = label_dir\n",
    "        self.SX = SX\n",
    "        self.SY = SY\n",
    "        self.C = C\n",
    "        self.transform = transform\n",
    "        self.target_transform = target_transform\n",
    "\n",
    "        self.labels_list = sorted(\n",
    "            [\n",
    "                os.path.join(self.label_dir, file_name)\n",
    "                for file_name in os.listdir(self.label_dir)\n",
    "                if file_name.endswith(\".txt\")\n",
    "            ]\n",
    "        )\n",
    "        \n",
    "        self.images, self.bboxes, self.labels = self.__build_ds__(self.labels_list)\n",
    "        \n",
    "        self.num_samples = self.images.shape[0]\n",
    "\n",
    "    def __len__(self):\n",
    "        return self.num_samples\n",
    "    \n",
    "    def __bbox_check__(self, bbox):\n",
    "        eps = 1e-6\n",
    "        \n",
    "        xc, yc, w, h = bbox[0], bbox[1], bbox[2], bbox[3]\n",
    "        xmin = xc - w/2\n",
    "        ymin = yc - h/2\n",
    "        xmax = xc + w/2\n",
    "        ymax = yc + h/2\n",
    "        \n",
    "        xmin = max(xmin, 0 + eps)\n",
    "        ymin = max(ymin, 0 + eps)\n",
    "        xmax = min(xmax, 1)\n",
    "        ymax = min(ymax, 1)\n",
    "        \n",
    "        bbox = np.array([ \n",
    "                (xmin+xmax)/2,\n",
    "                (ymin+ymax)/2,\n",
    "                xmax-xmin,\n",
    "                ymax-ymin\n",
    "                 ]).astype(np.float32)\n",
    "        \n",
    "        return bbox        \n",
    "\n",
    "\n",
    "    def __build_ds__(self, labels_list):\n",
    "        bboxes = []\n",
    "        labels = []\n",
    "        images = []\n",
    "        wrong_imgs = 0\n",
    "        overlapping_rem = 0\n",
    "        more_than_5 = 0\n",
    "                \n",
    "        for label in labels_list:\n",
    "            fname = Path(label).stem\n",
    "            image_path = self.img_dir + fname + '.jpg'   \n",
    "            #print(fname, image_path)\n",
    "                                   \n",
    "            if cv2.imread(image_path) is None:\n",
    "                print(f'{image_path} cannot be read by cv2 -> removed')\n",
    "                wrong_imgs += 1\n",
    "            \n",
    "            else:\n",
    "                \n",
    "                label_mtx = np.zeros((self.SY, self.SX))\n",
    "                overlapping_object = 0\n",
    "\n",
    "                one_bboxes = []\n",
    "                one_labels = []\n",
    "            \n",
    "                with open(label) as f:\n",
    "                    lines = f.readlines()\n",
    "\n",
    "                    # Restrict to 3 boxes per sample\n",
    "                    if len(lines) > 5:\n",
    "                        more_than_5 += 1\n",
    "                        continue\n",
    "                        \n",
    "                    for line in lines:\n",
    "                        class_id, x, y, w, h = line.strip().split()\n",
    "                        class_id = int(class_id)\n",
    "                        box = np.array([x, y, w, h]).astype(np.float32)\n",
    "                        x, y, w, h = box[0], box[1], box[2], box[3]\n",
    "                        box_ok = self.__bbox_check__([x, y, w, h])\n",
    "                        x, y, w, h = box_ok[0], box_ok[1], box_ok[2], box_ok[3]\n",
    "                        i, j = math.floor(y * self.SY), math.floor(x * self.SX)\n",
    "                        if label_mtx[i, j] == 1:\n",
    "                            overlapping_object = 1\n",
    "                            overlapping_rem += 1\n",
    "                            #print(f'Removed {label} due to overlapping object in cell {i, j}')\n",
    "                            break\n",
    "                        else:\n",
    "                            label_mtx[i, j] = 1\n",
    "                            one_bboxes.append([x, y, w, h])\n",
    "                            # face\n",
    "                            if class_id == 0:\n",
    "                                one_labels.append(0)\n",
    "                            else:\n",
    "                                print(f'File {label} errored in cell {i, j}')\n",
    "\n",
    "                    if overlapping_object == 0:\n",
    "                        # Padding to SX*SY labels and bounding boxes, so you can store tensors\n",
    "                        # Label -1 indicates no box\n",
    "                        for idx in range(self.SX*self.SY - len(one_labels)):\n",
    "                            one_bboxes.append([0, 0, 0, 0])\n",
    "                            one_labels.append(-1)\n",
    "                        # print(f'\\nBboxes and Labels of image {image_path}')\n",
    "                        # print(\"Bboxes\")\n",
    "                        # for box in one_bboxes:\n",
    "                        #     print(box)\n",
    "                        # print(\"Labels\")\n",
    "                        # for label in one_labels:\n",
    "                        #     print(label)\n",
    "                        bboxes.append(one_bboxes)\n",
    "                        labels.append(one_labels)\n",
    "                        images.append(image_path)\n",
    "        \n",
    "        print(f'Removed wrong images: {wrong_imgs}')\n",
    "        print(f'Removed due to overlapping: {overlapping_rem}')\n",
    "        print(f'Removed due to more than 5: {more_than_5}')\n",
    "        logger.info(f'Removed wrong images: {wrong_imgs}')\n",
    "        logger.info(f'Removed due to overlapping: {overlapping_rem}')\n",
    "        logger.info(f'Removed due to more than 5: {more_than_5}')\n",
    "\n",
    "        labels_np = np.array(labels)\n",
    "        labels_tensor = torch.tensor(labels_np, dtype=torch.float32)\n",
    "        bboxes_np = np.array(bboxes)\n",
    "        bboxes_tensor = torch.tensor(bboxes_np, dtype=torch.float32)\n",
    "        images_array = np.array(images)\n",
    "        # print(f'Images array {images_array}')\n",
    "        # print(f'Bboxes tensor {bboxes_tensor}')\n",
    "        # print(f'Labels tensor {labels_tensor}')\n",
    "        \n",
    "        return images_array, bboxes_tensor, labels_tensor\n",
    "        #return images, bboxes, labels\n",
    "\n",
    "    def __getitem__(self, index):\n",
    "\n",
    "        # Image processing\n",
    "        img_file = self.images[index]\n",
    "        img = cv2.imread(img_file)\n",
    "        img = cv2.cvtColor(img, cv2.COLOR_BGR2RGB)   \n",
    "        #img = cv2.resize(img, (self.img_w, self.img_h), interpolation = cv2.INTER_NEAREST)\n",
    "\n",
    "        # Labels processing\n",
    "        bboxes = self.bboxes[index]\n",
    "        bboxes = bboxes[~torch.all(bboxes == torch.tensor([0,0,0,0]), dim=1)]\n",
    "        bboxes = bboxes.numpy().tolist()\n",
    "        #print(bboxes)\n",
    "        labels = self.labels[index]\n",
    "        labels = labels[labels != -1.]\n",
    "        labels = labels.numpy().tolist()\n",
    "        #print(f'Labels inside dataset {labels}')\n",
    "        \n",
    "        # Data Augmentation\n",
    "        if self.transform is not None:\n",
    "            try:\n",
    "                aug = self.transform(image=img, bboxes=bboxes, class_labels=labels)\n",
    "                img = aug['image']\n",
    "                bboxes = aug['bboxes']\n",
    "                labels = aug['class_labels']\n",
    "            except:\n",
    "                #print(f'Error trying to augment image {img_file}')\n",
    "                img = cv2.resize(img, (self.img_w, self.img_h), interpolation = cv2.INTER_NEAREST)\n",
    "                img = (img / 255.)\n",
    "                img = torch.tensor(img, dtype=torch.float32)\n",
    "                img = img.permute(2, 0, 1)\n",
    "        \n",
    "        label_mtx = np.zeros((self.SY, self.SX, 5+self.C))\n",
    "        \n",
    "        for box, label in zip(bboxes, labels):\n",
    "            class_id = int(label)\n",
    "            i, j = int(box[1]*self.SY), int(box[0]*self.SX)\n",
    "            xcell, ycell = box[0]*self.SX - j, box[1]*self.SY - i\n",
    "            label_mtx[i, j, :5] = [xcell, ycell, box[2], box[3], 1]\n",
    "            label_mtx[i, j, 5+class_id] = 1\n",
    "\n",
    "        label_mtx = torch.tensor(label_mtx, dtype=torch.float32)\n",
    "        \n",
    "        #return img, label_mtx, img_file\n",
    "        return img, label_mtx"
   ]
  },
  {
   "cell_type": "markdown",
   "id": "ec8b488d-9139-4a9e-8af5-de827368eff1",
   "metadata": {},
   "source": [
    "# Visualize some examples with a Test Train Loader"
   ]
  },
  {
   "cell_type": "code",
   "execution_count": 10,
   "id": "1d709355-0e9b-4793-bbbc-35e59c93e77e",
   "metadata": {},
   "outputs": [],
   "source": [
    "view_train_imgs = val_imgs\n",
    "view_train_labels = val_labels"
   ]
  },
  {
   "cell_type": "code",
   "execution_count": 11,
   "id": "0adcae50-29e5-4ccd-a546-77bca415fdf2",
   "metadata": {},
   "outputs": [],
   "source": [
    "VIEW_BATCH_SIZE = 16\n",
    "VIEW_NUM_WORKERS = 1\n",
    "VIEW_PIN_MEMORY = True\n",
    "\n",
    "VIEW_S = 4\n",
    "VIEW_C = 1\n",
    "VIEW_B = 1\n",
    "\n",
    "VIEW_IMG_W = 88\n",
    "VIEW_IMG_H = 88"
   ]
  },
  {
   "cell_type": "markdown",
   "id": "92020f5e-55c6-4ab9-be81-100e1dae17de",
   "metadata": {},
   "source": [
    "# Data Aug Function"
   ]
  },
  {
   "cell_type": "code",
   "execution_count": 12,
   "id": "2186e383-3cf2-42b8-b704-7f478b099532",
   "metadata": {},
   "outputs": [],
   "source": [
    "view_transform = A.Compose([\n",
    "    A.HorizontalFlip(p=0.5),\n",
    "    A.RandomBrightnessContrast(p=0.5),\n",
    "    A.RandomSizedBBoxSafeCrop(height=int(1.4*VIEW_IMG_H),\n",
    "                              width= int(1.4*VIEW_IMG_W),\n",
    "                              erosion_rate=0.6,\n",
    "                              p=0.3),\n",
    "    A.HueSaturationValue(hue_shift_limit=10, p=0.2),\n",
    "    A.Blur(blur_limit=(3,3), p=0.2),\n",
    "    A.CLAHE(clip_limit=2.0, p=0.3),\n",
    "    # Shifting, scaling and rotation could dive 2 bbox inside same grid...\n",
    "    #A.ShiftScaleRotate(rotate_limit=5, p=0.2),\n",
    "    A.Resize(VIEW_IMG_H, VIEW_IMG_W, p=1),\n",
    "    #A.Normalize(mean=(0.485, 0.456, 0.406), std=(0.229, 0.224, 0.225), p=1),\n",
    "    ToTensorV2(p=1),\n",
    "], bbox_params=A.BboxParams(format='yolo', \n",
    "                            #min_area=6*6, \n",
    "                            #min_visibility=0.05, \n",
    "                            label_fields=['class_labels']))\n"
   ]
  },
  {
   "cell_type": "markdown",
   "id": "81c4ce4e-d822-4277-84c9-0998d8738dc5",
   "metadata": {},
   "source": [
    "# WiderFace Dataset"
   ]
  },
  {
   "cell_type": "code",
   "execution_count": 13,
   "id": "063fe2e3-a1b4-489f-96e1-8031cfbd09c1",
   "metadata": {},
   "outputs": [
    {
     "name": "stdout",
     "output_type": "stream",
     "text": [
      "Removed wrong images: 0\n",
      "Removed due to overlapping: 330\n",
      "Removed due to more than 5: 0\n"
     ]
    }
   ],
   "source": [
    "logger.info('\\nBefore View Dataset Examples')\n",
    "\n",
    "view_widerface_dataset = WiderFace(img_h = VIEW_IMG_H,\n",
    "                                   img_w = VIEW_IMG_W,\n",
    "                                   img_dir = view_train_imgs,\n",
    "                                   label_dir = view_train_labels,\n",
    "                                   SX = VIEW_S,\n",
    "                                   SY = VIEW_S,\n",
    "                                   C = VIEW_C,\n",
    "                                   transform=view_transform)"
   ]
  },
  {
   "cell_type": "markdown",
   "id": "055a826a-f1b0-41b2-816b-fce4fed5f5b5",
   "metadata": {},
   "source": [
    "# View Loader"
   ]
  },
  {
   "cell_type": "code",
   "execution_count": 14,
   "id": "09f1e84b-dcbe-42d1-93bd-3c37ee0d755d",
   "metadata": {},
   "outputs": [],
   "source": [
    "view_loader = DataLoader(dataset=view_widerface_dataset,\n",
    "                         batch_size=VIEW_BATCH_SIZE,\n",
    "                         num_workers=VIEW_NUM_WORKERS,\n",
    "                         pin_memory=VIEW_PIN_MEMORY,\n",
    "                         shuffle=True,\n",
    "                         drop_last=False)"
   ]
  },
  {
   "cell_type": "markdown",
   "id": "c89089a0-13b7-4248-b7cb-9b7228fa62c8",
   "metadata": {},
   "source": [
    "# Utils to Plot"
   ]
  },
  {
   "cell_type": "code",
   "execution_count": 15,
   "id": "b95cbbb1-2531-482e-9ecf-f78144210e4f",
   "metadata": {},
   "outputs": [],
   "source": [
    "def get_bboxes_from_label_mtx(label_mtx):\n",
    "\n",
    "    c2b_mtx = np.zeros((VIEW_S, VIEW_S, 2))\n",
    "    for j in range(VIEW_S):\n",
    "        for i in range(VIEW_S):\n",
    "            c2b_mtx[i, j, 0] = j\n",
    "            c2b_mtx[i, j, 1] = i\n",
    "\n",
    "    label_mtx = label_mtx.numpy()\n",
    "    label_xy = label_mtx[..., :2]\n",
    "    label_rest = label_mtx[..., 2:]\n",
    "\n",
    "    c2b_xy = (c2b_mtx+label_xy)/VIEW_S\n",
    "    out = np.concatenate((c2b_xy, label_rest), axis=-1)\n",
    "    #print(f'Concat out\\n {out}')\n",
    "\n",
    "    bboxes_list = np.reshape(out, (VIEW_S*VIEW_S, 5+VIEW_C))\n",
    "\n",
    "    bboxes_list = [bbox for bbox in bboxes_list.tolist() if bbox[4]==1]\n",
    "\n",
    "    return bboxes_list\n",
    "\n",
    "\n",
    "def plot_pytorch(ds_img, img_w, img_h, nms_preds):\n",
    "    '''\n",
    "    It draws the bounding boxes over the image.\n",
    "\n",
    "    Arguments:\n",
    "        - ori_img: original image with no modification or letterbox\n",
    "        - nms_preds: Non Maximum Supression predictions [x0, y0, x1, y1, class_id, score]\n",
    "        - names: list of class names\n",
    "        - colors: list of colors asigned to each class in cv2 format (B,G,R)\n",
    "        - ratio: ratio of letterbox conversion\n",
    "        - dwdh: paddings of letterbox conversion\n",
    "\n",
    "    Returns:\n",
    "        - pic: picture with bounding boxes on top of original picture\n",
    "    '''\n",
    "\n",
    "    names ={0: 'face'}\n",
    "    colors = {'face': (0,255,255)}\n",
    "    # NEVER remove copy() or use np.ascontiguousarray()\n",
    "    pic = ds_img.numpy().copy()       \n",
    "\n",
    "    for i,(xc,yc,w,h,score,face) in enumerate(nms_preds):\n",
    "        xmin, ymin, xmax, ymax = xc - w/2, yc - h/2, xc + w/2, yc + h/2\n",
    "        box = np.array([xmin, ymin, xmax, ymax]).astype(np.float32)\n",
    "        box[0] = box[0]*img_w\n",
    "        box[1] = box[1]*img_h\n",
    "        box[2] = box[2]*img_w-1 # avoid out of limits due to rounding\n",
    "        box[3] = box[3]*img_h-1 # avoid out of limits due to rounding\n",
    "        box = box.round().astype(np.uint8).tolist()\n",
    "        if face == 1:\n",
    "            cls_id = 0\n",
    "        else:\n",
    "            print(\"Error: no valid class\")\n",
    "        score = round(float(score),3)\n",
    "        name = names[cls_id]\n",
    "        color = colors[name]\n",
    "        name += ' '+str(score)\n",
    "        cv2.rectangle(pic, box[:2], box[2:], color, 1) \n",
    "        cv2.putText(pic,name,(box[0]+6, box[1] + 20),\n",
    "                    cv2.FONT_HERSHEY_SIMPLEX,0.4,[225, 255, 255],\n",
    "                    thickness=1)  # 0.5 -> font size\n",
    "\n",
    "    return pic"
   ]
  },
  {
   "cell_type": "markdown",
   "id": "31188003-ce10-432d-99ba-f8658141aa35",
   "metadata": {},
   "source": [
    "# Plot"
   ]
  },
  {
   "cell_type": "code",
   "execution_count": 16,
   "id": "52d065b7-b186-4d68-b558-96546ee48898",
   "metadata": {},
   "outputs": [
    {
     "name": "stderr",
     "output_type": "stream",
     "text": [
      "/tmp/ipykernel_836/3091386464.py:26: UserWarning: Tight layout not applied. tight_layout cannot make axes width small enough to accommodate all axes decorations\n",
      "  plt.tight_layout(w_pad=100)\n"
     ]
    },
    {
     "data": {
      "text/plain": [
       "<Figure size 6400x3200 with 0 Axes>"
      ]
     },
     "metadata": {},
     "output_type": "display_data"
    },
    {
     "data": {
      "image/png": "[encoded data removed]",
      "text/plain": [
       "<Figure size 640x480 with 8 Axes>"
      ]
     },
     "metadata": {},
     "output_type": "display_data"
    }
   ],
   "source": [
    "#for i, (img, label_mtx, img_path) in enumerate(view_loader):\n",
    "\n",
    "plt.figure(figsize=(64, 32))\n",
    "\n",
    "for i, (img, label_mtx) in enumerate(view_loader):\n",
    "    #print(f'Batch id = {i}')\n",
    "\n",
    "    plt.subplots(2,4)\n",
    "\n",
    "    for idx in range(VIEW_BATCH_SIZE):\n",
    "        #print(f'Index inside batch = {idx}')\n",
    "        #print(img_path[idx])\n",
    "        bboxes = get_bboxes_from_label_mtx(label_mtx[idx])\n",
    "        #print(bboxes)\n",
    "        img_ds = plot_pytorch(img[idx].permute(1, 2, 0), \n",
    "                              VIEW_IMG_W, \n",
    "                              VIEW_IMG_H, \n",
    "                              bboxes)\n",
    "        plt.subplot(2, 4, idx+1)\n",
    "        plt.imshow(img_ds)\n",
    "        #plt.imshow(img[idx].permute(1, 2, 0))\n",
    "        \n",
    "        if (idx == 7):\n",
    "            break\n",
    "    #if (idx == 1):\n",
    "    plt.tight_layout(w_pad=100)\n",
    "    plt.show()\n",
    "    break"
   ]
  },
  {
   "cell_type": "markdown",
   "id": "8c108028-a23a-410d-8af0-2853e5b85f90",
   "metadata": {},
   "source": [
    "# BED"
   ]
  },
  {
   "cell_type": "code",
   "execution_count": 17,
   "id": "f7209620-aa42-4946-aa62-9f645e07f926",
   "metadata": {},
   "outputs": [],
   "source": [
    "class BED(nn.Module):\n",
    "    def __init__(self, num_classes, S, B, in_channels=3):\n",
    "        super(BED, self).__init__()\n",
    "        self.in_channels = in_channels\n",
    "        self.num_classes = num_classes\n",
    "        self.S = S\n",
    "        self.B = B\n",
    "        \n",
    "        self.model = self.__create_BED__()\n",
    "\n",
    "        \n",
    "    def __create_BED__(self):\n",
    "        BED_model = nn.Sequential(\n",
    "            # Conv2d [in_channels, out_channels, kernel_size, stride, padding, bias]\n",
    "\n",
    "            # CNNBlock 224x224\n",
    "            nn.Conv2d(self.in_channels, 64, kernel_size=3, stride=1, padding=1,  bias=False),\n",
    "            nn.BatchNorm2d(64, affine=False),\n",
    "            nn.ReLU(),\n",
    "\n",
    "            # CNNBlock 112x112\n",
    "            nn.MaxPool2d(kernel_size=2, stride=2),\n",
    "            nn.Conv2d(64, 24, kernel_size=3, stride=1, padding=1,  bias=False),\n",
    "            nn.BatchNorm2d(24, affine=False),\n",
    "            nn.ReLU(),\n",
    "\n",
    "            # CNNBlock 56x56\n",
    "            nn.MaxPool2d(kernel_size=2, stride=2),\n",
    "            # kernel = 1 in github\n",
    "            nn.Conv2d(24, 16, kernel_size=1, stride=1, padding=0,  bias=False),\n",
    "            nn.BatchNorm2d(16, affine=False),\n",
    "            nn.ReLU(),\n",
    "            \n",
    "            nn.Conv2d(16, 32, kernel_size=3, stride=1, padding=1,  bias=False),\n",
    "            nn.BatchNorm2d(32, affine=False),\n",
    "            nn.ReLU(),\n",
    "            \n",
    "            # kernel = 1 in github\n",
    "            nn.Conv2d(32, 32, kernel_size=1, stride=1, padding=0,  bias=False),\n",
    "            nn.BatchNorm2d(32, affine=False),\n",
    "            nn.ReLU(),\n",
    "            \n",
    "            nn.Conv2d(32, 64, kernel_size=3, stride=1, padding=1,  bias=False),\n",
    "            nn.BatchNorm2d(64, affine=False),\n",
    "            nn.ReLU(),\n",
    "\n",
    "            # CNNBlock 28x28\n",
    "            nn.MaxPool2d(kernel_size=2, stride=2),\n",
    "            nn.Conv2d(64, 32, kernel_size=1, stride=1, padding=0,  bias=False),\n",
    "            nn.BatchNorm2d(32, affine=False),\n",
    "            nn.ReLU(),\n",
    "            \n",
    "            nn.Conv2d(32, 64, kernel_size=3, stride=1, padding=1,  bias=False),\n",
    "            nn.BatchNorm2d(64, affine=False),\n",
    "            nn.ReLU(),\n",
    "            \n",
    "            nn.Conv2d(64, 32, kernel_size=1, stride=1, padding=0,  bias=False),\n",
    "            nn.BatchNorm2d(32, affine=False),\n",
    "            nn.ReLU(),\n",
    "            \n",
    "            nn.Conv2d(32, 64, kernel_size=3, stride=1, padding=1,  bias=False),\n",
    "            nn.BatchNorm2d(64, affine=False),\n",
    "            nn.ReLU(),\n",
    "            \n",
    "            nn.Conv2d(64, 32, kernel_size=1, stride=1, padding=0,  bias=False),\n",
    "            nn.BatchNorm2d(32, affine=False),\n",
    "            nn.ReLU(),\n",
    "            \n",
    "            nn.Conv2d(32, 64, kernel_size=3, stride=1, padding=1,  bias=False),\n",
    "            nn.BatchNorm2d(64, affine=False),\n",
    "            nn.ReLU(),\n",
    "\n",
    "            # CNNBlock 14x14\n",
    "            nn.MaxPool2d(kernel_size=2, stride=2), \n",
    "            nn.Conv2d(64, 32, kernel_size=1, stride=1, padding=0,  bias=False),\n",
    "            nn.BatchNorm2d(32, affine=False),\n",
    "            nn.ReLU(),\n",
    "            \n",
    "            nn.Conv2d(32, 64, kernel_size=3, stride=1, padding=1,  bias=False),\n",
    "            nn.BatchNorm2d(64, affine=False),\n",
    "            nn.ReLU(),\n",
    "            \n",
    "            nn.Conv2d(64, 32, kernel_size=1, stride=1, padding=0,  bias=False),\n",
    "            nn.BatchNorm2d(32, affine=False),\n",
    "            nn.ReLU(),\n",
    "            \n",
    "            nn.Conv2d(32, 64, kernel_size=3, stride=1, padding=1,  bias=False),\n",
    "            nn.BatchNorm2d(64, affine=False),\n",
    "            nn.ReLU(),\n",
    "            \n",
    "            nn.Conv2d(64, 64, kernel_size=3, stride=1, padding=1,  bias=False),\n",
    "            nn.BatchNorm2d(64, affine=False),\n",
    "            nn.ReLU(),\n",
    "            \n",
    "            nn.Conv2d(64, 64, kernel_size=3, stride=1, padding=1,  bias=False),\n",
    "            nn.BatchNorm2d(64, affine=False),\n",
    "            nn.ReLU(),\n",
    "            \n",
    "            # CNNBlock 7x7\n",
    "            nn.MaxPool2d(kernel_size=2, stride=2),\n",
    "            nn.Conv2d(64, 64, kernel_size=3, stride=1, padding=1,  bias=False),\n",
    "            nn.BatchNorm2d(64, affine=False),\n",
    "            nn.ReLU(),\n",
    "            nn.Conv2d(64, 64, kernel_size=3, stride=1, padding=1,  bias=False),\n",
    "            nn.BatchNorm2d(64, affine=False),\n",
    "            nn.ReLU(),\n",
    "            \n",
    "            # CNNBlock Out\n",
    "            nn.Conv2d(64, 64, kernel_size=1, stride=1, padding=0,  bias=False),\n",
    "            nn.BatchNorm2d(64, affine=False),\n",
    "            nn.ReLU(),\n",
    "            \n",
    "            nn.Conv2d(64, 16, kernel_size=1, stride=1, padding=0,  bias=False),\n",
    "            nn.BatchNorm2d(16, affine=False),\n",
    "            nn.ReLU(),\n",
    "            \n",
    "            nn.Conv2d(16, 16, kernel_size=1, stride=1, padding=0,  bias=False),\n",
    "            nn.BatchNorm2d(16, affine=False),\n",
    "            nn.ReLU(),\n",
    "            \n",
    "            nn.Conv2d(16, self.B*5 + self.num_classes, kernel_size=1, stride=1, padding=0,  bias=False),\n",
    "            \n",
    "        )\n",
    "        return BED_model\n",
    "        \n",
    "          \n",
    "\n",
    "    def _initialize_weights(self):\n",
    "        for m in self.modules():\n",
    "            if isinstance(m, nn.Conv2d):\n",
    "                nn.init.kaiming_normal_(m.weight, mode='fan_in',\n",
    "                    nonlinearity='relu'\n",
    "                )\n",
    "                if m.bias is not None:\n",
    "                        nn.init.constant_(m.bias, 0)\n",
    "            elif isinstance(m, nn.Linear):\n",
    "                nn.init.normal_(m.weight, 0, 0.01)\n",
    "                nn.init.constant_(m.bias, 0)\n",
    "\n",
    "    # [xc1, yc1, w1, h1, conf1, xc2, yc2, w2, h2, conf2, smoke, fire]\n",
    "    # [0 ................. 4,    5 ................ 9      10    11 ]\n",
    "    def forward(self, x):\n",
    "        x_out = self.model(x)\n",
    "        x = x_out.permute(0, 2, 3, 1)\n",
    "        if self.B == 1:\n",
    "            class_softmax = torch.softmax(x[..., 5:7], dim=-1)\n",
    "            x = torch.cat((torch.sigmoid(x[..., 0:5]), class_softmax), dim=-1)  \n",
    "        else:\n",
    "            class_softmax = torch.softmax(x[..., 10:12], dim=-1)\n",
    "            x = torch.cat((torch.sigmoid(x[..., 0:10]), class_softmax), dim=-1)\n",
    "        return x "
   ]
  },
  {
   "cell_type": "markdown",
   "id": "d9acb581-251c-4b6a-9560-8ec9cfb6b11d",
   "metadata": {},
   "source": [
    "# Tinyssimo"
   ]
  },
  {
   "cell_type": "code",
   "execution_count": 18,
   "id": "d4d48bb4-614d-4294-9da3-5cc76ad1aebf",
   "metadata": {},
   "outputs": [],
   "source": [
    "class Tinyssimo_fixed_88x88_BatchNorm(nn.Module):\n",
    "    def __init__(self, in_channels=3, num_boxes=1, num_classes=C):\n",
    "        super(Tinyssimo_fixed_88x88_BatchNorm, self).__init__()\n",
    "        self.in_channels = in_channels\n",
    "        self.C = num_classes\n",
    "        self.B = num_boxes\n",
    "        self.tiny_model = self.__create_tinyssimo__()\n",
    "    \n",
    "    def __create_tinyssimo__(self):\n",
    "        tinyssimo_model = nn.Sequential(\n",
    "            # Conv2d [in_channels, out_channels, kernel_size, stride, padding, bias]\n",
    "\n",
    "            # CNNBlock 1\n",
    "            nn.Conv2d(self.in_channels, 16, kernel_size=3, stride=1, padding='same', bias=False),\n",
    "            nn.BatchNorm2d(16),\n",
    "            nn.ReLU(),\n",
    "            nn.Conv2d(16, 16, kernel_size=3, stride=1, padding='same', bias=False),\n",
    "            nn.BatchNorm2d(16),\n",
    "            nn.ReLU(),\n",
    "            nn.MaxPool2d(kernel_size=2, stride=2),\n",
    "\n",
    "            # CNNBlock 2\n",
    "            nn.Conv2d(16, 16, kernel_size=3, stride=1, padding='same', bias=False),\n",
    "            nn.BatchNorm2d(16),\n",
    "            nn.ReLU(),\n",
    "            nn.Conv2d(16, 32, kernel_size=3, stride=1, padding='same', bias=False),\n",
    "            nn.BatchNorm2d(32),\n",
    "            nn.ReLU(),\n",
    "            nn.MaxPool2d(kernel_size=2, stride=2),\n",
    "\n",
    "            # CNNBlock 3\n",
    "            nn.Conv2d(32, 32, kernel_size=3, stride=1, padding='same', bias=False),\n",
    "            nn.BatchNorm2d(32),\n",
    "            nn.ReLU(),\n",
    "            nn.Conv2d(32, 64, kernel_size=3, stride=1, padding='same', bias=False),\n",
    "            nn.BatchNorm2d(64),\n",
    "            nn.ReLU(),\n",
    "            nn.MaxPool2d(kernel_size=2, stride=2),\n",
    "\n",
    "            # CNNBlock 4\n",
    "            nn.Conv2d(64, 64, kernel_size=3, stride=1, padding='same', bias=False),\n",
    "            nn.BatchNorm2d(64),\n",
    "            nn.ReLU(),\n",
    "            nn.Conv2d(64, 64, kernel_size=3, stride=1, padding='same', bias=False),\n",
    "            nn.BatchNorm2d(64),\n",
    "            nn.ReLU(),\n",
    "            nn.MaxPool2d(kernel_size=2, stride=2), \n",
    "\n",
    "            # CNNBlock 5\n",
    "            nn.Conv2d(64, 128, kernel_size=3, stride=1, padding='same', bias=False),\n",
    "            nn.BatchNorm2d(128),\n",
    "            nn.ReLU(),\n",
    "            nn.Conv2d(128, 128, kernel_size=3, stride=1, padding='same', bias=False),\n",
    "            nn.BatchNorm2d(128),\n",
    "            nn.ReLU(),\n",
    "            nn.MaxPool2d(kernel_size=2, stride=2),\n",
    "            \n",
    "            # HEAD\n",
    "            nn.Flatten(),\n",
    "            nn.Linear(in_features=128*2*2, out_features=256), # 2 and 2 are dims b4 FC layer\n",
    "            nn.ReLU(),\n",
    "            nn.Dropout(0.8),\n",
    "            nn.Linear(in_features=256, \n",
    "                      out_features=SX*SY*(B*5+C)),\n",
    "        )\n",
    "        return tinyssimo_model \n",
    "\n",
    "    def _initialize_weights(self):\n",
    "        for m in self.modules():\n",
    "            if isinstance(m, nn.Conv2d):\n",
    "                nn.init.kaiming_normal_(m.weight, mode='fan_in',\n",
    "                    nonlinearity='relu'\n",
    "                )\n",
    "                if m.bias is not None:\n",
    "                        nn.init.constant_(m.bias, 0)\n",
    "            elif isinstance(m, nn.Linear):\n",
    "                nn.init.normal_(m.weight, 0, 0.01)\n",
    "                nn.init.constant_(m.bias, 0)\n",
    "        \n",
    "    def forward(self, x):\n",
    "        y = self.tiny_model(x)\n",
    "        y = y.view(-1, SY, SX, 5*self.B+self.C)\n",
    "        y = torch.sigmoid(y[..., 0:(5*self.B+self.C)])\n",
    "        return y "
   ]
  },
  {
   "cell_type": "markdown",
   "id": "02fea177-6d98-47b4-9cce-8981461388ab",
   "metadata": {},
   "source": [
    "# Yolo Loss 2BB"
   ]
  },
  {
   "cell_type": "code",
   "execution_count": 19,
   "id": "42606acc-7693-488f-8f8a-4609738c1739",
   "metadata": {},
   "outputs": [],
   "source": [
    "class YoloLossMSE_2BBox(nn.Module):\n",
    "    '''\n",
    "    Calculates Yolo V1 loss function, detailed in the paper\n",
    "\n",
    "    Prediction format [xcell, ycell, w, h, confidence, class_0, class_1]\n",
    "    Future update to 2 BB: [xcell, ycell, w, h, confidence_A, xcell, ycell, w, h, confidence_B, class_0, class_1]\n",
    "    '''\n",
    "\n",
    "    def __init__(self, SX, SY, B, C):\n",
    "        super(YoloLossMSE_2BBox, self).__init__()\n",
    "        \n",
    "        self.mse = nn.MSELoss(reduction=\"sum\")\n",
    "\n",
    "        self.SX = SX\n",
    "        self.SY = SY\n",
    "        self.B = B\n",
    "        self.C = C\n",
    "\n",
    "        self.lambda_coord = 5\n",
    "        self.lambda_noobj = 0.5\n",
    "        \n",
    "        self.last_box_xy = 0.0\n",
    "        self.last_box_wh = 0.0\n",
    "        self.last_obj = 0.0\n",
    "        self.last_noobj =0.0\n",
    "        self.last_class = 0.0\n",
    "\n",
    "    def forward(self, ground_truth, predictions):\n",
    "\n",
    "        #predictions = predictions.reshape(-1, self.SY, self.SX, self.B*5 + self.C)\n",
    "        assert predictions.shape == (BATCH_SIZE, self.SY, self.SX, self.B*5 + self.C) \n",
    "        assert ground_truth.shape == (BATCH_SIZE, self.SY, self.SX, 5 + self.C) \n",
    "        \n",
    "        # =========================== #\n",
    "        #        Exists Box?          #\n",
    "        # =========================== #\n",
    "        exists_box = ground_truth[..., 4:5] == 1\n",
    "        pred_box1 = exists_box*predictions[..., 0:4]\n",
    "        pred_box2 = exists_box*predictions[..., 5:9]\n",
    "        target_box = exists_box*ground_truth[..., :4]\n",
    "\n",
    "        # =========================== #\n",
    "        #            IOU              #\n",
    "        # =========================== #\n",
    "        # Calculate IoU for the two predicted bounding boxes with target bbox\n",
    "        iou1 = iou_tensor(boxes_preds=pred_box1, \n",
    "                   boxes_labels=target_box,\n",
    "                   box_format=\"midpoint\")\n",
    "        #print(f'IOU 1\\n{iou1}')\n",
    "        iou2 = iou_tensor(boxes_preds=pred_box2, \n",
    "                   boxes_labels=target_box,\n",
    "                   box_format=\"midpoint\")\n",
    "        #print(f'IOU 2\\n{iou2}')\n",
    "        ious = torch.cat([iou1, iou2], dim=-1)\n",
    "        #print(f'IOUs\\n{ious}')\n",
    "        \n",
    "        iou_maxes, best_boxes = torch.max(ious, keepdim=True, dim=-1)\n",
    "        pred_boxes = best_boxes*pred_box2[..., :4]+(1-best_boxes)*pred_box1[..., :4]\n",
    "\n",
    "        # =============== #\n",
    "        #   Center Loss   #\n",
    "        # =============== #\n",
    "        xy_loss = self.mse(pred_boxes[..., :2],\n",
    "                           target_box[..., :2])\n",
    "        self.last_box_xy = xy_loss.item()\n",
    "        #print('\\nCenter Loss', center_loss)\n",
    "\n",
    "        # ====================== #\n",
    "        #   Width, Height Loss   #\n",
    "        # ====================== #\n",
    "        # Use torch.sign to undo torch.abs and preserve gradient sign \n",
    "        wh_loss = self.mse(torch.sign(pred_boxes[..., 2:4])*torch.sqrt(torch.abs(pred_boxes[..., 2:4])+1e-6),\n",
    "                           torch.sqrt(target_box[..., 2:4]))\n",
    "        #print(f'WH Loss {wh_loss:.6f}')\n",
    "        self.last_box_wh = wh_loss.item()\n",
    "\n",
    "        # =================== #\n",
    "        #   Confidence Loss   #\n",
    "        # =================== #\n",
    "        conf_pred_box = exists_box*( best_boxes*predictions[..., 9:10] + (1-best_boxes) * predictions[..., 4:5])\n",
    "        #print(f'Conf pred boxes \\n {conf_pred_box}')\n",
    "        # conf_loss = self.mse(conf_pred_box,\n",
    "        #                      iou_maxes)\n",
    "        conf_loss = self.mse(conf_pred_box,\n",
    "                             exists_box*ground_truth[..., 4:5])\n",
    "        #print(f'Conf loss {conf_loss:.6f}')\n",
    "        self.last_obj = conf_loss.item()\n",
    "\n",
    "        # ================== #\n",
    "        #   No Object Loss   #\n",
    "        # ================== #\n",
    "        noobj_box1 = self.mse((~exists_box)*predictions[..., 4:5],\n",
    "                              (~exists_box)*ground_truth[..., 4:5])\n",
    "        noobj_box2 = self.mse((~exists_box)*predictions[..., 9:10],\n",
    "                              (~exists_box)*ground_truth[..., 4:5])    \n",
    "        noobj_loss = noobj_box1 + noobj_box2\n",
    "        #print(f'No Obj loss {noobj_loss:.6f}')\n",
    "        self.last_noobj = noobj_loss.item()\n",
    "\n",
    "        # ======================= #\n",
    "        #   Classification Loss   #\n",
    "        # ======================= #\n",
    "        class_loss = self.mse(exists_box*predictions[..., 10:11],\n",
    "                              exists_box*ground_truth[..., 5:6]) \n",
    "        #print(f'Class Loss {class_loss:.6f}')\n",
    "        self.last_class = class_loss.item()\n",
    "\n",
    "        # ============== #\n",
    "        #   Total Loss   #\n",
    "        # ============== #\n",
    "        total_loss = (\n",
    "            self.lambda_coord*(xy_loss + wh_loss)\n",
    "            + conf_loss\n",
    "            + self.lambda_noobj*noobj_loss \n",
    "            + class_loss\n",
    "        )\n",
    "\n",
    "        return total_loss\n",
    "\n",
    "    def get_last_losses(self):     \n",
    "        return (\n",
    "            5*self.last_box_xy,\n",
    "            5*self.last_box_wh,\n",
    "            self.last_obj,\n",
    "            0.5*self.last_noobj,\n",
    "            self.last_class\n",
    "            )"
   ]
  },
  {
   "cell_type": "markdown",
   "id": "b0707cc5-1db0-4a95-a183-cbad80adae89",
   "metadata": {},
   "source": [
    "# Train Loop Function"
   ]
  },
  {
   "cell_type": "code",
   "execution_count": 20,
   "id": "4bada441-b601-4aa1-9274-ce50c616d1f0",
   "metadata": {},
   "outputs": [],
   "source": [
    "'''\n",
    "Train function\n",
    "'''\n",
    "def get_lr(optimizer):\n",
    "    for param_group in optimizer.param_groups:\n",
    "        return param_group['lr']\n",
    "\n",
    "def train_fn(loader, model, optimizer, loss_fn, device):\n",
    "    \n",
    "    print(f'Learning Rate = {get_lr(optimizer=optimizer)}\\n')\n",
    "    logger.info(f'Learning Rate = {get_lr(optimizer=optimizer)}')\n",
    "\n",
    "    model.train()\n",
    "    loop = tqdm(loader, desc='Training', leave=True)\n",
    "    train_mean_loss = []\n",
    "    mean_box_loss = []\n",
    "    mean_confidence_loss = []\n",
    "    mean_noobj_loss = []\n",
    "    mean_class_loss = []\n",
    "\n",
    "    for batch_idx, (x, y) in enumerate(loop):\n",
    "#     for batch_idx, (x, y) in enumerate(loader):\n",
    "        x, y = x.to(device), y.to(device)\n",
    "        out = model(x)\n",
    "        train_loss = loss_fn(ground_truth=y, \n",
    "                             predictions=out)\n",
    "#         loss = loss_fn.forward(ground_truth=y, \n",
    "#                        predictions=out)\n",
    "        \n",
    "        # Gradient Descent\n",
    "        optimizer.zero_grad()\n",
    "        train_loss.backward()\n",
    "        optimizer.step()\n",
    "\n",
    "        # update progress bar\n",
    "        #loop.set_postfix(loss=loss.item())\n",
    "        #print(f'Partial Train Loss: {loss.item()}')\n",
    "\n",
    "        xy_loss, wh_loss, obj_loss, noobj_loss, class_loss = loss_fn.get_last_losses()\n",
    "        # Appending each loss\n",
    "        train_mean_loss.append(train_loss.item())\n",
    "        box_loss = xy_loss + wh_loss\n",
    "        mean_box_loss.append(box_loss)\n",
    "        mean_confidence_loss.append(obj_loss)\n",
    "        mean_noobj_loss.append(noobj_loss)\n",
    "        mean_class_loss.append(class_loss)\n",
    "\n",
    "    train_mean_loss_out = sum(train_mean_loss)/len(train_mean_loss)\n",
    "    #print(\"\\nTRAIN losses\")\n",
    "    logger.info(\"\\nTRAIN losses\")\n",
    "#     print(f\"Mean total loss was {train_mean_loss_out:.3f}\") # TQDM prints last batch loss\n",
    "    mean_box_loss_out = sum(mean_box_loss)/len(mean_box_loss)\n",
    "    mean_confidence_loss_out = sum(mean_confidence_loss)/len(mean_confidence_loss)\n",
    "    mean_noobj_loss_out = sum(mean_noobj_loss)/len(mean_noobj_loss)\n",
    "    mean_class_loss_out = sum(mean_class_loss)/len(mean_class_loss)  \n",
    "#     print(f\"Mean box loss was {mean_box_loss_out:.3f}\") \n",
    "#     print(f\"Mean confidence loss was {mean_confidence_loss_out:.3f}\") \n",
    "#     print(f\"Mean noobj loss was {mean_noobj_loss_out:.3f}\") \n",
    "#     print(f\"Mean class loss was {mean_class_loss_out:.3f}\") \n",
    "\n",
    "    print(\"Total Loss\".ljust(12) + \"|\" + \n",
    "          \"Box Loss\".ljust(12) + \"|\" + \n",
    "          \"Conf Loss\".ljust(12) + \"|\" + \n",
    "          \"No Obj Loss\".ljust(12) + \"|\" + \n",
    "          \"Class Loss\".ljust(12))\n",
    "    print(\"------------\".ljust(12) + \" \" + \n",
    "          \"------------\".ljust(12) + \" \" + \n",
    "          \"------------\".ljust(12) + \" \" + \n",
    "          \"------------\".ljust(12) + \" \" + \n",
    "          \"------------\".ljust(12))\n",
    "    print(f'{train_mean_loss_out:.3f}'.ljust(12) + \"|\" +\n",
    "          f'{mean_box_loss_out:.3f}'.ljust(12) + \"|\" +\n",
    "          f'{mean_confidence_loss_out:.3f}'.ljust(12) + \"|\" +\n",
    "          f'{mean_noobj_loss_out:.3f}'.ljust(12) + \"|\" +\n",
    "          f'{mean_class_loss_out:.3f}'.ljust(12) + \"\\n\")\n",
    "    \n",
    "    logger.info(\"Total Loss\".ljust(12) + \"|\" + \n",
    "                  \"Box Loss\".ljust(12) + \"|\" + \n",
    "                  \"Conf Loss\".ljust(12) + \"|\" + \n",
    "                  \"No Obj Loss\".ljust(12) + \"|\" + \n",
    "                  \"Class Loss\".ljust(12))\n",
    "    logger.info(\"------------\".ljust(12) + \" \" + \n",
    "                  \"------------\".ljust(12) + \" \" + \n",
    "                  \"------------\".ljust(12) + \" \" + \n",
    "                  \"------------\".ljust(12) + \" \" + \n",
    "                  \"------------\".ljust(12))\n",
    "    logger.info(f'{train_mean_loss_out:.3f}'.ljust(12) + \"|\" +\n",
    "                  f'{mean_box_loss_out:.3f}'.ljust(12) + \"|\" +\n",
    "                  f'{mean_confidence_loss_out:.3f}'.ljust(12) + \"|\" +\n",
    "                  f'{mean_noobj_loss_out:.3f}'.ljust(12) + \"|\" +\n",
    "                  f'{mean_class_loss_out:.3f}'.ljust(12))\n",
    "    \n",
    "    return (train_mean_loss_out, \n",
    "            mean_box_loss_out, \n",
    "            mean_confidence_loss_out, \n",
    "            mean_noobj_loss_out, \n",
    "            mean_class_loss_out)\n",
    "    \n",
    "#     return train_mean_loss_out\n"
   ]
  },
  {
   "cell_type": "markdown",
   "id": "ee0f4a05-7b83-45a0-8c9a-256d44095322",
   "metadata": {},
   "source": [
    "# Validation Loop Function"
   ]
  },
  {
   "cell_type": "code",
   "execution_count": 21,
   "id": "abce844b-bf71-40d1-a8e7-6a67c5e01a4b",
   "metadata": {},
   "outputs": [],
   "source": [
    "'''\n",
    "Evaluation Function\n",
    "'''\n",
    "def eval_fn(loader, model, loss_fn, device):\n",
    "    \n",
    "    model.eval()\n",
    "    loop = tqdm(loader, desc='Validating', leave=True)\n",
    "    val_mean_loss = []\n",
    "    mean_box_loss = []\n",
    "    mean_confidence_loss = []\n",
    "    mean_noobj_loss = []\n",
    "    mean_class_loss = []\n",
    "\n",
    "    for batch_idx, (x, y) in enumerate(loop):\n",
    "#     for batch_idx, (x, y) in enumerate(loader):\n",
    "        x, y = x.to(device), y.to(device)\n",
    "        out = model(x)\n",
    "        val_loss = loss_fn(ground_truth=y, \n",
    "                           predictions=out)\n",
    "#         loss = loss_fn.forward(ground_truth=y, \n",
    "#                                predictions=out)\n",
    "        \n",
    "        xy_loss, wh_loss, obj_loss, noobj_loss, class_loss = loss_fn.get_last_losses()\n",
    "        # Appending each loss\n",
    "        val_mean_loss.append(val_loss.item())\n",
    "        box_loss = xy_loss + wh_loss\n",
    "        mean_box_loss.append(box_loss)\n",
    "        mean_confidence_loss.append(obj_loss)\n",
    "        mean_noobj_loss.append(noobj_loss)\n",
    "        mean_class_loss.append(class_loss)\n",
    "        \n",
    "        # update progress bar\n",
    "        #loop.set_postfix(loss=loss.item())\n",
    "\n",
    "    val_mean_loss_out = sum(val_mean_loss)/len(val_mean_loss)\n",
    "    #print(\"\\nVAL losses\")\n",
    "    logger.info(\"\\nVAL losses\")\n",
    "#     print(f\"Mean total loss was {val_mean_loss_out:.3f}\") # TQDM prints last batch loss\n",
    "    mean_box_loss_out = sum(mean_box_loss)/len(mean_box_loss)\n",
    "    mean_confidence_loss_out = sum(mean_confidence_loss)/len(mean_confidence_loss)\n",
    "    mean_noobj_loss_out = sum(mean_noobj_loss)/len(mean_noobj_loss)\n",
    "    mean_class_loss_out = sum(mean_class_loss)/len(mean_class_loss)  \n",
    "#     print(f\"Mean box loss was {mean_box_loss_out:.3f}\") \n",
    "#     print(f\"Mean confidence loss was {mean_confidence_loss_out:.3f}\") \n",
    "#     print(f\"Mean noobj loss was {mean_noobj_loss_out:.3f}\") \n",
    "#     print(f\"Mean class loss was {mean_class_loss_out:.3f}\") \n",
    "\n",
    "    print(\"Total Loss\".ljust(12) + \"|\" + \n",
    "          \"Box Loss\".ljust(12) + \"|\" + \n",
    "          \"Conf Loss\".ljust(12) + \"|\" + \n",
    "          \"No Obj Loss\".ljust(12) + \"|\" + \n",
    "          \"Class Loss\".ljust(12))\n",
    "    print(\"------------\".ljust(12) + \" \" + \n",
    "          \"------------\".ljust(12) + \" \" + \n",
    "          \"------------\".ljust(12) + \" \" + \n",
    "          \"------------\".ljust(12) + \" \" + \n",
    "          \"------------\".ljust(12))\n",
    "    print(f'{val_mean_loss_out:.3f}'.ljust(12) + \"|\" +\n",
    "          f'{mean_box_loss_out:.3f}'.ljust(12) + \"|\" +\n",
    "          f'{mean_confidence_loss_out:.3f}'.ljust(12) + \"|\" +\n",
    "          f'{mean_noobj_loss_out:.3f}'.ljust(12) + \"|\" +\n",
    "          f'{mean_class_loss_out:.3f}'.ljust(12))\n",
    "\n",
    "    logger.info(\"Total Loss\".ljust(12) + \"|\" + \n",
    "                  \"Box Loss\".ljust(12) + \"|\" + \n",
    "                  \"Conf Loss\".ljust(12) + \"|\" + \n",
    "                  \"No Obj Loss\".ljust(12) + \"|\" + \n",
    "                  \"Class Loss\".ljust(12))\n",
    "    logger.info(\"------------\".ljust(12) + \" \" + \n",
    "                  \"------------\".ljust(12) + \" \" + \n",
    "                  \"------------\".ljust(12) + \" \" + \n",
    "                  \"------------\".ljust(12) + \" \" + \n",
    "                  \"------------\".ljust(12))\n",
    "    logger.info(f'{val_mean_loss_out:.3f}'.ljust(12) + \"|\" +\n",
    "                  f'{mean_box_loss_out:.3f}'.ljust(12) + \"|\" +\n",
    "                  f'{mean_confidence_loss_out:.3f}'.ljust(12) + \"|\" +\n",
    "                  f'{mean_noobj_loss_out:.3f}'.ljust(12) + \"|\" +\n",
    "                  f'{mean_class_loss_out:.3f}'.ljust(12))\n",
    "    \n",
    "    return (val_mean_loss_out, \n",
    "            mean_box_loss_out, \n",
    "            mean_confidence_loss_out, \n",
    "            mean_noobj_loss_out, \n",
    "            mean_class_loss_out)\n",
    "    \n",
    "#     return val_loss_out"
   ]
  },
  {
   "cell_type": "markdown",
   "id": "a1d47f51-5c7b-434a-af27-a0e2596596bc",
   "metadata": {},
   "source": [
    "# Hyperparameters and Config"
   ]
  },
  {
   "cell_type": "code",
   "execution_count": 22,
   "id": "79142328-c910-4425-afd7-f6d38bd9baf4",
   "metadata": {},
   "outputs": [],
   "source": [
    "''' ============================\n",
    "    Hyperparameters and More\n",
    "============================ '''\n",
    "\n",
    "LEARNING_RATE = 5e-4\n",
    "#LEARNING_RATE = 1e-1\n",
    "DEVICE = \"cuda\" if torch.cuda.is_available() else \"cpu\"\n",
    "BATCH_SIZE = 64 \n",
    "#WEIGHT_DECAY = 5e-4\n",
    "WEIGHT_DECAY = 0\n",
    "EPOCHS = 110\n",
    "NUM_WORKERS = 2\n",
    "PIN_MEMORY = True\n",
    "#LOAD_MODEL = False\n",
    "#LOAD_MODEL_FILE = \"overfit.pth.tar\"\n",
    "\n",
    "TRAIN_IMG_DIR = train_imgs\n",
    "TRAIN_LABEL_DIR = train_labels\n",
    "EVAL_IMG_DIR = val_imgs\n",
    "EVAL_LABEL_DIR = val_labels\n",
    "\n",
    "LOG_FILE = \"log_file.xlsx\"\n",
    "\n",
    "IOU_mAP_THRES = 0.5\n",
    "IOU_NMS_THRES = 0.3\n",
    "THRESHOLD = 0.2\n",
    "\n",
    "''' ============================\n",
    "    Configuration\n",
    "============================ '''\n",
    "IMG_W = IMG_DIM['W']\n",
    "IMG_H = IMG_DIM['H']\n",
    "\n",
    "CELL_SIZE_X = 1/SX\n",
    "CELL_SIZE_Y = 1/SY\n",
    "\n",
    "\n",
    "''' ============================\n",
    "    Metrics\n",
    "============================ '''\n",
    "# mAP output\n",
    "## Train\n",
    "train_mAP = []\n",
    "train_class_AP = []\n",
    "train_class_precision = []\n",
    "train_class_recall = []\n",
    "## Val\n",
    "val_mAP = []\n",
    "val_class_AP = []\n",
    "val_class_precision = []\n",
    "val_class_recall = []\n",
    "\n",
    "# Loss output\n",
    "## Train\n",
    "train_total_loss = []\n",
    "train_box_loss = []\n",
    "train_confidence_loss = []\n",
    "train_noobj_loss = []\n",
    "train_class_loss = []\n",
    "## Val\n",
    "val_total_loss = []\n",
    "val_box_loss = []\n",
    "val_confidence_loss = []\n",
    "val_noobj_loss = []\n",
    "val_class_loss = []"
   ]
  },
  {
   "cell_type": "markdown",
   "id": "ba95ccfe-a797-45cd-82bb-37bcc9af62ff",
   "metadata": {},
   "source": [
    "# Main Function"
   ]
  },
  {
   "cell_type": "code",
   "execution_count": 23,
   "id": "22ef85f5-39b7-473a-855b-0561de058bbd",
   "metadata": {},
   "outputs": [],
   "source": [
    "def main():\n",
    "\n",
    "    ''' ============================\n",
    "        Print Config Values\n",
    "    ============================ '''\n",
    "    print(f'Device: {DEVICE}')\n",
    "    print(f'Learning Rate: {LEARNING_RATE}')\n",
    "    print(f'Batch Size: {BATCH_SIZE}')\n",
    "    print(f'IMG DIMS: ({IMG_H}, {IMG_W})')\n",
    "    print(f'W: {IMG_W}\\nH: {IMG_H}')\n",
    "    print(f'SX: {SX}\\nSY: {SY}\\nB: {B}\\nC: {C}')\n",
    "    print(f'Cell size:\\n\\tx = {CELL_SIZE_X}\\n\\ty = {CELL_SIZE_Y}')\n",
    "    print(f'\\nConfidence Threshold: {THRESHOLD}')\n",
    "    print(f'IOU mAP Threshold: {IOU_mAP_THRES}')\n",
    "    print(f'IOU NMS Threshold: {IOU_NMS_THRES}\\n')\n",
    "\n",
    "    logger.info(f'Device: {DEVICE}')\n",
    "    logger.info(f'Learning Rate: {LEARNING_RATE}')\n",
    "    logger.info(f'Batch Size: {BATCH_SIZE}')\n",
    "    logger.info(f'IMG DIMS: ({IMG_H}, {IMG_W})')\n",
    "    logger.info(f'W: {IMG_W}\\nH: {IMG_H}')\n",
    "    logger.info(f'SX: {SX}\\nSY: {SY}\\nB: {B}\\nC: {C}')\n",
    "    logger.info(f'\\nConfidence Threshold: {THRESHOLD}')\n",
    "    logger.info(f'IOU mAP Threshold: {IOU_mAP_THRES}')\n",
    "    logger.info(f'IOU NMS Threshold: {IOU_NMS_THRES}\\n')\n",
    "    #logger.info(f'Cell size:\\n\\tx = {CELL_SIZE_X}\\n\\ty = {CELL_SIZE_Y}')\n",
    "\n",
    "    ''' ============================\n",
    "        Cell to Box Mask\n",
    "    ============================ '''\n",
    "    cell2box_mask = torch.zeros((SY, SX, 2))\n",
    "    for i in range(SY):\n",
    "        for j in range(SX):\n",
    "            cell2box_mask[i,j,0] = j\n",
    "            cell2box_mask[i,j,1] = i    \n",
    "#     print(cell2box_mask)\n",
    "#     print(\"\\n\")\n",
    "\n",
    "    ''' ======================================\n",
    "        SETUP: Model, Loss, Dataset, Loader\n",
    "    ====================================== '''\n",
    "    if IMG_W == 88:\n",
    "        print(\"Using Tinyssimo 88x88\")\n",
    "        logger.info(\"Using Tinyssimo 88x88\")\n",
    "        model_tynss = Tinyssimo_fixed_88x88_BatchNorm(num_boxes=B, num_classes=C).to(DEVICE)\n",
    "    elif IMG_W == 224:\n",
    "        print(\"Using OPTIM BED 224x224\")\n",
    "        logger.info(\"Using OPTIM BED 224x224\")\n",
    "        model_tynss = OPTIM_BED(num_classes = C,\n",
    "                          S = SX,\n",
    "                          B = B,\n",
    "                          in_channels = 3).to(DEVICE)\n",
    "    else:\n",
    "        print(\"Wrong Model\")\n",
    "        logger.info(\"Wrong Model\")\n",
    "    \n",
    "    model_tynss._initialize_weights()\n",
    "\n",
    "    # Check model shape\n",
    "    in_rand_np = np.random.rand(4, 3, IMG_H, IMG_W)\n",
    "    in_rand = torch.tensor(in_rand_np, dtype=torch.float32, device=DEVICE)\n",
    "    out_test = model_tynss(in_rand)\n",
    "    print(f'Model shape is {out_test.shape}')\n",
    "    print(f'Model Arquitecture\\n{model_tynss}')\n",
    "    logger.info(f'Model shape is {out_test.shape}')\n",
    "    logger.info(f'Model Arquitecture\\n{model_tynss}')   \n",
    "    \n",
    "    optimizer = optim.Adam(model_tynss.parameters(), \n",
    "                           lr=LEARNING_RATE, \n",
    "                           weight_decay=WEIGHT_DECAY)\n",
    "    \n",
    "    scheduler = optim.lr_scheduler.ReduceLROnPlateau(optimizer, \n",
    "                                                     mode='min',\n",
    "                                                     factor=0.9, \n",
    "                                                     patience=2, \n",
    "                                                     threshold=0.1, \n",
    "                                                     threshold_mode='abs',\n",
    "                                                     min_lr=1e-5)\n",
    "    \n",
    "#     optimizer = torch.optim.SGD(model_tynss.parameters(), \n",
    "#                                 lr=LEARNING_RATE,\n",
    "#                                 momentum=0.9, \n",
    "#                                 weight_decay=WEIGHT_DECAY, \n",
    "#                                 nesterov=True)\n",
    "    \n",
    "    n_trainable = sum(p.numel() for p in model_tynss.parameters() if p.requires_grad)\n",
    "    print(f'\\nTrainable parameters = {n_trainable}')\n",
    "    logger.info(f'\\nTrainable parameters = {n_trainable}')\n",
    "\n",
    "    n_params = parameters_to_vector(model_tynss.parameters()).numel()\n",
    "    print(f'Total parameters = {n_params}\\n')\n",
    "    logger.info(f'Total parameters = {n_params}\\n')\n",
    "    \n",
    "    if B == 1:\n",
    "        print(f'Using YoloLossMSE')\n",
    "        logger.info(f'Using YoloLossMSE')\n",
    "        loss_fn = YoloLossMSE(SX=SX, \n",
    "                              SY=SY, \n",
    "                              B=B, \n",
    "                              C=C)\n",
    "    elif B == 2:\n",
    "        print(f'Using YoloLossMSE_2BBox')\n",
    "        logger.info(f'Using YoloLossMSE_2BBox')\n",
    "        loss_fn = YoloLossMSE_2BBox(SX=SX, \n",
    "                                    SY=SY, \n",
    "                                    B=B, \n",
    "                                    C=C)\n",
    "    else:\n",
    "        print(\"Wrong B bounding boxes configuration\")\n",
    "        logger.info(\"Wrong B bounding boxes configuration\")\n",
    "\n",
    "    train_transform = A.Compose([\n",
    "        A.HorizontalFlip(p=0.5),\n",
    "        A.RandomBrightnessContrast(p=0.5),\n",
    "        # If boxes are to close, it can remove some because they fall inside same cell\n",
    "        A.RandomSizedBBoxSafeCrop(height=int(1.4*IMG_H),\n",
    "                                  width= int(1.4*IMG_W),\n",
    "                                  erosion_rate=0.6,\n",
    "                                  p=0.3),\n",
    "        A.HueSaturationValue(hue_shift_limit=10, p=0.2),\n",
    "        A.Blur(blur_limit=(3,3), p=0.2),\n",
    "        A.CLAHE(clip_limit=2.0, p=0.3),\n",
    "            # Shifting, scaling and rotation could dive 2 bbox inside same grid...\n",
    "            #A.ShiftScaleRotate(rotate_limit=10, p=0.2),\n",
    "        A.Resize(IMG_H, IMG_W, p=1),\n",
    "        A.Normalize(mean=(0.485, 0.456, 0.406), std=(0.229, 0.224, 0.225), p=1),\n",
    "        ToTensorV2(p=1),\n",
    "    ], bbox_params=A.BboxParams(format='yolo', \n",
    "                                min_area=8*8, \n",
    "                                min_visibility=0.05, \n",
    "                                label_fields=['class_labels']))\n",
    "    # TRAIN\n",
    "    print(\"\\nTRAIN WiderFace dataset\")\n",
    "    logger.info(\"\\nTRAIN WiderFace dataset\")\n",
    "    full_train_ds = WiderFace(img_h = IMG_H,\n",
    "                              img_w = IMG_W,\n",
    "                              img_dir = TRAIN_IMG_DIR,\n",
    "                              label_dir = TRAIN_LABEL_DIR,\n",
    "                              SX = SX,\n",
    "                              SY = SY,\n",
    "                              C = C,\n",
    "                              transform=train_transform)\n",
    "    \n",
    "    print(f'Train dataset len: {len(full_train_ds)}')\n",
    "    logger.info(f'Train dataset len: {len(full_train_ds)}')\n",
    "\n",
    "    \n",
    "    # VALIDATION\n",
    "    val_transform = A.Compose([\n",
    "        A.Resize(IMG_H, IMG_W, p=1),\n",
    "        A.Normalize(mean=(0.485, 0.456, 0.406), std=(0.229, 0.224, 0.225), p=1),\n",
    "        ToTensorV2(p=1),\n",
    "    ], bbox_params=A.BboxParams(format='yolo', label_fields=['class_labels']))\n",
    "    \n",
    "    print(\"\\nTEST WiderFace dataset\")\n",
    "    logger.info(\"\\nTEST WiderFace dataset\")\n",
    "    full_test_ds = WiderFace(img_h = IMG_H,\n",
    "                             img_w = IMG_W,\n",
    "                             img_dir = EVAL_IMG_DIR,\n",
    "                             label_dir = EVAL_LABEL_DIR,\n",
    "                             SX = SX,\n",
    "                             SY = SY,\n",
    "                             C = C,\n",
    "                             transform=val_transform)\n",
    "\n",
    "    print(f'Test dataset len: {len(full_test_ds)}')\n",
    "    logger.info(f'Test dataset len: {len(full_test_ds)}')\n",
    "    \n",
    "    # LOADERS\n",
    "    train_loader = DataLoader(dataset=full_train_ds,\n",
    "                              batch_size=BATCH_SIZE,\n",
    "                              num_workers=NUM_WORKERS,\n",
    "                              pin_memory=PIN_MEMORY,\n",
    "                              shuffle=True,\n",
    "                              drop_last=True)\n",
    "\n",
    "    eval_loader = DataLoader(dataset=full_test_ds,\n",
    "                             batch_size=BATCH_SIZE,\n",
    "                             num_workers=NUM_WORKERS,\n",
    "                             pin_memory=PIN_MEMORY,\n",
    "                             shuffle=False,\n",
    "                             drop_last=True)\n",
    "\n",
    "\n",
    "    ''' ==============================================================\n",
    "                                TRAINING LOOP\n",
    "    ============================================================== '''\n",
    "    # Start with infinite validation loss\n",
    "    best_valid_loss = np.inf\n",
    "    best_mAP = -1\n",
    "\n",
    "    start = datetime.datetime.now()\n",
    "    start_time = start.strftime(\"%H:%M:%S\")\n",
    "    print(f'\\n***Start Training: {start_time}\\n')\n",
    "    logger.info(f'\\n***Start Training: {start_time}\\n')\n",
    "    \n",
    "    for epoch in range(EPOCHS):\n",
    "\n",
    "        print(f'\\n=== EPOCH {epoch}/{EPOCHS-1} ===')\n",
    "        logger.info(f'\\n=== EPOCH {epoch}/{EPOCHS-1} ===')\n",
    "        \n",
    "        # TRAINING\n",
    "        t_loss, b_loss, conf_loss, n_loss, cls_loss = train_fn(loader=train_loader, \n",
    "                                                               model=model_tynss, \n",
    "                                                               optimizer=optimizer, \n",
    "                                                               loss_fn=loss_fn,\n",
    "                                                               device=DEVICE)\n",
    "        # Appending Train Losses\n",
    "        train_total_loss.append(t_loss)\n",
    "        train_box_loss.append(b_loss)\n",
    "        train_confidence_loss.append(conf_loss)\n",
    "        train_noobj_loss.append(n_loss)\n",
    "        train_class_loss.append(cls_loss)\n",
    "        \n",
    "        ##### NO LOGS, ONLY TOTAL LOSS\n",
    "#         t_loss = train_fn(loader=train_loader, \n",
    "#                           model=model_tynss, \n",
    "#                           optimizer=optimizer, \n",
    "#                           loss_fn=loss_fn,\n",
    "#                           device=DEVICE)\n",
    "#         # Appending Train Losses\n",
    "#         train_total_loss.append(t_loss)\n",
    "\n",
    "\n",
    "        # TRAIN MEAN AVERAGE PRECISION\n",
    "        if ( (epoch+1) % 15 ) == 0:\n",
    "            pred_boxes, target_boxes = get_bboxes(loader=train_loader, \n",
    "                                                  model=model_tynss,\n",
    "                                                  SX=SX,\n",
    "                                                  SY=SY,\n",
    "                                                  B=B,\n",
    "                                                  C=C,\n",
    "                                                  mask=cell2box_mask,\n",
    "                                                  iou_threshold=IOU_NMS_THRES, \n",
    "                                                  threshold=THRESHOLD,\n",
    "                                                  device=DEVICE,\n",
    "                                                  box_format=\"midpoint\")\n",
    "\n",
    "            mean_avg_prec, avg_prec, cls_prec, cls_rec = mAP(pred_boxes=pred_boxes, \n",
    "                                                             true_boxes=target_boxes, \n",
    "                                                             iou_threshold=IOU_mAP_THRES, \n",
    "                                                             box_format=\"midpoint\",\n",
    "                                                             num_classes=C)\n",
    "\n",
    "            train_mAP.append(mean_avg_prec)\n",
    "            train_class_AP.append(avg_prec)   \n",
    "            train_class_precision.append(cls_prec)\n",
    "            train_class_recall.append(cls_rec)\n",
    "            print(f\"\\nTrain mAP: {mean_avg_prec:.3f}\")\n",
    "            logger.info(f\"\\nTrain mAP: {mean_avg_prec:.3f}\")\n",
    "        \n",
    "        # VALIDATING\n",
    "        with torch.no_grad():\n",
    "            v_loss, b_loss, conf_loss, n_loss, cls_loss = eval_fn(loader=eval_loader, \n",
    "                                                                  model=model_tynss,                         \n",
    "                                                                  loss_fn=loss_fn,\n",
    "                                                                  device=DEVICE)\n",
    "            # Appending Validation Losses\n",
    "            val_total_loss.append(v_loss)\n",
    "            val_box_loss.append(b_loss)\n",
    "            val_confidence_loss.append(conf_loss)\n",
    "            val_noobj_loss.append(n_loss)\n",
    "            val_class_loss.append(cls_loss)\n",
    "            \n",
    "            scheduler.step(v_loss)\n",
    "            \n",
    "            ##### NO LOGS, ONLY TOTAL LOSS\n",
    "#             v_loss = eval_fn(loader=eval_loader, \n",
    "#                              model=model_tynss,                         \n",
    "#                              loss_fn=loss_fn,\n",
    "#                              device=DEVICE)\n",
    "#             # Appending Validation Losses\n",
    "#             val_total_loss.append(v_loss)\n",
    "\n",
    "            # VALIDATION MEAN AVERAGE PRECISION\n",
    "            if ( (epoch+1) % 5 ) == 0:\n",
    "                pred_boxes, target_boxes = get_bboxes(loader=eval_loader, \n",
    "                                                      model=model_tynss,\n",
    "                                                      SX=SX,\n",
    "                                                      SY=SY,\n",
    "                                                      B=B,\n",
    "                                                      C=C,\n",
    "                                                      mask=cell2box_mask,\n",
    "                                                      iou_threshold=IOU_NMS_THRES, \n",
    "                                                      threshold=THRESHOLD,\n",
    "                                                      device=DEVICE,\n",
    "                                                      box_format=\"midpoint\")\n",
    "\n",
    "                mean_avg_prec, avg_prec, cls_prec, cls_rec = mAP(pred_boxes=pred_boxes, \n",
    "                                                                 true_boxes=target_boxes, \n",
    "                                                                 iou_threshold=IOU_mAP_THRES, \n",
    "                                                                 box_format=\"midpoint\",\n",
    "                                                                 num_classes=C)\n",
    "\n",
    "                val_mAP.append(mean_avg_prec)\n",
    "                val_class_AP.append(avg_prec)   \n",
    "                val_class_precision.append(cls_prec)\n",
    "                val_class_recall.append(cls_rec)\n",
    "                print(f\"\\nValidation mAP: {mean_avg_prec:.3f}\")\n",
    "                logger.info(f\"\\nValidation mAP: {mean_avg_prec:.3f}\")\n",
    "\n",
    "                if best_mAP < mean_avg_prec:\n",
    "                    best_mAP = mean_avg_prec\n",
    "                    print(f\"\\nSaving model with new best val mAP: {best_mAP:.3f}\")\n",
    "                    logger.info(f\"\\nSaving model with new best val mAP: {best_mAP:.3f}\")\n",
    "                    torch.save({\n",
    "                        'epoch': epoch,\n",
    "                        'model_state_dict': model_tynss.state_dict(),\n",
    "                        'optimizer_state_dict': optimizer.state_dict(),}, log_path + 'bed_best_2BB_mAP.pt')  \n",
    "\n",
    "        if ( (epoch+1) % 5 ) == 0:\n",
    "            torch.save(model_tynss.state_dict(), log_path + 'bed_2BB_5epoch.pt')\n",
    "            \n",
    "        if best_valid_loss > v_loss:\n",
    "            best_valid_loss = v_loss\n",
    "            print(f\"\\nSaving model with new best validation loss: {best_valid_loss:.3f}\")\n",
    "            logger.info(f\"\\nSaving model with new best validation loss: {best_valid_loss:.3f}\")\n",
    "            torch.save(model_tynss.state_dict(), log_path + 'best_2BB.pt')     \n",
    "        \n",
    "    logger.info('Saving last model')   \n",
    "    torch.save(model_tynss.state_dict(), log_path + 'last_2BB.pt') \n",
    "    \n",
    "#     save_log(epochs=EPOCHS, \n",
    "#              train_total_loss=train_total_loss,\n",
    "#              train_box_loss=train_box_loss,\n",
    "#              train_class_loss=train_class_loss,\n",
    "#              train_confidence_loss=train_confidence_loss,\n",
    "#              train_noobj_loss=train_noobj_loss,\n",
    "#              train_mAP=train_mAP,\n",
    "#              train_class_AP=train_class_AP,\n",
    "#              train_class_precision=train_class_precision,\n",
    "#              train_class_recall=train_class_recall,\n",
    "#              val_total_loss=val_total_loss,\n",
    "#              val_box_loss=val_box_loss,\n",
    "#              val_class_loss=val_class_loss,\n",
    "#              val_confidence_loss=val_confidence_loss,\n",
    "#              val_noobj_loss=val_noobj_loss,\n",
    "#              val_mAP=val_mAP,\n",
    "#              val_class_AP=val_class_AP,\n",
    "#              val_class_precision=val_class_precision,\n",
    "#              val_class_recall=val_class_recall,\n",
    "#              log_file_dst=LOG_FILE)\n",
    "\n",
    "    end = datetime.datetime.now()\n",
    "    end_time = end.strftime(\"%H:%M:%S\")\n",
    "    print(f'\\n***Script finished: {end_time}\\n')  \n",
    "    print(f'Time elapsed: {end-start}')\n",
    "    logger.info(f'\\n***Script finished: {end_time}\\n')  \n",
    "    logger.info(f'Time elapsed: {end-start}')"
   ]
  },
  {
   "cell_type": "markdown",
   "id": "0ae580f4-e175-4035-a2f7-dabd179db9a3",
   "metadata": {},
   "source": [
    "# Main Execute"
   ]
  },
  {
   "cell_type": "code",
   "execution_count": 24,
   "id": "28659625-6ba4-44ac-ad2c-576b16425dcf",
   "metadata": {},
   "outputs": [
    {
     "name": "stdout",
     "output_type": "stream",
     "text": [
      "Starting script\n",
      "\n",
      "Device: cuda\n",
      "Learning Rate: 0.0005\n",
      "Batch Size: 64\n",
      "IMG DIMS: (88, 88)\n",
      "W: 88\n",
      "H: 88\n",
      "SX: 4\n",
      "SY: 4\n",
      "B: 2\n",
      "C: 1\n",
      "Cell size:\n",
      "\tx = 0.25\n",
      "\ty = 0.25\n",
      "\n",
      "Confidence Threshold: 0.2\n",
      "IOU mAP Threshold: 0.5\n",
      "IOU NMS Threshold: 0.3\n",
      "\n",
      "Using Tinyssimo 88x88\n",
      "Model shape is torch.Size([4, 4, 4, 11])\n",
      "Model Arquitecture\n",
      "Tinyssimo_fixed_88x88_BatchNorm(\n",
      "  (tiny_model): Sequential(\n",
      "    (0): Conv2d(3, 16, kernel_size=(3, 3), stride=(1, 1), padding=same, bias=False)\n",
      "    (1): BatchNorm2d(16, eps=1e-05, momentum=0.1, affine=True, track_running_stats=True)\n",
      "    (2): ReLU()\n",
      "    (3): Conv2d(16, 16, kernel_size=(3, 3), stride=(1, 1), padding=same, bias=False)\n",
      "    (4): BatchNorm2d(16, eps=1e-05, momentum=0.1, affine=True, track_running_stats=True)\n",
      "    (5): ReLU()\n",
      "    (6): MaxPool2d(kernel_size=2, stride=2, padding=0, dilation=1, ceil_mode=False)\n",
      "    (7): Conv2d(16, 16, kernel_size=(3, 3), stride=(1, 1), padding=same, bias=False)\n",
      "    (8): BatchNorm2d(16, eps=1e-05, momentum=0.1, affine=True, track_running_stats=True)\n",
      "    (9): ReLU()\n",
      "    (10): Conv2d(16, 32, kernel_size=(3, 3), stride=(1, 1), padding=same, bias=False)\n",
      "    (11): BatchNorm2d(32, eps=1e-05, momentum=0.1, affine=True, track_running_stats=True)\n",
      "    (12): ReLU()\n",
      "    (13): MaxPool2d(kernel_size=2, stride=2, padding=0, dilation=1, ceil_mode=False)\n",
      "    (14): Conv2d(32, 32, kernel_size=(3, 3), stride=(1, 1), padding=same, bias=False)\n",
      "    (15): BatchNorm2d(32, eps=1e-05, momentum=0.1, affine=True, track_running_stats=True)\n",
      "    (16): ReLU()\n",
      "    (17): Conv2d(32, 64, kernel_size=(3, 3), stride=(1, 1), padding=same, bias=False)\n",
      "    (18): BatchNorm2d(64, eps=1e-05, momentum=0.1, affine=True, track_running_stats=True)\n",
      "    (19): ReLU()\n",
      "    (20): MaxPool2d(kernel_size=2, stride=2, padding=0, dilation=1, ceil_mode=False)\n",
      "    (21): Conv2d(64, 64, kernel_size=(3, 3), stride=(1, 1), padding=same, bias=False)\n",
      "    (22): BatchNorm2d(64, eps=1e-05, momentum=0.1, affine=True, track_running_stats=True)\n",
      "    (23): ReLU()\n",
      "    (24): Conv2d(64, 64, kernel_size=(3, 3), stride=(1, 1), padding=same, bias=False)\n",
      "    (25): BatchNorm2d(64, eps=1e-05, momentum=0.1, affine=True, track_running_stats=True)\n",
      "    (26): ReLU()\n",
      "    (27): MaxPool2d(kernel_size=2, stride=2, padding=0, dilation=1, ceil_mode=False)\n",
      "    (28): Conv2d(64, 128, kernel_size=(3, 3), stride=(1, 1), padding=same, bias=False)\n",
      "    (29): BatchNorm2d(128, eps=1e-05, momentum=0.1, affine=True, track_running_stats=True)\n",
      "    (30): ReLU()\n",
      "    (31): Conv2d(128, 128, kernel_size=(3, 3), stride=(1, 1), padding=same, bias=False)\n",
      "    (32): BatchNorm2d(128, eps=1e-05, momentum=0.1, affine=True, track_running_stats=True)\n",
      "    (33): ReLU()\n",
      "    (34): MaxPool2d(kernel_size=2, stride=2, padding=0, dilation=1, ceil_mode=False)\n",
      "    (35): Flatten(start_dim=1, end_dim=-1)\n",
      "    (36): Linear(in_features=512, out_features=256, bias=True)\n",
      "    (37): ReLU()\n",
      "    (38): Dropout(p=0.8, inplace=False)\n",
      "    (39): Linear(in_features=256, out_features=176, bias=True)\n",
      "  )\n",
      ")\n",
      "\n",
      "Trainable parameters = 509888\n",
      "Total parameters = 509888\n",
      "\n",
      "Using YoloLossMSE_2BBox\n",
      "\n",
      "TRAIN WiderFace dataset\n",
      "Removed wrong images: 0\n",
      "Removed due to overlapping: 1175\n",
      "Removed due to more than 5: 0\n",
      "Train dataset len: 7260\n",
      "\n",
      "TEST WiderFace dataset\n",
      "Removed wrong images: 0\n",
      "Removed due to overlapping: 330\n",
      "Removed due to more than 5: 0\n",
      "Test dataset len: 1773\n",
      "\n",
      "***Start Training: 07:27:52\n",
      "\n",
      "\n",
      "=== EPOCH 0/109 ===\n",
      "Learning Rate = 0.0005\n",
      "\n"
     ]
    },
    {
     "name": "stderr",
     "output_type": "stream",
     "text": [
      "Training: 100%|██████████| 113/113 [00:57<00:00,  1.96it/s]\n"
     ]
    },
    {
     "name": "stdout",
     "output_type": "stream",
     "text": [
      "Total Loss  |Box Loss    |Conf Loss   |No Obj Loss |Class Loss  \n",
      "------------ ------------ ------------ ------------ ------------\n",
      "147.363     |72.601      |49.894      |23.077      |1.791       \n",
      "\n"
     ]
    },
    {
     "name": "stderr",
     "output_type": "stream",
     "text": [
      "Validating: 100%|██████████| 27/27 [00:08<00:00,  3.08it/s]\n"
     ]
    },
    {
     "name": "stdout",
     "output_type": "stream",
     "text": [
      "Total Loss  |Box Loss    |Conf Loss   |No Obj Loss |Class Loss  \n",
      "------------ ------------ ------------ ------------ ------------\n",
      "168.298     |85.858      |76.109      |6.210       |0.121       \n",
      "\n",
      "Saving model with new best validation loss: 168.298\n",
      "\n",
      "=== EPOCH 1/109 ===\n",
      "Learning Rate = 0.0005\n",
      "\n"
     ]
    },
    {
     "name": "stderr",
     "output_type": "stream",
     "text": [
      "Training: 100%|██████████| 113/113 [00:56<00:00,  2.00it/s]\n"
     ]
    },
    {
     "name": "stdout",
     "output_type": "stream",
     "text": [
      "Total Loss  |Box Loss    |Conf Loss   |No Obj Loss |Class Loss  \n",
      "------------ ------------ ------------ ------------ ------------\n",
      "121.067     |59.942      |50.633      |10.260      |0.231       \n",
      "\n"
     ]
    },
    {
     "name": "stderr",
     "output_type": "stream",
     "text": [
      "Validating: 100%|██████████| 27/27 [00:08<00:00,  3.11it/s]\n"
     ]
    },
    {
     "name": "stdout",
     "output_type": "stream",
     "text": [
      "Total Loss  |Box Loss    |Conf Loss   |No Obj Loss |Class Loss  \n",
      "------------ ------------ ------------ ------------ ------------\n",
      "166.278     |84.629      |75.121      |6.451       |0.077       \n",
      "\n",
      "Saving model with new best validation loss: 166.278\n",
      "\n",
      "=== EPOCH 2/109 ===\n",
      "Learning Rate = 0.0005\n",
      "\n"
     ]
    },
    {
     "name": "stderr",
     "output_type": "stream",
     "text": [
      "Training: 100%|██████████| 113/113 [00:54<00:00,  2.08it/s]\n"
     ]
    },
    {
     "name": "stdout",
     "output_type": "stream",
     "text": [
      "Total Loss  |Box Loss    |Conf Loss   |No Obj Loss |Class Loss  \n",
      "------------ ------------ ------------ ------------ ------------\n",
      "117.698     |57.304      |50.392      |9.850       |0.153       \n",
      "\n"
     ]
    },
    {
     "name": "stderr",
     "output_type": "stream",
     "text": [
      "Validating: 100%|██████████| 27/27 [00:08<00:00,  3.21it/s]\n"
     ]
    },
    {
     "name": "stdout",
     "output_type": "stream",
     "text": [
      "Total Loss  |Box Loss    |Conf Loss   |No Obj Loss |Class Loss  \n",
      "------------ ------------ ------------ ------------ ------------\n",
      "160.769     |80.300      |73.399      |7.016       |0.053       \n",
      "\n",
      "Saving model with new best validation loss: 160.769\n",
      "\n",
      "=== EPOCH 3/109 ===\n",
      "Learning Rate = 0.0005\n",
      "\n"
     ]
    },
    {
     "name": "stderr",
     "output_type": "stream",
     "text": [
      "Training: 100%|██████████| 113/113 [00:51<00:00,  2.17it/s]\n"
     ]
    },
    {
     "name": "stdout",
     "output_type": "stream",
     "text": [
      "Total Loss  |Box Loss    |Conf Loss   |No Obj Loss |Class Loss  \n",
      "------------ ------------ ------------ ------------ ------------\n",
      "112.806     |52.989      |49.979      |9.734       |0.103       \n",
      "\n"
     ]
    },
    {
     "name": "stderr",
     "output_type": "stream",
     "text": [
      "Validating: 100%|██████████| 27/27 [00:08<00:00,  3.12it/s]\n"
     ]
    },
    {
     "name": "stdout",
     "output_type": "stream",
     "text": [
      "Total Loss  |Box Loss    |Conf Loss   |No Obj Loss |Class Loss  \n",
      "------------ ------------ ------------ ------------ ------------\n",
      "157.370     |78.215      |71.342      |7.769       |0.043       \n",
      "\n",
      "Saving model with new best validation loss: 157.370\n",
      "\n",
      "=== EPOCH 4/109 ===\n",
      "Learning Rate = 0.0005\n",
      "\n"
     ]
    },
    {
     "name": "stderr",
     "output_type": "stream",
     "text": [
      "Training: 100%|██████████| 113/113 [00:50<00:00,  2.23it/s]\n"
     ]
    },
    {
     "name": "stdout",
     "output_type": "stream",
     "text": [
      "Total Loss  |Box Loss    |Conf Loss   |No Obj Loss |Class Loss  \n",
      "------------ ------------ ------------ ------------ ------------\n",
      "109.158     |49.891      |49.156      |10.025      |0.086       \n",
      "\n"
     ]
    },
    {
     "name": "stderr",
     "output_type": "stream",
     "text": [
      "Validating: 100%|██████████| 27/27 [00:08<00:00,  3.10it/s]"
     ]
    },
    {
     "name": "stdout",
     "output_type": "stream",
     "text": [
      "Total Loss  |Box Loss    |Conf Loss   |No Obj Loss |Class Loss  \n",
      "------------ ------------ ------------ ------------ ------------\n",
      "146.571     |69.367      |69.498      |7.687       |0.019       \n"
     ]
    },
    {
     "name": "stderr",
     "output_type": "stream",
     "text": [
      "\n",
      "mAP:@.5: 100%|██████████| 1/1 [00:02<00:00,  2.66s/it]\n"
     ]
    },
    {
     "name": "stdout",
     "output_type": "stream",
     "text": [
      "\n",
      "Validation mAP: 0.003\n",
      "\n",
      "Saving model with new best val mAP: 0.003\n",
      "\n",
      "Saving model with new best validation loss: 146.571\n",
      "\n",
      "=== EPOCH 5/109 ===\n",
      "Learning Rate = 0.0005\n",
      "\n"
     ]
    },
    {
     "name": "stderr",
     "output_type": "stream",
     "text": [
      "Training: 100%|██████████| 113/113 [00:53<00:00,  2.09it/s]\n"
     ]
    },
    {
     "name": "stdout",
     "output_type": "stream",
     "text": [
      "Total Loss  |Box Loss    |Conf Loss   |No Obj Loss |Class Loss  \n",
      "------------ ------------ ------------ ------------ ------------\n",
      "104.328     |47.325      |46.293      |10.633      |0.076       \n",
      "\n"
     ]
    },
    {
     "name": "stderr",
     "output_type": "stream",
     "text": [
      "Validating: 100%|██████████| 27/27 [00:08<00:00,  3.12it/s]\n"
     ]
    },
    {
     "name": "stdout",
     "output_type": "stream",
     "text": [
      "Total Loss  |Box Loss    |Conf Loss   |No Obj Loss |Class Loss  \n",
      "------------ ------------ ------------ ------------ ------------\n",
      "140.306     |63.792      |71.235      |5.272       |0.007       \n",
      "\n",
      "Saving model with new best validation loss: 140.306\n",
      "\n",
      "=== EPOCH 6/109 ===\n",
      "Learning Rate = 0.0005\n",
      "\n"
     ]
    },
    {
     "name": "stderr",
     "output_type": "stream",
     "text": [
      "Training: 100%|██████████| 113/113 [00:52<00:00,  2.17it/s]\n"
     ]
    },
    {
     "name": "stdout",
     "output_type": "stream",
     "text": [
      "Total Loss  |Box Loss    |Conf Loss   |No Obj Loss |Class Loss  \n",
      "------------ ------------ ------------ ------------ ------------\n",
      "99.927      |45.223      |43.857      |10.780      |0.066       \n",
      "\n"
     ]
    },
    {
     "name": "stderr",
     "output_type": "stream",
     "text": [
      "Validating: 100%|██████████| 27/27 [00:08<00:00,  3.12it/s]\n"
     ]
    },
    {
     "name": "stdout",
     "output_type": "stream",
     "text": [
      "Total Loss  |Box Loss    |Conf Loss   |No Obj Loss |Class Loss  \n",
      "------------ ------------ ------------ ------------ ------------\n",
      "133.963     |61.149      |67.387      |5.419       |0.007       \n",
      "\n",
      "Saving model with new best validation loss: 133.963\n",
      "\n",
      "=== EPOCH 7/109 ===\n",
      "Learning Rate = 0.0005\n",
      "\n"
     ]
    },
    {
     "name": "stderr",
     "output_type": "stream",
     "text": [
      "Training: 100%|██████████| 113/113 [00:50<00:00,  2.23it/s]\n"
     ]
    },
    {
     "name": "stdout",
     "output_type": "stream",
     "text": [
      "Total Loss  |Box Loss    |Conf Loss   |No Obj Loss |Class Loss  \n",
      "------------ ------------ ------------ ------------ ------------\n",
      "96.356      |44.254      |41.095      |10.950      |0.056       \n",
      "\n"
     ]
    },
    {
     "name": "stderr",
     "output_type": "stream",
     "text": [
      "Validating: 100%|██████████| 27/27 [00:08<00:00,  3.09it/s]\n"
     ]
    },
    {
     "name": "stdout",
     "output_type": "stream",
     "text": [
      "Total Loss  |Box Loss    |Conf Loss   |No Obj Loss |Class Loss  \n",
      "------------ ------------ ------------ ------------ ------------\n",
      "129.907     |62.187      |60.482      |7.231       |0.008       \n",
      "\n",
      "Saving model with new best validation loss: 129.907\n",
      "\n",
      "=== EPOCH 8/109 ===\n",
      "Learning Rate = 0.0005\n",
      "\n"
     ]
    },
    {
     "name": "stderr",
     "output_type": "stream",
     "text": [
      "Training: 100%|██████████| 113/113 [00:51<00:00,  2.18it/s]\n"
     ]
    },
    {
     "name": "stdout",
     "output_type": "stream",
     "text": [
      "Total Loss  |Box Loss    |Conf Loss   |No Obj Loss |Class Loss  \n",
      "------------ ------------ ------------ ------------ ------------\n",
      "94.294      |43.422      |40.066      |10.756      |0.050       \n",
      "\n"
     ]
    },
    {
     "name": "stderr",
     "output_type": "stream",
     "text": [
      "Validating: 100%|██████████| 27/27 [00:08<00:00,  3.15it/s]\n"
     ]
    },
    {
     "name": "stdout",
     "output_type": "stream",
     "text": [
      "Total Loss  |Box Loss    |Conf Loss   |No Obj Loss |Class Loss  \n",
      "------------ ------------ ------------ ------------ ------------\n",
      "130.553     |61.216      |64.156      |5.177       |0.003       \n",
      "\n",
      "=== EPOCH 9/109 ===\n",
      "Learning Rate = 0.0005\n",
      "\n"
     ]
    },
    {
     "name": "stderr",
     "output_type": "stream",
     "text": [
      "Training: 100%|██████████| 113/113 [00:51<00:00,  2.18it/s]\n"
     ]
    },
    {
     "name": "stdout",
     "output_type": "stream",
     "text": [
      "Total Loss  |Box Loss    |Conf Loss   |No Obj Loss |Class Loss  \n",
      "------------ ------------ ------------ ------------ ------------\n",
      "91.009      |41.572      |38.527      |10.857      |0.052       \n",
      "\n"
     ]
    },
    {
     "name": "stderr",
     "output_type": "stream",
     "text": [
      "Validating: 100%|██████████| 27/27 [00:08<00:00,  3.04it/s]"
     ]
    },
    {
     "name": "stdout",
     "output_type": "stream",
     "text": [
      "Total Loss  |Box Loss    |Conf Loss   |No Obj Loss |Class Loss  \n",
      "------------ ------------ ------------ ------------ ------------\n",
      "124.807     |58.500      |60.389      |5.911       |0.006       \n"
     ]
    },
    {
     "name": "stderr",
     "output_type": "stream",
     "text": [
      "\n",
      "mAP:@.5: 100%|██████████| 1/1 [00:01<00:00,  1.24s/it]\n"
     ]
    },
    {
     "name": "stdout",
     "output_type": "stream",
     "text": [
      "\n",
      "Validation mAP: 0.083\n",
      "\n",
      "Saving model with new best val mAP: 0.083\n",
      "\n",
      "Saving model with new best validation loss: 124.807\n",
      "\n",
      "=== EPOCH 10/109 ===\n",
      "Learning Rate = 0.0005\n",
      "\n"
     ]
    },
    {
     "name": "stderr",
     "output_type": "stream",
     "text": [
      "Training: 100%|██████████| 113/113 [00:52<00:00,  2.15it/s]\n"
     ]
    },
    {
     "name": "stdout",
     "output_type": "stream",
     "text": [
      "Total Loss  |Box Loss    |Conf Loss   |No Obj Loss |Class Loss  \n",
      "------------ ------------ ------------ ------------ ------------\n",
      "88.034      |39.742      |37.647      |10.591      |0.053       \n",
      "\n"
     ]
    },
    {
     "name": "stderr",
     "output_type": "stream",
     "text": [
      "Validating: 100%|██████████| 27/27 [00:08<00:00,  3.17it/s]\n"
     ]
    },
    {
     "name": "stdout",
     "output_type": "stream",
     "text": [
      "Total Loss  |Box Loss    |Conf Loss   |No Obj Loss |Class Loss  \n",
      "------------ ------------ ------------ ------------ ------------\n",
      "126.414     |62.912      |55.915      |7.576       |0.010       \n",
      "\n",
      "=== EPOCH 11/109 ===\n",
      "Learning Rate = 0.0005\n",
      "\n"
     ]
    },
    {
     "name": "stderr",
     "output_type": "stream",
     "text": [
      "Training: 100%|██████████| 113/113 [00:53<00:00,  2.13it/s]\n"
     ]
    },
    {
     "name": "stdout",
     "output_type": "stream",
     "text": [
      "Total Loss  |Box Loss    |Conf Loss   |No Obj Loss |Class Loss  \n",
      "------------ ------------ ------------ ------------ ------------\n",
      "86.265      |39.025      |36.618      |10.578      |0.044       \n",
      "\n"
     ]
    },
    {
     "name": "stderr",
     "output_type": "stream",
     "text": [
      "Validating: 100%|██████████| 27/27 [00:08<00:00,  3.15it/s]\n"
     ]
    },
    {
     "name": "stdout",
     "output_type": "stream",
     "text": [
      "Total Loss  |Box Loss    |Conf Loss   |No Obj Loss |Class Loss  \n",
      "------------ ------------ ------------ ------------ ------------\n",
      "121.519     |57.235      |57.132      |7.144       |0.009       \n",
      "\n",
      "Saving model with new best validation loss: 121.519\n",
      "\n",
      "=== EPOCH 12/109 ===\n",
      "Learning Rate = 0.0005\n",
      "\n"
     ]
    },
    {
     "name": "stderr",
     "output_type": "stream",
     "text": [
      "Training: 100%|██████████| 113/113 [00:51<00:00,  2.18it/s]\n"
     ]
    },
    {
     "name": "stdout",
     "output_type": "stream",
     "text": [
      "Total Loss  |Box Loss    |Conf Loss   |No Obj Loss |Class Loss  \n",
      "------------ ------------ ------------ ------------ ------------\n",
      "86.977      |39.901      |36.574      |10.460      |0.044       \n",
      "\n"
     ]
    },
    {
     "name": "stderr",
     "output_type": "stream",
     "text": [
      "Validating: 100%|██████████| 27/27 [00:08<00:00,  3.19it/s]\n"
     ]
    },
    {
     "name": "stdout",
     "output_type": "stream",
     "text": [
      "Total Loss  |Box Loss    |Conf Loss   |No Obj Loss |Class Loss  \n",
      "------------ ------------ ------------ ------------ ------------\n",
      "122.704     |59.140      |57.260      |6.296       |0.008       \n",
      "\n",
      "=== EPOCH 13/109 ===\n",
      "Learning Rate = 0.0005\n",
      "\n"
     ]
    },
    {
     "name": "stderr",
     "output_type": "stream",
     "text": [
      "Training: 100%|██████████| 113/113 [00:52<00:00,  2.15it/s]\n"
     ]
    },
    {
     "name": "stdout",
     "output_type": "stream",
     "text": [
      "Total Loss  |Box Loss    |Conf Loss   |No Obj Loss |Class Loss  \n",
      "------------ ------------ ------------ ------------ ------------\n",
      "84.967      |38.515      |35.978      |10.429      |0.044       \n",
      "\n"
     ]
    },
    {
     "name": "stderr",
     "output_type": "stream",
     "text": [
      "Validating: 100%|██████████| 27/27 [00:08<00:00,  3.15it/s]\n"
     ]
    },
    {
     "name": "stdout",
     "output_type": "stream",
     "text": [
      "Total Loss  |Box Loss    |Conf Loss   |No Obj Loss |Class Loss  \n",
      "------------ ------------ ------------ ------------ ------------\n",
      "117.425     |51.649      |61.513      |4.261       |0.002       \n",
      "\n",
      "Saving model with new best validation loss: 117.425\n",
      "\n",
      "=== EPOCH 14/109 ===\n",
      "Learning Rate = 0.0005\n",
      "\n"
     ]
    },
    {
     "name": "stderr",
     "output_type": "stream",
     "text": [
      "Training: 100%|██████████| 113/113 [00:50<00:00,  2.24it/s]"
     ]
    },
    {
     "name": "stdout",
     "output_type": "stream",
     "text": [
      "Total Loss  |Box Loss    |Conf Loss   |No Obj Loss |Class Loss  \n",
      "------------ ------------ ------------ ------------ ------------\n",
      "82.752      |37.499      |34.970      |10.243      |0.041       \n",
      "\n"
     ]
    },
    {
     "name": "stderr",
     "output_type": "stream",
     "text": [
      "\n",
      "mAP:@.5: 100%|██████████| 1/1 [00:08<00:00,  8.84s/it]\n"
     ]
    },
    {
     "name": "stdout",
     "output_type": "stream",
     "text": [
      "\n",
      "Train mAP: 0.145\n"
     ]
    },
    {
     "name": "stderr",
     "output_type": "stream",
     "text": [
      "Validating: 100%|██████████| 27/27 [00:10<00:00,  2.64it/s]"
     ]
    },
    {
     "name": "stdout",
     "output_type": "stream",
     "text": [
      "Total Loss  |Box Loss    |Conf Loss   |No Obj Loss |Class Loss  \n",
      "------------ ------------ ------------ ------------ ------------\n",
      "125.756     |63.753      |55.380      |6.611       |0.012       \n"
     ]
    },
    {
     "name": "stderr",
     "output_type": "stream",
     "text": [
      "\n",
      "mAP:@.5: 100%|██████████| 1/1 [00:01<00:00,  1.28s/it]\n"
     ]
    },
    {
     "name": "stdout",
     "output_type": "stream",
     "text": [
      "\n",
      "Validation mAP: 0.096\n",
      "\n",
      "Saving model with new best val mAP: 0.096\n",
      "\n",
      "=== EPOCH 15/109 ===\n",
      "Learning Rate = 0.0005\n",
      "\n"
     ]
    },
    {
     "name": "stderr",
     "output_type": "stream",
     "text": [
      "Training: 100%|██████████| 113/113 [00:53<00:00,  2.13it/s]\n"
     ]
    },
    {
     "name": "stdout",
     "output_type": "stream",
     "text": [
      "Total Loss  |Box Loss    |Conf Loss   |No Obj Loss |Class Loss  \n",
      "------------ ------------ ------------ ------------ ------------\n",
      "81.078      |36.419      |34.373      |10.243      |0.042       \n",
      "\n"
     ]
    },
    {
     "name": "stderr",
     "output_type": "stream",
     "text": [
      "Validating: 100%|██████████| 27/27 [00:08<00:00,  3.03it/s]\n"
     ]
    },
    {
     "name": "stdout",
     "output_type": "stream",
     "text": [
      "Total Loss  |Box Loss    |Conf Loss   |No Obj Loss |Class Loss  \n",
      "------------ ------------ ------------ ------------ ------------\n",
      "121.170     |55.942      |61.288      |3.937       |0.003       \n",
      "\n",
      "=== EPOCH 16/109 ===\n",
      "Learning Rate = 0.0005\n",
      "\n"
     ]
    },
    {
     "name": "stderr",
     "output_type": "stream",
     "text": [
      "Training: 100%|██████████| 113/113 [00:51<00:00,  2.20it/s]\n"
     ]
    },
    {
     "name": "stdout",
     "output_type": "stream",
     "text": [
      "Total Loss  |Box Loss    |Conf Loss   |No Obj Loss |Class Loss  \n",
      "------------ ------------ ------------ ------------ ------------\n",
      "81.077      |36.709      |34.010      |10.320      |0.038       \n",
      "\n"
     ]
    },
    {
     "name": "stderr",
     "output_type": "stream",
     "text": [
      "Validating: 100%|██████████| 27/27 [00:08<00:00,  3.08it/s]\n"
     ]
    },
    {
     "name": "stdout",
     "output_type": "stream",
     "text": [
      "Total Loss  |Box Loss    |Conf Loss   |No Obj Loss |Class Loss  \n",
      "------------ ------------ ------------ ------------ ------------\n",
      "116.239     |53.473      |58.276      |4.487       |0.003       \n",
      "\n",
      "Saving model with new best validation loss: 116.239\n",
      "\n",
      "=== EPOCH 17/109 ===\n",
      "Learning Rate = 0.0005\n",
      "\n"
     ]
    },
    {
     "name": "stderr",
     "output_type": "stream",
     "text": [
      "Training: 100%|██████████| 113/113 [00:49<00:00,  2.27it/s]\n"
     ]
    },
    {
     "name": "stdout",
     "output_type": "stream",
     "text": [
      "Total Loss  |Box Loss    |Conf Loss   |No Obj Loss |Class Loss  \n",
      "------------ ------------ ------------ ------------ ------------\n",
      "78.791      |35.647      |33.019      |10.094      |0.030       \n",
      "\n"
     ]
    },
    {
     "name": "stderr",
     "output_type": "stream",
     "text": [
      "Validating: 100%|██████████| 27/27 [00:08<00:00,  3.01it/s]\n"
     ]
    },
    {
     "name": "stdout",
     "output_type": "stream",
     "text": [
      "Total Loss  |Box Loss    |Conf Loss   |No Obj Loss |Class Loss  \n",
      "------------ ------------ ------------ ------------ ------------\n",
      "111.410     |51.583      |54.646      |5.179       |0.002       \n",
      "\n",
      "Saving model with new best validation loss: 111.410\n",
      "\n",
      "=== EPOCH 18/109 ===\n",
      "Learning Rate = 0.0005\n",
      "\n"
     ]
    },
    {
     "name": "stderr",
     "output_type": "stream",
     "text": [
      "Training: 100%|██████████| 113/113 [00:49<00:00,  2.27it/s]\n"
     ]
    },
    {
     "name": "stdout",
     "output_type": "stream",
     "text": [
      "Total Loss  |Box Loss    |Conf Loss   |No Obj Loss |Class Loss  \n",
      "------------ ------------ ------------ ------------ ------------\n",
      "77.666      |35.366      |32.044      |10.225      |0.033       \n",
      "\n"
     ]
    },
    {
     "name": "stderr",
     "output_type": "stream",
     "text": [
      "Validating: 100%|██████████| 27/27 [00:09<00:00,  2.97it/s]\n"
     ]
    },
    {
     "name": "stdout",
     "output_type": "stream",
     "text": [
      "Total Loss  |Box Loss    |Conf Loss   |No Obj Loss |Class Loss  \n",
      "------------ ------------ ------------ ------------ ------------\n",
      "114.010     |55.379      |52.225      |6.403       |0.003       \n",
      "\n",
      "=== EPOCH 19/109 ===\n",
      "Learning Rate = 0.0005\n",
      "\n"
     ]
    },
    {
     "name": "stderr",
     "output_type": "stream",
     "text": [
      "Training: 100%|██████████| 113/113 [00:51<00:00,  2.19it/s]\n"
     ]
    },
    {
     "name": "stdout",
     "output_type": "stream",
     "text": [
      "Total Loss  |Box Loss    |Conf Loss   |No Obj Loss |Class Loss  \n",
      "------------ ------------ ------------ ------------ ------------\n",
      "77.643      |35.394      |32.109      |10.107      |0.033       \n",
      "\n"
     ]
    },
    {
     "name": "stderr",
     "output_type": "stream",
     "text": [
      "Validating: 100%|██████████| 27/27 [00:09<00:00,  2.99it/s]"
     ]
    },
    {
     "name": "stdout",
     "output_type": "stream",
     "text": [
      "Total Loss  |Box Loss    |Conf Loss   |No Obj Loss |Class Loss  \n",
      "------------ ------------ ------------ ------------ ------------\n",
      "111.122     |51.737      |54.291      |5.092       |0.002       \n"
     ]
    },
    {
     "name": "stderr",
     "output_type": "stream",
     "text": [
      "\n",
      "mAP:@.5: 100%|██████████| 1/1 [00:01<00:00,  1.17s/it]\n"
     ]
    },
    {
     "name": "stdout",
     "output_type": "stream",
     "text": [
      "\n",
      "Validation mAP: 0.134\n",
      "\n",
      "Saving model with new best val mAP: 0.134\n",
      "\n",
      "Saving model with new best validation loss: 111.122\n",
      "\n",
      "=== EPOCH 20/109 ===\n",
      "Learning Rate = 0.0005\n",
      "\n"
     ]
    },
    {
     "name": "stderr",
     "output_type": "stream",
     "text": [
      "Training: 100%|██████████| 113/113 [00:52<00:00,  2.17it/s]\n"
     ]
    },
    {
     "name": "stdout",
     "output_type": "stream",
     "text": [
      "Total Loss  |Box Loss    |Conf Loss   |No Obj Loss |Class Loss  \n",
      "------------ ------------ ------------ ------------ ------------\n",
      "76.920      |34.731      |32.196      |9.964       |0.029       \n",
      "\n"
     ]
    },
    {
     "name": "stderr",
     "output_type": "stream",
     "text": [
      "Validating: 100%|██████████| 27/27 [00:08<00:00,  3.07it/s]\n"
     ]
    },
    {
     "name": "stdout",
     "output_type": "stream",
     "text": [
      "Total Loss  |Box Loss    |Conf Loss   |No Obj Loss |Class Loss  \n",
      "------------ ------------ ------------ ------------ ------------\n",
      "111.121     |50.284      |55.951      |4.884       |0.002       \n",
      "\n",
      "Saving model with new best validation loss: 111.121\n",
      "\n",
      "=== EPOCH 21/109 ===\n",
      "Learning Rate = 0.0005\n",
      "\n"
     ]
    },
    {
     "name": "stderr",
     "output_type": "stream",
     "text": [
      "Training: 100%|██████████| 113/113 [00:49<00:00,  2.26it/s]\n"
     ]
    },
    {
     "name": "stdout",
     "output_type": "stream",
     "text": [
      "Total Loss  |Box Loss    |Conf Loss   |No Obj Loss |Class Loss  \n",
      "------------ ------------ ------------ ------------ ------------\n",
      "76.993      |35.406      |31.648      |9.913       |0.027       \n",
      "\n"
     ]
    },
    {
     "name": "stderr",
     "output_type": "stream",
     "text": [
      "Validating: 100%|██████████| 27/27 [00:08<00:00,  3.04it/s]\n"
     ]
    },
    {
     "name": "stdout",
     "output_type": "stream",
     "text": [
      "Total Loss  |Box Loss    |Conf Loss   |No Obj Loss |Class Loss  \n",
      "------------ ------------ ------------ ------------ ------------\n",
      "112.940     |52.123      |56.195      |4.619       |0.003       \n",
      "\n",
      "=== EPOCH 22/109 ===\n",
      "Learning Rate = 0.0005\n",
      "\n"
     ]
    },
    {
     "name": "stderr",
     "output_type": "stream",
     "text": [
      "Training: 100%|██████████| 113/113 [00:52<00:00,  2.14it/s]\n"
     ]
    },
    {
     "name": "stdout",
     "output_type": "stream",
     "text": [
      "Total Loss  |Box Loss    |Conf Loss   |No Obj Loss |Class Loss  \n",
      "------------ ------------ ------------ ------------ ------------\n",
      "75.540      |34.084      |31.262      |10.167      |0.026       \n",
      "\n"
     ]
    },
    {
     "name": "stderr",
     "output_type": "stream",
     "text": [
      "Validating: 100%|██████████| 27/27 [00:11<00:00,  2.32it/s]\n"
     ]
    },
    {
     "name": "stdout",
     "output_type": "stream",
     "text": [
      "Total Loss  |Box Loss    |Conf Loss   |No Obj Loss |Class Loss  \n",
      "------------ ------------ ------------ ------------ ------------\n",
      "110.224     |50.695      |55.104      |4.422       |0.003       \n",
      "\n",
      "Saving model with new best validation loss: 110.224\n",
      "\n",
      "=== EPOCH 23/109 ===\n",
      "Learning Rate = 0.0005\n",
      "\n"
     ]
    },
    {
     "name": "stderr",
     "output_type": "stream",
     "text": [
      "Training: 100%|██████████| 113/113 [01:08<00:00,  1.65it/s]\n"
     ]
    },
    {
     "name": "stdout",
     "output_type": "stream",
     "text": [
      "Total Loss  |Box Loss    |Conf Loss   |No Obj Loss |Class Loss  \n",
      "------------ ------------ ------------ ------------ ------------\n",
      "74.773      |34.107      |30.750      |9.882       |0.034       \n",
      "\n"
     ]
    },
    {
     "name": "stderr",
     "output_type": "stream",
     "text": [
      "Validating: 100%|██████████| 27/27 [00:16<00:00,  1.61it/s]\n"
     ]
    },
    {
     "name": "stdout",
     "output_type": "stream",
     "text": [
      "Total Loss  |Box Loss    |Conf Loss   |No Obj Loss |Class Loss  \n",
      "------------ ------------ ------------ ------------ ------------\n",
      "110.755     |50.441      |56.407      |3.906       |0.001       \n",
      "\n",
      "=== EPOCH 24/109 ===\n",
      "Learning Rate = 0.0005\n",
      "\n"
     ]
    },
    {
     "name": "stderr",
     "output_type": "stream",
     "text": [
      "Training: 100%|██████████| 113/113 [01:18<00:00,  1.44it/s]\n"
     ]
    },
    {
     "name": "stdout",
     "output_type": "stream",
     "text": [
      "Total Loss  |Box Loss    |Conf Loss   |No Obj Loss |Class Loss  \n",
      "------------ ------------ ------------ ------------ ------------\n",
      "74.938      |34.044      |31.051      |9.814       |0.029       \n",
      "\n"
     ]
    },
    {
     "name": "stderr",
     "output_type": "stream",
     "text": [
      "Validating: 100%|██████████| 27/27 [00:10<00:00,  2.63it/s]"
     ]
    },
    {
     "name": "stdout",
     "output_type": "stream",
     "text": [
      "Total Loss  |Box Loss    |Conf Loss   |No Obj Loss |Class Loss  \n",
      "------------ ------------ ------------ ------------ ------------\n",
      "110.770     |51.781      |53.873      |5.114       |0.002       \n"
     ]
    },
    {
     "name": "stderr",
     "output_type": "stream",
     "text": [
      "\n",
      "mAP:@.5: 100%|██████████| 1/1 [00:01<00:00,  1.19s/it]\n"
     ]
    },
    {
     "name": "stdout",
     "output_type": "stream",
     "text": [
      "\n",
      "Validation mAP: 0.182\n",
      "\n",
      "Saving model with new best val mAP: 0.182\n",
      "\n",
      "=== EPOCH 25/109 ===\n",
      "Learning Rate = 0.0005\n",
      "\n"
     ]
    },
    {
     "name": "stderr",
     "output_type": "stream",
     "text": [
      "Training: 100%|██████████| 113/113 [01:29<00:00,  1.26it/s]\n"
     ]
    },
    {
     "name": "stdout",
     "output_type": "stream",
     "text": [
      "Total Loss  |Box Loss    |Conf Loss   |No Obj Loss |Class Loss  \n",
      "------------ ------------ ------------ ------------ ------------\n",
      "72.849      |32.737      |30.464      |9.625       |0.023       \n",
      "\n"
     ]
    },
    {
     "name": "stderr",
     "output_type": "stream",
     "text": [
      "Validating: 100%|██████████| 27/27 [00:16<00:00,  1.60it/s]\n"
     ]
    },
    {
     "name": "stdout",
     "output_type": "stream",
     "text": [
      "Total Loss  |Box Loss    |Conf Loss   |No Obj Loss |Class Loss  \n",
      "------------ ------------ ------------ ------------ ------------\n",
      "108.137     |49.246      |54.392      |4.498       |0.002       \n",
      "\n",
      "Saving model with new best validation loss: 108.137\n",
      "\n",
      "=== EPOCH 26/109 ===\n",
      "Learning Rate = 0.0005\n",
      "\n"
     ]
    },
    {
     "name": "stderr",
     "output_type": "stream",
     "text": [
      "Training: 100%|██████████| 113/113 [01:15<00:00,  1.49it/s]\n"
     ]
    },
    {
     "name": "stdout",
     "output_type": "stream",
     "text": [
      "Total Loss  |Box Loss    |Conf Loss   |No Obj Loss |Class Loss  \n",
      "------------ ------------ ------------ ------------ ------------\n",
      "73.080      |33.280      |30.077      |9.702       |0.021       \n",
      "\n"
     ]
    },
    {
     "name": "stderr",
     "output_type": "stream",
     "text": [
      "Validating: 100%|██████████| 27/27 [00:15<00:00,  1.76it/s]\n"
     ]
    },
    {
     "name": "stdout",
     "output_type": "stream",
     "text": [
      "Total Loss  |Box Loss    |Conf Loss   |No Obj Loss |Class Loss  \n",
      "------------ ------------ ------------ ------------ ------------\n",
      "109.104     |49.934      |54.726      |4.442       |0.002       \n",
      "\n",
      "=== EPOCH 27/109 ===\n",
      "Learning Rate = 0.0005\n",
      "\n"
     ]
    },
    {
     "name": "stderr",
     "output_type": "stream",
     "text": [
      "Training: 100%|██████████| 113/113 [01:27<00:00,  1.30it/s]\n"
     ]
    },
    {
     "name": "stdout",
     "output_type": "stream",
     "text": [
      "Total Loss  |Box Loss    |Conf Loss   |No Obj Loss |Class Loss  \n",
      "------------ ------------ ------------ ------------ ------------\n",
      "72.496      |33.020      |29.582      |9.864       |0.030       \n",
      "\n"
     ]
    },
    {
     "name": "stderr",
     "output_type": "stream",
     "text": [
      "Validating: 100%|██████████| 27/27 [00:09<00:00,  2.94it/s]\n"
     ]
    },
    {
     "name": "stdout",
     "output_type": "stream",
     "text": [
      "Total Loss  |Box Loss    |Conf Loss   |No Obj Loss |Class Loss  \n",
      "------------ ------------ ------------ ------------ ------------\n",
      "110.188     |51.549      |54.278      |4.358       |0.002       \n",
      "\n",
      "=== EPOCH 28/109 ===\n",
      "Learning Rate = 0.0005\n",
      "\n"
     ]
    },
    {
     "name": "stderr",
     "output_type": "stream",
     "text": [
      "Training: 100%|██████████| 113/113 [01:19<00:00,  1.42it/s]\n"
     ]
    },
    {
     "name": "stdout",
     "output_type": "stream",
     "text": [
      "Total Loss  |Box Loss    |Conf Loss   |No Obj Loss |Class Loss  \n",
      "------------ ------------ ------------ ------------ ------------\n",
      "72.794      |33.339      |30.014      |9.415       |0.027       \n",
      "\n"
     ]
    },
    {
     "name": "stderr",
     "output_type": "stream",
     "text": [
      "Validating: 100%|██████████| 27/27 [00:16<00:00,  1.61it/s]\n"
     ]
    },
    {
     "name": "stdout",
     "output_type": "stream",
     "text": [
      "Total Loss  |Box Loss    |Conf Loss   |No Obj Loss |Class Loss  \n",
      "------------ ------------ ------------ ------------ ------------\n",
      "106.770     |46.982      |56.063      |3.725       |0.001       \n",
      "\n",
      "Saving model with new best validation loss: 106.770\n",
      "\n",
      "=== EPOCH 29/109 ===\n",
      "Learning Rate = 0.0005\n",
      "\n"
     ]
    },
    {
     "name": "stderr",
     "output_type": "stream",
     "text": [
      "Training: 100%|██████████| 113/113 [01:22<00:00,  1.37it/s]"
     ]
    },
    {
     "name": "stdout",
     "output_type": "stream",
     "text": [
      "Total Loss  |Box Loss    |Conf Loss   |No Obj Loss |Class Loss  \n",
      "------------ ------------ ------------ ------------ ------------\n",
      "72.211      |32.880      |29.436      |9.868       |0.027       \n",
      "\n"
     ]
    },
    {
     "name": "stderr",
     "output_type": "stream",
     "text": [
      "\n",
      "mAP:@.5: 100%|██████████| 1/1 [00:08<00:00,  8.77s/it]\n"
     ]
    },
    {
     "name": "stdout",
     "output_type": "stream",
     "text": [
      "\n",
      "Train mAP: 0.240\n"
     ]
    },
    {
     "name": "stderr",
     "output_type": "stream",
     "text": [
      "Validating: 100%|██████████| 27/27 [00:16<00:00,  1.61it/s]"
     ]
    },
    {
     "name": "stdout",
     "output_type": "stream",
     "text": [
      "Total Loss  |Box Loss    |Conf Loss   |No Obj Loss |Class Loss  \n",
      "------------ ------------ ------------ ------------ ------------\n",
      "114.601     |58.005      |51.003      |5.591       |0.002       \n"
     ]
    },
    {
     "name": "stderr",
     "output_type": "stream",
     "text": [
      "\n",
      "mAP:@.5: 100%|██████████| 1/1 [00:01<00:00,  1.78s/it]\n"
     ]
    },
    {
     "name": "stdout",
     "output_type": "stream",
     "text": [
      "\n",
      "Validation mAP: 0.160\n",
      "\n",
      "=== EPOCH 30/109 ===\n",
      "Learning Rate = 0.0005\n",
      "\n"
     ]
    },
    {
     "name": "stderr",
     "output_type": "stream",
     "text": [
      "Training: 100%|██████████| 113/113 [01:06<00:00,  1.71it/s]\n"
     ]
    },
    {
     "name": "stdout",
     "output_type": "stream",
     "text": [
      "Total Loss  |Box Loss    |Conf Loss   |No Obj Loss |Class Loss  \n",
      "------------ ------------ ------------ ------------ ------------\n",
      "70.534      |32.040      |28.728      |9.747       |0.020       \n",
      "\n"
     ]
    },
    {
     "name": "stderr",
     "output_type": "stream",
     "text": [
      "Validating: 100%|██████████| 27/27 [00:08<00:00,  3.18it/s]\n"
     ]
    },
    {
     "name": "stdout",
     "output_type": "stream",
     "text": [
      "Total Loss  |Box Loss    |Conf Loss   |No Obj Loss |Class Loss  \n",
      "------------ ------------ ------------ ------------ ------------\n",
      "110.557     |50.848      |55.511      |4.198       |0.001       \n",
      "\n",
      "=== EPOCH 31/109 ===\n",
      "Learning Rate = 0.0005\n",
      "\n"
     ]
    },
    {
     "name": "stderr",
     "output_type": "stream",
     "text": [
      "Training: 100%|██████████| 113/113 [00:52<00:00,  2.16it/s]\n"
     ]
    },
    {
     "name": "stdout",
     "output_type": "stream",
     "text": [
      "Total Loss  |Box Loss    |Conf Loss   |No Obj Loss |Class Loss  \n",
      "------------ ------------ ------------ ------------ ------------\n",
      "69.613      |31.541      |28.393      |9.660       |0.019       \n",
      "\n"
     ]
    },
    {
     "name": "stderr",
     "output_type": "stream",
     "text": [
      "Validating: 100%|██████████| 27/27 [00:08<00:00,  3.11it/s]\n"
     ]
    },
    {
     "name": "stdout",
     "output_type": "stream",
     "text": [
      "Total Loss  |Box Loss    |Conf Loss   |No Obj Loss |Class Loss  \n",
      "------------ ------------ ------------ ------------ ------------\n",
      "105.737     |48.800      |51.925      |5.011       |0.001       \n",
      "\n",
      "Saving model with new best validation loss: 105.737\n",
      "\n",
      "=== EPOCH 32/109 ===\n",
      "Learning Rate = 0.0005\n",
      "\n"
     ]
    },
    {
     "name": "stderr",
     "output_type": "stream",
     "text": [
      "Training: 100%|██████████| 113/113 [00:52<00:00,  2.15it/s]\n"
     ]
    },
    {
     "name": "stdout",
     "output_type": "stream",
     "text": [
      "Total Loss  |Box Loss    |Conf Loss   |No Obj Loss |Class Loss  \n",
      "------------ ------------ ------------ ------------ ------------\n",
      "69.632      |32.005      |28.345      |9.261       |0.021       \n",
      "\n"
     ]
    },
    {
     "name": "stderr",
     "output_type": "stream",
     "text": [
      "Validating: 100%|██████████| 27/27 [00:08<00:00,  3.12it/s]\n"
     ]
    },
    {
     "name": "stdout",
     "output_type": "stream",
     "text": [
      "Total Loss  |Box Loss    |Conf Loss   |No Obj Loss |Class Loss  \n",
      "------------ ------------ ------------ ------------ ------------\n",
      "109.233     |47.737      |57.813      |3.681       |0.001       \n",
      "\n",
      "=== EPOCH 33/109 ===\n",
      "Learning Rate = 0.0005\n",
      "\n"
     ]
    },
    {
     "name": "stderr",
     "output_type": "stream",
     "text": [
      "Training: 100%|██████████| 113/113 [00:52<00:00,  2.15it/s]\n"
     ]
    },
    {
     "name": "stdout",
     "output_type": "stream",
     "text": [
      "Total Loss  |Box Loss    |Conf Loss   |No Obj Loss |Class Loss  \n",
      "------------ ------------ ------------ ------------ ------------\n",
      "70.178      |31.831      |28.581      |9.751       |0.015       \n",
      "\n"
     ]
    },
    {
     "name": "stderr",
     "output_type": "stream",
     "text": [
      "Validating: 100%|██████████| 27/27 [00:08<00:00,  3.18it/s]\n"
     ]
    },
    {
     "name": "stdout",
     "output_type": "stream",
     "text": [
      "Total Loss  |Box Loss    |Conf Loss   |No Obj Loss |Class Loss  \n",
      "------------ ------------ ------------ ------------ ------------\n",
      "106.549     |45.916      |57.370      |3.262       |0.000       \n",
      "\n",
      "=== EPOCH 34/109 ===\n",
      "Learning Rate = 0.0005\n",
      "\n"
     ]
    },
    {
     "name": "stderr",
     "output_type": "stream",
     "text": [
      "Training: 100%|██████████| 113/113 [00:54<00:00,  2.06it/s]\n"
     ]
    },
    {
     "name": "stdout",
     "output_type": "stream",
     "text": [
      "Total Loss  |Box Loss    |Conf Loss   |No Obj Loss |Class Loss  \n",
      "------------ ------------ ------------ ------------ ------------\n",
      "69.309      |31.576      |28.410      |9.299       |0.024       \n",
      "\n"
     ]
    },
    {
     "name": "stderr",
     "output_type": "stream",
     "text": [
      "Validating: 100%|██████████| 27/27 [00:09<00:00,  2.96it/s]"
     ]
    },
    {
     "name": "stdout",
     "output_type": "stream",
     "text": [
      "Total Loss  |Box Loss    |Conf Loss   |No Obj Loss |Class Loss  \n",
      "------------ ------------ ------------ ------------ ------------\n",
      "108.016     |50.679      |52.913      |4.423       |0.001       \n"
     ]
    },
    {
     "name": "stderr",
     "output_type": "stream",
     "text": [
      "\n",
      "mAP:@.5: 100%|██████████| 1/1 [00:01<00:00,  1.08s/it]\n"
     ]
    },
    {
     "name": "stdout",
     "output_type": "stream",
     "text": [
      "\n",
      "Validation mAP: 0.206\n",
      "\n",
      "Saving model with new best val mAP: 0.206\n",
      "\n",
      "=== EPOCH 35/109 ===\n",
      "Learning Rate = 0.00045000000000000004\n",
      "\n"
     ]
    },
    {
     "name": "stderr",
     "output_type": "stream",
     "text": [
      "Training: 100%|██████████| 113/113 [00:52<00:00,  2.15it/s]\n"
     ]
    },
    {
     "name": "stdout",
     "output_type": "stream",
     "text": [
      "Total Loss  |Box Loss    |Conf Loss   |No Obj Loss |Class Loss  \n",
      "------------ ------------ ------------ ------------ ------------\n",
      "68.008      |31.133      |27.285      |9.574       |0.016       \n",
      "\n"
     ]
    },
    {
     "name": "stderr",
     "output_type": "stream",
     "text": [
      "Validating: 100%|██████████| 27/27 [00:08<00:00,  3.00it/s]\n"
     ]
    },
    {
     "name": "stdout",
     "output_type": "stream",
     "text": [
      "Total Loss  |Box Loss    |Conf Loss   |No Obj Loss |Class Loss  \n",
      "------------ ------------ ------------ ------------ ------------\n",
      "105.829     |48.450      |53.177      |4.202       |0.001       \n",
      "\n",
      "=== EPOCH 36/109 ===\n",
      "Learning Rate = 0.00045000000000000004\n",
      "\n"
     ]
    },
    {
     "name": "stderr",
     "output_type": "stream",
     "text": [
      "Training: 100%|██████████| 113/113 [00:54<00:00,  2.09it/s]\n"
     ]
    },
    {
     "name": "stdout",
     "output_type": "stream",
     "text": [
      "Total Loss  |Box Loss    |Conf Loss   |No Obj Loss |Class Loss  \n",
      "------------ ------------ ------------ ------------ ------------\n",
      "67.352      |30.499      |27.548      |9.285       |0.021       \n",
      "\n"
     ]
    },
    {
     "name": "stderr",
     "output_type": "stream",
     "text": [
      "Validating: 100%|██████████| 27/27 [00:08<00:00,  3.06it/s]\n"
     ]
    },
    {
     "name": "stdout",
     "output_type": "stream",
     "text": [
      "Total Loss  |Box Loss    |Conf Loss   |No Obj Loss |Class Loss  \n",
      "------------ ------------ ------------ ------------ ------------\n",
      "112.250     |49.930      |59.310      |3.009       |0.000       \n",
      "\n",
      "=== EPOCH 37/109 ===\n",
      "Learning Rate = 0.00045000000000000004\n",
      "\n"
     ]
    },
    {
     "name": "stderr",
     "output_type": "stream",
     "text": [
      "Training: 100%|██████████| 113/113 [00:54<00:00,  2.06it/s]\n"
     ]
    },
    {
     "name": "stdout",
     "output_type": "stream",
     "text": [
      "Total Loss  |Box Loss    |Conf Loss   |No Obj Loss |Class Loss  \n",
      "------------ ------------ ------------ ------------ ------------\n",
      "67.153      |30.663      |27.315      |9.163       |0.013       \n",
      "\n"
     ]
    },
    {
     "name": "stderr",
     "output_type": "stream",
     "text": [
      "Validating: 100%|██████████| 27/27 [00:09<00:00,  2.70it/s]\n"
     ]
    },
    {
     "name": "stdout",
     "output_type": "stream",
     "text": [
      "Total Loss  |Box Loss    |Conf Loss   |No Obj Loss |Class Loss  \n",
      "------------ ------------ ------------ ------------ ------------\n",
      "109.598     |49.174      |57.016      |3.408       |0.001       \n",
      "\n",
      "=== EPOCH 38/109 ===\n",
      "Learning Rate = 0.00040500000000000003\n",
      "\n"
     ]
    },
    {
     "name": "stderr",
     "output_type": "stream",
     "text": [
      "Training: 100%|██████████| 113/113 [00:53<00:00,  2.11it/s]\n"
     ]
    },
    {
     "name": "stdout",
     "output_type": "stream",
     "text": [
      "Total Loss  |Box Loss    |Conf Loss   |No Obj Loss |Class Loss  \n",
      "------------ ------------ ------------ ------------ ------------\n",
      "66.174      |29.946      |27.299      |8.916       |0.012       \n",
      "\n"
     ]
    },
    {
     "name": "stderr",
     "output_type": "stream",
     "text": [
      "Validating: 100%|██████████| 27/27 [00:09<00:00,  2.87it/s]\n"
     ]
    },
    {
     "name": "stdout",
     "output_type": "stream",
     "text": [
      "Total Loss  |Box Loss    |Conf Loss   |No Obj Loss |Class Loss  \n",
      "------------ ------------ ------------ ------------ ------------\n",
      "107.798     |47.908      |56.449      |3.441       |0.001       \n",
      "\n",
      "=== EPOCH 39/109 ===\n",
      "Learning Rate = 0.00040500000000000003\n",
      "\n"
     ]
    },
    {
     "name": "stderr",
     "output_type": "stream",
     "text": [
      "Training: 100%|██████████| 113/113 [00:52<00:00,  2.15it/s]\n"
     ]
    },
    {
     "name": "stdout",
     "output_type": "stream",
     "text": [
      "Total Loss  |Box Loss    |Conf Loss   |No Obj Loss |Class Loss  \n",
      "------------ ------------ ------------ ------------ ------------\n",
      "65.297      |30.095      |26.428      |8.759       |0.015       \n",
      "\n"
     ]
    },
    {
     "name": "stderr",
     "output_type": "stream",
     "text": [
      "Validating: 100%|██████████| 27/27 [00:09<00:00,  3.00it/s]"
     ]
    },
    {
     "name": "stdout",
     "output_type": "stream",
     "text": [
      "Total Loss  |Box Loss    |Conf Loss   |No Obj Loss |Class Loss  \n",
      "------------ ------------ ------------ ------------ ------------\n",
      "108.768     |48.883      |56.459      |3.425       |0.000       \n"
     ]
    },
    {
     "name": "stderr",
     "output_type": "stream",
     "text": [
      "\n",
      "mAP:@.5: 100%|██████████| 1/1 [00:00<00:00,  1.06it/s]\n"
     ]
    },
    {
     "name": "stdout",
     "output_type": "stream",
     "text": [
      "\n",
      "Validation mAP: 0.198\n",
      "\n",
      "=== EPOCH 40/109 ===\n",
      "Learning Rate = 0.00040500000000000003\n",
      "\n"
     ]
    },
    {
     "name": "stderr",
     "output_type": "stream",
     "text": [
      "Training: 100%|██████████| 113/113 [00:59<00:00,  1.91it/s]\n"
     ]
    },
    {
     "name": "stdout",
     "output_type": "stream",
     "text": [
      "Total Loss  |Box Loss    |Conf Loss   |No Obj Loss |Class Loss  \n",
      "------------ ------------ ------------ ------------ ------------\n",
      "65.196      |29.859      |26.292      |9.026       |0.019       \n",
      "\n"
     ]
    },
    {
     "name": "stderr",
     "output_type": "stream",
     "text": [
      "Validating: 100%|██████████| 27/27 [00:08<00:00,  3.01it/s]\n"
     ]
    },
    {
     "name": "stdout",
     "output_type": "stream",
     "text": [
      "Total Loss  |Box Loss    |Conf Loss   |No Obj Loss |Class Loss  \n",
      "------------ ------------ ------------ ------------ ------------\n",
      "111.610     |51.406      |56.470      |3.734       |0.001       \n",
      "\n",
      "=== EPOCH 41/109 ===\n",
      "Learning Rate = 0.0003645\n",
      "\n"
     ]
    },
    {
     "name": "stderr",
     "output_type": "stream",
     "text": [
      "Training: 100%|██████████| 113/113 [01:40<00:00,  1.13it/s]\n"
     ]
    },
    {
     "name": "stdout",
     "output_type": "stream",
     "text": [
      "Total Loss  |Box Loss    |Conf Loss   |No Obj Loss |Class Loss  \n",
      "------------ ------------ ------------ ------------ ------------\n",
      "65.616      |29.867      |26.921      |8.811       |0.016       \n",
      "\n"
     ]
    },
    {
     "name": "stderr",
     "output_type": "stream",
     "text": [
      "Validating: 100%|██████████| 27/27 [00:32<00:00,  1.21s/it]\n"
     ]
    },
    {
     "name": "stdout",
     "output_type": "stream",
     "text": [
      "Total Loss  |Box Loss    |Conf Loss   |No Obj Loss |Class Loss  \n",
      "------------ ------------ ------------ ------------ ------------\n",
      "106.798     |47.587      |55.680      |3.532       |0.000       \n",
      "\n",
      "=== EPOCH 42/109 ===\n",
      "Learning Rate = 0.0003645\n",
      "\n"
     ]
    },
    {
     "name": "stderr",
     "output_type": "stream",
     "text": [
      "Training: 100%|██████████| 113/113 [02:44<00:00,  1.45s/it]\n"
     ]
    },
    {
     "name": "stdout",
     "output_type": "stream",
     "text": [
      "Total Loss  |Box Loss    |Conf Loss   |No Obj Loss |Class Loss  \n",
      "------------ ------------ ------------ ------------ ------------\n",
      "63.775      |28.826      |26.108      |8.828       |0.013       \n",
      "\n"
     ]
    },
    {
     "name": "stderr",
     "output_type": "stream",
     "text": [
      "Validating: 100%|██████████| 27/27 [00:25<00:00,  1.04it/s]\n"
     ]
    },
    {
     "name": "stdout",
     "output_type": "stream",
     "text": [
      "Total Loss  |Box Loss    |Conf Loss   |No Obj Loss |Class Loss  \n",
      "------------ ------------ ------------ ------------ ------------\n",
      "106.789     |48.607      |54.343      |3.838       |0.001       \n",
      "\n",
      "=== EPOCH 43/109 ===\n",
      "Learning Rate = 0.0003645\n",
      "\n"
     ]
    },
    {
     "name": "stderr",
     "output_type": "stream",
     "text": [
      "Training: 100%|██████████| 113/113 [01:45<00:00,  1.07it/s]\n"
     ]
    },
    {
     "name": "stdout",
     "output_type": "stream",
     "text": [
      "Total Loss  |Box Loss    |Conf Loss   |No Obj Loss |Class Loss  \n",
      "------------ ------------ ------------ ------------ ------------\n",
      "64.472      |29.712      |25.948      |8.800       |0.012       \n",
      "\n"
     ]
    },
    {
     "name": "stderr",
     "output_type": "stream",
     "text": [
      "Validating: 100%|██████████| 27/27 [00:10<00:00,  2.68it/s]\n"
     ]
    },
    {
     "name": "stdout",
     "output_type": "stream",
     "text": [
      "Total Loss  |Box Loss    |Conf Loss   |No Obj Loss |Class Loss  \n",
      "------------ ------------ ------------ ------------ ------------\n",
      "107.350     |47.855      |55.715      |3.779       |0.001       \n",
      "\n",
      "=== EPOCH 44/109 ===\n",
      "Learning Rate = 0.00032805000000000003\n",
      "\n"
     ]
    },
    {
     "name": "stderr",
     "output_type": "stream",
     "text": [
      "Training: 100%|██████████| 113/113 [00:53<00:00,  2.10it/s]"
     ]
    },
    {
     "name": "stdout",
     "output_type": "stream",
     "text": [
      "Total Loss  |Box Loss    |Conf Loss   |No Obj Loss |Class Loss  \n",
      "------------ ------------ ------------ ------------ ------------\n",
      "63.605      |28.760      |26.137      |8.693       |0.015       \n",
      "\n"
     ]
    },
    {
     "name": "stderr",
     "output_type": "stream",
     "text": [
      "\n",
      "mAP:@.5: 100%|██████████| 1/1 [00:06<00:00,  6.65s/it]\n"
     ]
    },
    {
     "name": "stdout",
     "output_type": "stream",
     "text": [
      "\n",
      "Train mAP: 0.341\n"
     ]
    },
    {
     "name": "stderr",
     "output_type": "stream",
     "text": [
      "Validating: 100%|██████████| 27/27 [00:09<00:00,  2.70it/s]"
     ]
    },
    {
     "name": "stdout",
     "output_type": "stream",
     "text": [
      "Total Loss  |Box Loss    |Conf Loss   |No Obj Loss |Class Loss  \n",
      "------------ ------------ ------------ ------------ ------------\n",
      "105.739     |47.289      |54.525      |3.925       |0.000       \n"
     ]
    },
    {
     "name": "stderr",
     "output_type": "stream",
     "text": [
      "\n",
      "mAP:@.5: 100%|██████████| 1/1 [00:01<00:00,  1.01s/it]\n"
     ]
    },
    {
     "name": "stdout",
     "output_type": "stream",
     "text": [
      "\n",
      "Validation mAP: 0.237\n",
      "\n",
      "Saving model with new best val mAP: 0.237\n",
      "\n",
      "=== EPOCH 45/109 ===\n",
      "Learning Rate = 0.00032805000000000003\n",
      "\n"
     ]
    },
    {
     "name": "stderr",
     "output_type": "stream",
     "text": [
      "Training: 100%|██████████| 113/113 [00:54<00:00,  2.07it/s]\n"
     ]
    },
    {
     "name": "stdout",
     "output_type": "stream",
     "text": [
      "Total Loss  |Box Loss    |Conf Loss   |No Obj Loss |Class Loss  \n",
      "------------ ------------ ------------ ------------ ------------\n",
      "63.968      |29.340      |25.583      |9.032       |0.014       \n",
      "\n"
     ]
    },
    {
     "name": "stderr",
     "output_type": "stream",
     "text": [
      "Validating: 100%|██████████| 27/27 [00:08<00:00,  3.08it/s]\n"
     ]
    },
    {
     "name": "stdout",
     "output_type": "stream",
     "text": [
      "Total Loss  |Box Loss    |Conf Loss   |No Obj Loss |Class Loss  \n",
      "------------ ------------ ------------ ------------ ------------\n",
      "102.937     |45.058      |54.235      |3.643       |0.001       \n",
      "\n",
      "Saving model with new best validation loss: 102.937\n",
      "\n",
      "=== EPOCH 46/109 ===\n",
      "Learning Rate = 0.00032805000000000003\n",
      "\n"
     ]
    },
    {
     "name": "stderr",
     "output_type": "stream",
     "text": [
      "Training: 100%|██████████| 113/113 [00:52<00:00,  2.17it/s]\n"
     ]
    },
    {
     "name": "stdout",
     "output_type": "stream",
     "text": [
      "Total Loss  |Box Loss    |Conf Loss   |No Obj Loss |Class Loss  \n",
      "------------ ------------ ------------ ------------ ------------\n",
      "62.753      |28.725      |25.333      |8.682       |0.014       \n",
      "\n"
     ]
    },
    {
     "name": "stderr",
     "output_type": "stream",
     "text": [
      "Validating: 100%|██████████| 27/27 [00:09<00:00,  2.95it/s]\n"
     ]
    },
    {
     "name": "stdout",
     "output_type": "stream",
     "text": [
      "Total Loss  |Box Loss    |Conf Loss   |No Obj Loss |Class Loss  \n",
      "------------ ------------ ------------ ------------ ------------\n",
      "103.942     |46.490      |53.593      |3.859       |0.000       \n",
      "\n",
      "=== EPOCH 47/109 ===\n",
      "Learning Rate = 0.00032805000000000003\n",
      "\n"
     ]
    },
    {
     "name": "stderr",
     "output_type": "stream",
     "text": [
      "Training: 100%|██████████| 113/113 [00:51<00:00,  2.20it/s]\n"
     ]
    },
    {
     "name": "stdout",
     "output_type": "stream",
     "text": [
      "Total Loss  |Box Loss    |Conf Loss   |No Obj Loss |Class Loss  \n",
      "------------ ------------ ------------ ------------ ------------\n",
      "61.662      |28.272      |24.805      |8.576       |0.009       \n",
      "\n"
     ]
    },
    {
     "name": "stderr",
     "output_type": "stream",
     "text": [
      "Validating: 100%|██████████| 27/27 [00:08<00:00,  3.05it/s]\n"
     ]
    },
    {
     "name": "stdout",
     "output_type": "stream",
     "text": [
      "Total Loss  |Box Loss    |Conf Loss   |No Obj Loss |Class Loss  \n",
      "------------ ------------ ------------ ------------ ------------\n",
      "104.918     |46.875      |54.322      |3.721       |0.000       \n",
      "\n",
      "=== EPOCH 48/109 ===\n",
      "Learning Rate = 0.00032805000000000003\n",
      "\n"
     ]
    },
    {
     "name": "stderr",
     "output_type": "stream",
     "text": [
      "Training: 100%|██████████| 113/113 [00:51<00:00,  2.19it/s]\n"
     ]
    },
    {
     "name": "stdout",
     "output_type": "stream",
     "text": [
      "Total Loss  |Box Loss    |Conf Loss   |No Obj Loss |Class Loss  \n",
      "------------ ------------ ------------ ------------ ------------\n",
      "61.619      |28.408      |24.726      |8.478       |0.008       \n",
      "\n"
     ]
    },
    {
     "name": "stderr",
     "output_type": "stream",
     "text": [
      "Validating: 100%|██████████| 27/27 [00:08<00:00,  3.07it/s]\n"
     ]
    },
    {
     "name": "stdout",
     "output_type": "stream",
     "text": [
      "Total Loss  |Box Loss    |Conf Loss   |No Obj Loss |Class Loss  \n",
      "------------ ------------ ------------ ------------ ------------\n",
      "103.855     |45.557      |54.383      |3.915       |0.000       \n",
      "\n",
      "=== EPOCH 49/109 ===\n",
      "Learning Rate = 0.000295245\n",
      "\n"
     ]
    },
    {
     "name": "stderr",
     "output_type": "stream",
     "text": [
      "Training: 100%|██████████| 113/113 [00:51<00:00,  2.19it/s]\n"
     ]
    },
    {
     "name": "stdout",
     "output_type": "stream",
     "text": [
      "Total Loss  |Box Loss    |Conf Loss   |No Obj Loss |Class Loss  \n",
      "------------ ------------ ------------ ------------ ------------\n",
      "61.858      |28.174      |25.345      |8.330       |0.010       \n",
      "\n"
     ]
    },
    {
     "name": "stderr",
     "output_type": "stream",
     "text": [
      "Validating: 100%|██████████| 27/27 [00:08<00:00,  3.07it/s]"
     ]
    },
    {
     "name": "stdout",
     "output_type": "stream",
     "text": [
      "Total Loss  |Box Loss    |Conf Loss   |No Obj Loss |Class Loss  \n",
      "------------ ------------ ------------ ------------ ------------\n",
      "105.381     |46.044      |56.111      |3.226       |0.000       \n"
     ]
    },
    {
     "name": "stderr",
     "output_type": "stream",
     "text": [
      "\n",
      "mAP:@.5: 100%|██████████| 1/1 [00:00<00:00,  1.15it/s]\n"
     ]
    },
    {
     "name": "stdout",
     "output_type": "stream",
     "text": [
      "\n",
      "Validation mAP: 0.253\n",
      "\n",
      "Saving model with new best val mAP: 0.253\n",
      "\n",
      "=== EPOCH 50/109 ===\n",
      "Learning Rate = 0.000295245\n",
      "\n"
     ]
    },
    {
     "name": "stderr",
     "output_type": "stream",
     "text": [
      "Training: 100%|██████████| 113/113 [00:51<00:00,  2.18it/s]\n"
     ]
    },
    {
     "name": "stdout",
     "output_type": "stream",
     "text": [
      "Total Loss  |Box Loss    |Conf Loss   |No Obj Loss |Class Loss  \n",
      "------------ ------------ ------------ ------------ ------------\n",
      "62.004      |28.403      |25.062      |8.528       |0.011       \n",
      "\n"
     ]
    },
    {
     "name": "stderr",
     "output_type": "stream",
     "text": [
      "Validating: 100%|██████████| 27/27 [00:08<00:00,  3.04it/s]\n"
     ]
    },
    {
     "name": "stdout",
     "output_type": "stream",
     "text": [
      "Total Loss  |Box Loss    |Conf Loss   |No Obj Loss |Class Loss  \n",
      "------------ ------------ ------------ ------------ ------------\n",
      "103.626     |47.077      |52.424      |4.124       |0.001       \n",
      "\n",
      "=== EPOCH 51/109 ===\n",
      "Learning Rate = 0.000295245\n",
      "\n"
     ]
    },
    {
     "name": "stderr",
     "output_type": "stream",
     "text": [
      "Training: 100%|██████████| 113/113 [00:51<00:00,  2.21it/s]\n"
     ]
    },
    {
     "name": "stdout",
     "output_type": "stream",
     "text": [
      "Total Loss  |Box Loss    |Conf Loss   |No Obj Loss |Class Loss  \n",
      "------------ ------------ ------------ ------------ ------------\n",
      "61.144      |27.881      |24.945      |8.308       |0.010       \n",
      "\n"
     ]
    },
    {
     "name": "stderr",
     "output_type": "stream",
     "text": [
      "Validating: 100%|██████████| 27/27 [00:08<00:00,  3.06it/s]\n"
     ]
    },
    {
     "name": "stdout",
     "output_type": "stream",
     "text": [
      "Total Loss  |Box Loss    |Conf Loss   |No Obj Loss |Class Loss  \n",
      "------------ ------------ ------------ ------------ ------------\n",
      "103.017     |46.883      |51.531      |4.602       |0.000       \n",
      "\n",
      "=== EPOCH 52/109 ===\n",
      "Learning Rate = 0.0002657205\n",
      "\n"
     ]
    },
    {
     "name": "stderr",
     "output_type": "stream",
     "text": [
      "Training: 100%|██████████| 113/113 [00:50<00:00,  2.23it/s]\n"
     ]
    },
    {
     "name": "stdout",
     "output_type": "stream",
     "text": [
      "Total Loss  |Box Loss    |Conf Loss   |No Obj Loss |Class Loss  \n",
      "------------ ------------ ------------ ------------ ------------\n",
      "60.589      |28.088      |24.252      |8.238       |0.011       \n",
      "\n"
     ]
    },
    {
     "name": "stderr",
     "output_type": "stream",
     "text": [
      "Validating: 100%|██████████| 27/27 [00:08<00:00,  3.02it/s]\n"
     ]
    },
    {
     "name": "stdout",
     "output_type": "stream",
     "text": [
      "Total Loss  |Box Loss    |Conf Loss   |No Obj Loss |Class Loss  \n",
      "------------ ------------ ------------ ------------ ------------\n",
      "104.367     |45.555      |55.018      |3.794       |0.000       \n",
      "\n",
      "=== EPOCH 53/109 ===\n",
      "Learning Rate = 0.0002657205\n",
      "\n"
     ]
    },
    {
     "name": "stderr",
     "output_type": "stream",
     "text": [
      "Training: 100%|██████████| 113/113 [00:52<00:00,  2.14it/s]\n"
     ]
    },
    {
     "name": "stdout",
     "output_type": "stream",
     "text": [
      "Total Loss  |Box Loss    |Conf Loss   |No Obj Loss |Class Loss  \n",
      "------------ ------------ ------------ ------------ ------------\n",
      "60.979      |28.195      |24.530      |8.248       |0.006       \n",
      "\n"
     ]
    },
    {
     "name": "stderr",
     "output_type": "stream",
     "text": [
      "Validating: 100%|██████████| 27/27 [00:08<00:00,  3.04it/s]\n"
     ]
    },
    {
     "name": "stdout",
     "output_type": "stream",
     "text": [
      "Total Loss  |Box Loss    |Conf Loss   |No Obj Loss |Class Loss  \n",
      "------------ ------------ ------------ ------------ ------------\n",
      "106.596     |45.825      |57.661      |3.109       |0.000       \n",
      "\n",
      "=== EPOCH 54/109 ===\n",
      "Learning Rate = 0.0002657205\n",
      "\n"
     ]
    },
    {
     "name": "stderr",
     "output_type": "stream",
     "text": [
      "Training: 100%|██████████| 113/113 [00:53<00:00,  2.12it/s]\n"
     ]
    },
    {
     "name": "stdout",
     "output_type": "stream",
     "text": [
      "Total Loss  |Box Loss    |Conf Loss   |No Obj Loss |Class Loss  \n",
      "------------ ------------ ------------ ------------ ------------\n",
      "60.057      |27.840      |23.999      |8.205       |0.012       \n",
      "\n"
     ]
    },
    {
     "name": "stderr",
     "output_type": "stream",
     "text": [
      "Validating: 100%|██████████| 27/27 [00:09<00:00,  2.85it/s]"
     ]
    },
    {
     "name": "stdout",
     "output_type": "stream",
     "text": [
      "Total Loss  |Box Loss    |Conf Loss   |No Obj Loss |Class Loss  \n",
      "------------ ------------ ------------ ------------ ------------\n",
      "102.182     |45.610      |52.434      |4.137       |0.000       \n"
     ]
    },
    {
     "name": "stderr",
     "output_type": "stream",
     "text": [
      "\n",
      "mAP:@.5: 100%|██████████| 1/1 [00:01<00:00,  1.03s/it]\n"
     ]
    },
    {
     "name": "stdout",
     "output_type": "stream",
     "text": [
      "\n",
      "Validation mAP: 0.242\n",
      "\n",
      "Saving model with new best validation loss: 102.182\n",
      "\n",
      "=== EPOCH 55/109 ===\n",
      "Learning Rate = 0.0002657205\n",
      "\n"
     ]
    },
    {
     "name": "stderr",
     "output_type": "stream",
     "text": [
      "Training: 100%|██████████| 113/113 [00:54<00:00,  2.07it/s]\n"
     ]
    },
    {
     "name": "stdout",
     "output_type": "stream",
     "text": [
      "Total Loss  |Box Loss    |Conf Loss   |No Obj Loss |Class Loss  \n",
      "------------ ------------ ------------ ------------ ------------\n",
      "60.688      |28.240      |24.277      |8.163       |0.007       \n",
      "\n"
     ]
    },
    {
     "name": "stderr",
     "output_type": "stream",
     "text": [
      "Validating: 100%|██████████| 27/27 [00:08<00:00,  3.04it/s]\n"
     ]
    },
    {
     "name": "stdout",
     "output_type": "stream",
     "text": [
      "Total Loss  |Box Loss    |Conf Loss   |No Obj Loss |Class Loss  \n",
      "------------ ------------ ------------ ------------ ------------\n",
      "102.464     |45.479      |52.896      |4.089       |0.000       \n",
      "\n",
      "=== EPOCH 56/109 ===\n",
      "Learning Rate = 0.0002657205\n",
      "\n"
     ]
    },
    {
     "name": "stderr",
     "output_type": "stream",
     "text": [
      "Training: 100%|██████████| 113/113 [00:52<00:00,  2.16it/s]\n"
     ]
    },
    {
     "name": "stdout",
     "output_type": "stream",
     "text": [
      "Total Loss  |Box Loss    |Conf Loss   |No Obj Loss |Class Loss  \n",
      "------------ ------------ ------------ ------------ ------------\n",
      "59.338      |27.314      |23.580      |8.436       |0.008       \n",
      "\n"
     ]
    },
    {
     "name": "stderr",
     "output_type": "stream",
     "text": [
      "Validating: 100%|██████████| 27/27 [00:08<00:00,  3.12it/s]\n"
     ]
    },
    {
     "name": "stdout",
     "output_type": "stream",
     "text": [
      "Total Loss  |Box Loss    |Conf Loss   |No Obj Loss |Class Loss  \n",
      "------------ ------------ ------------ ------------ ------------\n",
      "103.634     |46.371      |53.426      |3.837       |0.000       \n",
      "\n",
      "=== EPOCH 57/109 ===\n",
      "Learning Rate = 0.0002657205\n",
      "\n"
     ]
    },
    {
     "name": "stderr",
     "output_type": "stream",
     "text": [
      "Training: 100%|██████████| 113/113 [00:52<00:00,  2.17it/s]\n"
     ]
    },
    {
     "name": "stdout",
     "output_type": "stream",
     "text": [
      "Total Loss  |Box Loss    |Conf Loss   |No Obj Loss |Class Loss  \n",
      "------------ ------------ ------------ ------------ ------------\n",
      "58.770      |27.196      |23.610      |7.957       |0.007       \n",
      "\n"
     ]
    },
    {
     "name": "stderr",
     "output_type": "stream",
     "text": [
      "Validating: 100%|██████████| 27/27 [00:08<00:00,  3.06it/s]\n"
     ]
    },
    {
     "name": "stdout",
     "output_type": "stream",
     "text": [
      "Total Loss  |Box Loss    |Conf Loss   |No Obj Loss |Class Loss  \n",
      "------------ ------------ ------------ ------------ ------------\n",
      "104.295     |44.976      |55.812      |3.507       |0.000       \n",
      "\n",
      "=== EPOCH 58/109 ===\n",
      "Learning Rate = 0.00023914845\n",
      "\n"
     ]
    },
    {
     "name": "stderr",
     "output_type": "stream",
     "text": [
      "Training: 100%|██████████| 113/113 [00:51<00:00,  2.19it/s]\n"
     ]
    },
    {
     "name": "stdout",
     "output_type": "stream",
     "text": [
      "Total Loss  |Box Loss    |Conf Loss   |No Obj Loss |Class Loss  \n",
      "------------ ------------ ------------ ------------ ------------\n",
      "58.052      |26.711      |23.311      |8.022       |0.008       \n",
      "\n"
     ]
    },
    {
     "name": "stderr",
     "output_type": "stream",
     "text": [
      "Validating: 100%|██████████| 27/27 [00:08<00:00,  3.13it/s]\n"
     ]
    },
    {
     "name": "stdout",
     "output_type": "stream",
     "text": [
      "Total Loss  |Box Loss    |Conf Loss   |No Obj Loss |Class Loss  \n",
      "------------ ------------ ------------ ------------ ------------\n",
      "102.272     |46.514      |51.143      |4.614       |0.000       \n",
      "\n",
      "=== EPOCH 59/109 ===\n",
      "Learning Rate = 0.00023914845\n",
      "\n"
     ]
    },
    {
     "name": "stderr",
     "output_type": "stream",
     "text": [
      "Training: 100%|██████████| 113/113 [00:50<00:00,  2.24it/s]"
     ]
    },
    {
     "name": "stdout",
     "output_type": "stream",
     "text": [
      "Total Loss  |Box Loss    |Conf Loss   |No Obj Loss |Class Loss  \n",
      "------------ ------------ ------------ ------------ ------------\n",
      "58.595      |26.742      |23.498      |8.336       |0.020       \n",
      "\n"
     ]
    },
    {
     "name": "stderr",
     "output_type": "stream",
     "text": [
      "\n",
      "mAP:@.5: 100%|██████████| 1/1 [00:06<00:00,  6.49s/it]\n"
     ]
    },
    {
     "name": "stdout",
     "output_type": "stream",
     "text": [
      "\n",
      "Train mAP: 0.349\n"
     ]
    },
    {
     "name": "stderr",
     "output_type": "stream",
     "text": [
      "Validating: 100%|██████████| 27/27 [00:09<00:00,  2.84it/s]"
     ]
    },
    {
     "name": "stdout",
     "output_type": "stream",
     "text": [
      "Total Loss  |Box Loss    |Conf Loss   |No Obj Loss |Class Loss  \n",
      "------------ ------------ ------------ ------------ ------------\n",
      "105.712     |46.743      |55.435      |3.534       |0.000       \n"
     ]
    },
    {
     "name": "stderr",
     "output_type": "stream",
     "text": [
      "\n",
      "mAP:@.5: 100%|██████████| 1/1 [00:00<00:00,  1.07it/s]\n"
     ]
    },
    {
     "name": "stdout",
     "output_type": "stream",
     "text": [
      "\n",
      "Validation mAP: 0.234\n",
      "\n",
      "=== EPOCH 60/109 ===\n",
      "Learning Rate = 0.00023914845\n",
      "\n"
     ]
    },
    {
     "name": "stderr",
     "output_type": "stream",
     "text": [
      "Training: 100%|██████████| 113/113 [00:50<00:00,  2.25it/s]\n"
     ]
    },
    {
     "name": "stdout",
     "output_type": "stream",
     "text": [
      "Total Loss  |Box Loss    |Conf Loss   |No Obj Loss |Class Loss  \n",
      "------------ ------------ ------------ ------------ ------------\n",
      "58.855      |27.313      |23.676      |7.861       |0.005       \n",
      "\n"
     ]
    },
    {
     "name": "stderr",
     "output_type": "stream",
     "text": [
      "Validating: 100%|██████████| 27/27 [00:08<00:00,  3.16it/s]\n"
     ]
    },
    {
     "name": "stdout",
     "output_type": "stream",
     "text": [
      "Total Loss  |Box Loss    |Conf Loss   |No Obj Loss |Class Loss  \n",
      "------------ ------------ ------------ ------------ ------------\n",
      "104.146     |45.647      |54.913      |3.585       |0.000       \n",
      "\n",
      "=== EPOCH 61/109 ===\n",
      "Learning Rate = 0.000215233605\n",
      "\n"
     ]
    },
    {
     "name": "stderr",
     "output_type": "stream",
     "text": [
      "Training: 100%|██████████| 113/113 [00:50<00:00,  2.24it/s]\n"
     ]
    },
    {
     "name": "stdout",
     "output_type": "stream",
     "text": [
      "Total Loss  |Box Loss    |Conf Loss   |No Obj Loss |Class Loss  \n",
      "------------ ------------ ------------ ------------ ------------\n",
      "58.057      |26.799      |23.284      |7.965       |0.009       \n",
      "\n"
     ]
    },
    {
     "name": "stderr",
     "output_type": "stream",
     "text": [
      "Validating: 100%|██████████| 27/27 [00:08<00:00,  3.16it/s]\n"
     ]
    },
    {
     "name": "stdout",
     "output_type": "stream",
     "text": [
      "Total Loss  |Box Loss    |Conf Loss   |No Obj Loss |Class Loss  \n",
      "------------ ------------ ------------ ------------ ------------\n",
      "105.199     |45.370      |56.332      |3.496       |0.000       \n",
      "\n",
      "=== EPOCH 62/109 ===\n",
      "Learning Rate = 0.000215233605\n",
      "\n"
     ]
    },
    {
     "name": "stderr",
     "output_type": "stream",
     "text": [
      "Training: 100%|██████████| 113/113 [00:50<00:00,  2.24it/s]\n"
     ]
    },
    {
     "name": "stdout",
     "output_type": "stream",
     "text": [
      "Total Loss  |Box Loss    |Conf Loss   |No Obj Loss |Class Loss  \n",
      "------------ ------------ ------------ ------------ ------------\n",
      "59.658      |27.303      |24.022      |8.323       |0.010       \n",
      "\n"
     ]
    },
    {
     "name": "stderr",
     "output_type": "stream",
     "text": [
      "Validating: 100%|██████████| 27/27 [00:08<00:00,  3.20it/s]\n"
     ]
    },
    {
     "name": "stdout",
     "output_type": "stream",
     "text": [
      "Total Loss  |Box Loss    |Conf Loss   |No Obj Loss |Class Loss  \n",
      "------------ ------------ ------------ ------------ ------------\n",
      "102.129     |44.624      |53.490      |4.014       |0.000       \n",
      "\n",
      "Saving model with new best validation loss: 102.129\n",
      "\n",
      "=== EPOCH 63/109 ===\n",
      "Learning Rate = 0.000215233605\n",
      "\n"
     ]
    },
    {
     "name": "stderr",
     "output_type": "stream",
     "text": [
      "Training: 100%|██████████| 113/113 [00:49<00:00,  2.28it/s]\n"
     ]
    },
    {
     "name": "stdout",
     "output_type": "stream",
     "text": [
      "Total Loss  |Box Loss    |Conf Loss   |No Obj Loss |Class Loss  \n",
      "------------ ------------ ------------ ------------ ------------\n",
      "57.287      |26.344      |23.073      |7.866       |0.005       \n",
      "\n"
     ]
    },
    {
     "name": "stderr",
     "output_type": "stream",
     "text": [
      "Validating: 100%|██████████| 27/27 [00:08<00:00,  3.15it/s]\n"
     ]
    },
    {
     "name": "stdout",
     "output_type": "stream",
     "text": [
      "Total Loss  |Box Loss    |Conf Loss   |No Obj Loss |Class Loss  \n",
      "------------ ------------ ------------ ------------ ------------\n",
      "100.840     |46.484      |49.205      |5.151       |0.000       \n",
      "\n",
      "Saving model with new best validation loss: 100.840\n",
      "\n",
      "=== EPOCH 64/109 ===\n",
      "Learning Rate = 0.000215233605\n",
      "\n"
     ]
    },
    {
     "name": "stderr",
     "output_type": "stream",
     "text": [
      "Training: 100%|██████████| 113/113 [00:48<00:00,  2.31it/s]\n"
     ]
    },
    {
     "name": "stdout",
     "output_type": "stream",
     "text": [
      "Total Loss  |Box Loss    |Conf Loss   |No Obj Loss |Class Loss  \n",
      "------------ ------------ ------------ ------------ ------------\n",
      "58.429      |26.994      |23.331      |8.098       |0.006       \n",
      "\n"
     ]
    },
    {
     "name": "stderr",
     "output_type": "stream",
     "text": [
      "Validating: 100%|██████████| 27/27 [00:08<00:00,  3.19it/s]"
     ]
    },
    {
     "name": "stdout",
     "output_type": "stream",
     "text": [
      "Total Loss  |Box Loss    |Conf Loss   |No Obj Loss |Class Loss  \n",
      "------------ ------------ ------------ ------------ ------------\n",
      "101.769     |45.282      |52.268      |4.219       |0.000       \n"
     ]
    },
    {
     "name": "stderr",
     "output_type": "stream",
     "text": [
      "\n",
      "mAP:@.5: 100%|██████████| 1/1 [00:01<00:00,  1.35s/it]\n"
     ]
    },
    {
     "name": "stdout",
     "output_type": "stream",
     "text": [
      "\n",
      "Validation mAP: 0.240\n",
      "\n",
      "=== EPOCH 65/109 ===\n",
      "Learning Rate = 0.000215233605\n",
      "\n"
     ]
    },
    {
     "name": "stderr",
     "output_type": "stream",
     "text": [
      "Training: 100%|██████████| 113/113 [00:52<00:00,  2.17it/s]\n"
     ]
    },
    {
     "name": "stdout",
     "output_type": "stream",
     "text": [
      "Total Loss  |Box Loss    |Conf Loss   |No Obj Loss |Class Loss  \n",
      "------------ ------------ ------------ ------------ ------------\n",
      "58.053      |27.304      |22.773      |7.966       |0.010       \n",
      "\n"
     ]
    },
    {
     "name": "stderr",
     "output_type": "stream",
     "text": [
      "Validating: 100%|██████████| 27/27 [00:08<00:00,  3.12it/s]\n"
     ]
    },
    {
     "name": "stdout",
     "output_type": "stream",
     "text": [
      "Total Loss  |Box Loss    |Conf Loss   |No Obj Loss |Class Loss  \n",
      "------------ ------------ ------------ ------------ ------------\n",
      "103.872     |44.940      |55.372      |3.559       |0.000       \n",
      "\n",
      "=== EPOCH 66/109 ===\n",
      "Learning Rate = 0.000215233605\n",
      "\n"
     ]
    },
    {
     "name": "stderr",
     "output_type": "stream",
     "text": [
      "Training: 100%|██████████| 113/113 [00:51<00:00,  2.21it/s]\n"
     ]
    },
    {
     "name": "stdout",
     "output_type": "stream",
     "text": [
      "Total Loss  |Box Loss    |Conf Loss   |No Obj Loss |Class Loss  \n",
      "------------ ------------ ------------ ------------ ------------\n",
      "57.688      |26.776      |23.203      |7.702       |0.007       \n",
      "\n"
     ]
    },
    {
     "name": "stderr",
     "output_type": "stream",
     "text": [
      "Validating: 100%|██████████| 27/27 [00:08<00:00,  3.14it/s]\n"
     ]
    },
    {
     "name": "stdout",
     "output_type": "stream",
     "text": [
      "Total Loss  |Box Loss    |Conf Loss   |No Obj Loss |Class Loss  \n",
      "------------ ------------ ------------ ------------ ------------\n",
      "102.424     |47.496      |49.866      |5.062       |0.000       \n",
      "\n",
      "=== EPOCH 67/109 ===\n",
      "Learning Rate = 0.0001937102445\n",
      "\n"
     ]
    },
    {
     "name": "stderr",
     "output_type": "stream",
     "text": [
      "Training: 100%|██████████| 113/113 [00:50<00:00,  2.23it/s]\n"
     ]
    },
    {
     "name": "stdout",
     "output_type": "stream",
     "text": [
      "Total Loss  |Box Loss    |Conf Loss   |No Obj Loss |Class Loss  \n",
      "------------ ------------ ------------ ------------ ------------\n",
      "57.784      |27.259      |22.900      |7.619       |0.007       \n",
      "\n"
     ]
    },
    {
     "name": "stderr",
     "output_type": "stream",
     "text": [
      "Validating: 100%|██████████| 27/27 [00:08<00:00,  3.16it/s]\n"
     ]
    },
    {
     "name": "stdout",
     "output_type": "stream",
     "text": [
      "Total Loss  |Box Loss    |Conf Loss   |No Obj Loss |Class Loss  \n",
      "------------ ------------ ------------ ------------ ------------\n",
      "105.013     |45.486      |55.613      |3.913       |0.000       \n",
      "\n",
      "=== EPOCH 68/109 ===\n",
      "Learning Rate = 0.0001937102445\n",
      "\n"
     ]
    },
    {
     "name": "stderr",
     "output_type": "stream",
     "text": [
      "Training: 100%|██████████| 113/113 [00:52<00:00,  2.16it/s]\n"
     ]
    },
    {
     "name": "stdout",
     "output_type": "stream",
     "text": [
      "Total Loss  |Box Loss    |Conf Loss   |No Obj Loss |Class Loss  \n",
      "------------ ------------ ------------ ------------ ------------\n",
      "57.031      |26.538      |22.813      |7.676       |0.004       \n",
      "\n"
     ]
    },
    {
     "name": "stderr",
     "output_type": "stream",
     "text": [
      "Validating: 100%|██████████| 27/27 [00:08<00:00,  3.09it/s]\n"
     ]
    },
    {
     "name": "stdout",
     "output_type": "stream",
     "text": [
      "Total Loss  |Box Loss    |Conf Loss   |No Obj Loss |Class Loss  \n",
      "------------ ------------ ------------ ------------ ------------\n",
      "101.009     |45.881      |50.302      |4.826       |0.000       \n",
      "\n",
      "=== EPOCH 69/109 ===\n",
      "Learning Rate = 0.0001937102445\n",
      "\n"
     ]
    },
    {
     "name": "stderr",
     "output_type": "stream",
     "text": [
      "Training: 100%|██████████| 113/113 [00:50<00:00,  2.23it/s]\n"
     ]
    },
    {
     "name": "stdout",
     "output_type": "stream",
     "text": [
      "Total Loss  |Box Loss    |Conf Loss   |No Obj Loss |Class Loss  \n",
      "------------ ------------ ------------ ------------ ------------\n",
      "56.238      |26.131      |22.424      |7.678       |0.005       \n",
      "\n"
     ]
    },
    {
     "name": "stderr",
     "output_type": "stream",
     "text": [
      "Validating: 100%|██████████| 27/27 [00:08<00:00,  3.17it/s]"
     ]
    },
    {
     "name": "stdout",
     "output_type": "stream",
     "text": [
      "Total Loss  |Box Loss    |Conf Loss   |No Obj Loss |Class Loss  \n",
      "------------ ------------ ------------ ------------ ------------\n",
      "107.156     |46.287      |57.148      |3.720       |0.000       \n"
     ]
    },
    {
     "name": "stderr",
     "output_type": "stream",
     "text": [
      "\n",
      "mAP:@.5: 100%|██████████| 1/1 [00:01<00:00,  1.15s/it]\n"
     ]
    },
    {
     "name": "stdout",
     "output_type": "stream",
     "text": [
      "\n",
      "Validation mAP: 0.261\n",
      "\n",
      "Saving model with new best val mAP: 0.261\n",
      "\n",
      "=== EPOCH 70/109 ===\n",
      "Learning Rate = 0.00017433922005\n",
      "\n"
     ]
    },
    {
     "name": "stderr",
     "output_type": "stream",
     "text": [
      "Training: 100%|██████████| 113/113 [00:52<00:00,  2.15it/s]\n"
     ]
    },
    {
     "name": "stdout",
     "output_type": "stream",
     "text": [
      "Total Loss  |Box Loss    |Conf Loss   |No Obj Loss |Class Loss  \n",
      "------------ ------------ ------------ ------------ ------------\n",
      "56.576      |26.675      |22.281      |7.615       |0.005       \n",
      "\n"
     ]
    },
    {
     "name": "stderr",
     "output_type": "stream",
     "text": [
      "Validating: 100%|██████████| 27/27 [00:08<00:00,  3.19it/s]\n"
     ]
    },
    {
     "name": "stdout",
     "output_type": "stream",
     "text": [
      "Total Loss  |Box Loss    |Conf Loss   |No Obj Loss |Class Loss  \n",
      "------------ ------------ ------------ ------------ ------------\n",
      "103.846     |45.630      |54.207      |4.009       |0.000       \n",
      "\n",
      "=== EPOCH 71/109 ===\n",
      "Learning Rate = 0.00017433922005\n",
      "\n"
     ]
    },
    {
     "name": "stderr",
     "output_type": "stream",
     "text": [
      "Training: 100%|██████████| 113/113 [00:52<00:00,  2.16it/s]\n"
     ]
    },
    {
     "name": "stdout",
     "output_type": "stream",
     "text": [
      "Total Loss  |Box Loss    |Conf Loss   |No Obj Loss |Class Loss  \n",
      "------------ ------------ ------------ ------------ ------------\n",
      "57.568      |26.870      |22.772      |7.920       |0.006       \n",
      "\n"
     ]
    },
    {
     "name": "stderr",
     "output_type": "stream",
     "text": [
      "Validating: 100%|██████████| 27/27 [00:08<00:00,  3.22it/s]\n"
     ]
    },
    {
     "name": "stdout",
     "output_type": "stream",
     "text": [
      "Total Loss  |Box Loss    |Conf Loss   |No Obj Loss |Class Loss  \n",
      "------------ ------------ ------------ ------------ ------------\n",
      "103.849     |45.346      |54.608      |3.895       |0.000       \n",
      "\n",
      "=== EPOCH 72/109 ===\n",
      "Learning Rate = 0.00017433922005\n",
      "\n"
     ]
    },
    {
     "name": "stderr",
     "output_type": "stream",
     "text": [
      "Training: 100%|██████████| 113/113 [00:49<00:00,  2.30it/s]\n"
     ]
    },
    {
     "name": "stdout",
     "output_type": "stream",
     "text": [
      "Total Loss  |Box Loss    |Conf Loss   |No Obj Loss |Class Loss  \n",
      "------------ ------------ ------------ ------------ ------------\n",
      "56.024      |26.010      |22.499      |7.510       |0.005       \n",
      "\n"
     ]
    },
    {
     "name": "stderr",
     "output_type": "stream",
     "text": [
      "Validating: 100%|██████████| 27/27 [00:08<00:00,  3.10it/s]\n"
     ]
    },
    {
     "name": "stdout",
     "output_type": "stream",
     "text": [
      "Total Loss  |Box Loss    |Conf Loss   |No Obj Loss |Class Loss  \n",
      "------------ ------------ ------------ ------------ ------------\n",
      "103.493     |44.882      |54.988      |3.623       |0.000       \n",
      "\n",
      "=== EPOCH 73/109 ===\n",
      "Learning Rate = 0.00015690529804500002\n",
      "\n"
     ]
    },
    {
     "name": "stderr",
     "output_type": "stream",
     "text": [
      "Training: 100%|██████████| 113/113 [00:50<00:00,  2.25it/s]\n"
     ]
    },
    {
     "name": "stdout",
     "output_type": "stream",
     "text": [
      "Total Loss  |Box Loss    |Conf Loss   |No Obj Loss |Class Loss  \n",
      "------------ ------------ ------------ ------------ ------------\n",
      "57.142      |26.857      |22.444      |7.836       |0.005       \n",
      "\n"
     ]
    },
    {
     "name": "stderr",
     "output_type": "stream",
     "text": [
      "Validating: 100%|██████████| 27/27 [00:08<00:00,  3.11it/s]\n"
     ]
    },
    {
     "name": "stdout",
     "output_type": "stream",
     "text": [
      "Total Loss  |Box Loss    |Conf Loss   |No Obj Loss |Class Loss  \n",
      "------------ ------------ ------------ ------------ ------------\n",
      "105.401     |46.945      |54.531      |3.925       |0.000       \n",
      "\n",
      "=== EPOCH 74/109 ===\n",
      "Learning Rate = 0.00015690529804500002\n",
      "\n"
     ]
    },
    {
     "name": "stderr",
     "output_type": "stream",
     "text": [
      "Training: 100%|██████████| 113/113 [00:57<00:00,  1.96it/s]"
     ]
    },
    {
     "name": "stdout",
     "output_type": "stream",
     "text": [
      "Total Loss  |Box Loss    |Conf Loss   |No Obj Loss |Class Loss  \n",
      "------------ ------------ ------------ ------------ ------------\n",
      "55.301      |25.917      |21.809      |7.568       |0.006       \n",
      "\n"
     ]
    },
    {
     "name": "stderr",
     "output_type": "stream",
     "text": [
      "\n",
      "mAP:@.5: 100%|██████████| 1/1 [00:08<00:00,  8.71s/it]\n"
     ]
    },
    {
     "name": "stdout",
     "output_type": "stream",
     "text": [
      "\n",
      "Train mAP: 0.385\n"
     ]
    },
    {
     "name": "stderr",
     "output_type": "stream",
     "text": [
      "Validating: 100%|██████████| 27/27 [00:10<00:00,  2.53it/s]"
     ]
    },
    {
     "name": "stdout",
     "output_type": "stream",
     "text": [
      "Total Loss  |Box Loss    |Conf Loss   |No Obj Loss |Class Loss  \n",
      "------------ ------------ ------------ ------------ ------------\n",
      "105.207     |46.814      |54.535      |3.857       |0.000       \n"
     ]
    },
    {
     "name": "stderr",
     "output_type": "stream",
     "text": [
      "\n",
      "mAP:@.5: 100%|██████████| 1/1 [00:01<00:00,  1.07s/it]\n"
     ]
    },
    {
     "name": "stdout",
     "output_type": "stream",
     "text": [
      "\n",
      "Validation mAP: 0.258\n",
      "\n",
      "=== EPOCH 75/109 ===\n",
      "Learning Rate = 0.00015690529804500002\n",
      "\n"
     ]
    },
    {
     "name": "stderr",
     "output_type": "stream",
     "text": [
      "Training: 100%|██████████| 113/113 [00:56<00:00,  2.02it/s]\n"
     ]
    },
    {
     "name": "stdout",
     "output_type": "stream",
     "text": [
      "Total Loss  |Box Loss    |Conf Loss   |No Obj Loss |Class Loss  \n",
      "------------ ------------ ------------ ------------ ------------\n",
      "55.531      |25.887      |22.146      |7.494       |0.004       \n",
      "\n"
     ]
    },
    {
     "name": "stderr",
     "output_type": "stream",
     "text": [
      "Validating: 100%|██████████| 27/27 [00:08<00:00,  3.07it/s]\n"
     ]
    },
    {
     "name": "stdout",
     "output_type": "stream",
     "text": [
      "Total Loss  |Box Loss    |Conf Loss   |No Obj Loss |Class Loss  \n",
      "------------ ------------ ------------ ------------ ------------\n",
      "104.336     |45.716      |54.969      |3.651       |0.000       \n",
      "\n",
      "=== EPOCH 76/109 ===\n",
      "Learning Rate = 0.00014121476824050002\n",
      "\n"
     ]
    },
    {
     "name": "stderr",
     "output_type": "stream",
     "text": [
      "Training: 100%|██████████| 113/113 [00:55<00:00,  2.03it/s]\n"
     ]
    },
    {
     "name": "stdout",
     "output_type": "stream",
     "text": [
      "Total Loss  |Box Loss    |Conf Loss   |No Obj Loss |Class Loss  \n",
      "------------ ------------ ------------ ------------ ------------\n",
      "54.706      |25.619      |21.582      |7.500       |0.004       \n",
      "\n"
     ]
    },
    {
     "name": "stderr",
     "output_type": "stream",
     "text": [
      "Validating: 100%|██████████| 27/27 [00:08<00:00,  3.03it/s]\n"
     ]
    },
    {
     "name": "stdout",
     "output_type": "stream",
     "text": [
      "Total Loss  |Box Loss    |Conf Loss   |No Obj Loss |Class Loss  \n",
      "------------ ------------ ------------ ------------ ------------\n",
      "106.069     |46.257      |56.158      |3.654       |0.000       \n",
      "\n",
      "=== EPOCH 77/109 ===\n",
      "Learning Rate = 0.00014121476824050002\n",
      "\n"
     ]
    },
    {
     "name": "stderr",
     "output_type": "stream",
     "text": [
      "Training: 100%|██████████| 113/113 [00:55<00:00,  2.04it/s]\n"
     ]
    },
    {
     "name": "stdout",
     "output_type": "stream",
     "text": [
      "Total Loss  |Box Loss    |Conf Loss   |No Obj Loss |Class Loss  \n",
      "------------ ------------ ------------ ------------ ------------\n",
      "56.808      |26.916      |22.236      |7.649       |0.007       \n",
      "\n"
     ]
    },
    {
     "name": "stderr",
     "output_type": "stream",
     "text": [
      "Validating: 100%|██████████| 27/27 [00:08<00:00,  3.05it/s]\n"
     ]
    },
    {
     "name": "stdout",
     "output_type": "stream",
     "text": [
      "Total Loss  |Box Loss    |Conf Loss   |No Obj Loss |Class Loss  \n",
      "------------ ------------ ------------ ------------ ------------\n",
      "103.160     |46.267      |52.770      |4.123       |0.000       \n",
      "\n",
      "=== EPOCH 78/109 ===\n",
      "Learning Rate = 0.00014121476824050002\n",
      "\n"
     ]
    },
    {
     "name": "stderr",
     "output_type": "stream",
     "text": [
      "Training: 100%|██████████| 113/113 [00:53<00:00,  2.11it/s]\n"
     ]
    },
    {
     "name": "stdout",
     "output_type": "stream",
     "text": [
      "Total Loss  |Box Loss    |Conf Loss   |No Obj Loss |Class Loss  \n",
      "------------ ------------ ------------ ------------ ------------\n",
      "56.065      |26.363      |22.226      |7.470       |0.006       \n",
      "\n"
     ]
    },
    {
     "name": "stderr",
     "output_type": "stream",
     "text": [
      "Validating: 100%|██████████| 27/27 [00:08<00:00,  3.13it/s]\n"
     ]
    },
    {
     "name": "stdout",
     "output_type": "stream",
     "text": [
      "Total Loss  |Box Loss    |Conf Loss   |No Obj Loss |Class Loss  \n",
      "------------ ------------ ------------ ------------ ------------\n",
      "103.551     |45.092      |54.590      |3.869       |0.000       \n",
      "\n",
      "=== EPOCH 79/109 ===\n",
      "Learning Rate = 0.00012709329141645002\n",
      "\n"
     ]
    },
    {
     "name": "stderr",
     "output_type": "stream",
     "text": [
      "Training: 100%|██████████| 113/113 [00:54<00:00,  2.09it/s]\n"
     ]
    },
    {
     "name": "stdout",
     "output_type": "stream",
     "text": [
      "Total Loss  |Box Loss    |Conf Loss   |No Obj Loss |Class Loss  \n",
      "------------ ------------ ------------ ------------ ------------\n",
      "55.596      |26.184      |21.790      |7.613       |0.009       \n",
      "\n"
     ]
    },
    {
     "name": "stderr",
     "output_type": "stream",
     "text": [
      "Validating: 100%|██████████| 27/27 [00:08<00:00,  3.02it/s]"
     ]
    },
    {
     "name": "stdout",
     "output_type": "stream",
     "text": [
      "Total Loss  |Box Loss    |Conf Loss   |No Obj Loss |Class Loss  \n",
      "------------ ------------ ------------ ------------ ------------\n",
      "103.319     |44.967      |54.337      |4.014       |0.000       \n"
     ]
    },
    {
     "name": "stderr",
     "output_type": "stream",
     "text": [
      "\n",
      "mAP:@.5: 100%|██████████| 1/1 [00:00<00:00,  1.08it/s]\n"
     ]
    },
    {
     "name": "stdout",
     "output_type": "stream",
     "text": [
      "\n",
      "Validation mAP: 0.260\n",
      "\n",
      "=== EPOCH 80/109 ===\n",
      "Learning Rate = 0.00012709329141645002\n",
      "\n"
     ]
    },
    {
     "name": "stderr",
     "output_type": "stream",
     "text": [
      "Training: 100%|██████████| 113/113 [00:57<00:00,  1.97it/s]\n"
     ]
    },
    {
     "name": "stdout",
     "output_type": "stream",
     "text": [
      "Total Loss  |Box Loss    |Conf Loss   |No Obj Loss |Class Loss  \n",
      "------------ ------------ ------------ ------------ ------------\n",
      "55.690      |26.208      |22.106      |7.370       |0.006       \n",
      "\n"
     ]
    },
    {
     "name": "stderr",
     "output_type": "stream",
     "text": [
      "Validating: 100%|██████████| 27/27 [00:09<00:00,  2.74it/s]\n"
     ]
    },
    {
     "name": "stdout",
     "output_type": "stream",
     "text": [
      "Total Loss  |Box Loss    |Conf Loss   |No Obj Loss |Class Loss  \n",
      "------------ ------------ ------------ ------------ ------------\n",
      "103.122     |45.582      |53.233      |4.307       |0.000       \n",
      "\n",
      "=== EPOCH 81/109 ===\n",
      "Learning Rate = 0.00012709329141645002\n",
      "\n"
     ]
    },
    {
     "name": "stderr",
     "output_type": "stream",
     "text": [
      "Training: 100%|██████████| 113/113 [00:58<00:00,  1.92it/s]\n"
     ]
    },
    {
     "name": "stdout",
     "output_type": "stream",
     "text": [
      "Total Loss  |Box Loss    |Conf Loss   |No Obj Loss |Class Loss  \n",
      "------------ ------------ ------------ ------------ ------------\n",
      "54.988      |25.737      |21.708      |7.539       |0.004       \n",
      "\n"
     ]
    },
    {
     "name": "stderr",
     "output_type": "stream",
     "text": [
      "Validating: 100%|██████████| 27/27 [00:09<00:00,  2.86it/s]\n"
     ]
    },
    {
     "name": "stdout",
     "output_type": "stream",
     "text": [
      "Total Loss  |Box Loss    |Conf Loss   |No Obj Loss |Class Loss  \n",
      "------------ ------------ ------------ ------------ ------------\n",
      "104.028     |46.030      |53.986      |4.012       |0.000       \n",
      "\n",
      "=== EPOCH 82/109 ===\n",
      "Learning Rate = 0.00011438396227480502\n",
      "\n"
     ]
    },
    {
     "name": "stderr",
     "output_type": "stream",
     "text": [
      "Training: 100%|██████████| 113/113 [00:55<00:00,  2.05it/s]\n"
     ]
    },
    {
     "name": "stdout",
     "output_type": "stream",
     "text": [
      "Total Loss  |Box Loss    |Conf Loss   |No Obj Loss |Class Loss  \n",
      "------------ ------------ ------------ ------------ ------------\n",
      "54.554      |25.660      |21.522      |7.363       |0.009       \n",
      "\n"
     ]
    },
    {
     "name": "stderr",
     "output_type": "stream",
     "text": [
      "Validating: 100%|██████████| 27/27 [00:09<00:00,  2.73it/s]\n"
     ]
    },
    {
     "name": "stdout",
     "output_type": "stream",
     "text": [
      "Total Loss  |Box Loss    |Conf Loss   |No Obj Loss |Class Loss  \n",
      "------------ ------------ ------------ ------------ ------------\n",
      "103.732     |44.961      |54.954      |3.817       |0.000       \n",
      "\n",
      "=== EPOCH 83/109 ===\n",
      "Learning Rate = 0.00011438396227480502\n",
      "\n"
     ]
    },
    {
     "name": "stderr",
     "output_type": "stream",
     "text": [
      "Training: 100%|██████████| 113/113 [00:56<00:00,  1.99it/s]\n"
     ]
    },
    {
     "name": "stdout",
     "output_type": "stream",
     "text": [
      "Total Loss  |Box Loss    |Conf Loss   |No Obj Loss |Class Loss  \n",
      "------------ ------------ ------------ ------------ ------------\n",
      "54.585      |25.747      |21.390      |7.443       |0.004       \n",
      "\n"
     ]
    },
    {
     "name": "stderr",
     "output_type": "stream",
     "text": [
      "Validating: 100%|██████████| 27/27 [00:09<00:00,  2.72it/s]\n"
     ]
    },
    {
     "name": "stdout",
     "output_type": "stream",
     "text": [
      "Total Loss  |Box Loss    |Conf Loss   |No Obj Loss |Class Loss  \n",
      "------------ ------------ ------------ ------------ ------------\n",
      "105.245     |46.214      |55.171      |3.860       |0.000       \n",
      "\n",
      "=== EPOCH 84/109 ===\n",
      "Learning Rate = 0.00011438396227480502\n",
      "\n"
     ]
    },
    {
     "name": "stderr",
     "output_type": "stream",
     "text": [
      "Training: 100%|██████████| 113/113 [00:55<00:00,  2.03it/s]\n"
     ]
    },
    {
     "name": "stdout",
     "output_type": "stream",
     "text": [
      "Total Loss  |Box Loss    |Conf Loss   |No Obj Loss |Class Loss  \n",
      "------------ ------------ ------------ ------------ ------------\n",
      "54.103      |25.181      |21.416      |7.501       |0.004       \n",
      "\n"
     ]
    },
    {
     "name": "stderr",
     "output_type": "stream",
     "text": [
      "Validating: 100%|██████████| 27/27 [00:09<00:00,  2.71it/s]"
     ]
    },
    {
     "name": "stdout",
     "output_type": "stream",
     "text": [
      "Total Loss  |Box Loss    |Conf Loss   |No Obj Loss |Class Loss  \n",
      "------------ ------------ ------------ ------------ ------------\n",
      "105.403     |45.828      |55.836      |3.739       |0.000       \n"
     ]
    },
    {
     "name": "stderr",
     "output_type": "stream",
     "text": [
      "\n",
      "mAP:@.5: 100%|██████████| 1/1 [00:00<00:00,  1.11it/s]\n"
     ]
    },
    {
     "name": "stdout",
     "output_type": "stream",
     "text": [
      "\n",
      "Validation mAP: 0.263\n",
      "\n",
      "Saving model with new best val mAP: 0.263\n",
      "\n",
      "=== EPOCH 85/109 ===\n",
      "Learning Rate = 0.00010294556604732453\n",
      "\n"
     ]
    },
    {
     "name": "stderr",
     "output_type": "stream",
     "text": [
      "Training: 100%|██████████| 113/113 [00:56<00:00,  1.99it/s]\n"
     ]
    },
    {
     "name": "stdout",
     "output_type": "stream",
     "text": [
      "Total Loss  |Box Loss    |Conf Loss   |No Obj Loss |Class Loss  \n",
      "------------ ------------ ------------ ------------ ------------\n",
      "55.313      |26.189      |21.756      |7.362       |0.006       \n",
      "\n"
     ]
    },
    {
     "name": "stderr",
     "output_type": "stream",
     "text": [
      "Validating: 100%|██████████| 27/27 [00:09<00:00,  2.80it/s]\n"
     ]
    },
    {
     "name": "stdout",
     "output_type": "stream",
     "text": [
      "Total Loss  |Box Loss    |Conf Loss   |No Obj Loss |Class Loss  \n",
      "------------ ------------ ------------ ------------ ------------\n",
      "102.747     |45.248      |53.425      |4.074       |0.000       \n",
      "\n",
      "=== EPOCH 86/109 ===\n",
      "Learning Rate = 0.00010294556604732453\n",
      "\n"
     ]
    },
    {
     "name": "stderr",
     "output_type": "stream",
     "text": [
      "Training: 100%|██████████| 113/113 [00:56<00:00,  1.99it/s]\n"
     ]
    },
    {
     "name": "stdout",
     "output_type": "stream",
     "text": [
      "Total Loss  |Box Loss    |Conf Loss   |No Obj Loss |Class Loss  \n",
      "------------ ------------ ------------ ------------ ------------\n",
      "54.104      |25.354      |21.571      |7.173       |0.006       \n",
      "\n"
     ]
    },
    {
     "name": "stderr",
     "output_type": "stream",
     "text": [
      "Validating: 100%|██████████| 27/27 [00:09<00:00,  2.79it/s]\n"
     ]
    },
    {
     "name": "stdout",
     "output_type": "stream",
     "text": [
      "Total Loss  |Box Loss    |Conf Loss   |No Obj Loss |Class Loss  \n",
      "------------ ------------ ------------ ------------ ------------\n",
      "104.031     |45.856      |54.248      |3.926       |0.000       \n",
      "\n",
      "=== EPOCH 87/109 ===\n",
      "Learning Rate = 0.00010294556604732453\n",
      "\n"
     ]
    },
    {
     "name": "stderr",
     "output_type": "stream",
     "text": [
      "Training: 100%|██████████| 113/113 [00:57<00:00,  1.98it/s]\n"
     ]
    },
    {
     "name": "stdout",
     "output_type": "stream",
     "text": [
      "Total Loss  |Box Loss    |Conf Loss   |No Obj Loss |Class Loss  \n",
      "------------ ------------ ------------ ------------ ------------\n",
      "53.829      |25.159      |21.502      |7.163       |0.004       \n",
      "\n"
     ]
    },
    {
     "name": "stderr",
     "output_type": "stream",
     "text": [
      "Validating: 100%|██████████| 27/27 [00:09<00:00,  2.85it/s]\n"
     ]
    },
    {
     "name": "stdout",
     "output_type": "stream",
     "text": [
      "Total Loss  |Box Loss    |Conf Loss   |No Obj Loss |Class Loss  \n",
      "------------ ------------ ------------ ------------ ------------\n",
      "101.338     |44.766      |52.212      |4.360       |0.000       \n",
      "\n",
      "=== EPOCH 88/109 ===\n",
      "Learning Rate = 9.265100944259208e-05\n",
      "\n"
     ]
    },
    {
     "name": "stderr",
     "output_type": "stream",
     "text": [
      "Training: 100%|██████████| 113/113 [00:56<00:00,  1.99it/s]\n"
     ]
    },
    {
     "name": "stdout",
     "output_type": "stream",
     "text": [
      "Total Loss  |Box Loss    |Conf Loss   |No Obj Loss |Class Loss  \n",
      "------------ ------------ ------------ ------------ ------------\n",
      "54.752      |25.866      |21.382      |7.500       |0.004       \n",
      "\n"
     ]
    },
    {
     "name": "stderr",
     "output_type": "stream",
     "text": [
      "Validating: 100%|██████████| 27/27 [00:09<00:00,  2.79it/s]\n"
     ]
    },
    {
     "name": "stdout",
     "output_type": "stream",
     "text": [
      "Total Loss  |Box Loss    |Conf Loss   |No Obj Loss |Class Loss  \n",
      "------------ ------------ ------------ ------------ ------------\n",
      "102.773     |45.554      |52.989      |4.230       |0.000       \n",
      "\n",
      "=== EPOCH 89/109 ===\n",
      "Learning Rate = 9.265100944259208e-05\n",
      "\n"
     ]
    },
    {
     "name": "stderr",
     "output_type": "stream",
     "text": [
      "Training: 100%|██████████| 113/113 [00:58<00:00,  1.93it/s]"
     ]
    },
    {
     "name": "stdout",
     "output_type": "stream",
     "text": [
      "Total Loss  |Box Loss    |Conf Loss   |No Obj Loss |Class Loss  \n",
      "------------ ------------ ------------ ------------ ------------\n",
      "55.199      |25.790      |22.077      |7.328       |0.003       \n",
      "\n"
     ]
    },
    {
     "name": "stderr",
     "output_type": "stream",
     "text": [
      "\n",
      "mAP:@.5: 100%|██████████| 1/1 [00:06<00:00,  6.74s/it]\n"
     ]
    },
    {
     "name": "stdout",
     "output_type": "stream",
     "text": [
      "\n",
      "Train mAP: 0.399\n"
     ]
    },
    {
     "name": "stderr",
     "output_type": "stream",
     "text": [
      "Validating: 100%|██████████| 27/27 [00:11<00:00,  2.39it/s]"
     ]
    },
    {
     "name": "stdout",
     "output_type": "stream",
     "text": [
      "Total Loss  |Box Loss    |Conf Loss   |No Obj Loss |Class Loss  \n",
      "------------ ------------ ------------ ------------ ------------\n",
      "102.751     |45.060      |53.763      |3.928       |0.000       \n"
     ]
    },
    {
     "name": "stderr",
     "output_type": "stream",
     "text": [
      "\n",
      "mAP:@.5: 100%|██████████| 1/1 [00:00<00:00,  1.08it/s]\n"
     ]
    },
    {
     "name": "stdout",
     "output_type": "stream",
     "text": [
      "\n",
      "Validation mAP: 0.258\n",
      "\n",
      "=== EPOCH 90/109 ===\n",
      "Learning Rate = 9.265100944259208e-05\n",
      "\n"
     ]
    },
    {
     "name": "stderr",
     "output_type": "stream",
     "text": [
      "Training: 100%|██████████| 113/113 [00:59<00:00,  1.90it/s]\n"
     ]
    },
    {
     "name": "stdout",
     "output_type": "stream",
     "text": [
      "Total Loss  |Box Loss    |Conf Loss   |No Obj Loss |Class Loss  \n",
      "------------ ------------ ------------ ------------ ------------\n",
      "54.216      |25.771      |21.225      |7.216       |0.004       \n",
      "\n"
     ]
    },
    {
     "name": "stderr",
     "output_type": "stream",
     "text": [
      "Validating: 100%|██████████| 27/27 [00:09<00:00,  2.77it/s]\n"
     ]
    },
    {
     "name": "stdout",
     "output_type": "stream",
     "text": [
      "Total Loss  |Box Loss    |Conf Loss   |No Obj Loss |Class Loss  \n",
      "------------ ------------ ------------ ------------ ------------\n",
      "103.084     |44.530      |54.532      |4.023       |0.000       \n",
      "\n",
      "=== EPOCH 91/109 ===\n",
      "Learning Rate = 8.338590849833288e-05\n",
      "\n"
     ]
    },
    {
     "name": "stderr",
     "output_type": "stream",
     "text": [
      "Training: 100%|██████████| 113/113 [00:59<00:00,  1.90it/s]\n"
     ]
    },
    {
     "name": "stdout",
     "output_type": "stream",
     "text": [
      "Total Loss  |Box Loss    |Conf Loss   |No Obj Loss |Class Loss  \n",
      "------------ ------------ ------------ ------------ ------------\n",
      "53.342      |25.200      |20.973      |7.166       |0.003       \n",
      "\n"
     ]
    },
    {
     "name": "stderr",
     "output_type": "stream",
     "text": [
      "Validating: 100%|██████████| 27/27 [00:09<00:00,  2.79it/s]\n"
     ]
    },
    {
     "name": "stdout",
     "output_type": "stream",
     "text": [
      "Total Loss  |Box Loss    |Conf Loss   |No Obj Loss |Class Loss  \n",
      "------------ ------------ ------------ ------------ ------------\n",
      "103.551     |45.562      |53.655      |4.334       |0.000       \n",
      "\n",
      "=== EPOCH 92/109 ===\n",
      "Learning Rate = 8.338590849833288e-05\n",
      "\n"
     ]
    },
    {
     "name": "stderr",
     "output_type": "stream",
     "text": [
      "Training: 100%|██████████| 113/113 [00:55<00:00,  2.05it/s]\n"
     ]
    },
    {
     "name": "stdout",
     "output_type": "stream",
     "text": [
      "Total Loss  |Box Loss    |Conf Loss   |No Obj Loss |Class Loss  \n",
      "------------ ------------ ------------ ------------ ------------\n",
      "52.903      |24.725      |20.955      |7.219       |0.004       \n",
      "\n"
     ]
    },
    {
     "name": "stderr",
     "output_type": "stream",
     "text": [
      "Validating: 100%|██████████| 27/27 [00:13<00:00,  2.02it/s]\n"
     ]
    },
    {
     "name": "stdout",
     "output_type": "stream",
     "text": [
      "Total Loss  |Box Loss    |Conf Loss   |No Obj Loss |Class Loss  \n",
      "------------ ------------ ------------ ------------ ------------\n",
      "103.059     |45.376      |53.464      |4.219       |0.000       \n",
      "\n",
      "=== EPOCH 93/109 ===\n",
      "Learning Rate = 8.338590849833288e-05\n",
      "\n"
     ]
    },
    {
     "name": "stderr",
     "output_type": "stream",
     "text": [
      "Training: 100%|██████████| 113/113 [00:55<00:00,  2.03it/s]\n"
     ]
    },
    {
     "name": "stdout",
     "output_type": "stream",
     "text": [
      "Total Loss  |Box Loss    |Conf Loss   |No Obj Loss |Class Loss  \n",
      "------------ ------------ ------------ ------------ ------------\n",
      "53.300      |25.305      |20.905      |7.087       |0.003       \n",
      "\n"
     ]
    },
    {
     "name": "stderr",
     "output_type": "stream",
     "text": [
      "Validating: 100%|██████████| 27/27 [00:12<00:00,  2.17it/s]\n"
     ]
    },
    {
     "name": "stdout",
     "output_type": "stream",
     "text": [
      "Total Loss  |Box Loss    |Conf Loss   |No Obj Loss |Class Loss  \n",
      "------------ ------------ ------------ ------------ ------------\n",
      "104.616     |45.787      |54.903      |3.926       |0.000       \n",
      "\n",
      "=== EPOCH 94/109 ===\n",
      "Learning Rate = 7.50473176484996e-05\n",
      "\n"
     ]
    },
    {
     "name": "stderr",
     "output_type": "stream",
     "text": [
      "Training: 100%|██████████| 113/113 [00:59<00:00,  1.89it/s]\n"
     ]
    },
    {
     "name": "stdout",
     "output_type": "stream",
     "text": [
      "Total Loss  |Box Loss    |Conf Loss   |No Obj Loss |Class Loss  \n",
      "------------ ------------ ------------ ------------ ------------\n",
      "54.420      |26.074      |21.209      |7.133       |0.004       \n",
      "\n"
     ]
    },
    {
     "name": "stderr",
     "output_type": "stream",
     "text": [
      "Validating: 100%|██████████| 27/27 [00:12<00:00,  2.18it/s]"
     ]
    },
    {
     "name": "stdout",
     "output_type": "stream",
     "text": [
      "Total Loss  |Box Loss    |Conf Loss   |No Obj Loss |Class Loss  \n",
      "------------ ------------ ------------ ------------ ------------\n",
      "103.213     |45.669      |53.487      |4.057       |0.000       \n"
     ]
    },
    {
     "name": "stderr",
     "output_type": "stream",
     "text": [
      "\n",
      "mAP:@.5: 100%|██████████| 1/1 [00:00<00:00,  1.04it/s]\n"
     ]
    },
    {
     "name": "stdout",
     "output_type": "stream",
     "text": [
      "\n",
      "Validation mAP: 0.263\n",
      "\n",
      "=== EPOCH 95/109 ===\n",
      "Learning Rate = 7.50473176484996e-05\n",
      "\n"
     ]
    },
    {
     "name": "stderr",
     "output_type": "stream",
     "text": [
      "Training: 100%|██████████| 113/113 [01:12<00:00,  1.55it/s]\n"
     ]
    },
    {
     "name": "stdout",
     "output_type": "stream",
     "text": [
      "Total Loss  |Box Loss    |Conf Loss   |No Obj Loss |Class Loss  \n",
      "------------ ------------ ------------ ------------ ------------\n",
      "52.869      |24.891      |20.806      |7.169       |0.003       \n",
      "\n"
     ]
    },
    {
     "name": "stderr",
     "output_type": "stream",
     "text": [
      "Validating: 100%|██████████| 27/27 [00:14<00:00,  1.85it/s]\n"
     ]
    },
    {
     "name": "stdout",
     "output_type": "stream",
     "text": [
      "Total Loss  |Box Loss    |Conf Loss   |No Obj Loss |Class Loss  \n",
      "------------ ------------ ------------ ------------ ------------\n",
      "103.386     |45.483      |53.893      |4.011       |0.000       \n",
      "\n",
      "=== EPOCH 96/109 ===\n",
      "Learning Rate = 7.50473176484996e-05\n",
      "\n"
     ]
    },
    {
     "name": "stderr",
     "output_type": "stream",
     "text": [
      "Training: 100%|██████████| 113/113 [01:11<00:00,  1.58it/s]\n"
     ]
    },
    {
     "name": "stdout",
     "output_type": "stream",
     "text": [
      "Total Loss  |Box Loss    |Conf Loss   |No Obj Loss |Class Loss  \n",
      "------------ ------------ ------------ ------------ ------------\n",
      "53.373      |24.834      |21.308      |7.228       |0.002       \n",
      "\n"
     ]
    },
    {
     "name": "stderr",
     "output_type": "stream",
     "text": [
      "Validating: 100%|██████████| 27/27 [00:10<00:00,  2.55it/s]\n"
     ]
    },
    {
     "name": "stdout",
     "output_type": "stream",
     "text": [
      "Total Loss  |Box Loss    |Conf Loss   |No Obj Loss |Class Loss  \n",
      "------------ ------------ ------------ ------------ ------------\n",
      "102.503     |45.412      |52.816      |4.275       |0.000       \n",
      "\n",
      "=== EPOCH 97/109 ===\n",
      "Learning Rate = 6.754258588364964e-05\n",
      "\n"
     ]
    },
    {
     "name": "stderr",
     "output_type": "stream",
     "text": [
      "Training: 100%|██████████| 113/113 [01:10<00:00,  1.60it/s]\n"
     ]
    },
    {
     "name": "stdout",
     "output_type": "stream",
     "text": [
      "Total Loss  |Box Loss    |Conf Loss   |No Obj Loss |Class Loss  \n",
      "------------ ------------ ------------ ------------ ------------\n",
      "52.512      |24.619      |20.785      |7.101       |0.007       \n",
      "\n"
     ]
    },
    {
     "name": "stderr",
     "output_type": "stream",
     "text": [
      "Validating: 100%|██████████| 27/27 [00:13<00:00,  2.03it/s]\n"
     ]
    },
    {
     "name": "stdout",
     "output_type": "stream",
     "text": [
      "Total Loss  |Box Loss    |Conf Loss   |No Obj Loss |Class Loss  \n",
      "------------ ------------ ------------ ------------ ------------\n",
      "101.816     |44.478      |53.198      |4.141       |0.000       \n",
      "\n",
      "=== EPOCH 98/109 ===\n",
      "Learning Rate = 6.754258588364964e-05\n",
      "\n"
     ]
    },
    {
     "name": "stderr",
     "output_type": "stream",
     "text": [
      "Training: 100%|██████████| 113/113 [01:10<00:00,  1.61it/s]\n"
     ]
    },
    {
     "name": "stdout",
     "output_type": "stream",
     "text": [
      "Total Loss  |Box Loss    |Conf Loss   |No Obj Loss |Class Loss  \n",
      "------------ ------------ ------------ ------------ ------------\n",
      "53.310      |25.409      |20.831      |7.067       |0.003       \n",
      "\n"
     ]
    },
    {
     "name": "stderr",
     "output_type": "stream",
     "text": [
      "Validating: 100%|██████████| 27/27 [00:10<00:00,  2.63it/s]\n"
     ]
    },
    {
     "name": "stdout",
     "output_type": "stream",
     "text": [
      "Total Loss  |Box Loss    |Conf Loss   |No Obj Loss |Class Loss  \n",
      "------------ ------------ ------------ ------------ ------------\n",
      "103.717     |45.280      |54.604      |3.833       |0.000       \n",
      "\n",
      "=== EPOCH 99/109 ===\n",
      "Learning Rate = 6.754258588364964e-05\n",
      "\n"
     ]
    },
    {
     "name": "stderr",
     "output_type": "stream",
     "text": [
      "Training: 100%|██████████| 113/113 [01:08<00:00,  1.64it/s]\n"
     ]
    },
    {
     "name": "stdout",
     "output_type": "stream",
     "text": [
      "Total Loss  |Box Loss    |Conf Loss   |No Obj Loss |Class Loss  \n",
      "------------ ------------ ------------ ------------ ------------\n",
      "53.818      |25.403      |21.236      |7.176       |0.004       \n",
      "\n"
     ]
    },
    {
     "name": "stderr",
     "output_type": "stream",
     "text": [
      "Validating: 100%|██████████| 27/27 [00:09<00:00,  2.71it/s]"
     ]
    },
    {
     "name": "stdout",
     "output_type": "stream",
     "text": [
      "Total Loss  |Box Loss    |Conf Loss   |No Obj Loss |Class Loss  \n",
      "------------ ------------ ------------ ------------ ------------\n",
      "103.908     |46.376      |53.337      |4.195       |0.000       \n"
     ]
    },
    {
     "name": "stderr",
     "output_type": "stream",
     "text": [
      "\n",
      "mAP:@.5: 100%|██████████| 1/1 [00:01<00:00,  1.34s/it]\n"
     ]
    },
    {
     "name": "stdout",
     "output_type": "stream",
     "text": [
      "\n",
      "Validation mAP: 0.265\n",
      "\n",
      "Saving model with new best val mAP: 0.265\n",
      "\n",
      "=== EPOCH 100/109 ===\n",
      "Learning Rate = 6.078832729528468e-05\n",
      "\n"
     ]
    },
    {
     "name": "stderr",
     "output_type": "stream",
     "text": [
      "Training: 100%|██████████| 113/113 [01:03<00:00,  1.78it/s]\n"
     ]
    },
    {
     "name": "stdout",
     "output_type": "stream",
     "text": [
      "Total Loss  |Box Loss    |Conf Loss   |No Obj Loss |Class Loss  \n",
      "------------ ------------ ------------ ------------ ------------\n",
      "53.186      |25.277      |20.990      |6.916       |0.003       \n",
      "\n"
     ]
    },
    {
     "name": "stderr",
     "output_type": "stream",
     "text": [
      "Validating: 100%|██████████| 27/27 [00:10<00:00,  2.59it/s]\n"
     ]
    },
    {
     "name": "stdout",
     "output_type": "stream",
     "text": [
      "Total Loss  |Box Loss    |Conf Loss   |No Obj Loss |Class Loss  \n",
      "------------ ------------ ------------ ------------ ------------\n",
      "103.865     |45.765      |54.107      |3.993       |0.000       \n",
      "\n",
      "=== EPOCH 101/109 ===\n",
      "Learning Rate = 6.078832729528468e-05\n",
      "\n"
     ]
    },
    {
     "name": "stderr",
     "output_type": "stream",
     "text": [
      "Training: 100%|██████████| 113/113 [01:04<00:00,  1.75it/s]\n"
     ]
    },
    {
     "name": "stdout",
     "output_type": "stream",
     "text": [
      "Total Loss  |Box Loss    |Conf Loss   |No Obj Loss |Class Loss  \n",
      "------------ ------------ ------------ ------------ ------------\n",
      "53.842      |25.885      |20.772      |7.180       |0.006       \n",
      "\n"
     ]
    },
    {
     "name": "stderr",
     "output_type": "stream",
     "text": [
      "Validating: 100%|██████████| 27/27 [00:10<00:00,  2.64it/s]\n"
     ]
    },
    {
     "name": "stdout",
     "output_type": "stream",
     "text": [
      "Total Loss  |Box Loss    |Conf Loss   |No Obj Loss |Class Loss  \n",
      "------------ ------------ ------------ ------------ ------------\n",
      "102.820     |45.176      |53.584      |4.060       |0.000       \n",
      "\n",
      "=== EPOCH 102/109 ===\n",
      "Learning Rate = 6.078832729528468e-05\n",
      "\n"
     ]
    },
    {
     "name": "stderr",
     "output_type": "stream",
     "text": [
      "Training: 100%|██████████| 113/113 [01:04<00:00,  1.76it/s]\n"
     ]
    },
    {
     "name": "stdout",
     "output_type": "stream",
     "text": [
      "Total Loss  |Box Loss    |Conf Loss   |No Obj Loss |Class Loss  \n",
      "------------ ------------ ------------ ------------ ------------\n",
      "53.874      |25.627      |21.027      |7.217       |0.004       \n",
      "\n"
     ]
    },
    {
     "name": "stderr",
     "output_type": "stream",
     "text": [
      "Validating: 100%|██████████| 27/27 [00:10<00:00,  2.58it/s]\n"
     ]
    },
    {
     "name": "stdout",
     "output_type": "stream",
     "text": [
      "Total Loss  |Box Loss    |Conf Loss   |No Obj Loss |Class Loss  \n",
      "------------ ------------ ------------ ------------ ------------\n",
      "102.364     |44.955      |53.266      |4.143       |0.000       \n",
      "\n",
      "=== EPOCH 103/109 ===\n",
      "Learning Rate = 5.4709494565756215e-05\n",
      "\n"
     ]
    },
    {
     "name": "stderr",
     "output_type": "stream",
     "text": [
      "Training: 100%|██████████| 113/113 [00:58<00:00,  1.93it/s]\n"
     ]
    },
    {
     "name": "stdout",
     "output_type": "stream",
     "text": [
      "Total Loss  |Box Loss    |Conf Loss   |No Obj Loss |Class Loss  \n",
      "------------ ------------ ------------ ------------ ------------\n",
      "52.701      |25.189      |20.387      |7.121       |0.004       \n",
      "\n"
     ]
    },
    {
     "name": "stderr",
     "output_type": "stream",
     "text": [
      "Validating: 100%|██████████| 27/27 [00:10<00:00,  2.61it/s]\n"
     ]
    },
    {
     "name": "stdout",
     "output_type": "stream",
     "text": [
      "Total Loss  |Box Loss    |Conf Loss   |No Obj Loss |Class Loss  \n",
      "------------ ------------ ------------ ------------ ------------\n",
      "103.185     |45.106      |54.122      |3.957       |0.000       \n",
      "\n",
      "=== EPOCH 104/109 ===\n",
      "Learning Rate = 5.4709494565756215e-05\n",
      "\n"
     ]
    },
    {
     "name": "stderr",
     "output_type": "stream",
     "text": [
      "Training: 100%|██████████| 113/113 [00:54<00:00,  2.07it/s]"
     ]
    },
    {
     "name": "stdout",
     "output_type": "stream",
     "text": [
      "Total Loss  |Box Loss    |Conf Loss   |No Obj Loss |Class Loss  \n",
      "------------ ------------ ------------ ------------ ------------\n",
      "52.738      |24.884      |20.766      |7.083       |0.004       \n",
      "\n"
     ]
    },
    {
     "name": "stderr",
     "output_type": "stream",
     "text": [
      "\n",
      "mAP:@.5: 100%|██████████| 1/1 [00:08<00:00,  8.16s/it]\n"
     ]
    },
    {
     "name": "stdout",
     "output_type": "stream",
     "text": [
      "\n",
      "Train mAP: 0.400\n"
     ]
    },
    {
     "name": "stderr",
     "output_type": "stream",
     "text": [
      "Validating: 100%|██████████| 27/27 [00:10<00:00,  2.66it/s]"
     ]
    },
    {
     "name": "stdout",
     "output_type": "stream",
     "text": [
      "Total Loss  |Box Loss    |Conf Loss   |No Obj Loss |Class Loss  \n",
      "------------ ------------ ------------ ------------ ------------\n",
      "103.427     |45.323      |54.073      |4.031       |0.000       \n"
     ]
    },
    {
     "name": "stderr",
     "output_type": "stream",
     "text": [
      "\n",
      "mAP:@.5: 100%|██████████| 1/1 [00:00<00:00,  1.06it/s]\n"
     ]
    },
    {
     "name": "stdout",
     "output_type": "stream",
     "text": [
      "\n",
      "Validation mAP: 0.267\n",
      "\n",
      "Saving model with new best val mAP: 0.267\n",
      "\n",
      "=== EPOCH 105/109 ===\n",
      "Learning Rate = 5.4709494565756215e-05\n",
      "\n"
     ]
    },
    {
     "name": "stderr",
     "output_type": "stream",
     "text": [
      "Training: 100%|██████████| 113/113 [00:53<00:00,  2.10it/s]\n"
     ]
    },
    {
     "name": "stdout",
     "output_type": "stream",
     "text": [
      "Total Loss  |Box Loss    |Conf Loss   |No Obj Loss |Class Loss  \n",
      "------------ ------------ ------------ ------------ ------------\n",
      "53.130      |25.373      |20.827      |6.927       |0.003       \n",
      "\n"
     ]
    },
    {
     "name": "stderr",
     "output_type": "stream",
     "text": [
      "Validating: 100%|██████████| 27/27 [00:09<00:00,  2.96it/s]\n"
     ]
    },
    {
     "name": "stdout",
     "output_type": "stream",
     "text": [
      "Total Loss  |Box Loss    |Conf Loss   |No Obj Loss |Class Loss  \n",
      "------------ ------------ ------------ ------------ ------------\n",
      "103.974     |45.622      |54.278      |4.074       |0.000       \n",
      "\n",
      "=== EPOCH 106/109 ===\n",
      "Learning Rate = 4.923854510918059e-05\n",
      "\n"
     ]
    },
    {
     "name": "stderr",
     "output_type": "stream",
     "text": [
      "Training: 100%|██████████| 113/113 [00:52<00:00,  2.15it/s]\n"
     ]
    },
    {
     "name": "stdout",
     "output_type": "stream",
     "text": [
      "Total Loss  |Box Loss    |Conf Loss   |No Obj Loss |Class Loss  \n",
      "------------ ------------ ------------ ------------ ------------\n",
      "52.077      |24.478      |20.496      |7.101       |0.002       \n",
      "\n"
     ]
    },
    {
     "name": "stderr",
     "output_type": "stream",
     "text": [
      "Validating: 100%|██████████| 27/27 [00:09<00:00,  2.97it/s]\n"
     ]
    },
    {
     "name": "stdout",
     "output_type": "stream",
     "text": [
      "Total Loss  |Box Loss    |Conf Loss   |No Obj Loss |Class Loss  \n",
      "------------ ------------ ------------ ------------ ------------\n",
      "103.148     |45.103      |53.885      |4.160       |0.000       \n",
      "\n",
      "=== EPOCH 107/109 ===\n",
      "Learning Rate = 4.923854510918059e-05\n",
      "\n"
     ]
    },
    {
     "name": "stderr",
     "output_type": "stream",
     "text": [
      "Training: 100%|██████████| 113/113 [00:51<00:00,  2.20it/s]\n"
     ]
    },
    {
     "name": "stdout",
     "output_type": "stream",
     "text": [
      "Total Loss  |Box Loss    |Conf Loss   |No Obj Loss |Class Loss  \n",
      "------------ ------------ ------------ ------------ ------------\n",
      "52.106      |24.554      |20.754      |6.795       |0.003       \n",
      "\n"
     ]
    },
    {
     "name": "stderr",
     "output_type": "stream",
     "text": [
      "Validating: 100%|██████████| 27/27 [00:09<00:00,  2.95it/s]\n"
     ]
    },
    {
     "name": "stdout",
     "output_type": "stream",
     "text": [
      "Total Loss  |Box Loss    |Conf Loss   |No Obj Loss |Class Loss  \n",
      "------------ ------------ ------------ ------------ ------------\n",
      "103.150     |45.148      |53.979      |4.023       |0.000       \n",
      "\n",
      "=== EPOCH 108/109 ===\n",
      "Learning Rate = 4.923854510918059e-05\n",
      "\n"
     ]
    },
    {
     "name": "stderr",
     "output_type": "stream",
     "text": [
      "Training: 100%|██████████| 113/113 [00:49<00:00,  2.29it/s]\n"
     ]
    },
    {
     "name": "stdout",
     "output_type": "stream",
     "text": [
      "Total Loss  |Box Loss    |Conf Loss   |No Obj Loss |Class Loss  \n",
      "------------ ------------ ------------ ------------ ------------\n",
      "51.924      |24.368      |20.698      |6.853       |0.004       \n",
      "\n"
     ]
    },
    {
     "name": "stderr",
     "output_type": "stream",
     "text": [
      "Validating: 100%|██████████| 27/27 [00:08<00:00,  3.01it/s]\n"
     ]
    },
    {
     "name": "stdout",
     "output_type": "stream",
     "text": [
      "Total Loss  |Box Loss    |Conf Loss   |No Obj Loss |Class Loss  \n",
      "------------ ------------ ------------ ------------ ------------\n",
      "103.847     |46.043      |53.457      |4.347       |0.000       \n",
      "\n",
      "=== EPOCH 109/109 ===\n",
      "Learning Rate = 4.431469059826253e-05\n",
      "\n"
     ]
    },
    {
     "name": "stderr",
     "output_type": "stream",
     "text": [
      "Training: 100%|██████████| 113/113 [00:50<00:00,  2.25it/s]\n"
     ]
    },
    {
     "name": "stdout",
     "output_type": "stream",
     "text": [
      "Total Loss  |Box Loss    |Conf Loss   |No Obj Loss |Class Loss  \n",
      "------------ ------------ ------------ ------------ ------------\n",
      "53.746      |25.398      |20.966      |7.379       |0.003       \n",
      "\n"
     ]
    },
    {
     "name": "stderr",
     "output_type": "stream",
     "text": [
      "Validating: 100%|██████████| 27/27 [00:09<00:00,  2.97it/s]"
     ]
    },
    {
     "name": "stdout",
     "output_type": "stream",
     "text": [
      "Total Loss  |Box Loss    |Conf Loss   |No Obj Loss |Class Loss  \n",
      "------------ ------------ ------------ ------------ ------------\n",
      "102.999     |45.174      |53.677      |4.148       |0.000       \n"
     ]
    },
    {
     "name": "stderr",
     "output_type": "stream",
     "text": [
      "\n",
      "mAP:@.5: 100%|██████████| 1/1 [00:00<00:00,  1.06it/s]"
     ]
    },
    {
     "name": "stdout",
     "output_type": "stream",
     "text": [
      "\n",
      "Validation mAP: 0.268\n",
      "\n",
      "Saving model with new best val mAP: 0.268\n",
      "\n",
      "***Script finished: 09:44:22\n",
      "\n",
      "Time elapsed: 2:16:30.732547\n"
     ]
    },
    {
     "name": "stderr",
     "output_type": "stream",
     "text": [
      "\n"
     ]
    }
   ],
   "source": [
    "if __name__ == \"__main__\":\n",
    "    print(\"Starting script\\n\")\n",
    "    logger.info(\"Starting script\\n\")\n",
    "    main()"
   ]
  },
  {
   "cell_type": "code",
   "execution_count": 25,
   "id": "ebb2ee54-7f44-4ec5-a2e7-8b0f7aa7dda7",
   "metadata": {},
   "outputs": [
    {
     "data": {
      "image/png": "[encoded data removed]",
      "text/plain": [
       "<Figure size 800x500 with 6 Axes>"
      ]
     },
     "metadata": {},
     "output_type": "display_data"
    }
   ],
   "source": [
    "#plt.figure(figsize=(8,8))\n",
    "fig, axs = plt.subplots(2,3, figsize=(8, 5))\n",
    "fig.suptitle('BIG BED Loss & mAP', fontsize=15)\n",
    "\n",
    "plt.subplot(2,3,1)\n",
    "plt.plot(train_total_loss, label=\"train\")\n",
    "plt.plot(val_total_loss, label=\"val\")\n",
    "plt.title(\"Total Loss\")\n",
    "plt.xlabel(\"Epochs\")\n",
    "plt.ylabel(\"Loss\")\n",
    "plt.legend()\n",
    "plt.grid()\n",
    "\n",
    "plt.subplot(2,3,2)\n",
    "plt.plot(train_box_loss, label=\"train\")\n",
    "plt.plot(val_box_loss, label=\"val\")\n",
    "plt.title(\"Box Loss\")\n",
    "plt.xlabel(\"Epochs\")\n",
    "plt.ylabel(\"Loss\")\n",
    "plt.legend()\n",
    "plt.grid()\n",
    "\n",
    "plt.subplot(2,3,3)\n",
    "plt.plot(train_confidence_loss, label=\"train\")\n",
    "plt.plot(val_confidence_loss, label=\"val\")\n",
    "plt.title(\"Confidence Loss\")\n",
    "plt.xlabel(\"Epochs\")\n",
    "plt.ylabel(\"Loss\")\n",
    "plt.legend()\n",
    "plt.grid()\n",
    "\n",
    "plt.subplot(2,3,4)\n",
    "plt.plot(train_noobj_loss, label=\"train\")\n",
    "plt.plot(val_noobj_loss, label=\"val\")\n",
    "plt.title(\"NoObj Loss\")\n",
    "plt.xlabel(\"Epochs\")\n",
    "plt.ylabel(\"Loss\")\n",
    "plt.legend()\n",
    "plt.grid()\n",
    "\n",
    "plt.subplot(2,3,5)\n",
    "plt.plot(train_class_loss, label=\"train\")\n",
    "plt.plot(val_class_loss, label=\"val\")\n",
    "plt.title(\"Class Loss\")\n",
    "plt.xlabel(\"Epochs\")\n",
    "plt.ylabel(\"Loss\")\n",
    "plt.legend()\n",
    "plt.grid()\n",
    "\n",
    "plt.subplot(2,3,6)\n",
    "plt.plot(val_mAP, label=\"val mAP\")\n",
    "plt.title(\"Val mAP\")\n",
    "plt.ylim([0,1])\n",
    "plt.xlabel(\"Epochs\")\n",
    "plt.ylabel(\"mAP:@.50\")\n",
    "plt.legend()\n",
    "plt.grid()\n",
    "\n",
    "plt.tight_layout()\n",
    "plt.savefig(log_path + \"bed_loss_map.png\")\n",
    "plt.show()"
   ]
  },
  {
   "cell_type": "code",
   "execution_count": 26,
   "id": "8191af27-dd22-4718-ab87-6f118df9e476",
   "metadata": {},
   "outputs": [
    {
     "ename": "KeyError",
     "evalue": "1",
     "output_type": "error",
     "traceback": [
      "\u001b[0;31m---------------------------------------------------------------------------\u001b[0m",
      "\u001b[0;31mKeyError\u001b[0m                                  Traceback (most recent call last)",
      "Cell \u001b[0;32mIn [26], line 9\u001b[0m\n\u001b[1;32m      7\u001b[0m \u001b[38;5;28;01mfor\u001b[39;00m prec \u001b[38;5;129;01min\u001b[39;00m val_class_precision:\n\u001b[1;32m      8\u001b[0m     smoke_prec\u001b[38;5;241m.\u001b[39mappend(prec[\u001b[38;5;241m0\u001b[39m])\n\u001b[0;32m----> 9\u001b[0m     fire_prec\u001b[38;5;241m.\u001b[39mappend(\u001b[43mprec\u001b[49m\u001b[43m[\u001b[49m\u001b[38;5;241;43m1\u001b[39;49m\u001b[43m]\u001b[49m)\n\u001b[1;32m     11\u001b[0m smoke_recall \u001b[38;5;241m=\u001b[39m []\n\u001b[1;32m     12\u001b[0m fire_recall \u001b[38;5;241m=\u001b[39m []\n",
      "\u001b[0;31mKeyError\u001b[0m: 1"
     ]
    }
   ],
   "source": [
    "# val_class_AP\n",
    "# val_class_precision\n",
    "# val_class_recall\n",
    "\n",
    "smoke_prec = []\n",
    "fire_prec = []\n",
    "for prec in val_class_precision:\n",
    "    smoke_prec.append(prec[0])\n",
    "    fire_prec.append(prec[1])\n",
    "\n",
    "smoke_recall = []\n",
    "fire_recall = []\n",
    "for rec in val_class_recall:\n",
    "    smoke_recall.append(rec[0])\n",
    "    fire_recall.append(rec[1])\n",
    "\n",
    "smoke_ap = []\n",
    "fire_ap = []\n",
    "for ap in val_class_AP:\n",
    "    smoke_ap.append(ap[0])\n",
    "    fire_ap.append(ap[1])\n",
    "\n",
    "fig, axs = plt.subplots(1, 2, figsize=(8, 3))\n",
    "fig.suptitle('BIG BED precision, recall, class AP')\n",
    "\n",
    "plt.subplot(1, 3, 1)\n",
    "plt.plot(smoke_prec, label=\"smoke\")\n",
    "plt.plot(fire_prec, label=\"fire\")\n",
    "plt.title(\"Precision\")\n",
    "plt.ylim([0,1])\n",
    "plt.grid()\n",
    "plt.legend()\n",
    "\n",
    "plt.subplot(1, 3, 2)\n",
    "plt.plot(smoke_recall, label=\"smoke\")\n",
    "plt.plot(fire_recall, label=\"fire\")\n",
    "plt.title(\"Recall\")\n",
    "plt.ylim([0,1])\n",
    "plt.grid()\n",
    "plt.legend()\n",
    "\n",
    "plt.subplot(1, 3, 3)\n",
    "plt.plot(smoke_ap, label=\"smoke\")\n",
    "plt.plot(fire_ap, label=\"fire\")\n",
    "plt.title(\"Class AP\")\n",
    "plt.ylim([0,1])\n",
    "plt.grid()\n",
    "plt.legend()\n",
    "\n",
    "plt.tight_layout()\n",
    "plt.savefig(log_path + \"bed_precision_recall_classAP.png\")\n",
    "plt.show()"
   ]
  },
  {
   "cell_type": "code",
   "execution_count": null,
   "id": "ab478d8e-df7f-4977-a5cb-d050b8de5d6b",
   "metadata": {},
   "outputs": [],
   "source": []
  }
 ],
 "metadata": {
  "kernelspec": {
   "display_name": "Python 3 (ipykernel)",
   "language": "python",
   "name": "python3"
  },
  "language_info": {
   "codemirror_mode": {
    "name": "ipython",
    "version": 3
   },
   "file_extension": ".py",
   "mimetype": "text/x-python",
   "name": "python",
   "nbconvert_exporter": "python",
   "pygments_lexer": "ipython3",
   "version": "3.11.4"
  }
 },
 "nbformat": 4,
 "nbformat_minor": 5
}
