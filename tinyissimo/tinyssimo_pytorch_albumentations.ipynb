{
 "cells": [
  {
   "cell_type": "code",
   "execution_count": 1,
   "id": "225b20d5-15c5-4de6-b91b-228405789ed7",
   "metadata": {},
   "outputs": [],
   "source": [
    "import os\n",
    "from pathlib import Path\n",
    "import datetime\n",
    "import xml.etree.ElementTree as ET\n",
    "\n",
    "from tqdm import tqdm\n",
    "import numpy as np\n",
    "import math\n",
    "import pandas as pd\n",
    "import random\n",
    "\n",
    "from collections import Counter # for mAP\n",
    "\n",
    "import torch\n",
    "from torch.utils.data import Dataset\n",
    "from torch.utils.data import DataLoader\n",
    "# Not needed\n",
    "# from torchvision.transforms import ToTensor \n",
    "# from torchvision.transforms.v2 import (Compose, ToImage, ToDtype, \n",
    "#                                        Normalize, RandomPhotometricDistort)\n",
    "\n",
    "import albumentations as A\n",
    "from albumentations.pytorch import ToTensorV2\n",
    "\n",
    "import matplotlib.pyplot as plt\n",
    "\n",
    "import torch.nn as nn \n",
    "from torch.nn.utils import parameters_to_vector\n",
    "import torch.optim as optim\n",
    "\n",
    "import cv2"
   ]
  },
  {
   "cell_type": "markdown",
   "id": "5c28235c-9cc5-4676-b2b1-c31b3c214e83",
   "metadata": {},
   "source": [
    "# Folders"
   ]
  },
  {
   "cell_type": "code",
   "execution_count": 2,
   "id": "af468cf3-f6ef-4eff-9713-3034a68830c6",
   "metadata": {},
   "outputs": [
    {
     "name": "stdout",
     "output_type": "stream",
     "text": [
      "Train dir: ['labels - copia.cache', 'labels.cache', 'labels', 'images']\n",
      "val dir: ['labels.cache', 'labels', 'labels_2.cache', 'images']\n"
     ]
    }
   ],
   "source": [
    "ds_dir = 'ds2fire/dfire_yolo/'\n",
    "\n",
    "train_dir = ds_dir + 'train/'\n",
    "train_imgs = train_dir + 'images/'\n",
    "train_labels = train_dir + 'labels/'\n",
    "\n",
    "#val_dir = ds_dir + 'test/'\n",
    "\n",
    "val_dir = ds_dir + 'test/'\n",
    "val_imgs = val_dir + 'images/'\n",
    "val_labels = val_dir + 'labels/'\n",
    "\n",
    "print(f'Train dir: {os.listdir(train_dir)}')\n",
    "print(f'val dir: {os.listdir(val_dir)}')"
   ]
  },
  {
   "cell_type": "markdown",
   "id": "676dbf6f-f393-4b79-8d23-bda75a58caea",
   "metadata": {},
   "source": [
    "# Config"
   ]
  },
  {
   "cell_type": "code",
   "execution_count": 3,
   "id": "f92b6578-e873-4f1b-a47e-b0788f9c612a",
   "metadata": {},
   "outputs": [],
   "source": [
    "CLASSES = [\"smoke\", \"fire\"]\n",
    "#CLASSES = [\"cat\", \"dog\"]\n",
    "\n",
    "IMG_DIM = {'W':88, 'H':88} # (W, H)\n",
    "#IMG_DIM = {'W':160, 'H':120} # (W, H)\n",
    "#IMG_DIM = {'W':448, 'H':448} # (W, H)\n",
    "#IMG_DIM = {'W':224, 'H':224} # (W, H)\n",
    "\n",
    "SX = 4\n",
    "SY = 4\n",
    "B = 2 # Number of bounding boxes to predict.\n",
    "C = len(CLASSES) # Number of classes in the dataset."
   ]
  },
  {
   "cell_type": "markdown",
   "id": "8704ff2a-2926-4fc7-b2fc-ac3a3fcff843",
   "metadata": {},
   "source": [
    "# Utils"
   ]
  },
  {
   "cell_type": "code",
   "execution_count": 4,
   "id": "7b30097d-3161-4cc1-81fa-ebdf9f0c4e2a",
   "metadata": {},
   "outputs": [],
   "source": [
    "def yolo2pixel(bbox):\n",
    "    '''\n",
    "    Transforms yolo coordinates of the box to pixel coordinates. \n",
    "    \n",
    "    Arguments:\n",
    "        - bbox: yolo coordinates [xc, yc, width, height]\n",
    "    \n",
    "    Returns: \n",
    "        - pixel coordinates [xmin, xmax, ymin, ymax]\n",
    "    '''\n",
    "    xc = bbox[0]\n",
    "    yc = bbox[1]\n",
    "    width = bbox[2]\n",
    "    height = bbox[3]\n",
    "      \n",
    "    xmin = xc - (width/2)          \n",
    "    xmax = xc + (width/2)         \n",
    "    ymin = yc - (height/2)            \n",
    "    ymax = yc + (height/2)\n",
    "        \n",
    "    nbox = [xmin, ymin, xmax, ymax]\n",
    "    \n",
    "    return nbox\n",
    "\n",
    "\n",
    "def iou_tensor(\n",
    "    boxes_preds, boxes_labels, \n",
    "    box_format=\"midpoint\",\n",
    "    epsilon=1e-6\n",
    "):\n",
    "    \"\"\"\n",
    "    Calculates intersection over union for bounding boxes.\n",
    "    \n",
    "    :param boxes_preds (tensor): Bounding box predictions of shape (BATCH_SIZE, 4)\n",
    "    :param boxes_labels (tensor): Ground truth bounding box of shape (BATCH_SIZE, 4)\n",
    "    :param box_format (str): midpoint/corners, if boxes (x,y,w,h) format or (x1,y1,x2,y2) format\n",
    "    :param epsilon: Small value to prevent division by zero.\n",
    "    Returns:\n",
    "        tensor: Intersection over union for all examples\n",
    "    \"\"\"\n",
    "\n",
    "    if box_format == 'midpoint':\n",
    "        box1_x1 = boxes_preds[..., 0:1] - boxes_preds[..., 2:3] / 2\n",
    "        box1_y1 = boxes_preds[..., 1:2] - boxes_preds[..., 3:4] / 2\n",
    "        box1_x2 = boxes_preds[..., 0:1] + boxes_preds[..., 2:3] / 2\n",
    "        box1_y2 = boxes_preds[..., 1:2] + boxes_preds[..., 3:4] / 2\n",
    "        box2_x1 = boxes_labels[..., 0:1] - boxes_labels[..., 2:3] / 2\n",
    "        box2_y1 = boxes_labels[..., 1:2] - boxes_labels[..., 3:4] / 2\n",
    "        box2_x2 = boxes_labels[..., 0:1] + boxes_labels[..., 2:3] / 2\n",
    "        box2_y2 = boxes_labels[..., 1:2] + boxes_labels[..., 3:4] / 2\n",
    "\n",
    "    if box_format == 'corners':\n",
    "        box1_x1 = boxes_preds[..., 0:1]\n",
    "        box1_y1 = boxes_preds[..., 1:2]\n",
    "        box1_x2 = boxes_preds[..., 2:3]\n",
    "        box1_y2 = boxes_preds[..., 3:4] \n",
    "        box2_x1 = boxes_labels[..., 0:1]\n",
    "        box2_y1 = boxes_labels[..., 1:2]\n",
    "        box2_x2 = boxes_labels[..., 2:3]\n",
    "        box2_y2 = boxes_labels[..., 3:4]\n",
    "\n",
    "    x1 = torch.max(box1_x1, box2_x1)\n",
    "    y1 = torch.max(box1_y1, box2_y1)\n",
    "    x2 = torch.min(box1_x2, box2_x2)\n",
    "    y2 = torch.min(box1_y2, box2_y2)\n",
    "\n",
    "    intersection = (x2 - x1).clamp(0) * (y2 - y1).clamp(0)\n",
    "\n",
    "    box1_area = abs((box1_x2 - box1_x1) * (box1_y2 - box1_y1))\n",
    "    box2_area = abs((box2_x2 - box2_x1) * (box2_y2 - box2_y1))\n",
    "\n",
    "    union = (box1_area + box2_area - intersection + epsilon)\n",
    "\n",
    "    iou = intersection / union\n",
    "    #print(f'IOU is numpy: {iou.numpy()}')\n",
    "\n",
    "    return iou\n",
    "\n",
    "def nms_yv1(bboxes, iou_threshold, threshold, box_format=\"corners\"):\n",
    "    \"\"\"\n",
    "    Does Non Max Suppression given bboxes\n",
    "\n",
    "    Parameters:\n",
    "        bboxes (list): list of lists containing all bboxes with each bboxes\n",
    "        specified as [x1, y1, x2, y2, confidence, class_id] MY FORMAT VERSION       \n",
    "        iou_threshold (float): threshold where predicted bboxes is correct\n",
    "        threshold (float): threshold to remove predicted bboxes (independent of IoU) \n",
    "        box_format (str): \"midpoint\" or \"corners\" used to specify bboxes\n",
    "\n",
    "    Returns:\n",
    "        list: bboxes after performing NMS given a specific IoU threshold\n",
    "    \"\"\"\n",
    "\n",
    "    assert type(bboxes) == list\n",
    "\n",
    "    bboxes = [box for box in bboxes if box[4] > threshold]\n",
    "    bboxes = sorted(bboxes, key=lambda x: x[4], reverse=True)\n",
    "    bboxes_after_nms = []\n",
    "\n",
    "    while bboxes:\n",
    "        chosen_box = bboxes.pop(0)\n",
    "\n",
    "        bboxes = [\n",
    "            box\n",
    "            for box in bboxes\n",
    "            if box[5] != chosen_box[5]\n",
    "            or iou_tensor(\n",
    "                torch.tensor(chosen_box[:4]),\n",
    "                torch.tensor(box[:4]),\n",
    "                box_format=box_format,\n",
    "            )\n",
    "            < iou_threshold\n",
    "        ]\n",
    "\n",
    "        bboxes_after_nms.append(chosen_box)\n",
    "\n",
    "    return bboxes_after_nms\n",
    "\n",
    "def nms_yv1_getBBoxes(bboxes, iou_threshold, threshold, box_format=\"corners\"):\n",
    "    \"\"\"\n",
    "    Does Non Max Suppression given bboxes\n",
    "\n",
    "    Parameters:\n",
    "        bboxes (list): list of lists containing all bboxes with each bboxes\n",
    "        specified as [class_id, score, xc, yc, w, h] Output of outcell_2_outboxes       \n",
    "        iou_threshold (float): threshold where predicted bboxes is correct\n",
    "        threshold (float): threshold to remove predicted bboxes (independent of IoU) \n",
    "        box_format (str): \"midpoint\" or \"corners\" used to specify bboxes\n",
    "\n",
    "    Returns:\n",
    "        list: bboxes after performing NMS given a specific IoU threshold\n",
    "    \"\"\"\n",
    "\n",
    "    assert type(bboxes) == list\n",
    "\n",
    "    bboxes = [box for box in bboxes if box[1] > threshold]\n",
    "    bboxes = sorted(bboxes, key=lambda x: x[1], reverse=True)\n",
    "    bboxes_after_nms = []\n",
    "\n",
    "    while bboxes:\n",
    "        chosen_box = bboxes.pop(0)\n",
    "\n",
    "        bboxes = [\n",
    "            box\n",
    "            for box in bboxes\n",
    "            if box[0] != chosen_box[0]\n",
    "            or iou_tensor(\n",
    "                torch.tensor(chosen_box[2:6]),\n",
    "                torch.tensor(box[2:6]),\n",
    "                box_format=box_format,\n",
    "            )\n",
    "            < iou_threshold\n",
    "        ]\n",
    "\n",
    "        bboxes_after_nms.append(chosen_box)\n",
    "\n",
    "    return bboxes_after_nms\n",
    "\n",
    "\n",
    "\n",
    "def mAP(\n",
    "    pred_boxes, true_boxes, iou_threshold=0.5, box_format=\"midpoint\", num_classes=2\n",
    "):\n",
    "    \"\"\"\n",
    "    Calculates mean average precision \n",
    "\n",
    "    Parameters:\n",
    "        pred_boxes (list): list of lists containing all bboxes with each bboxes\n",
    "        specified as [train_idx, class_prediction, prob_score, x1, y1, x2, y2]\n",
    "        true_boxes (list): Similar as pred_boxes except all the correct ones \n",
    "        iou_threshold (float): threshold where predicted bboxes is correct\n",
    "        box_format (str): \"midpoint\" or \"corners\" used to specify bboxes\n",
    "        num_classes (int): number of classes\n",
    "\n",
    "    Returns:\n",
    "        float: mAP value across all classes given a specific IoU threshold \n",
    "    \"\"\"\n",
    "\n",
    "    # list storing all AP for respective classes\n",
    "    average_precisions = []\n",
    "    avg_prec = {}\n",
    "\n",
    "    # Precision and Recall for each class\n",
    "    cls_prec = {}\n",
    "    cls_rec = {}\n",
    "\n",
    "    # used for numerical stability later on\n",
    "    epsilon = 1e-6\n",
    "\n",
    "    #for c in range(num_classes):\n",
    "    for c in tqdm(range(num_classes), desc =\"mAP:@.5\"):\n",
    "        detections = []\n",
    "        ground_truths = []\n",
    "\n",
    "        # Go through all predictions and targets,\n",
    "        # and only add the ones that belong to the\n",
    "        # current class c\n",
    "        for detection in pred_boxes:\n",
    "            if detection[1] == c:\n",
    "                detections.append(detection)\n",
    "        \n",
    "        #print(f'Detections of class {c}: {detections}')\n",
    "        \n",
    "        for true_box in true_boxes:\n",
    "            if true_box[1] == c:\n",
    "                ground_truths.append(true_box)\n",
    "\n",
    "        # find the amount of bboxes for each training example\n",
    "        # Counter here finds how many ground truth bboxes we get\n",
    "        # for each training example, so let's say img 0 has 3,\n",
    "        # img 1 has 5 then we will obtain a dictionary with:\n",
    "        # amount_bboxes = {0:3, 1:5}\n",
    "        amount_bboxes = Counter([gt[0] for gt in ground_truths])\n",
    "        \n",
    "        #print(f'Amount bboxes of class {c}: {amount_bboxes}')\n",
    "\n",
    "        # We then go through each key, val in this dictionary\n",
    "        # and convert to the following (w.r.t same example):\n",
    "        # ammount_bboxes = {0:torch.tensor[0,0,0], 1:torch.tensor[0,0,0,0,0]}\n",
    "        for key, val in amount_bboxes.items():\n",
    "            amount_bboxes[key] = torch.zeros(val)\n",
    "\n",
    "        #print(f'Amount bboxes of class {c} converted: {amount_bboxes}')\n",
    "        \n",
    "        # sort by box probabilities which is index 2\n",
    "        detections.sort(key=lambda x: x[2], reverse=True)\n",
    "        TP = torch.zeros((len(detections)))\n",
    "        FP = torch.zeros((len(detections)))\n",
    "        total_true_bboxes = len(ground_truths)\n",
    "       \n",
    "        #print(f'Total true bboxes of class {c}: {total_true_bboxes}')\n",
    "        \n",
    "        # If none exists for this class then we can safely skip\n",
    "        # Maybe removing this is enough to take into account False Positives\n",
    "        # for images with no objects\n",
    "        if total_true_bboxes == 0:\n",
    "            continue\n",
    "\n",
    "        for detection_idx, detection in enumerate(detections):\n",
    "            # Only take out the ground_truths that have the same\n",
    "            # training idx as detection\n",
    "            ground_truth_img = [\n",
    "                bbox for bbox in ground_truths if bbox[0] == detection[0]\n",
    "            ]\n",
    "\n",
    "            num_gts = len(ground_truth_img)\n",
    "            best_iou = 0\n",
    "\n",
    "            for idx, gt in enumerate(ground_truth_img):\n",
    "                iou = iou_tensor(\n",
    "                    torch.tensor(detection[3:]),\n",
    "                    torch.tensor(gt[3:]),\n",
    "                    box_format=box_format,\n",
    "                )\n",
    "                # iou, _, _ = ut.iou(detection[3:], \n",
    "                #                    gt[3:]) \n",
    "\n",
    "                if iou > best_iou:\n",
    "                    best_iou = iou\n",
    "                    best_gt_idx = idx\n",
    "\n",
    "            if best_iou > iou_threshold:\n",
    "                # only detect ground truth detection once\n",
    "                if amount_bboxes[detection[0]][best_gt_idx] == 0:\n",
    "                    # true positive and add this bounding box to seen\n",
    "                    TP[detection_idx] = 1\n",
    "                    amount_bboxes[detection[0]][best_gt_idx] = 1\n",
    "                else:\n",
    "                    FP[detection_idx] = 1\n",
    "\n",
    "            # if IOU is lower then the detection is a false positive\n",
    "            else:\n",
    "                FP[detection_idx] = 1\n",
    "\n",
    "        #print(f'True Positives class {c}: {TP}')\n",
    "        #print(f'False Positives class {c}: {FP}')\n",
    "\n",
    "        TP_cumsum = torch.cumsum(TP, dim=0)\n",
    "        FP_cumsum = torch.cumsum(FP, dim=0)\n",
    "        recalls = TP_cumsum / (total_true_bboxes + epsilon)\n",
    "        precisions = TP_cumsum / (TP_cumsum + FP_cumsum + epsilon)\n",
    "\n",
    "        if precisions.numel() > 0:\n",
    "            #cls_prec.update({c: precisions[-1].numpy()})\n",
    "            cls_prec.update({c: precisions[-1].item()})\n",
    "        else:\n",
    "            cls_prec.update({c: 0.})\n",
    "        if recalls.numel() > 0:\n",
    "            #cls_rec.update({c: recalls[-1].numpy()})\n",
    "            cls_rec.update({c: recalls[-1].item()})\n",
    "        else:\n",
    "            cls_rec.update({c: 0.})\n",
    "\n",
    "        precisions = torch.cat((torch.tensor([1]), precisions))\n",
    "        recalls = torch.cat((torch.tensor([0]), recalls))\n",
    "        # torch.trapz for numerical integration\n",
    "        average_precisions.append(torch.trapz(precisions, recalls))\n",
    "        avg_prec.update({c: torch.trapz(precisions, recalls)})\n",
    "\n",
    "    mAP = sum(average_precisions) / (len(average_precisions) + epsilon)\n",
    "\n",
    "    #return mAP, average_precisions, cls_prec, cls_rec\n",
    "    return (mAP, \n",
    "            avg_prec,\n",
    "            cls_prec, \n",
    "            cls_rec)\n",
    "\n",
    "\n",
    "def get_bboxes(\n",
    "    loader,\n",
    "    model,\n",
    "    SX,\n",
    "    SY,\n",
    "    B,\n",
    "    C,\n",
    "    mask,\n",
    "    iou_threshold,\n",
    "    threshold,\n",
    "    device,\n",
    "    box_format=\"midpoint\"):\n",
    "    \n",
    "    \n",
    "    all_pred_boxes = []\n",
    "    all_true_boxes = []\n",
    "\n",
    "    # make sure model is in eval before get bboxes\n",
    "    model.eval()\n",
    "    train_idx = 0\n",
    "\n",
    "    #for batch_idx, (imgs, labels, _, _) in enumerate(loader):\n",
    "    for batch_idx, (imgs, labels) in enumerate(loader):\n",
    "        imgs = imgs.to(device)\n",
    "        labels = labels.to(device)\n",
    "\n",
    "        with torch.no_grad():\n",
    "            predictions = model(imgs)\n",
    "\n",
    "        batch_size = imgs.shape[0]\n",
    "        true_bboxes = outcell_2_outboxes(out_cells=labels, \n",
    "                                         SX=SX, SY=SY, B=B, C=C, \n",
    "                                         mask=mask, \n",
    "                                         device='cpu', # Changed to cpu\n",
    "                                         is_pred=False)\n",
    "        bboxes = outcell_2_outboxes(out_cells=predictions, \n",
    "                                    SX=SX, SY=SY, B=B, C=C, \n",
    "                                    mask=mask, \n",
    "                                    device='cpu', # Changed to cpu\n",
    "                                    is_pred=True)\n",
    "\n",
    "        for idx in range(batch_size):\n",
    "            #nms_boxes = nms_yv1(\n",
    "            nms_boxes = nms_yv1_getBBoxes(\n",
    "                bboxes[idx],\n",
    "                iou_threshold=iou_threshold,\n",
    "                threshold=threshold,\n",
    "                box_format=box_format, # Midpoint, to use iou_tensor inside\n",
    "            )\n",
    "\n",
    "\n",
    "            #if batch_idx == 0 and idx == 0:\n",
    "            #    plot_image(x[idx].permute(1,2,0).to(\"cpu\"), nms_boxes)\n",
    "            #    print(nms_boxes)\n",
    "\n",
    "            for nms_box in nms_boxes:\n",
    "                all_pred_boxes.append([train_idx] + nms_box)\n",
    "\n",
    "            for box in true_bboxes[idx]:\n",
    "                # many will get converted to 0 pred\n",
    "                if box[1] > threshold:\n",
    "                    all_true_boxes.append([train_idx] + box)\n",
    "\n",
    "            train_idx += 1\n",
    "\n",
    "    model.train()\n",
    "    return all_pred_boxes, all_true_boxes\n",
    "\n",
    "\n",
    "def outcell_2_outboxes(out_cells, SX, SY, B, C, mask, device, is_pred = True):\n",
    "    '''\n",
    "    Convert batch of cells to batch of boxes: out_cells must be of shape (BATCH_SIZE, SX, SY, B*5+C) \n",
    "        [xcel, ycel, w, h, conf, class_0, class_1] -> [pred_class, score, xc, yc, w, h]\n",
    "    \n",
    "    Arguments:\n",
    "        - out_cells: labels at loader output or predictions at model output\n",
    "            Format: [xcel, ycel, w, h, conf, class_0, class_1]\n",
    "    Return:\n",
    "        - all_bboxes: list of bounding boxes\n",
    "            Format: [[bboxes idx 0], [bboxes idx 1], ... [bboxes idx BATCH_SIZE-1]]\n",
    "    '''\n",
    "\n",
    "    out_cells = out_cells.to(device) # TAKE A LOOK TO CPU DECISION\n",
    "\n",
    "    out_cells[out_cells <= 0] = 0 # Zeroing all negative values. Avoid (-conf * -class_id) = +score\n",
    "    #out_cells[out_cells >= 1] = 1 # Clamping all values to 1. Avoid being out of the image. Maybe afterwards, although it does not hurt here.\n",
    "                                   # This is due to yolo2pixel transformation, which could led to out of image values, depending on (w, h)\n",
    "\n",
    "    batch_size = out_cells.shape[0]\n",
    "    if is_pred:\n",
    "        out_cells = out_cells.reshape(batch_size, SY, SX, B*5+C)\n",
    "    else:\n",
    "        out_cells = out_cells.reshape(batch_size, SY, SX, 5+C)\n",
    "    \n",
    "    # With 2 BBoxes, choose the one with highest confidence. How highest IOU, without label?\n",
    "    if (B>1 and is_pred):\n",
    "        '''\n",
    "        2 BB: [xcell, ycell, w, h, confidence_A, xcell, ycell, w, h, confidence_B, class_0, class_1]\n",
    "        '''\n",
    "        bbox1 = out_cells[..., :4]\n",
    "        bbox2 = out_cells[..., 5:9]\n",
    "        score = torch.cat((out_cells[..., 4:5],out_cells[..., 9:10]), dim=-1)\n",
    "        best_score, idx = torch.max(score, dim=-1, keepdim=True)\n",
    "\n",
    "        bestbbox = (1-idx)*bbox1 + idx*bbox2\n",
    "\n",
    "        #class_prob = a[..., 10:12] # Esto no hace falta, se hace debajo\n",
    "        #cls_pred = class_prob.argmax(dim=-1, keepdim=True)\n",
    "        out_cells = torch.cat((bestbbox, best_score, out_cells[..., 10:12]), dim=-1)\n",
    "        \n",
    "    \n",
    "    # All cells are converted to boxes. Format will be [xc, yc, w, h, conf, class_0, class_1]\n",
    "    boxes = cell2boxes(cells = out_cells, mask = mask)\n",
    "\n",
    "    # ================================================================================================================== #\n",
    "    #                                                                                                                    #\n",
    "    #     Convert [xc, yc, w, h, conf, class_0, class_1] to [pred_class, score, xc, yc, w, h]                            #\n",
    "    #         Identify class predicted: class_0 > class_1 ??? or the opposite                                            #\n",
    "    #         Multiply (conf * class_id) to get score and compare to threshold afterwards. It will be 1 for ground truth #\n",
    "    #                                                                                                                    #\n",
    "    # ================================================================================================================== #\n",
    "    classes = boxes[...,5:7].argmax(-1).unsqueeze(-1) # Indices of class predictes, matching class_id: index 0 -> smoke, class id = 0 // same for fire\n",
    "    #print(f'Tensor of classes predicted\\n {classes}')   \n",
    "    \n",
    "    scores = ( boxes[...,4].unsqueeze(-1) ) * boxes[...,5:7] # score = confidence * [class_0_prob, class_1_prob]\n",
    "    scores, _ = torch.max(scores, dim=-1, keepdim=True) # Get maximum values -> score of class predicted\n",
    "    #print(f'Scores together\\n {scores}')     \n",
    "    \n",
    "    out_boxes = torch.concat((classes, scores, boxes[...,:4]), dim=-1) # Concat all data\n",
    "    #print(f'Final Output {out_boxes}')    \n",
    "\n",
    "    # =========================================== #\n",
    "    #                                             #\n",
    "    #             Convert boxes to List           #\n",
    "    #                                             #\n",
    "    #    [[bboxes idx 0] , [bboxes idx 1], etc]   #\n",
    "    #                                             #\n",
    "    # =========================================== #\n",
    "    all_bboxes = []\n",
    "\n",
    "    for ex_idx in range(batch_size):\n",
    "        bboxes = []\n",
    "\n",
    "#         for bbox_i in range(SX):\n",
    "#             for bbox_j in range(SY):\n",
    "#                 bboxes.append([x.item() for x in out_boxes[ex_idx, bbox_i, bbox_j, :]])\n",
    "        for bbox_i in range(SX):\n",
    "            for bbox_j in range(SY):\n",
    "                bboxes.append([x.item() for x in out_boxes[ex_idx, bbox_j, bbox_i, :]])     \n",
    "        all_bboxes.append(bboxes)\n",
    "    \n",
    "    return all_bboxes\n",
    "\n",
    "\n",
    "def cell2boxes(cells, mask):\n",
    "    '''\n",
    "    Converts cells to boxes using the cell2box_mask and broadcasting over batches\n",
    "    In targets, sum only when score = 1\n",
    "\n",
    "    Arguments:\n",
    "        - cells: cells to convert, as yield by Dataloader in batches\n",
    "        - mask: mask used for conversion\n",
    "\n",
    "    Return:\n",
    "        - cells converted to boxes\n",
    "    '''\n",
    "\n",
    "    #out_boxes = cells.clone().detach()\n",
    "    out_boxes = cells.detach().clone()\n",
    "    out_boxes[...,0:1] = (out_boxes[...,0:1] + mask[...,0:1])/SX \n",
    "    out_boxes[...,1:2] = (out_boxes[...,1:2] + mask[...,1:2])/SY \n",
    "\n",
    "    return out_boxes\n",
    "\n",
    "\n",
    "def plot_preds(ori_img, img_w, img_h, nms_preds, names, colors):\n",
    "    '''\n",
    "    It draws the bounding boxes over the image.\n",
    "\n",
    "    Arguments:\n",
    "        - ori_img: original image with no modification or letterbox\n",
    "        - nms_preds: Non Maximum Supression predictions [x0, y0, x1, y1, class_id, score]\n",
    "        - names: list of class names\n",
    "        - colors: list of colors asigned to each class in cv2 format (B,G,R)\n",
    "        - ratio: ratio of letterbox conversion\n",
    "        - dwdh: paddings of letterbox conversion\n",
    "\n",
    "    Returns:\n",
    "        - pic: picture with bounding boxes on top of original picture\n",
    "    '''\n",
    "    \n",
    "    pic = ori_img.copy()\n",
    "    \n",
    "    for i,(xc,yc,w,h,score,class_id) in enumerate(nms_preds):\n",
    "        box = np.array(yolo2pixel([xc,yc,w,h]))\n",
    "        box[0] = box[0]*img_w\n",
    "        box[1] = box[1]*img_h\n",
    "        box[2] = box[2]*img_w\n",
    "        box[3] = box[3]*img_h\n",
    "        box = box.round().astype(np.int32).tolist()\n",
    "        cls_id = int(class_id)\n",
    "        score = round(float(score),3)\n",
    "        name = names[cls_id]\n",
    "        color = colors[name]\n",
    "        name += ' '+str(score)\n",
    "        cv2.rectangle(pic,box[:2],box[2:],color,2) # 1 -> rectangle thickness\n",
    "        cv2.putText(pic,name,(box[0]+6, box[1] + 20),cv2.FONT_HERSHEY_SIMPLEX,0.4,[225, 255, 255],thickness=1)  # 0.5 -> font size\n",
    "\n",
    "    return pic\n",
    "\n",
    "def save_log(epochs, \n",
    "             train_total_loss,\n",
    "             train_box_loss,\n",
    "             train_class_loss,\n",
    "             train_confidence_loss,\n",
    "             train_noobj_loss,\n",
    "             train_mAP,\n",
    "             train_class_AP,\n",
    "             train_class_precision,\n",
    "             train_class_recall,\n",
    "             val_total_loss,\n",
    "             val_box_loss,\n",
    "             val_class_loss,\n",
    "             val_confidence_loss,\n",
    "             val_noobj_loss,\n",
    "             val_mAP,\n",
    "             val_class_AP,\n",
    "             val_class_precision,\n",
    "             val_class_recall,\n",
    "             log_file_dst):\n",
    "    \n",
    "    '''\n",
    "    Create a dictionary with all metrics\n",
    "    Save the dictionary as excel file with Pandas\n",
    "    '''\n",
    "    \n",
    "    epoch_range = range(epochs)\n",
    "    log_file = {}\n",
    "    log_file.update({\"epoch\": epoch_range})\n",
    "    \n",
    "    # Train Losses\n",
    "    log_file.update({\"train_total_loss\": train_total_loss})\n",
    "    log_file.update({\"train_box_loss\": train_box_loss})\n",
    "    log_file.update({\"train_class_loss\": train_class_loss})\n",
    "    log_file.update({\"train_confidence_loss\": train_confidence_loss})\n",
    "    log_file.update({\"train_noobj_loss\": train_noobj_loss})\n",
    "    \n",
    "    # Train mAP, Class AP, Precision, Recall\n",
    "    train_mAP_log = []\n",
    "    for e in train_mAP:\n",
    "        #train_mAP_log.append(e.numpy())\n",
    "        #train_mAP_log.append(e)\n",
    "        train_mAP_log.append(e.item())\n",
    "    log_file.update({\"train_mAP\": train_mAP_log})\n",
    "    \n",
    "    train_smk_AP = []\n",
    "    train_fire_AP = []\n",
    "    for e in train_class_AP:\n",
    "        #train_smk_AP.append(e[0].numpy())\n",
    "        #train_smk_AP.append(e[0])\n",
    "        train_smk_AP.append(e[0].item())\n",
    "        #train_fire_AP.append(e[1].numpy())\n",
    "        #train_fire_AP.append(e[1])\n",
    "        train_fire_AP.append(e[1].item())\n",
    "    log_file.update({\"train_smk_AP\": train_smk_AP})\n",
    "    log_file.update({\"train_fire_AP\": train_fire_AP})\n",
    "    \n",
    "    \n",
    "    train_smk_precision = []\n",
    "    train_fire_precision = []\n",
    "    for e in train_class_precision:\n",
    "        #train_smk_precision.append(e[0].numpy())\n",
    "        train_smk_precision.append(e[0])\n",
    "        #train_fire_precision.append(e[1].numpy())\n",
    "        train_fire_precision.append(e[1])\n",
    "    log_file.update({\"train_smk_precision\": train_smk_precision})\n",
    "    log_file.update({\"train_fire_precision\": train_fire_precision})\n",
    "        \n",
    "    train_smk_recall = []\n",
    "    train_fire_recall = []\n",
    "    for e in train_class_recall:\n",
    "        #train_smk_recall.append(e[0].numpy())\n",
    "        train_smk_recall.append(e[0])\n",
    "        #train_fire_recall.append(e[1].numpy())\n",
    "        train_fire_recall.append(e[1])\n",
    "    log_file.update({\"train_smk_recall\": train_smk_recall})\n",
    "    log_file.update({\"train_fire_recall\": train_fire_recall})\n",
    "    \n",
    "    # Validation Losses\n",
    "    log_file.update({\"val_total_loss\": val_total_loss})\n",
    "    log_file.update({\"val_box_loss\": val_box_loss})\n",
    "    log_file.update({\"val_class_loss\": val_class_loss})\n",
    "    log_file.update({\"val_confidence_loss\": val_confidence_loss})\n",
    "    log_file.update({\"val_noobj_loss\": val_noobj_loss})\n",
    "    \n",
    "    # Val mAP, Class AP, Precision, Recall\n",
    "    val_mAP_log = []\n",
    "    for e in val_mAP:\n",
    "        #val_mAP_log.append(e.numpy())\n",
    "        val_mAP_log.append(e.item())\n",
    "    log_file.update({\"val_mAP\": val_mAP_log})\n",
    "    \n",
    "    val_smk_AP = []\n",
    "    val_fire_AP = []\n",
    "    for e in val_class_AP:\n",
    "        val_smk_AP.append(e[0].item())\n",
    "        val_fire_AP.append(e[1].item())\n",
    "    log_file.update({\"val_smk_AP\": val_smk_AP})\n",
    "    log_file.update({\"val_fire_AP\": val_fire_AP})\n",
    "    \n",
    "    val_smk_precision = []\n",
    "    val_fire_precision = []\n",
    "    for e in val_class_precision:\n",
    "        val_smk_precision.append(e[0])\n",
    "        val_fire_precision.append(e[1])\n",
    "    log_file.update({\"val_smk_precision\": val_smk_precision})\n",
    "    log_file.update({\"val_fire_precision\": val_fire_precision})\n",
    "    \n",
    "    val_smk_recall = []\n",
    "    val_fire_recall = []\n",
    "    for e in val_class_recall:\n",
    "        val_smk_recall.append(e[0])\n",
    "        val_fire_recall.append(e[1])\n",
    "    log_file.update({\"val_smk_recall\": val_smk_recall})\n",
    "    log_file.update({\"val_fire_recall\": val_fire_recall})\n",
    "    \n",
    "    df = pd.DataFrame(log_file)\n",
    "    df.to_excel(log_file_dst)"
   ]
  },
  {
   "cell_type": "markdown",
   "id": "c5891d5e-3ee7-45b3-ad2a-fe9d6c1ff00b",
   "metadata": {},
   "source": [
    "# Dataset"
   ]
  },
  {
   "cell_type": "markdown",
   "id": "b76e6703-39c8-41d1-940a-91c1de8c8809",
   "metadata": {},
   "source": [
    "# DFire"
   ]
  },
  {
   "cell_type": "code",
   "execution_count": 5,
   "id": "c57d78ca-ac32-41b6-bff4-991135f5e9cc",
   "metadata": {},
   "outputs": [],
   "source": [
    "class DFireDataset(Dataset):\n",
    "    '''\n",
    "    Creates a Pytorch Dataset to train the Yolov1 Network.\n",
    "    Encodes labels to match the format [xcell, ycell, w, h, confidence, class_0 (smoke), class_1 (fire)]\n",
    "        - Final encoding format is: [xcell, ycell, w, h, conf=1, smoke?, fire?]\n",
    "\n",
    "    Discard images when there are more than 1 object in the same cell\n",
    "    \n",
    "    Arguments:\n",
    "        - img_h:            image height\n",
    "        - img_w:            image width\n",
    "        - img_dir:          path to images folder\n",
    "        - label_dir:        path to labels folder\n",
    "        - SX:               number of cells in X axis (horizontal -> width)\n",
    "        - SY:               number of cells in Y axis (vertical -> height)\n",
    "        - C:                number of classes, 2 in this case\n",
    "        - transform:        transformation applied to input images -> Albumentations\n",
    "        - target_transform: transformation applied to labels -> nothing by default\n",
    "\n",
    "    Return:\n",
    "        - img:              1 image of the dataset\n",
    "        - target:           corresponding label encoded\n",
    "    '''\n",
    "\n",
    "    def __init__(self, img_h, img_w, img_dir, label_dir, \n",
    "                 SX, SY, C, \n",
    "                 transform=None, target_transform=None):\n",
    "        self.img_h = img_h\n",
    "        self.img_w = img_w\n",
    "        self.img_dir = img_dir\n",
    "        self.label_dir = label_dir\n",
    "        self.SX = SX\n",
    "        self.SY = SY\n",
    "        self.C = C\n",
    "        self.transform = transform\n",
    "        self.target_transform = target_transform\n",
    "\n",
    "        self.labels_list = sorted(\n",
    "            [\n",
    "                os.path.join(self.label_dir, file_name)\n",
    "                for file_name in os.listdir(self.label_dir)\n",
    "                if file_name.endswith(\".txt\")\n",
    "            ]\n",
    "        )\n",
    "        \n",
    "        self.images, self.bboxes, self.labels = self.__build_ds__(self.labels_list)\n",
    "        \n",
    "        self.num_samples = self.images.shape[0]\n",
    "\n",
    "    def __len__(self):\n",
    "        return self.num_samples\n",
    "    \n",
    "    def __bbox_check__(self, bbox):\n",
    "        eps = 1e-6\n",
    "        \n",
    "        xc, yc, w, h = bbox[0], bbox[1], bbox[2], bbox[3]\n",
    "        xmin = xc - w/2\n",
    "        ymin = yc - h/2\n",
    "        xmax = xc + w/2\n",
    "        ymax = yc + h/2\n",
    "        \n",
    "        xmin = max(xmin, 0 + eps)\n",
    "        ymin = max(ymin, 0 + eps)\n",
    "        xmax = min(xmax, 1)\n",
    "        ymax = min(ymax, 1)\n",
    "        \n",
    "        bbox = np.array([ \n",
    "                (xmin+xmax)/2,\n",
    "                (ymin+ymax)/2,\n",
    "                xmax-xmin,\n",
    "                ymax-ymin\n",
    "                 ]).astype(np.float32)\n",
    "        \n",
    "        return bbox        \n",
    "\n",
    "\n",
    "    def __build_ds__(self, labels_list):\n",
    "        bboxes = []\n",
    "        labels = []\n",
    "        images = []\n",
    "        wrong_imgs = 0\n",
    "        overlapping_rem = 0\n",
    "        more_than_3 = 0\n",
    "                \n",
    "        for label in labels_list:\n",
    "            fname = Path(label).stem\n",
    "            image_path = self.img_dir + fname + '.jpg'   \n",
    "            #print(fname, image_path)\n",
    "                                   \n",
    "            if cv2.imread(image_path) is None:\n",
    "                print(f'{image_path} cannot be read by cv2 -> removed')\n",
    "                wrong_imgs += 1\n",
    "            \n",
    "            else:\n",
    "                \n",
    "                label_mtx = np.zeros((self.SY, self.SX))\n",
    "                overlapping_object = 0\n",
    "\n",
    "                one_bboxes = []\n",
    "                one_labels = []\n",
    "            \n",
    "                with open(label) as f:\n",
    "                    lines = f.readlines()\n",
    "\n",
    "                    # Restrict to 3 boxes per sample\n",
    "                    if len(lines) > 3:\n",
    "                        more_than_3 += 1\n",
    "                        continue\n",
    "                    \n",
    "                    for line in lines:\n",
    "                        class_id, x, y, w, h = line.strip().split()\n",
    "                        class_id = int(class_id)\n",
    "                        box = np.array([x, y, w, h]).astype(np.float32)\n",
    "                        x, y, w, h = box[0], box[1], box[2], box[3]\n",
    "                        box_ok = self.__bbox_check__([x, y, w, h])\n",
    "                        x, y, w, h = box_ok[0], box_ok[1], box_ok[2], box_ok[3]\n",
    "                        i, j = math.floor(y * self.SY), math.floor(x * self.SX)\n",
    "                        if label_mtx[i, j] == 1:\n",
    "                            overlapping_object = 1\n",
    "                            overlapping_rem += 1\n",
    "                            #print(f'Removed {label} due to overlapping object in cell {i, j}')\n",
    "                            break\n",
    "                        else:\n",
    "                            label_mtx[i, j] = 1\n",
    "                            one_bboxes.append([x, y, w, h])\n",
    "                            # smoke\n",
    "                            if class_id == 0:\n",
    "                                one_labels.append(0)\n",
    "                            # fire\n",
    "                            elif class_id == 1:\n",
    "                                one_labels.append(1)\n",
    "                            else:\n",
    "                                print(f'File {label} errored in cell {i, j}')\n",
    "\n",
    "                    if overlapping_object == 0:\n",
    "                        # Padding to SX*SY labels and bounding boxes, so you can store tensors\n",
    "                        # Label -1 indicates no box\n",
    "                        for idx in range(self.SX*self.SY - len(one_labels)):\n",
    "                            one_bboxes.append([0, 0, 0, 0])\n",
    "                            one_labels.append(-1)\n",
    "                        # print(f'\\nBboxes and Labels of image {image_path}')\n",
    "                        # print(\"Bboxes\")\n",
    "                        # for box in one_bboxes:\n",
    "                        #     print(box)\n",
    "                        # print(\"Labels\")\n",
    "                        # for label in one_labels:\n",
    "                        #     print(label)\n",
    "                        bboxes.append(one_bboxes)\n",
    "                        labels.append(one_labels)\n",
    "                        images.append(image_path)\n",
    "        \n",
    "        print(f'Removed wrong images: {wrong_imgs}')\n",
    "        print(f'Removed due to overlapping: {overlapping_rem}')\n",
    "        print(f'Removed due to more than 3: {more_than_3}')\n",
    "\n",
    "        labels_np = np.array(labels)\n",
    "        labels_tensor = torch.tensor(labels_np, dtype=torch.float32)\n",
    "        bboxes_np = np.array(bboxes)\n",
    "        bboxes_tensor = torch.tensor(bboxes_np, dtype=torch.float32)\n",
    "        images_array = np.array(images)\n",
    "        # print(f'Images array {images_array}')\n",
    "        # print(f'Bboxes tensor {bboxes_tensor}')\n",
    "        # print(f'Labels tensor {labels_tensor}')\n",
    "        \n",
    "        return images_array, bboxes_tensor, labels_tensor\n",
    "        #return images, bboxes, labels\n",
    "\n",
    "    def __getitem__(self, index):\n",
    "\n",
    "        # Image processing\n",
    "        img_file = self.images[index]\n",
    "        img = cv2.imread(img_file)\n",
    "        img = cv2.cvtColor(img, cv2.COLOR_BGR2RGB)   \n",
    "        #img = cv2.resize(img, (self.img_w, self.img_h), interpolation = cv2.INTER_NEAREST)\n",
    "\n",
    "        # Labels processing\n",
    "        bboxes = self.bboxes[index]\n",
    "        bboxes = bboxes[~torch.all(bboxes == torch.tensor([0,0,0,0]), dim=1)]\n",
    "        bboxes = bboxes.numpy().tolist()\n",
    "        #print(bboxes)\n",
    "        labels = self.labels[index]\n",
    "        labels = labels[labels != -1.]\n",
    "        labels = labels.numpy().tolist()\n",
    "        #print(f'Labels inside dataset {labels}')\n",
    "        \n",
    "        # Data Augmentation\n",
    "        if self.transform is not None:\n",
    "            try:\n",
    "                aug = self.transform(image=img, bboxes=bboxes, class_labels=labels)\n",
    "                img = aug['image']\n",
    "                bboxes = aug['bboxes']\n",
    "                labels = aug['class_labels']\n",
    "            except:\n",
    "                #print(f'Error trying to augment image {img_file}')\n",
    "                img = cv2.resize(img, (self.img_w, self.img_h), interpolation = cv2.INTER_NEAREST)\n",
    "                img = img / 255.\n",
    "                img = torch.tensor(img, dtype=torch.float32)\n",
    "                img = img.permute(2, 0, 1)\n",
    "        \n",
    "        label_mtx = np.zeros((self.SY, self.SX, 5+self.C))\n",
    "        \n",
    "        for box, label in zip(bboxes, labels):\n",
    "            class_id = int(label)\n",
    "            i, j = int(box[1]*self.SY), int(box[0]*self.SX)\n",
    "            xcell, ycell = box[0]*self.SX - j, box[1]*self.SY - i\n",
    "            label_mtx[i, j, :5] = [xcell, ycell, box[2], box[3], 1]\n",
    "            label_mtx[i, j, 5+class_id] = 1\n",
    "\n",
    "        label_mtx = torch.tensor(label_mtx, dtype=torch.float32)\n",
    "        \n",
    "        #return img, label_mtx, img_file\n",
    "        return img, label_mtx"
   ]
  },
  {
   "cell_type": "markdown",
   "id": "bee1de61-d47b-470c-8521-26823fee52f0",
   "metadata": {},
   "source": [
    "# DFS"
   ]
  },
  {
   "cell_type": "code",
   "execution_count": 6,
   "id": "79dac75c-3e82-4be0-acde-dea4e7007e86",
   "metadata": {},
   "outputs": [
    {
     "name": "stdout",
     "output_type": "stream",
     "text": [
      "DFS number of samples: 9462\n",
      "DFS train samples: 7569\n",
      "DFS test samples: 1893\n"
     ]
    }
   ],
   "source": [
    "dfs_base_dir = 'ds2fire/dfs_xml/'\n",
    "dfs_images_dir = dfs_base_dir + 'images/'\n",
    "dfs_labels_dir = dfs_base_dir + 'labels/'\n",
    "\n",
    "\n",
    "# Get all txt file paths in path_annot and sort them\n",
    "dfs_xml_files = sorted(\n",
    "    [\n",
    "        os.path.join(dfs_labels_dir, file_name)\n",
    "        for file_name in os.listdir(dfs_labels_dir)\n",
    "        if file_name.endswith(\".xml\")\n",
    "    ]\n",
    ")\n",
    "\n",
    "dfs_len = len(dfs_xml_files)\n",
    "dfs_train_elements = int(dfs_len*0.8)\n",
    "dfs_test_elements = dfs_len - dfs_train_elements\n",
    "\n",
    "random.shuffle(dfs_xml_files)\n",
    "dfs_train_list = dfs_xml_files[:dfs_train_elements]\n",
    "dfs_test_list = dfs_xml_files[dfs_train_elements:]\n",
    "\n",
    "print(f'DFS number of samples: {dfs_len}')\n",
    "print(f'DFS train samples: {len(dfs_train_list)}')\n",
    "print(f'DFS test samples: {len(dfs_test_list)}')\n"
   ]
  },
  {
   "cell_type": "code",
   "execution_count": 7,
   "id": "5564261d-60af-404b-9bda-ab4af2f44448",
   "metadata": {},
   "outputs": [],
   "source": [
    "class DFSDataset(Dataset):\n",
    "    '''\n",
    "    Creates a Pytorch Dataset to train the Yolov1 Network.\n",
    "    Encodes labels to match the format [xcell, ycell, w, h, confidence, class_0 (smoke), class_1 (fire)]\n",
    "        - Final encoding format is: [xcell, ycell, w, h, conf=1, smoke?, fire?]\n",
    "\n",
    "    Discard images when there are more than 1 object in the same cell\n",
    "    \n",
    "    Arguments:\n",
    "        - img_h:            image height\n",
    "        - img_w:            image width\n",
    "        - img_dir:          path to images folder\n",
    "        - label_dir:        path to labels folder\n",
    "        - SX:               number of cells in X axis (horizontal -> width)\n",
    "        - SY:               number of cells in Y axis (vertical -> height)\n",
    "        - C:                number of classes, 2 in this case\n",
    "        - transform:        transformation applied to input images -> Albumentations\n",
    "        - target_transform: transformation applied to labels -> nothing by default\n",
    "\n",
    "    Return:\n",
    "        - img:              1 image of the dataset\n",
    "        - target:           corresponding label encoded\n",
    "    '''\n",
    "\n",
    "    def __init__(self, img_h, img_w, img_dir, labels_list, \n",
    "                 SX, SY, C, \n",
    "                 transform=None, target_transform=None):\n",
    "        self.img_h = img_h\n",
    "        self.img_w = img_w\n",
    "        self.img_dir = img_dir\n",
    "        self.labels_list = labels_list\n",
    "        self.SX = SX\n",
    "        self.SY = SY\n",
    "        self.C = C\n",
    "        self.transform = transform\n",
    "        self.target_transform = target_transform\n",
    "        \n",
    "        self.images, self.bboxes, self.labels = self.__build_ds__(self.labels_list)\n",
    "        \n",
    "        self.num_samples = self.images.shape[0]\n",
    "\n",
    "    def __len__(self):\n",
    "        return self.num_samples\n",
    "    \n",
    "    def __bbox_check__(self, bbox):\n",
    "        eps = 1e-6\n",
    "        \n",
    "        xmin, ymin, xmax, ymax = bbox[0], bbox[1], bbox[2], bbox[3]\n",
    "        \n",
    "        xmin = max(xmin, 0 + eps)\n",
    "        ymin = max(ymin, 0 + eps)\n",
    "        xmax = min(xmax, 1)\n",
    "        ymax = min(ymax, 1)\n",
    "        \n",
    "        bbox = np.array([ \n",
    "                (xmin+xmax)/2,\n",
    "                (ymin+ymax)/2,\n",
    "                xmax-xmin,\n",
    "                ymax-ymin\n",
    "                 ]).astype(np.float32)\n",
    "        \n",
    "        return bbox        \n",
    "\n",
    "\n",
    "    def __build_ds__(self, labels_list):\n",
    "        bboxes = []\n",
    "        labels = []\n",
    "        images = []\n",
    "        wrong_imgs = 0\n",
    "        overlapping_rem = 0\n",
    "        more_than_3 = 0\n",
    "        \n",
    "        for xml_file in labels_list:\n",
    "#             fname = Path(xml_file).stem\n",
    "#             image_path = self.img_dir + fname + '.jpg'   \n",
    "            #print(fname, image_path)\n",
    "            \n",
    "            tree = ET.parse(xml_file)\n",
    "            root = tree.getroot()\n",
    "\n",
    "            image_name = root.find(\"filename\").text\n",
    "            image_path = os.path.join(self.img_dir, image_name)\n",
    "            #print(image_name, image_path)\n",
    "            \n",
    "            if cv2.imread(image_path) is None:\n",
    "                print(f'{image_path} cannot be read by cv2 -> removed')\n",
    "                wrong_imgs += 1\n",
    "            \n",
    "            else:\n",
    "                overlapping_object = 0\n",
    "                more_than_3_inside = 0\n",
    "\n",
    "                label_mtx = np.zeros((self.SY, self.SX))\n",
    "\n",
    "                size = root.find(\"size\")\n",
    "                img_w = float(size.find(\"width\").text)\n",
    "                img_h = float(size.find(\"height\").text)\n",
    "\n",
    "                one_bboxes = []\n",
    "                one_labels = []\n",
    "\n",
    "                for obj in root.iter(\"object\"):\n",
    "                    \n",
    "                    class_name = obj.find(\"name\").text\n",
    "                    if class_name == 'smoke':\n",
    "                        class_id = 0\n",
    "                        more_than_3_inside += 1\n",
    "                    elif class_name == 'fire':\n",
    "                        class_id = 1\n",
    "                        more_than_3_inside += 1\n",
    "                    else:\n",
    "                        continue \n",
    "                    bbox = obj.find(\"bndbox\")\n",
    "                    xmin = float(bbox.find(\"xmin\").text)/img_w\n",
    "                    ymin = float(bbox.find(\"ymin\").text)/img_h\n",
    "                    xmax = float(bbox.find(\"xmax\").text)/img_w\n",
    "                    ymax = float(bbox.find(\"ymax\").text)/img_h\n",
    "\n",
    "                    box = self.__bbox_check__([xmin, ymin, xmax, ymax])\n",
    "                    #print(f'Class: {class_name} - Class_id: {class_id}. Coords: x={x}, y={y}, w={w}, h={h}')\n",
    "\n",
    "                    x, y, w, h = box[0], box[1], box[2], box[3]\n",
    "                    i, j = math.floor(y * self.SY), math.floor(x * self.SX)\n",
    "                    if label_mtx[i, j] == 1:\n",
    "                        overlapping_object = 1\n",
    "                        overlapping_rem += 1\n",
    "                        break\n",
    "                    else:\n",
    "                        label_mtx[i, j] = 1\n",
    "                        one_bboxes.append([x, y, w, h])\n",
    "                        # smoke\n",
    "                        if class_id == 0:\n",
    "                            one_labels.append(0)\n",
    "                        # fire\n",
    "                        elif class_id == 1:\n",
    "                            one_labels.append(1)\n",
    "                        else:\n",
    "                            print(f'File {label} errored in cell {i, j}') \n",
    "\n",
    "                if more_than_3_inside > 3:\n",
    "                    more_than_3 += 1\n",
    "                    continue\n",
    "                    \n",
    "                if (overlapping_object) == 0 and (more_than_3_inside) < 4:\n",
    "                    # Padding to SX*SY labels and bounding boxes, so you can store tensors\n",
    "                    # Label -1 indicates no box\n",
    "                    for idx in range(self.SX*self.SY - len(one_labels)):\n",
    "                        one_bboxes.append([0, 0, 0, 0])\n",
    "                        one_labels.append(-1)\n",
    "                    # print(f'\\nBboxes and Labels of image {image_path}')\n",
    "                    # print(\"Bboxes\")\n",
    "                    # for box in one_bboxes:\n",
    "                    #     print(box)\n",
    "                    # print(\"Labels\")\n",
    "                    # for label in one_labels:\n",
    "                    #     print(label)\n",
    "                    bboxes.append(one_bboxes)\n",
    "                    labels.append(one_labels)\n",
    "                    images.append(image_path)\n",
    "\n",
    "        print(f'Removed wrong images: {wrong_imgs}')\n",
    "        print(f'Removed due to overlapping: {overlapping_rem}')\n",
    "        print(f'Removed due to more than 3: {more_than_3}')\n",
    "\n",
    "        labels_np = np.array(labels)\n",
    "        labels_tensor = torch.tensor(labels_np, dtype=torch.float32)\n",
    "        bboxes_np = np.array(bboxes)\n",
    "        bboxes_tensor = torch.tensor(bboxes_np, dtype=torch.float32)\n",
    "        images_array = np.array(images)\n",
    "        # print(f'Images array {images_array}')\n",
    "        # print(f'Bboxes tensor {bboxes_tensor}')\n",
    "        # print(f'Labels tensor {labels_tensor}')\n",
    "        \n",
    "        return images_array, bboxes_tensor, labels_tensor\n",
    "        #return images, bboxes, labels\n",
    "\n",
    "\n",
    " \n",
    "    def __getitem__(self, index):\n",
    "\n",
    "        # Image processing\n",
    "        img_file = self.images[index]\n",
    "        img = cv2.imread(img_file)\n",
    "        img = cv2.cvtColor(img, cv2.COLOR_BGR2RGB)   \n",
    "        #img = cv2.resize(img, (self.img_w, self.img_h), interpolation = cv2.INTER_NEAREST)\n",
    "\n",
    "        # Labels processing\n",
    "        bboxes = self.bboxes[index]\n",
    "        bboxes = bboxes[~torch.all(bboxes == torch.tensor([0,0,0,0]), dim=1)]\n",
    "        bboxes = bboxes.numpy().tolist()\n",
    "        #print(bboxes)\n",
    "        labels = self.labels[index]\n",
    "        labels = labels[labels != -1.]\n",
    "        labels = labels.numpy().tolist()\n",
    "        #print(f'Labels inside dataset {labels}')\n",
    "        \n",
    "        # Data Augmentation\n",
    "        if self.transform is not None:\n",
    "            try:\n",
    "                aug = self.transform(image=img, bboxes=bboxes, class_labels=labels)\n",
    "                img = aug['image']\n",
    "                bboxes = aug['bboxes']\n",
    "                labels = aug['class_labels']\n",
    "            except:\n",
    "                #print(f'Error trying to augment image {img_file}')\n",
    "                img = cv2.resize(img, (self.img_w, self.img_h), interpolation = cv2.INTER_NEAREST)\n",
    "                img = img / 255.\n",
    "                img = torch.tensor(img, dtype=torch.float32)\n",
    "                img = img.permute(2, 0, 1)\n",
    "        \n",
    "        label_mtx = np.zeros((self.SY, self.SX, 5+self.C))\n",
    "        \n",
    "        for box, label in zip(bboxes, labels):\n",
    "            class_id = int(label)\n",
    "            i, j = int(box[1]*self.SY), int(box[0]*self.SX)\n",
    "            xcell, ycell = box[0]*self.SX - j, box[1]*self.SY - i\n",
    "            label_mtx[i, j, :5] = [xcell, ycell, box[2], box[3], 1]\n",
    "            label_mtx[i, j, 5+class_id] = 1\n",
    "\n",
    "        label_mtx = torch.tensor(label_mtx, dtype=torch.float32)\n",
    "        \n",
    "        #return img, label_mtx, img_file\n",
    "        return img, label_mtx"
   ]
  },
  {
   "cell_type": "markdown",
   "id": "ec8b488d-9139-4a9e-8af5-de827368eff1",
   "metadata": {},
   "source": [
    "# Visualize some examples with a Test Train Loader"
   ]
  },
  {
   "cell_type": "code",
   "execution_count": 8,
   "id": "1d709355-0e9b-4793-bbbc-35e59c93e77e",
   "metadata": {},
   "outputs": [],
   "source": [
    "view_dir = 'dfire4ex/train/'\n",
    "\n",
    "view_train_imgs = view_dir + 'images/'\n",
    "view_train_labels = view_dir + 'labels/'"
   ]
  },
  {
   "cell_type": "code",
   "execution_count": 9,
   "id": "0adcae50-29e5-4ccd-a546-77bca415fdf2",
   "metadata": {},
   "outputs": [],
   "source": [
    "VIEW_BATCH_SIZE = 16\n",
    "VIEW_NUM_WORKERS = 1\n",
    "VIEW_PIN_MEMORY = True\n",
    "\n",
    "VIEW_S = 4\n",
    "VIEW_C = 2\n",
    "VIEW_B = 1\n",
    "\n",
    "VIEW_IMG_W = 88\n",
    "VIEW_IMG_H = 88"
   ]
  },
  {
   "cell_type": "markdown",
   "id": "92020f5e-55c6-4ab9-be81-100e1dae17de",
   "metadata": {},
   "source": [
    "# Data Aug Function"
   ]
  },
  {
   "cell_type": "code",
   "execution_count": 10,
   "id": "2186e383-3cf2-42b8-b704-7f478b099532",
   "metadata": {},
   "outputs": [],
   "source": [
    "view_transform = A.Compose([\n",
    "    A.HorizontalFlip(p=0.5),\n",
    "    A.RandomBrightnessContrast(p=0.5),\n",
    "    A.RandomSizedBBoxSafeCrop(height=int(1.4*VIEW_IMG_H),\n",
    "                              width= int(1.4*VIEW_IMG_W),\n",
    "                              erosion_rate=0.6,\n",
    "                              p=0.3),\n",
    "    A.HueSaturationValue(hue_shift_limit=10, p=0.2),\n",
    "    A.Blur(blur_limit=(3,3), p=0.2),\n",
    "    A.CLAHE(clip_limit=2.0, p=0.3),\n",
    "    # Shifting, scaling and rotation could dive 2 bbox inside same grid...\n",
    "    #A.ShiftScaleRotate(rotate_limit=5, p=0.2),\n",
    "    A.Resize(VIEW_IMG_H, VIEW_IMG_W, p=1),\n",
    "    #A.Normalize(mean=(0.485, 0.456, 0.406), std=(0.229, 0.224, 0.225), p=1),\n",
    "    ToTensorV2(p=1),\n",
    "], bbox_params=A.BboxParams(format='yolo', \n",
    "                            #min_area=6*6, \n",
    "                            #min_visibility=0.05, \n",
    "                            label_fields=['class_labels']))\n"
   ]
  },
  {
   "cell_type": "markdown",
   "id": "81c4ce4e-d822-4277-84c9-0998d8738dc5",
   "metadata": {},
   "source": [
    "# DFS Dataset"
   ]
  },
  {
   "cell_type": "code",
   "execution_count": 11,
   "id": "063fe2e3-a1b4-489f-96e1-8031cfbd09c1",
   "metadata": {},
   "outputs": [
    {
     "name": "stdout",
     "output_type": "stream",
     "text": [
      "Removed wrong images: 0\n",
      "Removed due to overlapping: 211\n",
      "Removed due to more than 3: 386\n"
     ]
    }
   ],
   "source": [
    "view_dfs_dataset = DFSDataset(img_h = VIEW_IMG_H,\n",
    "                              img_w = VIEW_IMG_W,\n",
    "                              img_dir = dfs_images_dir,\n",
    "                              labels_list = dfs_test_list,\n",
    "                              SX = VIEW_S,\n",
    "                              SY = VIEW_S,\n",
    "                              C = VIEW_C,\n",
    "                              transform=view_transform)"
   ]
  },
  {
   "cell_type": "markdown",
   "id": "055a826a-f1b0-41b2-816b-fce4fed5f5b5",
   "metadata": {},
   "source": [
    "# View Loader"
   ]
  },
  {
   "cell_type": "code",
   "execution_count": 12,
   "id": "09f1e84b-dcbe-42d1-93bd-3c37ee0d755d",
   "metadata": {},
   "outputs": [],
   "source": [
    "view_loader = DataLoader(dataset=view_dfs_dataset,\n",
    "                         batch_size=VIEW_BATCH_SIZE,\n",
    "                         num_workers=VIEW_NUM_WORKERS,\n",
    "                         pin_memory=VIEW_PIN_MEMORY,\n",
    "                         shuffle=True,\n",
    "                         drop_last=False)"
   ]
  },
  {
   "cell_type": "markdown",
   "id": "c89089a0-13b7-4248-b7cb-9b7228fa62c8",
   "metadata": {},
   "source": [
    "# Utils to Plot"
   ]
  },
  {
   "cell_type": "code",
   "execution_count": 13,
   "id": "b95cbbb1-2531-482e-9ecf-f78144210e4f",
   "metadata": {},
   "outputs": [],
   "source": [
    "def get_bboxes_from_label_mtx(label_mtx):\n",
    "\n",
    "    c2b_mtx = np.zeros((VIEW_S, VIEW_S, 2))\n",
    "    for j in range(VIEW_S):\n",
    "        for i in range(VIEW_S):\n",
    "            c2b_mtx[i, j, 0] = j\n",
    "            c2b_mtx[i, j, 1] = i\n",
    "\n",
    "    label_mtx = label_mtx.numpy()\n",
    "    label_xy = label_mtx[..., :2]\n",
    "    label_rest = label_mtx[..., 2:]\n",
    "\n",
    "    c2b_xy = (c2b_mtx+label_xy)/VIEW_S\n",
    "    out = np.concatenate((c2b_xy, label_rest), axis=-1)\n",
    "    #print(f'Concat out\\n {out}')\n",
    "\n",
    "    bboxes_list = np.reshape(out, (VIEW_S*VIEW_S, 5+VIEW_C))\n",
    "\n",
    "    bboxes_list = [bbox for bbox in bboxes_list.tolist() if bbox[4]==1]\n",
    "\n",
    "    return bboxes_list\n",
    "\n",
    "\n",
    "def plot_pytorch(ds_img, img_w, img_h, nms_preds):\n",
    "    '''\n",
    "    It draws the bounding boxes over the image.\n",
    "\n",
    "    Arguments:\n",
    "        - ori_img: original image with no modification or letterbox\n",
    "        - nms_preds: Non Maximum Supression predictions [x0, y0, x1, y1, class_id, score]\n",
    "        - names: list of class names\n",
    "        - colors: list of colors asigned to each class in cv2 format (B,G,R)\n",
    "        - ratio: ratio of letterbox conversion\n",
    "        - dwdh: paddings of letterbox conversion\n",
    "\n",
    "    Returns:\n",
    "        - pic: picture with bounding boxes on top of original picture\n",
    "    '''\n",
    "\n",
    "    names ={0: 'smoke', 1: 'fire'}\n",
    "    colors = {'smoke': (0,255,255), 'fire': (255,255,0)}\n",
    "    # NEVER remove copy() or use np.ascontiguousarray()\n",
    "    pic = ds_img.numpy().copy()       \n",
    "\n",
    "    for i,(xc,yc,w,h,score,smoke,fire) in enumerate(nms_preds):\n",
    "        xmin, ymin, xmax, ymax = xc - w/2, yc - h/2, xc + w/2, yc + h/2\n",
    "        box = np.array([xmin, ymin, xmax, ymax]).astype(np.float32)\n",
    "        box[0] = box[0]*img_w\n",
    "        box[1] = box[1]*img_h\n",
    "        box[2] = box[2]*img_w-1 # avoid out of limits due to rounding\n",
    "        box[3] = box[3]*img_h-1 # avoid out of limits due to rounding\n",
    "        box = box.round().astype(np.uint8).tolist()\n",
    "        if smoke == 1:\n",
    "            cls_id = 0\n",
    "        elif fire == 1:\n",
    "            cls_id = 1\n",
    "        else:\n",
    "            print(\"Error: no valid class\")\n",
    "        score = round(float(score),3)\n",
    "        name = names[cls_id]\n",
    "        color = colors[name]\n",
    "        name += ' '+str(score)\n",
    "        cv2.rectangle(pic, box[:2], box[2:], color, 1) \n",
    "        cv2.putText(pic,name,(box[0]+6, box[1] + 20),\n",
    "                    cv2.FONT_HERSHEY_SIMPLEX,0.4,[225, 255, 255],\n",
    "                    thickness=1)  # 0.5 -> font size\n",
    "\n",
    "    return pic"
   ]
  },
  {
   "cell_type": "markdown",
   "id": "31188003-ce10-432d-99ba-f8658141aa35",
   "metadata": {},
   "source": [
    "# Plot"
   ]
  },
  {
   "cell_type": "code",
   "execution_count": 14,
   "id": "52d065b7-b186-4d68-b558-96546ee48898",
   "metadata": {},
   "outputs": [
    {
     "name": "stderr",
     "output_type": "stream",
     "text": [
      "/opt/conda/lib/python3.11/site-packages/transformers/utils/generic.py:441: UserWarning: torch.utils._pytree._register_pytree_node is deprecated. Please use torch.utils._pytree.register_pytree_node instead.\n",
      "  _torch_pytree._register_pytree_node(\n",
      "/tmp/ipykernel_2069889/1131017985.py:24: UserWarning: Tight layout not applied. tight_layout cannot make axes width small enough to accommodate all axes decorations\n",
      "  plt.tight_layout(w_pad=100)\n"
     ]
    },
    {
     "data": {
      "image/png": "[encoded data removed]",
      "text/plain": [
       "<Figure size 1000x500 with 8 Axes>"
      ]
     },
     "metadata": {},
     "output_type": "display_data"
    }
   ],
   "source": [
    "#for i, (img, label_mtx, img_path) in enumerate(view_loader):\n",
    "\n",
    "for i, (img, label_mtx) in enumerate(view_loader):\n",
    "    #print(f'Batch id = {i}')\n",
    "\n",
    "    plt.subplots(2,4, figsize=(10, 5))\n",
    "\n",
    "    for idx in range(VIEW_BATCH_SIZE):\n",
    "        #print(f'Index inside batch = {idx}')\n",
    "        #print(img_path[idx])\n",
    "        bboxes = get_bboxes_from_label_mtx(label_mtx[idx])\n",
    "        #print(bboxes)\n",
    "        img_ds = plot_pytorch(img[idx].permute(1, 2, 0), \n",
    "                              VIEW_IMG_W, \n",
    "                              VIEW_IMG_H, \n",
    "                              bboxes)\n",
    "        plt.subplot(2, 4, idx+1)\n",
    "        plt.imshow(img_ds)\n",
    "        #plt.imshow(img[idx].permute(1, 2, 0))\n",
    "        \n",
    "        if (idx == 7):\n",
    "            break\n",
    "    #if (idx == 1):\n",
    "    plt.tight_layout(w_pad=100)\n",
    "    plt.show()\n",
    "    break"
   ]
  },
  {
   "cell_type": "markdown",
   "id": "defa2118-942f-44ea-a6f5-9cda7d3fc7ea",
   "metadata": {},
   "source": [
    "# Custom Layers"
   ]
  },
  {
   "cell_type": "code",
   "execution_count": 15,
   "id": "8e869499-fd98-42d9-b284-e81405b38df5",
   "metadata": {},
   "outputs": [],
   "source": [
    "class Reshape(nn.Module):\n",
    "    def __init__(self, shape):\n",
    "        super(Reshape, self).__init__()\n",
    "        self.shape = shape\n",
    "\n",
    "    def forward(self, x):\n",
    "        return x.view(self.shape)\n",
    "\n",
    "# Apply sigmoid to coords \n",
    "class MyLayer_2BB(torch.nn.Module):\n",
    "    def __init__(self):\n",
    "        \"\"\"\n",
    "        Apply sigmoid to bounding boxes\n",
    "        \"\"\"\n",
    "        super().__init__()\n",
    "        self.sigmoid = nn.Sigmoid()\n",
    "        self.softmax = nn.Softmax(dim=-1)\n",
    "\n",
    "    def forward(self, x):\n",
    "        sig = self.sigmoid(x[..., 0:10])\n",
    "        soft = self.softmax(x[..., 10:12])\n",
    "        y = torch.concat([sig, soft], dim=-1)\n",
    "        return y"
   ]
  },
  {
   "cell_type": "markdown",
   "id": "8c108028-a23a-410d-8af0-2853e5b85f90",
   "metadata": {},
   "source": [
    "# Tinyssimo"
   ]
  },
  {
   "cell_type": "code",
   "execution_count": 16,
   "id": "f7209620-aa42-4946-aa62-9f645e07f926",
   "metadata": {},
   "outputs": [],
   "source": [
    "class Tinyssimo_fixed_88x88_BatchNorm(nn.Module):\n",
    "    def __init__(self, in_channels=3, num_classes=C):\n",
    "        super(Tinyssimo_fixed_88x88_BatchNorm, self).__init__()\n",
    "        self.in_channels = in_channels\n",
    "        self.num_classes = num_classes\n",
    "        self.tiny_model = self.__create_tinyssimo__()\n",
    "    \n",
    "    def __create_tinyssimo__(self):\n",
    "        tinyssimo_model = nn.Sequential(\n",
    "            # Conv2d [in_channels, out_channels, kernel_size, stride, padding, bias]\n",
    "\n",
    "            # CNNBlock 1\n",
    "            nn.Conv2d(self.in_channels, 16, kernel_size=3, stride=1, padding='same', bias=False),\n",
    "            nn.BatchNorm2d(16),\n",
    "            nn.ReLU(),\n",
    "            nn.Conv2d(16, 16, kernel_size=3, stride=1, padding='same', bias=False),\n",
    "            nn.BatchNorm2d(16),\n",
    "            nn.ReLU(),\n",
    "            nn.MaxPool2d(kernel_size=2, stride=2),\n",
    "\n",
    "            # CNNBlock 2\n",
    "            nn.Conv2d(16, 16, kernel_size=3, stride=1, padding='same', bias=False),\n",
    "            nn.BatchNorm2d(16),\n",
    "            nn.ReLU(),\n",
    "            nn.Conv2d(16, 32, kernel_size=3, stride=1, padding='same', bias=False),\n",
    "            nn.BatchNorm2d(32),\n",
    "            nn.ReLU(),\n",
    "            nn.MaxPool2d(kernel_size=2, stride=2),\n",
    "\n",
    "            # CNNBlock 3\n",
    "            nn.Conv2d(32, 32, kernel_size=3, stride=1, padding='same', bias=False),\n",
    "            nn.BatchNorm2d(32),\n",
    "            nn.ReLU(),\n",
    "            nn.Conv2d(32, 64, kernel_size=3, stride=1, padding='same', bias=False),\n",
    "            nn.BatchNorm2d(64),\n",
    "            nn.ReLU(),\n",
    "            nn.MaxPool2d(kernel_size=2, stride=2),\n",
    "\n",
    "            # CNNBlock 4\n",
    "            nn.Conv2d(64, 64, kernel_size=3, stride=1, padding='same', bias=False),\n",
    "            nn.BatchNorm2d(64),\n",
    "            nn.ReLU(),\n",
    "            nn.Conv2d(64, 64, kernel_size=3, stride=1, padding='same', bias=False),\n",
    "            nn.BatchNorm2d(64),\n",
    "            nn.ReLU(),\n",
    "            nn.MaxPool2d(kernel_size=2, stride=2), \n",
    "\n",
    "            # CNNBlock 5\n",
    "            nn.Conv2d(64, 128, kernel_size=3, stride=1, padding='same', bias=False),\n",
    "            nn.BatchNorm2d(128),\n",
    "            nn.ReLU(),\n",
    "            nn.Conv2d(128, 128, kernel_size=3, stride=1, padding='same', bias=False),\n",
    "            nn.BatchNorm2d(128),\n",
    "            nn.ReLU(),\n",
    "            nn.MaxPool2d(kernel_size=2, stride=2),\n",
    "            \n",
    "            # HEAD\n",
    "            nn.Flatten(),\n",
    "            #nn.Linear(in_features=128*2*2, out_features=256), # 2 and 2 are dims b4 FC layer\n",
    "            nn.Linear(in_features=128*2*2, out_features=192), # 2 and 2 are dims b4 FC layer\n",
    "            nn.ReLU(),\n",
    "            nn.Dropout(0.8),\n",
    "            # nn.Linear(in_features=256, \n",
    "            #           out_features=SX*SY*(B*5+C)),\n",
    "            nn.Linear(in_features=192, \n",
    "                      out_features=SX*SY*(B*5+C)),\n",
    "            # Adding Reshape and Sigmoid\n",
    "            Reshape((-1, 4, 4, 12)),\n",
    "            MyLayer_2BB(),\n",
    "            \n",
    "        )\n",
    "        return tinyssimo_model \n",
    "\n",
    "    def _initialize_weights(self):\n",
    "        for m in self.modules():\n",
    "            if isinstance(m, nn.Conv2d):\n",
    "                nn.init.kaiming_normal_(m.weight, mode='fan_in',\n",
    "                    nonlinearity='relu'\n",
    "                )\n",
    "                if m.bias is not None:\n",
    "                        nn.init.constant_(m.bias, 0)\n",
    "            elif isinstance(m, nn.Linear):\n",
    "                nn.init.normal_(m.weight, 0, 0.01)\n",
    "                nn.init.constant_(m.bias, 0)\n",
    "        \n",
    "    def forward(self, x):\n",
    "        y = self.tiny_model(x)\n",
    "        return y "
   ]
  },
  {
   "cell_type": "markdown",
   "id": "02fea177-6d98-47b4-9cce-8981461388ab",
   "metadata": {},
   "source": [
    "# Yolo Loss 2BB"
   ]
  },
  {
   "cell_type": "code",
   "execution_count": 17,
   "id": "42606acc-7693-488f-8f8a-4609738c1739",
   "metadata": {},
   "outputs": [],
   "source": [
    "class YoloLossMSE_2BBox(nn.Module):\n",
    "    '''\n",
    "    Calculates Yolo V1 loss function, detailed in the paper\n",
    "\n",
    "    Prediction format [xcell, ycell, w, h, confidence, class_0, class_1]\n",
    "    Future update to 2 BB: [xcell, ycell, w, h, confidence_A, xcell, ycell, w, h, confidence_B, class_0, class_1]\n",
    "    '''\n",
    "\n",
    "    def __init__(self, SX, SY, B, C):\n",
    "        super(YoloLossMSE_2BBox, self).__init__()\n",
    "        \n",
    "        self.mse = nn.MSELoss(reduction=\"sum\")\n",
    "\n",
    "        self.SX = SX\n",
    "        self.SY = SY\n",
    "        self.B = B\n",
    "        self.C = C\n",
    "\n",
    "        self.lambda_coord = 5\n",
    "        self.lambda_noobj = 0.5\n",
    "        \n",
    "        self.last_box_xy = 0.0\n",
    "        self.last_box_wh = 0.0\n",
    "        self.last_obj = 0.0\n",
    "        self.last_noobj =0.0\n",
    "        self.last_class = 0.0\n",
    "\n",
    "    def forward(self, ground_truth, predictions):\n",
    "\n",
    "        #predictions = predictions.reshape(-1, self.SY, self.SX, self.B*5 + self.C)\n",
    "        assert predictions.shape == (BATCH_SIZE, self.SY, self.SX, self.B*5 + self.C) \n",
    "        assert ground_truth.shape == (BATCH_SIZE, self.SY, self.SX, 5 + self.C) \n",
    "        \n",
    "        # =========================== #\n",
    "        #        Exists Box?          #\n",
    "        # =========================== #\n",
    "        exists_box = ground_truth[..., 4:5] == 1\n",
    "        pred_box1 = exists_box*predictions[..., 0:4]\n",
    "        pred_box2 = exists_box*predictions[..., 5:9]\n",
    "        target_box = exists_box*ground_truth[..., :4]\n",
    "\n",
    "        # =========================== #\n",
    "        #            IOU              #\n",
    "        # =========================== #\n",
    "        # Calculate IoU for the two predicted bounding boxes with target bbox\n",
    "        iou1 = iou_tensor(boxes_preds=pred_box1, \n",
    "                   boxes_labels=target_box,\n",
    "                   box_format=\"midpoint\")\n",
    "        #print(f'IOU 1\\n{iou1}')\n",
    "        iou2 = iou_tensor(boxes_preds=pred_box2, \n",
    "                   boxes_labels=target_box,\n",
    "                   box_format=\"midpoint\")\n",
    "        #print(f'IOU 2\\n{iou2}')\n",
    "        ious = torch.cat([iou1, iou2], dim=-1)\n",
    "        #print(f'IOUs\\n{ious}')\n",
    "        \n",
    "        iou_maxes, best_boxes = torch.max(ious, keepdim=True, dim=-1)\n",
    "        pred_boxes = best_boxes*pred_box2[..., :4]+(1-best_boxes)*pred_box1[..., :4]\n",
    "\n",
    "        # =============== #\n",
    "        #   Center Loss   #\n",
    "        # =============== #\n",
    "        xy_loss = self.mse(pred_boxes[..., :2],\n",
    "                           target_box[..., :2])\n",
    "        self.last_box_xy = xy_loss.item()\n",
    "        #print('\\nCenter Loss', center_loss)\n",
    "\n",
    "        # ====================== #\n",
    "        #   Width, Height Loss   #\n",
    "        # ====================== #\n",
    "        # Use torch.sign to undo torch.abs and preserve gradient sign \n",
    "        wh_loss = self.mse(torch.sign(pred_boxes[..., 2:4])*torch.sqrt(torch.abs(pred_boxes[..., 2:4])+1e-6),\n",
    "                           torch.sqrt(target_box[..., 2:4]))\n",
    "        #print(f'WH Loss {wh_loss:.6f}')\n",
    "        self.last_box_wh = wh_loss.item()\n",
    "\n",
    "        # =================== #\n",
    "        #   Confidence Loss   #\n",
    "        # =================== #\n",
    "        conf_pred_box = exists_box*( best_boxes*predictions[..., 9:10] + (1-best_boxes) * predictions[..., 4:5])\n",
    "        #print(f'Conf pred boxes \\n {conf_pred_box}')\n",
    "        # conf_loss = self.mse(conf_pred_box,\n",
    "        #                      iou_maxes)\n",
    "        conf_loss = self.mse(conf_pred_box,\n",
    "                             exists_box*ground_truth[..., 4:5])\n",
    "        #print(f'Conf loss {conf_loss:.6f}')\n",
    "        self.last_obj = conf_loss.item()\n",
    "\n",
    "        # ================== #\n",
    "        #   No Object Loss   #\n",
    "        # ================== #\n",
    "        noobj_box1 = self.mse((~exists_box)*predictions[..., 4:5],\n",
    "                              (~exists_box)*ground_truth[..., 4:5])\n",
    "        noobj_box2 = self.mse((~exists_box)*predictions[..., 9:10],\n",
    "                              (~exists_box)*ground_truth[..., 4:5])    \n",
    "        noobj_loss = noobj_box1 + noobj_box2\n",
    "        #print(f'No Obj loss {noobj_loss:.6f}')\n",
    "        self.last_noobj = noobj_loss.item()\n",
    "\n",
    "        # ======================= #\n",
    "        #   Classification Loss   #\n",
    "        # ======================= #\n",
    "        class_loss = self.mse(exists_box*predictions[..., 10:12],\n",
    "                              exists_box*ground_truth[..., 5:7]) \n",
    "        #print(f'Class Loss {class_loss:.6f}')\n",
    "        self.last_class = class_loss.item()\n",
    "\n",
    "        # ============== #\n",
    "        #   Total Loss   #\n",
    "        # ============== #\n",
    "        total_loss = (\n",
    "            self.lambda_coord*(xy_loss + wh_loss)\n",
    "            + conf_loss\n",
    "            + self.lambda_noobj*noobj_loss \n",
    "            + class_loss\n",
    "        )\n",
    "\n",
    "        return total_loss\n",
    "\n",
    "    def get_last_losses(self):     \n",
    "        return (\n",
    "            5*self.last_box_xy,\n",
    "            5*self.last_box_wh,\n",
    "            self.last_obj,\n",
    "            0.5*self.last_noobj,\n",
    "            self.last_class\n",
    "            )"
   ]
  },
  {
   "cell_type": "markdown",
   "id": "b0707cc5-1db0-4a95-a183-cbad80adae89",
   "metadata": {},
   "source": [
    "# Train Loop Function"
   ]
  },
  {
   "cell_type": "code",
   "execution_count": 18,
   "id": "4bada441-b601-4aa1-9274-ce50c616d1f0",
   "metadata": {},
   "outputs": [],
   "source": [
    "'''\n",
    "Train function\n",
    "'''\n",
    "def get_lr(optimizer):\n",
    "    for param_group in optimizer.param_groups:\n",
    "        return param_group['lr']\n",
    "\n",
    "def train_fn(loader, model, optimizer, loss_fn, device):\n",
    "    \n",
    "    print(f'Learning Rate = {get_lr(optimizer=optimizer)}')\n",
    "    \n",
    "    model.train()\n",
    "    loop = tqdm(loader, desc='Training', leave=True)\n",
    "    train_mean_loss = []\n",
    "    mean_box_loss = []\n",
    "    mean_confidence_loss = []\n",
    "    mean_noobj_loss = []\n",
    "    mean_class_loss = []\n",
    "\n",
    "    for batch_idx, (x, y) in enumerate(loop):\n",
    "#     for batch_idx, (x, y) in enumerate(loader):\n",
    "        x, y = x.to(device), y.to(device)\n",
    "        out = model(x)\n",
    "        train_loss = loss_fn(ground_truth=y, \n",
    "                             predictions=out)\n",
    "#         loss = loss_fn.forward(ground_truth=y, \n",
    "#                        predictions=out)\n",
    "        \n",
    "        # Gradient Descent\n",
    "        optimizer.zero_grad()\n",
    "        train_loss.backward()\n",
    "        optimizer.step()\n",
    "\n",
    "        # update progress bar\n",
    "        #loop.set_postfix(loss=loss.item())\n",
    "        #print(f'Partial Train Loss: {loss.item()}')\n",
    "\n",
    "        xy_loss, wh_loss, obj_loss, noobj_loss, class_loss = loss_fn.get_last_losses()\n",
    "        # Appending each loss\n",
    "        train_mean_loss.append(train_loss.item())\n",
    "        box_loss = xy_loss + wh_loss\n",
    "        mean_box_loss.append(box_loss)\n",
    "        mean_confidence_loss.append(obj_loss)\n",
    "        mean_noobj_loss.append(noobj_loss)\n",
    "        mean_class_loss.append(class_loss)\n",
    "\n",
    "    train_mean_loss_out = sum(train_mean_loss)/len(train_mean_loss)\n",
    "    #print(\"\\nTRAIN losses\")\n",
    "#     print(f\"Mean total loss was {train_mean_loss_out:.3f}\") # TQDM prints last batch loss\n",
    "    mean_box_loss_out = sum(mean_box_loss)/len(mean_box_loss)\n",
    "    mean_confidence_loss_out = sum(mean_confidence_loss)/len(mean_confidence_loss)\n",
    "    mean_noobj_loss_out = sum(mean_noobj_loss)/len(mean_noobj_loss)\n",
    "    mean_class_loss_out = sum(mean_class_loss)/len(mean_class_loss)  \n",
    "#     print(f\"Mean box loss was {mean_box_loss_out:.3f}\") \n",
    "#     print(f\"Mean confidence loss was {mean_confidence_loss_out:.3f}\") \n",
    "#     print(f\"Mean noobj loss was {mean_noobj_loss_out:.3f}\") \n",
    "#     print(f\"Mean class loss was {mean_class_loss_out:.3f}\") \n",
    "\n",
    "    print(\"Total Loss\".ljust(12) + \"|\" + \n",
    "          \"Box Loss\".ljust(12) + \"|\" + \n",
    "          \"Conf Loss\".ljust(12) + \"|\" + \n",
    "          \"No Obj Loss\".ljust(12) + \"|\" + \n",
    "          \"Class Loss\".ljust(12))\n",
    "    print(\"------------\".ljust(12) + \" \" + \n",
    "          \"------------\".ljust(12) + \" \" + \n",
    "          \"------------\".ljust(12) + \" \" + \n",
    "          \"------------\".ljust(12) + \" \" + \n",
    "          \"------------\".ljust(12))\n",
    "    print(f'{train_mean_loss_out:.3f}'.ljust(12) + \"|\" +\n",
    "          f'{mean_box_loss_out:.3f}'.ljust(12) + \"|\" +\n",
    "          f'{mean_confidence_loss_out:.3f}'.ljust(12) + \"|\" +\n",
    "          f'{mean_noobj_loss_out:.3f}'.ljust(12) + \"|\" +\n",
    "          f'{mean_class_loss_out:.3f}'.ljust(12) + \"\\n\")\n",
    "    \n",
    "    return (train_mean_loss_out, \n",
    "            mean_box_loss_out, \n",
    "            mean_confidence_loss_out, \n",
    "            mean_noobj_loss_out, \n",
    "            mean_class_loss_out)\n",
    "    \n",
    "#     return train_mean_loss_out\n"
   ]
  },
  {
   "cell_type": "markdown",
   "id": "ee0f4a05-7b83-45a0-8c9a-256d44095322",
   "metadata": {},
   "source": [
    "# Validation Loop Function"
   ]
  },
  {
   "cell_type": "code",
   "execution_count": 19,
   "id": "abce844b-bf71-40d1-a8e7-6a67c5e01a4b",
   "metadata": {},
   "outputs": [],
   "source": [
    "'''\n",
    "Evaluation Function\n",
    "'''\n",
    "def eval_fn(loader, model, loss_fn, device):\n",
    "    \n",
    "    model.eval()\n",
    "    loop = tqdm(loader, desc='Validating', leave=True)\n",
    "    val_mean_loss = []\n",
    "    mean_box_loss = []\n",
    "    mean_confidence_loss = []\n",
    "    mean_noobj_loss = []\n",
    "    mean_class_loss = []\n",
    "\n",
    "    for batch_idx, (x, y) in enumerate(loop):\n",
    "#     for batch_idx, (x, y) in enumerate(loader):\n",
    "        x, y = x.to(device), y.to(device)\n",
    "        out = model(x)\n",
    "        val_loss = loss_fn(ground_truth=y, \n",
    "                           predictions=out)\n",
    "#         loss = loss_fn.forward(ground_truth=y, \n",
    "#                                predictions=out)\n",
    "        \n",
    "        xy_loss, wh_loss, obj_loss, noobj_loss, class_loss = loss_fn.get_last_losses()\n",
    "        # Appending each loss\n",
    "        val_mean_loss.append(val_loss.item())\n",
    "        box_loss = xy_loss + wh_loss\n",
    "        mean_box_loss.append(box_loss)\n",
    "        mean_confidence_loss.append(obj_loss)\n",
    "        mean_noobj_loss.append(noobj_loss)\n",
    "        mean_class_loss.append(class_loss)\n",
    "        \n",
    "        # update progress bar\n",
    "        #loop.set_postfix(loss=loss.item())\n",
    "\n",
    "    val_mean_loss_out = sum(val_mean_loss)/len(val_mean_loss)\n",
    "    #print(\"\\nVAL losses\")\n",
    "#     print(f\"Mean total loss was {val_mean_loss_out:.3f}\") # TQDM prints last batch loss\n",
    "    mean_box_loss_out = sum(mean_box_loss)/len(mean_box_loss)\n",
    "    mean_confidence_loss_out = sum(mean_confidence_loss)/len(mean_confidence_loss)\n",
    "    mean_noobj_loss_out = sum(mean_noobj_loss)/len(mean_noobj_loss)\n",
    "    mean_class_loss_out = sum(mean_class_loss)/len(mean_class_loss)  \n",
    "#     print(f\"Mean box loss was {mean_box_loss_out:.3f}\") \n",
    "#     print(f\"Mean confidence loss was {mean_confidence_loss_out:.3f}\") \n",
    "#     print(f\"Mean noobj loss was {mean_noobj_loss_out:.3f}\") \n",
    "#     print(f\"Mean class loss was {mean_class_loss_out:.3f}\") \n",
    "\n",
    "    print(\"Total Loss\".ljust(12) + \"|\" + \n",
    "          \"Box Loss\".ljust(12) + \"|\" + \n",
    "          \"Conf Loss\".ljust(12) + \"|\" + \n",
    "          \"No Obj Loss\".ljust(12) + \"|\" + \n",
    "          \"Class Loss\".ljust(12))\n",
    "    print(\"------------\".ljust(12) + \" \" + \n",
    "          \"------------\".ljust(12) + \" \" + \n",
    "          \"------------\".ljust(12) + \" \" + \n",
    "          \"------------\".ljust(12) + \" \" + \n",
    "          \"------------\".ljust(12))\n",
    "    print(f'{val_mean_loss_out:.3f}'.ljust(12) + \"|\" +\n",
    "          f'{mean_box_loss_out:.3f}'.ljust(12) + \"|\" +\n",
    "          f'{mean_confidence_loss_out:.3f}'.ljust(12) + \"|\" +\n",
    "          f'{mean_noobj_loss_out:.3f}'.ljust(12) + \"|\" +\n",
    "          f'{mean_class_loss_out:.3f}'.ljust(12) + \"\\n\")\n",
    "\n",
    "    return (val_mean_loss_out, \n",
    "            mean_box_loss_out, \n",
    "            mean_confidence_loss_out, \n",
    "            mean_noobj_loss_out, \n",
    "            mean_class_loss_out)\n",
    "    \n",
    "#     return val_loss_out"
   ]
  },
  {
   "cell_type": "markdown",
   "id": "a1d47f51-5c7b-434a-af27-a0e2596596bc",
   "metadata": {},
   "source": [
    "# Hyperparameters and Config"
   ]
  },
  {
   "cell_type": "code",
   "execution_count": 20,
   "id": "79142328-c910-4425-afd7-f6d38bd9baf4",
   "metadata": {},
   "outputs": [],
   "source": [
    "''' ============================\n",
    "    Hyperparameters and More\n",
    "============================ '''\n",
    "\n",
    "LEARNING_RATE = 5e-4\n",
    "#LEARNING_RATE = 1e-1\n",
    "DEVICE = \"cuda\" if torch.cuda.is_available() else \"cpu\"\n",
    "BATCH_SIZE = 64 \n",
    "#WEIGHT_DECAY = 5e-4\n",
    "WEIGHT_DECAY = 0\n",
    "EPOCHS = 220\n",
    "NUM_WORKERS = 2\n",
    "PIN_MEMORY = True\n",
    "#LOAD_MODEL = False\n",
    "#LOAD_MODEL_FILE = \"overfit.pth.tar\"\n",
    "\n",
    "TRAIN_IMG_DIR = train_imgs\n",
    "TRAIN_LABEL_DIR = train_labels\n",
    "EVAL_IMG_DIR = val_imgs\n",
    "EVAL_LABEL_DIR = val_labels\n",
    "\n",
    "LOG_FILE = \"log_file.xlsx\"\n",
    "\n",
    "IOU_THRES = 0.5\n",
    "THRESHOLD = 0.1\n",
    "\n",
    "''' ============================\n",
    "    Configuration\n",
    "============================ '''\n",
    "IMG_W = IMG_DIM['W']\n",
    "IMG_H = IMG_DIM['H']\n",
    "\n",
    "CELL_SIZE_X = 1/SX\n",
    "CELL_SIZE_Y = 1/SY\n",
    "\n",
    "\n",
    "''' ============================\n",
    "    Metrics\n",
    "============================ '''\n",
    "# mAP output\n",
    "## Train\n",
    "train_mAP = []\n",
    "train_class_AP = []\n",
    "train_class_precision = []\n",
    "train_class_recall = []\n",
    "## Val\n",
    "val_mAP = []\n",
    "val_class_AP = []\n",
    "val_class_precision = []\n",
    "val_class_recall = []\n",
    "\n",
    "# Loss output\n",
    "## Train\n",
    "train_total_loss = []\n",
    "train_box_loss = []\n",
    "train_confidence_loss = []\n",
    "train_noobj_loss = []\n",
    "train_class_loss = []\n",
    "## Val\n",
    "val_total_loss = []\n",
    "val_box_loss = []\n",
    "val_confidence_loss = []\n",
    "val_noobj_loss = []\n",
    "val_class_loss = []"
   ]
  },
  {
   "cell_type": "markdown",
   "id": "ba95ccfe-a797-45cd-82bb-37bcc9af62ff",
   "metadata": {},
   "source": [
    "# Main Function"
   ]
  },
  {
   "cell_type": "code",
   "execution_count": 21,
   "id": "22ef85f5-39b7-473a-855b-0561de058bbd",
   "metadata": {},
   "outputs": [],
   "source": [
    "def main():\n",
    "\n",
    "    ''' ============================\n",
    "        Print Config Values\n",
    "    ============================ '''\n",
    "    print(f'Device: {DEVICE}')\n",
    "    print(f'Learning Rate: {LEARNING_RATE}')\n",
    "    print(f'Batch Size: {BATCH_SIZE}')\n",
    "    print(f'IMG DIMS: ({IMG_H}, {IMG_W})')\n",
    "    print(f'W: {IMG_W}\\nH: {IMG_H}')\n",
    "    print(f'SX: {SX}\\nSY: {SY}\\nB: {B}\\nC: {C}')\n",
    "    print(f'Cell size:\\n\\tx = {CELL_SIZE_X}\\n\\ty = {CELL_SIZE_Y}')\n",
    "\n",
    "\n",
    "    ''' ============================\n",
    "        Cell to Box Mask\n",
    "    ============================ '''\n",
    "    cell2box_mask = torch.zeros((SY, SX, 2))\n",
    "    for i in range(SY):\n",
    "        for j in range(SX):\n",
    "            cell2box_mask[i,j,0] = j\n",
    "            cell2box_mask[i,j,1] = i    \n",
    "#     print(cell2box_mask)\n",
    "#     print(\"\\n\")\n",
    "\n",
    "    ''' ======================================\n",
    "        SETUP: Model, Loss, Dataset, Loader\n",
    "    ====================================== '''\n",
    "    if IMG_W == 88:\n",
    "        print(\"Using Tinyssimo 88x88\")\n",
    "        model_tynss = Tinyssimo_fixed_88x88_BatchNorm(num_classes=C).to(DEVICE)\n",
    "    elif IMG_W == 224:\n",
    "        print(\"Using BED 224x224\")\n",
    "        model_tynss = BIG_BED(num_classes = C,\n",
    "                          S = SX,\n",
    "                          B = B,\n",
    "                          in_channels = 3).to(DEVICE)\n",
    "    else:\n",
    "        print(\"Using Tinyssimo 160x120\")\n",
    "        model_tynss = Tinyssimo_fixed_160x120(num_classes=C).to(DEVICE)\n",
    "    \n",
    "    model_tynss._initialize_weights()\n",
    "\n",
    "    # Check model shape\n",
    "    in_rand_np = np.random.rand(4, 3, IMG_H, IMG_W)\n",
    "    in_rand = torch.tensor(in_rand_np, dtype=torch.float32, device=DEVICE)\n",
    "    out_test = model_tynss(in_rand)\n",
    "    print(f'Model shape is {out_test.shape}')\n",
    "    print(f'BED Model Arquitecture\\n{model_tynss}')\n",
    "    \n",
    "    optimizer = optim.Adam(model_tynss.parameters(), \n",
    "                           lr=LEARNING_RATE, \n",
    "                           weight_decay=WEIGHT_DECAY)\n",
    "    \n",
    "    scheduler = optim.lr_scheduler.ReduceLROnPlateau(optimizer, \n",
    "                                                     mode='min',\n",
    "                                                     factor=0.9, \n",
    "                                                     patience=2, \n",
    "                                                     threshold=0.1, \n",
    "                                                     threshold_mode='abs',\n",
    "                                                     min_lr=1e-5)\n",
    "    \n",
    "#     optimizer = torch.optim.SGD(model_tynss.parameters(), \n",
    "#                                 lr=LEARNING_RATE,\n",
    "#                                 momentum=0.9, \n",
    "#                                 weight_decay=WEIGHT_DECAY, \n",
    "#                                 nesterov=True)\n",
    "    \n",
    "    n_trainable = sum(p.numel() for p in model_tynss.parameters() if p.requires_grad)\n",
    "    print(f'\\nTrainable parameters = {n_trainable}')\n",
    "\n",
    "    n_params = parameters_to_vector(model_tynss.parameters()).numel()\n",
    "    print(f'Total parameters = {n_params}\\n')\n",
    "    \n",
    "    if B == 1:\n",
    "        print(f'Using YoloLossMSE')\n",
    "        loss_fn = YoloLossMSE(SX=SX, \n",
    "                              SY=SY, \n",
    "                              B=B, \n",
    "                              C=C)\n",
    "    elif B == 2:\n",
    "        print(f'Using YoloLossMSE_2BBox')\n",
    "        loss_fn = YoloLossMSE_2BBox(SX=SX, \n",
    "                                    SY=SY, \n",
    "                                    B=B, \n",
    "                                    C=C)\n",
    "    else:\n",
    "        print(\"Wrong B bounding boxes configuration\")\n",
    "\n",
    "    train_transform = A.Compose([\n",
    "        A.HorizontalFlip(p=0.5),\n",
    "        A.RandomBrightnessContrast(p=0.5),\n",
    "        # If boxes are to close, it can remove some because they fall inside same cell\n",
    "        A.RandomSizedBBoxSafeCrop(height=int(1.4*IMG_H),\n",
    "                                  width= int(1.4*IMG_W),\n",
    "                                  erosion_rate=0.6,\n",
    "                                  p=0.3),\n",
    "        A.HueSaturationValue(hue_shift_limit=10, p=0.2),\n",
    "        A.Blur(blur_limit=(3,3), p=0.2),\n",
    "        A.CLAHE(clip_limit=2.0, p=0.3),\n",
    "            # Shifting, scaling and rotation could dive 2 bbox inside same grid...\n",
    "            #A.ShiftScaleRotate(rotate_limit=10, p=0.2),\n",
    "        A.Resize(IMG_H, IMG_W, p=1),\n",
    "        A.Normalize(mean=(0.485, 0.456, 0.406), std=(0.229, 0.224, 0.225), p=1),\n",
    "        ToTensorV2(p=1),\n",
    "    ], bbox_params=A.BboxParams(format='yolo', \n",
    "                                min_area=8*8, \n",
    "                                min_visibility=0.05, \n",
    "                                label_fields=['class_labels']))\n",
    "    # TRAIN\n",
    "    print(\"\\nTRAIN DFIRE dataset\")\n",
    "    train_dataset = DFireDataset(img_h = IMG_H,\n",
    "                                 img_w = IMG_W,\n",
    "                                 img_dir = TRAIN_IMG_DIR,\n",
    "                                 label_dir = TRAIN_LABEL_DIR,\n",
    "                                 SX = SX,\n",
    "                                 SY = SY,\n",
    "                                 C = C,\n",
    "                                 transform=train_transform)\n",
    "    \n",
    "    print(\"TRAIN DFS dataset\")\n",
    "    train_dfs_dataset = DFSDataset(img_h = IMG_H,\n",
    "                                   img_w = IMG_W,\n",
    "                                   img_dir = dfs_images_dir,\n",
    "                                   labels_list = dfs_train_list,\n",
    "                                   SX = SX,\n",
    "                                   SY = SY,\n",
    "                                   C = C,\n",
    "                                   transform=train_transform)\n",
    "\n",
    "    print(\"Concatenate Train DFire and DFS datasets\")\n",
    "    full_train_ds = torch.utils.data.ConcatDataset((train_dataset, train_dfs_dataset))\n",
    "    print(f'Train dataset len: {len(full_train_ds)}')\n",
    "\n",
    "    \n",
    "    # VALIDATION\n",
    "    val_transform = A.Compose([\n",
    "        A.Resize(IMG_H, IMG_W, p=1),\n",
    "        A.Normalize(mean=(0.485, 0.456, 0.406), std=(0.229, 0.224, 0.225), p=1),\n",
    "        ToTensorV2(p=1),\n",
    "    ], bbox_params=A.BboxParams(format='yolo', label_fields=['class_labels']))\n",
    "    \n",
    "    print(\"\\nTEST DFire dataset\")\n",
    "    eval_dataset = DFireDataset(img_h = IMG_H,\n",
    "                                img_w = IMG_W,\n",
    "                                img_dir = EVAL_IMG_DIR,\n",
    "                                label_dir = EVAL_LABEL_DIR,\n",
    "                                SX = SX,\n",
    "                                SY = SY,\n",
    "                                C = C,\n",
    "                                transform=val_transform)\n",
    "    print(\"TEST DFS dataset\")\n",
    "    test_dfs_dataset = DFSDataset(img_h = IMG_H,\n",
    "                                  img_w = IMG_W,\n",
    "                                  img_dir = dfs_images_dir,\n",
    "                                  labels_list = dfs_test_list,\n",
    "                                  SX = SX,\n",
    "                                  SY = SY,\n",
    "                                  C = C,\n",
    "                                  transform=val_transform)\n",
    "    \n",
    "    print(\"Concatenate Test DFire and DFS datasets\")\n",
    "    full_test_ds = torch.utils.data.ConcatDataset((eval_dataset, test_dfs_dataset))\n",
    "    print(f'Test dataset len: {len(full_test_ds)}')\n",
    "    \n",
    "    # LOADERS\n",
    "    train_loader = DataLoader(dataset=full_train_ds,\n",
    "                              batch_size=BATCH_SIZE,\n",
    "                              num_workers=NUM_WORKERS,\n",
    "                              pin_memory=PIN_MEMORY,\n",
    "                              shuffle=True,\n",
    "                              drop_last=True)\n",
    "\n",
    "    eval_loader = DataLoader(dataset=full_test_ds,\n",
    "                             batch_size=BATCH_SIZE,\n",
    "                             num_workers=NUM_WORKERS,\n",
    "                             pin_memory=PIN_MEMORY,\n",
    "                             shuffle=False,\n",
    "                             drop_last=True)\n",
    "\n",
    "\n",
    "    ''' ==============================================================\n",
    "                                TRAINING LOOP\n",
    "    ============================================================== '''\n",
    "    # Start with infinite validation loss\n",
    "    best_valid_loss = np.inf\n",
    "    best_mAP = -1\n",
    "\n",
    "    start = datetime.datetime.now()\n",
    "    start_time = start.strftime(\"%H:%M:%S\")\n",
    "    print(f'\\n***Start Training: {start_time}\\n')\n",
    "    \n",
    "    for epoch in range(EPOCHS):\n",
    "\n",
    "        print(f'\\n=== EPOCH {epoch}/{EPOCHS-1} ===\\n')\n",
    "        \n",
    "        # TRAINING\n",
    "        t_loss, b_loss, conf_loss, n_loss, cls_loss = train_fn(loader=train_loader, \n",
    "                                                               model=model_tynss, \n",
    "                                                               optimizer=optimizer, \n",
    "                                                               loss_fn=loss_fn,\n",
    "                                                               device=DEVICE)\n",
    "        # Appending Train Losses\n",
    "        train_total_loss.append(t_loss)\n",
    "        train_box_loss.append(b_loss)\n",
    "        train_confidence_loss.append(conf_loss)\n",
    "        train_noobj_loss.append(n_loss)\n",
    "        train_class_loss.append(cls_loss)\n",
    "        \n",
    "        ##### NO LOGS, ONLY TOTAL LOSS\n",
    "#         t_loss = train_fn(loader=train_loader, \n",
    "#                           model=model_tynss, \n",
    "#                           optimizer=optimizer, \n",
    "#                           loss_fn=loss_fn,\n",
    "#                           device=DEVICE)\n",
    "#         # Appending Train Losses\n",
    "#         train_total_loss.append(t_loss)\n",
    "\n",
    "\n",
    "        # TRAIN MEAN AVERAGE PRECISION\n",
    "        if ( (epoch+1) % 15 ) == 0:\n",
    "            pred_boxes, target_boxes = get_bboxes(loader=train_loader, \n",
    "                                                  model=model_tynss,\n",
    "                                                  SX=SX,\n",
    "                                                  SY=SY,\n",
    "                                                  B=B,\n",
    "                                                  C=C,\n",
    "                                                  mask=cell2box_mask,\n",
    "                                                  iou_threshold=IOU_THRES, \n",
    "                                                  threshold=THRESHOLD,\n",
    "                                                  device=DEVICE,\n",
    "                                                  box_format=\"midpoint\")\n",
    "\n",
    "            mean_avg_prec, avg_prec, cls_prec, cls_rec = mAP(pred_boxes=pred_boxes, \n",
    "                                                             true_boxes=target_boxes, \n",
    "                                                             iou_threshold=IOU_THRES, \n",
    "                                                             box_format=\"midpoint\",\n",
    "                                                             num_classes=C)\n",
    "\n",
    "            train_mAP.append(mean_avg_prec)\n",
    "            train_class_AP.append(avg_prec)   \n",
    "            train_class_precision.append(cls_prec)\n",
    "            train_class_recall.append(cls_rec)\n",
    "            print(f\"\\nTrain mAP: {mean_avg_prec:.3f}\")\n",
    "        \n",
    "        # VALIDATING\n",
    "        with torch.no_grad():\n",
    "            v_loss, b_loss, conf_loss, n_loss, cls_loss = eval_fn(loader=eval_loader, \n",
    "                                                                  model=model_tynss,                         \n",
    "                                                                  loss_fn=loss_fn,\n",
    "                                                                  device=DEVICE)\n",
    "            # Appending Validation Losses\n",
    "            val_total_loss.append(v_loss)\n",
    "            val_box_loss.append(b_loss)\n",
    "            val_confidence_loss.append(conf_loss)\n",
    "            val_noobj_loss.append(n_loss)\n",
    "            val_class_loss.append(cls_loss)\n",
    "            \n",
    "            scheduler.step(v_loss)\n",
    "            \n",
    "            ##### NO LOGS, ONLY TOTAL LOSS\n",
    "#             v_loss = eval_fn(loader=eval_loader, \n",
    "#                              model=model_tynss,                         \n",
    "#                              loss_fn=loss_fn,\n",
    "#                              device=DEVICE)\n",
    "#             # Appending Validation Losses\n",
    "#             val_total_loss.append(v_loss)\n",
    "\n",
    "            # VALIDATION MEAN AVERAGE PRECISION\n",
    "            if ( (epoch+1) % 5 ) == 0:\n",
    "                pred_boxes, target_boxes = get_bboxes(loader=eval_loader, \n",
    "                                                      model=model_tynss,\n",
    "                                                      SX=SX,\n",
    "                                                      SY=SY,\n",
    "                                                      B=B,\n",
    "                                                      C=C,\n",
    "                                                      mask=cell2box_mask,\n",
    "                                                      iou_threshold=IOU_THRES, \n",
    "                                                      threshold=THRESHOLD,\n",
    "                                                      device=DEVICE,\n",
    "                                                      box_format=\"midpoint\")\n",
    "\n",
    "                mean_avg_prec, avg_prec, cls_prec, cls_rec = mAP(pred_boxes=pred_boxes, \n",
    "                                                                 true_boxes=target_boxes, \n",
    "                                                                 iou_threshold=IOU_THRES, \n",
    "                                                                 box_format=\"midpoint\",\n",
    "                                                                 num_classes=C)\n",
    "\n",
    "                val_mAP.append(mean_avg_prec)\n",
    "                val_class_AP.append(avg_prec)   \n",
    "                val_class_precision.append(cls_prec)\n",
    "                val_class_recall.append(cls_rec)\n",
    "                print(f\"\\nValidation mAP: {mean_avg_prec:.3f}\")\n",
    "\n",
    "                if best_mAP < mean_avg_prec:\n",
    "                    best_mAP = mean_avg_prec\n",
    "                    print(f\"\\nNew best mAP validation loss: {best_mAP:.3f}\")\n",
    "                    print('Saving best mAP model...')\n",
    "                    torch.save({\n",
    "                        'epoch': epoch,\n",
    "                        'model_state_dict': model_tynss.state_dict(),\n",
    "                        'optimizer_state_dict': optimizer.state_dict(),}, 'tiny_pytorch_results/tiny_best_2BB_mAP.pt')  \n",
    "\n",
    "        if ( (epoch+1) % 5 ) == 0:\n",
    "            torch.save(model_tynss.state_dict(), 'tiny_pytorch_results/tiny_2BB_5epoch.pt')\n",
    "            \n",
    "        if best_valid_loss > v_loss:\n",
    "            best_valid_loss = v_loss\n",
    "            print(f\"New best validation loss: {best_valid_loss:.3f}\")\n",
    "            print('Saving best model...')\n",
    "            torch.save(model_tynss.state_dict(), 'tiny_pytorch_results/tiny_best_loss_2BB.pt')     \n",
    "            \n",
    "    torch.save(model_tynss.state_dict(), 'tiny_pytorch_results/tiny_last_2BB.pt') \n",
    "    \n",
    "#     save_log(epochs=EPOCHS, \n",
    "#              train_total_loss=train_total_loss,\n",
    "#              train_box_loss=train_box_loss,\n",
    "#              train_class_loss=train_class_loss,\n",
    "#              train_confidence_loss=train_confidence_loss,\n",
    "#              train_noobj_loss=train_noobj_loss,\n",
    "#              train_mAP=train_mAP,\n",
    "#              train_class_AP=train_class_AP,\n",
    "#              train_class_precision=train_class_precision,\n",
    "#              train_class_recall=train_class_recall,\n",
    "#              val_total_loss=val_total_loss,\n",
    "#              val_box_loss=val_box_loss,\n",
    "#              val_class_loss=val_class_loss,\n",
    "#              val_confidence_loss=val_confidence_loss,\n",
    "#              val_noobj_loss=val_noobj_loss,\n",
    "#              val_mAP=val_mAP,\n",
    "#              val_class_AP=val_class_AP,\n",
    "#              val_class_precision=val_class_precision,\n",
    "#              val_class_recall=val_class_recall,\n",
    "#              log_file_dst=LOG_FILE)\n",
    "\n",
    "    end = datetime.datetime.now()\n",
    "    end_time = end.strftime(\"%H:%M:%S\")\n",
    "    print(f'\\n***Script finished: {end_time}\\n')  \n",
    "    print(f'Time elapsed: {end-start}')"
   ]
  },
  {
   "cell_type": "markdown",
   "id": "0ae580f4-e175-4035-a2f7-dabd179db9a3",
   "metadata": {},
   "source": [
    "# Main Execute"
   ]
  },
  {
   "cell_type": "code",
   "execution_count": 22,
   "id": "28659625-6ba4-44ac-ad2c-576b16425dcf",
   "metadata": {},
   "outputs": [
    {
     "name": "stdout",
     "output_type": "stream",
     "text": [
      "Starting script\n",
      "\n",
      "Device: cuda\n",
      "Learning Rate: 0.0005\n",
      "Batch Size: 64\n",
      "IMG DIMS: (88, 88)\n",
      "W: 88\n",
      "H: 88\n",
      "SX: 4\n",
      "SY: 4\n",
      "B: 2\n",
      "C: 2\n",
      "Cell size:\n",
      "\tx = 0.25\n",
      "\ty = 0.25\n",
      "Using Tinyssimo 88x88\n",
      "Model shape is torch.Size([4, 4, 4, 12])\n",
      "BED Model Arquitecture\n",
      "Tinyssimo_fixed_88x88_BatchNorm(\n",
      "  (tiny_model): Sequential(\n",
      "    (0): Conv2d(3, 16, kernel_size=(3, 3), stride=(1, 1), padding=same, bias=False)\n",
      "    (1): BatchNorm2d(16, eps=1e-05, momentum=0.1, affine=True, track_running_stats=True)\n",
      "    (2): ReLU()\n",
      "    (3): Conv2d(16, 16, kernel_size=(3, 3), stride=(1, 1), padding=same, bias=False)\n",
      "    (4): BatchNorm2d(16, eps=1e-05, momentum=0.1, affine=True, track_running_stats=True)\n",
      "    (5): ReLU()\n",
      "    (6): MaxPool2d(kernel_size=2, stride=2, padding=0, dilation=1, ceil_mode=False)\n",
      "    (7): Conv2d(16, 16, kernel_size=(3, 3), stride=(1, 1), padding=same, bias=False)\n",
      "    (8): BatchNorm2d(16, eps=1e-05, momentum=0.1, affine=True, track_running_stats=True)\n",
      "    (9): ReLU()\n",
      "    (10): Conv2d(16, 32, kernel_size=(3, 3), stride=(1, 1), padding=same, bias=False)\n",
      "    (11): BatchNorm2d(32, eps=1e-05, momentum=0.1, affine=True, track_running_stats=True)\n",
      "    (12): ReLU()\n",
      "    (13): MaxPool2d(kernel_size=2, stride=2, padding=0, dilation=1, ceil_mode=False)\n",
      "    (14): Conv2d(32, 32, kernel_size=(3, 3), stride=(1, 1), padding=same, bias=False)\n",
      "    (15): BatchNorm2d(32, eps=1e-05, momentum=0.1, affine=True, track_running_stats=True)\n",
      "    (16): ReLU()\n",
      "    (17): Conv2d(32, 64, kernel_size=(3, 3), stride=(1, 1), padding=same, bias=False)\n",
      "    (18): BatchNorm2d(64, eps=1e-05, momentum=0.1, affine=True, track_running_stats=True)\n",
      "    (19): ReLU()\n",
      "    (20): MaxPool2d(kernel_size=2, stride=2, padding=0, dilation=1, ceil_mode=False)\n",
      "    (21): Conv2d(64, 64, kernel_size=(3, 3), stride=(1, 1), padding=same, bias=False)\n",
      "    (22): BatchNorm2d(64, eps=1e-05, momentum=0.1, affine=True, track_running_stats=True)\n",
      "    (23): ReLU()\n",
      "    (24): Conv2d(64, 64, kernel_size=(3, 3), stride=(1, 1), padding=same, bias=False)\n",
      "    (25): BatchNorm2d(64, eps=1e-05, momentum=0.1, affine=True, track_running_stats=True)\n",
      "    (26): ReLU()\n",
      "    (27): MaxPool2d(kernel_size=2, stride=2, padding=0, dilation=1, ceil_mode=False)\n",
      "    (28): Conv2d(64, 128, kernel_size=(3, 3), stride=(1, 1), padding=same, bias=False)\n",
      "    (29): BatchNorm2d(128, eps=1e-05, momentum=0.1, affine=True, track_running_stats=True)\n",
      "    (30): ReLU()\n",
      "    (31): Conv2d(128, 128, kernel_size=(3, 3), stride=(1, 1), padding=same, bias=False)\n",
      "    (32): BatchNorm2d(128, eps=1e-05, momentum=0.1, affine=True, track_running_stats=True)\n",
      "    (33): ReLU()\n",
      "    (34): MaxPool2d(kernel_size=2, stride=2, padding=0, dilation=1, ceil_mode=False)\n",
      "    (35): Flatten(start_dim=1, end_dim=-1)\n",
      "    (36): Linear(in_features=512, out_features=192, bias=True)\n",
      "    (37): ReLU()\n",
      "    (38): Dropout(p=0.8, inplace=False)\n",
      "    (39): Linear(in_features=192, out_features=192, bias=True)\n",
      "    (40): Reshape()\n",
      "    (41): MyLayer_2BB(\n",
      "      (sigmoid): Sigmoid()\n",
      "      (softmax): Softmax(dim=-1)\n",
      "    )\n",
      "  )\n",
      ")\n"
     ]
    },
    {
     "name": "stderr",
     "output_type": "stream",
     "text": [
      "/opt/conda/lib/python3.11/site-packages/transformers/utils/generic.py:441: UserWarning: torch.utils._pytree._register_pytree_node is deprecated. Please use torch.utils._pytree.register_pytree_node instead.\n",
      "  _torch_pytree._register_pytree_node(\n"
     ]
    },
    {
     "name": "stdout",
     "output_type": "stream",
     "text": [
      "\n",
      "Trainable parameters = 468880\n",
      "Total parameters = 468880\n",
      "\n",
      "Using YoloLossMSE_2BBox\n",
      "\n",
      "TRAIN DFIRE dataset\n",
      "Removed wrong images: 0\n",
      "Removed due to overlapping: 891\n",
      "Removed due to more than 3: 1764\n",
      "TRAIN DFS dataset\n",
      "Removed wrong images: 0\n",
      "Removed due to overlapping: 838\n",
      "Removed due to more than 3: 1370\n",
      "Concatenate Train DFire and DFS datasets\n",
      "Train dataset len: 20265\n",
      "\n",
      "TEST DFire dataset\n",
      "Removed wrong images: 0\n",
      "Removed due to overlapping: 199\n",
      "Removed due to more than 3: 445\n",
      "TEST DFS dataset\n",
      "Removed wrong images: 0\n",
      "Removed due to overlapping: 211\n",
      "Removed due to more than 3: 386\n",
      "Concatenate Test DFire and DFS datasets\n",
      "Test dataset len: 5038\n",
      "\n",
      "***Start Training: 07:32:26\n",
      "\n",
      "\n",
      "=== EPOCH 0/219 ===\n",
      "\n",
      "Learning Rate = 0.0005\n"
     ]
    },
    {
     "name": "stderr",
     "output_type": "stream",
     "text": [
      "Training: 100%|██████████| 316/316 [01:54<00:00,  2.76it/s]\n"
     ]
    },
    {
     "name": "stdout",
     "output_type": "stream",
     "text": [
      "Total Loss  |Box Loss    |Conf Loss   |No Obj Loss |Class Loss  \n",
      "------------ ------------ ------------ ------------ ------------\n",
      "111.725     |48.215      |36.206      |11.318      |15.987      \n",
      "\n"
     ]
    },
    {
     "name": "stderr",
     "output_type": "stream",
     "text": [
      "Validating: 100%|██████████| 78/78 [00:19<00:00,  4.06it/s]\n"
     ]
    },
    {
     "name": "stdout",
     "output_type": "stream",
     "text": [
      "Total Loss  |Box Loss    |Conf Loss   |No Obj Loss |Class Loss  \n",
      "------------ ------------ ------------ ------------ ------------\n",
      "110.578     |53.117      |42.322      |3.711       |11.428      \n",
      "\n",
      "New best validation loss: 110.578\n",
      "Saving best model...\n",
      "\n",
      "=== EPOCH 1/219 ===\n",
      "\n",
      "Learning Rate = 0.0005\n"
     ]
    },
    {
     "name": "stderr",
     "output_type": "stream",
     "text": [
      "Training: 100%|██████████| 316/316 [01:52<00:00,  2.81it/s]\n"
     ]
    },
    {
     "name": "stdout",
     "output_type": "stream",
     "text": [
      "Total Loss  |Box Loss    |Conf Loss   |No Obj Loss |Class Loss  \n",
      "------------ ------------ ------------ ------------ ------------\n",
      "93.891      |40.890      |35.910      |5.643       |11.448      \n",
      "\n"
     ]
    },
    {
     "name": "stderr",
     "output_type": "stream",
     "text": [
      "Validating: 100%|██████████| 78/78 [00:20<00:00,  3.79it/s]\n"
     ]
    },
    {
     "name": "stdout",
     "output_type": "stream",
     "text": [
      "Total Loss  |Box Loss    |Conf Loss   |No Obj Loss |Class Loss  \n",
      "------------ ------------ ------------ ------------ ------------\n",
      "102.144     |46.876      |42.191      |3.704       |9.373       \n",
      "\n",
      "New best validation loss: 102.144\n",
      "Saving best model...\n",
      "\n",
      "=== EPOCH 2/219 ===\n",
      "\n",
      "Learning Rate = 0.0005\n"
     ]
    },
    {
     "name": "stderr",
     "output_type": "stream",
     "text": [
      "Training: 100%|██████████| 316/316 [01:58<00:00,  2.67it/s]\n"
     ]
    },
    {
     "name": "stdout",
     "output_type": "stream",
     "text": [
      "Total Loss  |Box Loss    |Conf Loss   |No Obj Loss |Class Loss  \n",
      "------------ ------------ ------------ ------------ ------------\n",
      "89.036      |38.178      |35.066      |5.789       |10.003      \n",
      "\n"
     ]
    },
    {
     "name": "stderr",
     "output_type": "stream",
     "text": [
      "Validating: 100%|██████████| 78/78 [00:19<00:00,  4.07it/s]\n"
     ]
    },
    {
     "name": "stdout",
     "output_type": "stream",
     "text": [
      "Total Loss  |Box Loss    |Conf Loss   |No Obj Loss |Class Loss  \n",
      "------------ ------------ ------------ ------------ ------------\n",
      "98.577      |44.688      |41.447      |3.516       |8.926       \n",
      "\n",
      "New best validation loss: 98.577\n",
      "Saving best model...\n",
      "\n",
      "=== EPOCH 3/219 ===\n",
      "\n",
      "Learning Rate = 0.0005\n"
     ]
    },
    {
     "name": "stderr",
     "output_type": "stream",
     "text": [
      "Training: 100%|██████████| 316/316 [01:54<00:00,  2.75it/s]\n"
     ]
    },
    {
     "name": "stdout",
     "output_type": "stream",
     "text": [
      "Total Loss  |Box Loss    |Conf Loss   |No Obj Loss |Class Loss  \n",
      "------------ ------------ ------------ ------------ ------------\n",
      "87.027      |37.304      |34.458      |5.972       |9.293       \n",
      "\n"
     ]
    },
    {
     "name": "stderr",
     "output_type": "stream",
     "text": [
      "Validating: 100%|██████████| 78/78 [00:18<00:00,  4.26it/s]\n"
     ]
    },
    {
     "name": "stdout",
     "output_type": "stream",
     "text": [
      "Total Loss  |Box Loss    |Conf Loss   |No Obj Loss |Class Loss  \n",
      "------------ ------------ ------------ ------------ ------------\n",
      "95.692      |42.689      |41.648      |2.907       |8.447       \n",
      "\n",
      "New best validation loss: 95.692\n",
      "Saving best model...\n",
      "\n",
      "=== EPOCH 4/219 ===\n",
      "\n",
      "Learning Rate = 0.0005\n"
     ]
    },
    {
     "name": "stderr",
     "output_type": "stream",
     "text": [
      "Training: 100%|██████████| 316/316 [01:53<00:00,  2.77it/s]\n"
     ]
    },
    {
     "name": "stdout",
     "output_type": "stream",
     "text": [
      "Total Loss  |Box Loss    |Conf Loss   |No Obj Loss |Class Loss  \n",
      "------------ ------------ ------------ ------------ ------------\n",
      "85.067      |36.378      |33.895      |5.962       |8.832       \n",
      "\n"
     ]
    },
    {
     "name": "stderr",
     "output_type": "stream",
     "text": [
      "Validating: 100%|██████████| 78/78 [00:18<00:00,  4.27it/s]"
     ]
    },
    {
     "name": "stdout",
     "output_type": "stream",
     "text": [
      "Total Loss  |Box Loss    |Conf Loss   |No Obj Loss |Class Loss  \n",
      "------------ ------------ ------------ ------------ ------------\n",
      "93.997      |41.869      |39.953      |3.918       |8.258       \n",
      "\n"
     ]
    },
    {
     "name": "stderr",
     "output_type": "stream",
     "text": [
      "\n",
      "mAP:@.5: 100%|██████████| 2/2 [00:01<00:00,  1.35it/s]\n"
     ]
    },
    {
     "name": "stdout",
     "output_type": "stream",
     "text": [
      "\n",
      "Validation mAP: 0.077\n",
      "\n",
      "New best mAP validation loss: 0.077\n",
      "Saving best mAP model...\n",
      "New best validation loss: 93.997\n",
      "Saving best model...\n",
      "\n",
      "=== EPOCH 5/219 ===\n",
      "\n",
      "Learning Rate = 0.0005\n"
     ]
    },
    {
     "name": "stderr",
     "output_type": "stream",
     "text": [
      "Training: 100%|██████████| 316/316 [01:55<00:00,  2.75it/s]\n"
     ]
    },
    {
     "name": "stdout",
     "output_type": "stream",
     "text": [
      "Total Loss  |Box Loss    |Conf Loss   |No Obj Loss |Class Loss  \n",
      "------------ ------------ ------------ ------------ ------------\n",
      "83.288      |35.281      |33.688      |5.948       |8.371       \n",
      "\n"
     ]
    },
    {
     "name": "stderr",
     "output_type": "stream",
     "text": [
      "Validating: 100%|██████████| 78/78 [00:19<00:00,  4.07it/s]\n"
     ]
    },
    {
     "name": "stdout",
     "output_type": "stream",
     "text": [
      "Total Loss  |Box Loss    |Conf Loss   |No Obj Loss |Class Loss  \n",
      "------------ ------------ ------------ ------------ ------------\n",
      "90.525      |39.130      |40.199      |3.529       |7.666       \n",
      "\n",
      "New best validation loss: 90.525\n",
      "Saving best model...\n",
      "\n",
      "=== EPOCH 6/219 ===\n",
      "\n",
      "Learning Rate = 0.0005\n"
     ]
    },
    {
     "name": "stderr",
     "output_type": "stream",
     "text": [
      "Training: 100%|██████████| 316/316 [01:52<00:00,  2.81it/s]\n"
     ]
    },
    {
     "name": "stdout",
     "output_type": "stream",
     "text": [
      "Total Loss  |Box Loss    |Conf Loss   |No Obj Loss |Class Loss  \n",
      "------------ ------------ ------------ ------------ ------------\n",
      "82.343      |34.948      |33.291      |6.019       |8.085       \n",
      "\n"
     ]
    },
    {
     "name": "stderr",
     "output_type": "stream",
     "text": [
      "Validating: 100%|██████████| 78/78 [00:19<00:00,  4.11it/s]\n"
     ]
    },
    {
     "name": "stdout",
     "output_type": "stream",
     "text": [
      "Total Loss  |Box Loss    |Conf Loss   |No Obj Loss |Class Loss  \n",
      "------------ ------------ ------------ ------------ ------------\n",
      "90.291      |39.234      |39.760      |3.377       |7.920       \n",
      "\n",
      "New best validation loss: 90.291\n",
      "Saving best model...\n",
      "\n",
      "=== EPOCH 7/219 ===\n",
      "\n",
      "Learning Rate = 0.0005\n"
     ]
    },
    {
     "name": "stderr",
     "output_type": "stream",
     "text": [
      "Training: 100%|██████████| 316/316 [01:53<00:00,  2.77it/s]\n"
     ]
    },
    {
     "name": "stdout",
     "output_type": "stream",
     "text": [
      "Total Loss  |Box Loss    |Conf Loss   |No Obj Loss |Class Loss  \n",
      "------------ ------------ ------------ ------------ ------------\n",
      "81.030      |34.323      |32.822      |6.014       |7.870       \n",
      "\n"
     ]
    },
    {
     "name": "stderr",
     "output_type": "stream",
     "text": [
      "Validating: 100%|██████████| 78/78 [00:19<00:00,  4.00it/s]\n"
     ]
    },
    {
     "name": "stdout",
     "output_type": "stream",
     "text": [
      "Total Loss  |Box Loss    |Conf Loss   |No Obj Loss |Class Loss  \n",
      "------------ ------------ ------------ ------------ ------------\n",
      "88.872      |38.707      |38.490      |3.915       |7.761       \n",
      "\n",
      "New best validation loss: 88.872\n",
      "Saving best model...\n",
      "\n",
      "=== EPOCH 8/219 ===\n",
      "\n",
      "Learning Rate = 0.0005\n"
     ]
    },
    {
     "name": "stderr",
     "output_type": "stream",
     "text": [
      "Training: 100%|██████████| 316/316 [01:55<00:00,  2.74it/s]\n"
     ]
    },
    {
     "name": "stdout",
     "output_type": "stream",
     "text": [
      "Total Loss  |Box Loss    |Conf Loss   |No Obj Loss |Class Loss  \n",
      "------------ ------------ ------------ ------------ ------------\n",
      "80.329      |33.703      |32.769      |5.989       |7.869       \n",
      "\n"
     ]
    },
    {
     "name": "stderr",
     "output_type": "stream",
     "text": [
      "Validating: 100%|██████████| 78/78 [00:18<00:00,  4.14it/s]\n"
     ]
    },
    {
     "name": "stdout",
     "output_type": "stream",
     "text": [
      "Total Loss  |Box Loss    |Conf Loss   |No Obj Loss |Class Loss  \n",
      "------------ ------------ ------------ ------------ ------------\n",
      "90.603      |40.618      |38.039      |4.494       |7.452       \n",
      "\n",
      "\n",
      "=== EPOCH 9/219 ===\n",
      "\n",
      "Learning Rate = 0.0005\n"
     ]
    },
    {
     "name": "stderr",
     "output_type": "stream",
     "text": [
      "Training: 100%|██████████| 316/316 [01:53<00:00,  2.78it/s]\n"
     ]
    },
    {
     "name": "stdout",
     "output_type": "stream",
     "text": [
      "Total Loss  |Box Loss    |Conf Loss   |No Obj Loss |Class Loss  \n",
      "------------ ------------ ------------ ------------ ------------\n",
      "79.043      |33.091      |32.483      |5.979       |7.490       \n",
      "\n"
     ]
    },
    {
     "name": "stderr",
     "output_type": "stream",
     "text": [
      "Validating: 100%|██████████| 78/78 [00:18<00:00,  4.22it/s]"
     ]
    },
    {
     "name": "stdout",
     "output_type": "stream",
     "text": [
      "Total Loss  |Box Loss    |Conf Loss   |No Obj Loss |Class Loss  \n",
      "------------ ------------ ------------ ------------ ------------\n",
      "86.794      |37.099      |38.973      |3.311       |7.411       \n",
      "\n"
     ]
    },
    {
     "name": "stderr",
     "output_type": "stream",
     "text": [
      "\n",
      "mAP:@.5: 100%|██████████| 2/2 [00:01<00:00,  1.42it/s]\n"
     ]
    },
    {
     "name": "stdout",
     "output_type": "stream",
     "text": [
      "\n",
      "Validation mAP: 0.118\n",
      "\n",
      "New best mAP validation loss: 0.118\n",
      "Saving best mAP model...\n",
      "New best validation loss: 86.794\n",
      "Saving best model...\n",
      "\n",
      "=== EPOCH 10/219 ===\n",
      "\n",
      "Learning Rate = 0.0005\n"
     ]
    },
    {
     "name": "stderr",
     "output_type": "stream",
     "text": [
      "Training: 100%|██████████| 316/316 [01:51<00:00,  2.83it/s]\n"
     ]
    },
    {
     "name": "stdout",
     "output_type": "stream",
     "text": [
      "Total Loss  |Box Loss    |Conf Loss   |No Obj Loss |Class Loss  \n",
      "------------ ------------ ------------ ------------ ------------\n",
      "78.640      |32.937      |32.193      |6.125       |7.384       \n",
      "\n"
     ]
    },
    {
     "name": "stderr",
     "output_type": "stream",
     "text": [
      "Validating: 100%|██████████| 78/78 [00:19<00:00,  4.06it/s]\n"
     ]
    },
    {
     "name": "stdout",
     "output_type": "stream",
     "text": [
      "Total Loss  |Box Loss    |Conf Loss   |No Obj Loss |Class Loss  \n",
      "------------ ------------ ------------ ------------ ------------\n",
      "86.384      |37.389      |37.685      |4.188       |7.122       \n",
      "\n",
      "New best validation loss: 86.384\n",
      "Saving best model...\n",
      "\n",
      "=== EPOCH 11/219 ===\n",
      "\n",
      "Learning Rate = 0.0005\n"
     ]
    },
    {
     "name": "stderr",
     "output_type": "stream",
     "text": [
      "Training: 100%|██████████| 316/316 [01:51<00:00,  2.83it/s]\n"
     ]
    },
    {
     "name": "stdout",
     "output_type": "stream",
     "text": [
      "Total Loss  |Box Loss    |Conf Loss   |No Obj Loss |Class Loss  \n",
      "------------ ------------ ------------ ------------ ------------\n",
      "77.437      |32.326      |31.938      |6.075       |7.098       \n",
      "\n"
     ]
    },
    {
     "name": "stderr",
     "output_type": "stream",
     "text": [
      "Validating: 100%|██████████| 78/78 [00:18<00:00,  4.20it/s]\n"
     ]
    },
    {
     "name": "stdout",
     "output_type": "stream",
     "text": [
      "Total Loss  |Box Loss    |Conf Loss   |No Obj Loss |Class Loss  \n",
      "------------ ------------ ------------ ------------ ------------\n",
      "84.807      |34.408      |39.648      |2.783       |7.968       \n",
      "\n",
      "New best validation loss: 84.807\n",
      "Saving best model...\n",
      "\n",
      "=== EPOCH 12/219 ===\n",
      "\n",
      "Learning Rate = 0.0005\n"
     ]
    },
    {
     "name": "stderr",
     "output_type": "stream",
     "text": [
      "Training: 100%|██████████| 316/316 [01:53<00:00,  2.77it/s]\n"
     ]
    },
    {
     "name": "stdout",
     "output_type": "stream",
     "text": [
      "Total Loss  |Box Loss    |Conf Loss   |No Obj Loss |Class Loss  \n",
      "------------ ------------ ------------ ------------ ------------\n",
      "77.560      |32.424      |31.869      |6.094       |7.172       \n",
      "\n"
     ]
    },
    {
     "name": "stderr",
     "output_type": "stream",
     "text": [
      "Validating: 100%|██████████| 78/78 [00:19<00:00,  4.00it/s]\n"
     ]
    },
    {
     "name": "stdout",
     "output_type": "stream",
     "text": [
      "Total Loss  |Box Loss    |Conf Loss   |No Obj Loss |Class Loss  \n",
      "------------ ------------ ------------ ------------ ------------\n",
      "84.799      |36.251      |38.001      |3.399       |7.148       \n",
      "\n",
      "New best validation loss: 84.799\n",
      "Saving best model...\n",
      "\n",
      "=== EPOCH 13/219 ===\n",
      "\n",
      "Learning Rate = 0.0005\n"
     ]
    },
    {
     "name": "stderr",
     "output_type": "stream",
     "text": [
      "Training: 100%|██████████| 316/316 [01:54<00:00,  2.77it/s]\n"
     ]
    },
    {
     "name": "stdout",
     "output_type": "stream",
     "text": [
      "Total Loss  |Box Loss    |Conf Loss   |No Obj Loss |Class Loss  \n",
      "------------ ------------ ------------ ------------ ------------\n",
      "76.038      |31.601      |31.284      |6.146       |7.007       \n",
      "\n"
     ]
    },
    {
     "name": "stderr",
     "output_type": "stream",
     "text": [
      "Validating: 100%|██████████| 78/78 [00:19<00:00,  4.03it/s]\n"
     ]
    },
    {
     "name": "stdout",
     "output_type": "stream",
     "text": [
      "Total Loss  |Box Loss    |Conf Loss   |No Obj Loss |Class Loss  \n",
      "------------ ------------ ------------ ------------ ------------\n",
      "83.851      |34.840      |38.272      |3.442       |7.297       \n",
      "\n",
      "New best validation loss: 83.851\n",
      "Saving best model...\n",
      "\n",
      "=== EPOCH 14/219 ===\n",
      "\n",
      "Learning Rate = 0.0005\n"
     ]
    },
    {
     "name": "stderr",
     "output_type": "stream",
     "text": [
      "Training: 100%|██████████| 316/316 [01:55<00:00,  2.73it/s]"
     ]
    },
    {
     "name": "stdout",
     "output_type": "stream",
     "text": [
      "Total Loss  |Box Loss    |Conf Loss   |No Obj Loss |Class Loss  \n",
      "------------ ------------ ------------ ------------ ------------\n",
      "75.648      |31.418      |31.239      |6.121       |6.870       \n",
      "\n"
     ]
    },
    {
     "name": "stderr",
     "output_type": "stream",
     "text": [
      "\n",
      "mAP:@.5: 100%|██████████| 2/2 [00:12<00:00,  6.33s/it]\n"
     ]
    },
    {
     "name": "stdout",
     "output_type": "stream",
     "text": [
      "\n",
      "Train mAP: 0.173\n"
     ]
    },
    {
     "name": "stderr",
     "output_type": "stream",
     "text": [
      "Validating: 100%|██████████| 78/78 [00:19<00:00,  4.03it/s]"
     ]
    },
    {
     "name": "stdout",
     "output_type": "stream",
     "text": [
      "Total Loss  |Box Loss    |Conf Loss   |No Obj Loss |Class Loss  \n",
      "------------ ------------ ------------ ------------ ------------\n",
      "83.587      |34.781      |37.883      |3.354       |7.569       \n",
      "\n"
     ]
    },
    {
     "name": "stderr",
     "output_type": "stream",
     "text": [
      "\n",
      "mAP:@.5: 100%|██████████| 2/2 [00:01<00:00,  1.34it/s]\n"
     ]
    },
    {
     "name": "stdout",
     "output_type": "stream",
     "text": [
      "\n",
      "Validation mAP: 0.142\n",
      "\n",
      "New best mAP validation loss: 0.142\n",
      "Saving best mAP model...\n",
      "New best validation loss: 83.587\n",
      "Saving best model...\n",
      "\n",
      "=== EPOCH 15/219 ===\n",
      "\n",
      "Learning Rate = 0.0005\n"
     ]
    },
    {
     "name": "stderr",
     "output_type": "stream",
     "text": [
      "Training: 100%|██████████| 316/316 [01:55<00:00,  2.74it/s]\n"
     ]
    },
    {
     "name": "stdout",
     "output_type": "stream",
     "text": [
      "Total Loss  |Box Loss    |Conf Loss   |No Obj Loss |Class Loss  \n",
      "------------ ------------ ------------ ------------ ------------\n",
      "74.865      |30.984      |30.836      |6.220       |6.825       \n",
      "\n"
     ]
    },
    {
     "name": "stderr",
     "output_type": "stream",
     "text": [
      "Validating: 100%|██████████| 78/78 [00:19<00:00,  4.05it/s]\n"
     ]
    },
    {
     "name": "stdout",
     "output_type": "stream",
     "text": [
      "Total Loss  |Box Loss    |Conf Loss   |No Obj Loss |Class Loss  \n",
      "------------ ------------ ------------ ------------ ------------\n",
      "83.473      |35.085      |37.752      |3.237       |7.399       \n",
      "\n",
      "New best validation loss: 83.473\n",
      "Saving best model...\n",
      "\n",
      "=== EPOCH 16/219 ===\n",
      "\n",
      "Learning Rate = 0.0005\n"
     ]
    },
    {
     "name": "stderr",
     "output_type": "stream",
     "text": [
      "Training: 100%|██████████| 316/316 [01:55<00:00,  2.75it/s]\n"
     ]
    },
    {
     "name": "stdout",
     "output_type": "stream",
     "text": [
      "Total Loss  |Box Loss    |Conf Loss   |No Obj Loss |Class Loss  \n",
      "------------ ------------ ------------ ------------ ------------\n",
      "74.430      |30.850      |30.729      |6.181       |6.670       \n",
      "\n"
     ]
    },
    {
     "name": "stderr",
     "output_type": "stream",
     "text": [
      "Validating: 100%|██████████| 78/78 [00:18<00:00,  4.19it/s]\n"
     ]
    },
    {
     "name": "stdout",
     "output_type": "stream",
     "text": [
      "Total Loss  |Box Loss    |Conf Loss   |No Obj Loss |Class Loss  \n",
      "------------ ------------ ------------ ------------ ------------\n",
      "82.530      |34.314      |37.341      |3.630       |7.245       \n",
      "\n",
      "New best validation loss: 82.530\n",
      "Saving best model...\n",
      "\n",
      "=== EPOCH 17/219 ===\n",
      "\n",
      "Learning Rate = 0.0005\n"
     ]
    },
    {
     "name": "stderr",
     "output_type": "stream",
     "text": [
      "Training: 100%|██████████| 316/316 [01:53<00:00,  2.78it/s]\n"
     ]
    },
    {
     "name": "stdout",
     "output_type": "stream",
     "text": [
      "Total Loss  |Box Loss    |Conf Loss   |No Obj Loss |Class Loss  \n",
      "------------ ------------ ------------ ------------ ------------\n",
      "73.913      |30.382      |30.503      |6.247       |6.781       \n",
      "\n"
     ]
    },
    {
     "name": "stderr",
     "output_type": "stream",
     "text": [
      "Validating: 100%|██████████| 78/78 [00:19<00:00,  3.91it/s]\n"
     ]
    },
    {
     "name": "stdout",
     "output_type": "stream",
     "text": [
      "Total Loss  |Box Loss    |Conf Loss   |No Obj Loss |Class Loss  \n",
      "------------ ------------ ------------ ------------ ------------\n",
      "83.329      |34.007      |37.559      |3.132       |8.632       \n",
      "\n",
      "\n",
      "=== EPOCH 18/219 ===\n",
      "\n",
      "Learning Rate = 0.0005\n"
     ]
    },
    {
     "name": "stderr",
     "output_type": "stream",
     "text": [
      "Training: 100%|██████████| 316/316 [01:51<00:00,  2.83it/s]\n"
     ]
    },
    {
     "name": "stdout",
     "output_type": "stream",
     "text": [
      "Total Loss  |Box Loss    |Conf Loss   |No Obj Loss |Class Loss  \n",
      "------------ ------------ ------------ ------------ ------------\n",
      "73.504      |30.074      |30.374      |6.259       |6.797       \n",
      "\n"
     ]
    },
    {
     "name": "stderr",
     "output_type": "stream",
     "text": [
      "Validating: 100%|██████████| 78/78 [00:20<00:00,  3.85it/s]\n"
     ]
    },
    {
     "name": "stdout",
     "output_type": "stream",
     "text": [
      "Total Loss  |Box Loss    |Conf Loss   |No Obj Loss |Class Loss  \n",
      "------------ ------------ ------------ ------------ ------------\n",
      "82.255      |34.293      |36.775      |3.437       |7.749       \n",
      "\n",
      "New best validation loss: 82.255\n",
      "Saving best model...\n",
      "\n",
      "=== EPOCH 19/219 ===\n",
      "\n",
      "Learning Rate = 0.0005\n"
     ]
    },
    {
     "name": "stderr",
     "output_type": "stream",
     "text": [
      "Training: 100%|██████████| 316/316 [01:51<00:00,  2.84it/s]\n"
     ]
    },
    {
     "name": "stdout",
     "output_type": "stream",
     "text": [
      "Total Loss  |Box Loss    |Conf Loss   |No Obj Loss |Class Loss  \n",
      "------------ ------------ ------------ ------------ ------------\n",
      "73.403      |30.002      |30.289      |6.259       |6.852       \n",
      "\n"
     ]
    },
    {
     "name": "stderr",
     "output_type": "stream",
     "text": [
      "Validating: 100%|██████████| 78/78 [00:20<00:00,  3.85it/s]"
     ]
    },
    {
     "name": "stdout",
     "output_type": "stream",
     "text": [
      "Total Loss  |Box Loss    |Conf Loss   |No Obj Loss |Class Loss  \n",
      "------------ ------------ ------------ ------------ ------------\n",
      "80.521      |33.183      |36.452      |3.575       |7.310       \n",
      "\n"
     ]
    },
    {
     "name": "stderr",
     "output_type": "stream",
     "text": [
      "\n",
      "mAP:@.5: 100%|██████████| 2/2 [00:01<00:00,  1.40it/s]\n"
     ]
    },
    {
     "name": "stdout",
     "output_type": "stream",
     "text": [
      "\n",
      "Validation mAP: 0.163\n",
      "\n",
      "New best mAP validation loss: 0.163\n",
      "Saving best mAP model...\n",
      "New best validation loss: 80.521\n",
      "Saving best model...\n",
      "\n",
      "=== EPOCH 20/219 ===\n",
      "\n",
      "Learning Rate = 0.0005\n"
     ]
    },
    {
     "name": "stderr",
     "output_type": "stream",
     "text": [
      "Training: 100%|██████████| 316/316 [01:53<00:00,  2.78it/s]\n"
     ]
    },
    {
     "name": "stdout",
     "output_type": "stream",
     "text": [
      "Total Loss  |Box Loss    |Conf Loss   |No Obj Loss |Class Loss  \n",
      "------------ ------------ ------------ ------------ ------------\n",
      "72.974      |30.125      |29.805      |6.350       |6.694       \n",
      "\n"
     ]
    },
    {
     "name": "stderr",
     "output_type": "stream",
     "text": [
      "Validating: 100%|██████████| 78/78 [00:18<00:00,  4.12it/s]\n"
     ]
    },
    {
     "name": "stdout",
     "output_type": "stream",
     "text": [
      "Total Loss  |Box Loss    |Conf Loss   |No Obj Loss |Class Loss  \n",
      "------------ ------------ ------------ ------------ ------------\n",
      "82.150      |34.266      |36.637      |3.320       |7.926       \n",
      "\n",
      "\n",
      "=== EPOCH 21/219 ===\n",
      "\n",
      "Learning Rate = 0.0005\n"
     ]
    },
    {
     "name": "stderr",
     "output_type": "stream",
     "text": [
      "Training: 100%|██████████| 316/316 [01:57<00:00,  2.69it/s]\n"
     ]
    },
    {
     "name": "stdout",
     "output_type": "stream",
     "text": [
      "Total Loss  |Box Loss    |Conf Loss   |No Obj Loss |Class Loss  \n",
      "------------ ------------ ------------ ------------ ------------\n",
      "72.556      |29.774      |29.956      |6.255       |6.571       \n",
      "\n"
     ]
    },
    {
     "name": "stderr",
     "output_type": "stream",
     "text": [
      "Validating: 100%|██████████| 78/78 [00:18<00:00,  4.13it/s]\n"
     ]
    },
    {
     "name": "stdout",
     "output_type": "stream",
     "text": [
      "Total Loss  |Box Loss    |Conf Loss   |No Obj Loss |Class Loss  \n",
      "------------ ------------ ------------ ------------ ------------\n",
      "79.899      |32.997      |36.304      |3.540       |7.059       \n",
      "\n",
      "New best validation loss: 79.899\n",
      "Saving best model...\n",
      "\n",
      "=== EPOCH 22/219 ===\n",
      "\n",
      "Learning Rate = 0.0005\n"
     ]
    },
    {
     "name": "stderr",
     "output_type": "stream",
     "text": [
      "Training: 100%|██████████| 316/316 [01:51<00:00,  2.82it/s]\n"
     ]
    },
    {
     "name": "stdout",
     "output_type": "stream",
     "text": [
      "Total Loss  |Box Loss    |Conf Loss   |No Obj Loss |Class Loss  \n",
      "------------ ------------ ------------ ------------ ------------\n",
      "72.138      |29.670      |29.756      |6.186       |6.526       \n",
      "\n"
     ]
    },
    {
     "name": "stderr",
     "output_type": "stream",
     "text": [
      "Validating: 100%|██████████| 78/78 [00:20<00:00,  3.73it/s]\n"
     ]
    },
    {
     "name": "stdout",
     "output_type": "stream",
     "text": [
      "Total Loss  |Box Loss    |Conf Loss   |No Obj Loss |Class Loss  \n",
      "------------ ------------ ------------ ------------ ------------\n",
      "80.375      |32.371      |37.463      |2.762       |7.779       \n",
      "\n",
      "\n",
      "=== EPOCH 23/219 ===\n",
      "\n",
      "Learning Rate = 0.0005\n"
     ]
    },
    {
     "name": "stderr",
     "output_type": "stream",
     "text": [
      "Training: 100%|██████████| 316/316 [01:52<00:00,  2.80it/s]\n"
     ]
    },
    {
     "name": "stdout",
     "output_type": "stream",
     "text": [
      "Total Loss  |Box Loss    |Conf Loss   |No Obj Loss |Class Loss  \n",
      "------------ ------------ ------------ ------------ ------------\n",
      "71.553      |29.339      |29.235      |6.394       |6.585       \n",
      "\n"
     ]
    },
    {
     "name": "stderr",
     "output_type": "stream",
     "text": [
      "Validating: 100%|██████████| 78/78 [00:21<00:00,  3.59it/s]\n"
     ]
    },
    {
     "name": "stdout",
     "output_type": "stream",
     "text": [
      "Total Loss  |Box Loss    |Conf Loss   |No Obj Loss |Class Loss  \n",
      "------------ ------------ ------------ ------------ ------------\n",
      "79.711      |32.576      |35.914      |3.568       |7.653       \n",
      "\n",
      "New best validation loss: 79.711\n",
      "Saving best model...\n",
      "\n",
      "=== EPOCH 24/219 ===\n",
      "\n",
      "Learning Rate = 0.0005\n"
     ]
    },
    {
     "name": "stderr",
     "output_type": "stream",
     "text": [
      "Training: 100%|██████████| 316/316 [01:52<00:00,  2.81it/s]\n"
     ]
    },
    {
     "name": "stdout",
     "output_type": "stream",
     "text": [
      "Total Loss  |Box Loss    |Conf Loss   |No Obj Loss |Class Loss  \n",
      "------------ ------------ ------------ ------------ ------------\n",
      "71.503      |29.391      |29.355      |6.348       |6.409       \n",
      "\n"
     ]
    },
    {
     "name": "stderr",
     "output_type": "stream",
     "text": [
      "Validating: 100%|██████████| 78/78 [00:19<00:00,  3.99it/s]"
     ]
    },
    {
     "name": "stdout",
     "output_type": "stream",
     "text": [
      "Total Loss  |Box Loss    |Conf Loss   |No Obj Loss |Class Loss  \n",
      "------------ ------------ ------------ ------------ ------------\n",
      "78.145      |32.581      |35.449      |3.515       |6.600       \n",
      "\n"
     ]
    },
    {
     "name": "stderr",
     "output_type": "stream",
     "text": [
      "\n",
      "mAP:@.5: 100%|██████████| 2/2 [00:01<00:00,  1.03it/s]\n"
     ]
    },
    {
     "name": "stdout",
     "output_type": "stream",
     "text": [
      "\n",
      "Validation mAP: 0.178\n",
      "\n",
      "New best mAP validation loss: 0.178\n",
      "Saving best mAP model...\n",
      "New best validation loss: 78.145\n",
      "Saving best model...\n",
      "\n",
      "=== EPOCH 25/219 ===\n",
      "\n",
      "Learning Rate = 0.0005\n"
     ]
    },
    {
     "name": "stderr",
     "output_type": "stream",
     "text": [
      "Training: 100%|██████████| 316/316 [01:53<00:00,  2.78it/s]\n"
     ]
    },
    {
     "name": "stdout",
     "output_type": "stream",
     "text": [
      "Total Loss  |Box Loss    |Conf Loss   |No Obj Loss |Class Loss  \n",
      "------------ ------------ ------------ ------------ ------------\n",
      "71.088      |29.145      |29.313      |6.186       |6.444       \n",
      "\n"
     ]
    },
    {
     "name": "stderr",
     "output_type": "stream",
     "text": [
      "Validating: 100%|██████████| 78/78 [00:19<00:00,  4.07it/s]\n"
     ]
    },
    {
     "name": "stdout",
     "output_type": "stream",
     "text": [
      "Total Loss  |Box Loss    |Conf Loss   |No Obj Loss |Class Loss  \n",
      "------------ ------------ ------------ ------------ ------------\n",
      "79.553      |33.852      |34.037      |4.669       |6.994       \n",
      "\n",
      "\n",
      "=== EPOCH 26/219 ===\n",
      "\n",
      "Learning Rate = 0.0005\n"
     ]
    },
    {
     "name": "stderr",
     "output_type": "stream",
     "text": [
      "Training: 100%|██████████| 316/316 [01:53<00:00,  2.79it/s]\n"
     ]
    },
    {
     "name": "stdout",
     "output_type": "stream",
     "text": [
      "Total Loss  |Box Loss    |Conf Loss   |No Obj Loss |Class Loss  \n",
      "------------ ------------ ------------ ------------ ------------\n",
      "70.802      |29.031      |29.068      |6.317       |6.385       \n",
      "\n"
     ]
    },
    {
     "name": "stderr",
     "output_type": "stream",
     "text": [
      "Validating: 100%|██████████| 78/78 [00:20<00:00,  3.77it/s]\n"
     ]
    },
    {
     "name": "stdout",
     "output_type": "stream",
     "text": [
      "Total Loss  |Box Loss    |Conf Loss   |No Obj Loss |Class Loss  \n",
      "------------ ------------ ------------ ------------ ------------\n",
      "77.419      |31.551      |35.483      |3.238       |7.146       \n",
      "\n",
      "New best validation loss: 77.419\n",
      "Saving best model...\n",
      "\n",
      "=== EPOCH 27/219 ===\n",
      "\n",
      "Learning Rate = 0.0005\n"
     ]
    },
    {
     "name": "stderr",
     "output_type": "stream",
     "text": [
      "Training: 100%|██████████| 316/316 [01:55<00:00,  2.73it/s]\n"
     ]
    },
    {
     "name": "stdout",
     "output_type": "stream",
     "text": [
      "Total Loss  |Box Loss    |Conf Loss   |No Obj Loss |Class Loss  \n",
      "------------ ------------ ------------ ------------ ------------\n",
      "70.595      |28.979      |28.999      |6.228       |6.390       \n",
      "\n"
     ]
    },
    {
     "name": "stderr",
     "output_type": "stream",
     "text": [
      "Validating: 100%|██████████| 78/78 [00:20<00:00,  3.80it/s]\n"
     ]
    },
    {
     "name": "stdout",
     "output_type": "stream",
     "text": [
      "Total Loss  |Box Loss    |Conf Loss   |No Obj Loss |Class Loss  \n",
      "------------ ------------ ------------ ------------ ------------\n",
      "79.615      |33.804      |34.629      |3.882       |7.299       \n",
      "\n",
      "\n",
      "=== EPOCH 28/219 ===\n",
      "\n",
      "Learning Rate = 0.0005\n"
     ]
    },
    {
     "name": "stderr",
     "output_type": "stream",
     "text": [
      "Training: 100%|██████████| 316/316 [01:52<00:00,  2.81it/s]\n"
     ]
    },
    {
     "name": "stdout",
     "output_type": "stream",
     "text": [
      "Total Loss  |Box Loss    |Conf Loss   |No Obj Loss |Class Loss  \n",
      "------------ ------------ ------------ ------------ ------------\n",
      "69.605      |28.477      |28.708      |6.202       |6.218       \n",
      "\n"
     ]
    },
    {
     "name": "stderr",
     "output_type": "stream",
     "text": [
      "Validating: 100%|██████████| 78/78 [00:19<00:00,  4.05it/s]\n"
     ]
    },
    {
     "name": "stdout",
     "output_type": "stream",
     "text": [
      "Total Loss  |Box Loss    |Conf Loss   |No Obj Loss |Class Loss  \n",
      "------------ ------------ ------------ ------------ ------------\n",
      "76.266      |31.480      |34.022      |4.127       |6.637       \n",
      "\n",
      "New best validation loss: 76.266\n",
      "Saving best model...\n",
      "\n",
      "=== EPOCH 29/219 ===\n",
      "\n",
      "Learning Rate = 0.0005\n"
     ]
    },
    {
     "name": "stderr",
     "output_type": "stream",
     "text": [
      "Training: 100%|██████████| 316/316 [01:52<00:00,  2.81it/s]"
     ]
    },
    {
     "name": "stdout",
     "output_type": "stream",
     "text": [
      "Total Loss  |Box Loss    |Conf Loss   |No Obj Loss |Class Loss  \n",
      "------------ ------------ ------------ ------------ ------------\n",
      "69.428      |28.319      |28.758      |6.220       |6.132       \n",
      "\n"
     ]
    },
    {
     "name": "stderr",
     "output_type": "stream",
     "text": [
      "\n",
      "mAP:@.5: 100%|██████████| 2/2 [00:12<00:00,  6.09s/it]\n"
     ]
    },
    {
     "name": "stdout",
     "output_type": "stream",
     "text": [
      "\n",
      "Train mAP: 0.234\n"
     ]
    },
    {
     "name": "stderr",
     "output_type": "stream",
     "text": [
      "Validating: 100%|██████████| 78/78 [00:18<00:00,  4.19it/s]"
     ]
    },
    {
     "name": "stdout",
     "output_type": "stream",
     "text": [
      "Total Loss  |Box Loss    |Conf Loss   |No Obj Loss |Class Loss  \n",
      "------------ ------------ ------------ ------------ ------------\n",
      "78.453      |31.170      |35.749      |3.006       |8.528       \n",
      "\n"
     ]
    },
    {
     "name": "stderr",
     "output_type": "stream",
     "text": [
      "\n",
      "mAP:@.5: 100%|██████████| 2/2 [00:01<00:00,  1.57it/s]\n"
     ]
    },
    {
     "name": "stdout",
     "output_type": "stream",
     "text": [
      "\n",
      "Validation mAP: 0.183\n",
      "\n",
      "New best mAP validation loss: 0.183\n",
      "Saving best mAP model...\n",
      "\n",
      "=== EPOCH 30/219 ===\n",
      "\n",
      "Learning Rate = 0.0005\n"
     ]
    },
    {
     "name": "stderr",
     "output_type": "stream",
     "text": [
      "Training: 100%|██████████| 316/316 [01:51<00:00,  2.82it/s]\n"
     ]
    },
    {
     "name": "stdout",
     "output_type": "stream",
     "text": [
      "Total Loss  |Box Loss    |Conf Loss   |No Obj Loss |Class Loss  \n",
      "------------ ------------ ------------ ------------ ------------\n",
      "69.373      |28.300      |28.658      |6.191       |6.224       \n",
      "\n"
     ]
    },
    {
     "name": "stderr",
     "output_type": "stream",
     "text": [
      "Validating: 100%|██████████| 78/78 [00:19<00:00,  3.95it/s]\n"
     ]
    },
    {
     "name": "stdout",
     "output_type": "stream",
     "text": [
      "Total Loss  |Box Loss    |Conf Loss   |No Obj Loss |Class Loss  \n",
      "------------ ------------ ------------ ------------ ------------\n",
      "77.545      |31.467      |35.494      |3.305       |7.279       \n",
      "\n",
      "\n",
      "=== EPOCH 31/219 ===\n",
      "\n",
      "Learning Rate = 0.0005\n"
     ]
    },
    {
     "name": "stderr",
     "output_type": "stream",
     "text": [
      "Training: 100%|██████████| 316/316 [01:53<00:00,  2.79it/s]\n"
     ]
    },
    {
     "name": "stdout",
     "output_type": "stream",
     "text": [
      "Total Loss  |Box Loss    |Conf Loss   |No Obj Loss |Class Loss  \n",
      "------------ ------------ ------------ ------------ ------------\n",
      "68.933      |28.009      |28.526      |6.324       |6.074       \n",
      "\n"
     ]
    },
    {
     "name": "stderr",
     "output_type": "stream",
     "text": [
      "Validating: 100%|██████████| 78/78 [00:19<00:00,  3.90it/s]\n"
     ]
    },
    {
     "name": "stdout",
     "output_type": "stream",
     "text": [
      "Total Loss  |Box Loss    |Conf Loss   |No Obj Loss |Class Loss  \n",
      "------------ ------------ ------------ ------------ ------------\n",
      "77.155      |31.851      |34.094      |3.737       |7.473       \n",
      "\n",
      "\n",
      "=== EPOCH 32/219 ===\n",
      "\n",
      "Learning Rate = 0.00045000000000000004\n"
     ]
    },
    {
     "name": "stderr",
     "output_type": "stream",
     "text": [
      "Training: 100%|██████████| 316/316 [01:50<00:00,  2.85it/s]\n"
     ]
    },
    {
     "name": "stdout",
     "output_type": "stream",
     "text": [
      "Total Loss  |Box Loss    |Conf Loss   |No Obj Loss |Class Loss  \n",
      "------------ ------------ ------------ ------------ ------------\n",
      "68.258      |27.740      |28.314      |6.239       |5.965       \n",
      "\n"
     ]
    },
    {
     "name": "stderr",
     "output_type": "stream",
     "text": [
      "Validating: 100%|██████████| 78/78 [00:20<00:00,  3.78it/s]\n"
     ]
    },
    {
     "name": "stdout",
     "output_type": "stream",
     "text": [
      "Total Loss  |Box Loss    |Conf Loss   |No Obj Loss |Class Loss  \n",
      "------------ ------------ ------------ ------------ ------------\n",
      "77.365      |31.910      |33.943      |4.027       |7.486       \n",
      "\n",
      "\n",
      "=== EPOCH 33/219 ===\n",
      "\n",
      "Learning Rate = 0.00045000000000000004\n"
     ]
    },
    {
     "name": "stderr",
     "output_type": "stream",
     "text": [
      "Training: 100%|██████████| 316/316 [01:52<00:00,  2.80it/s]\n"
     ]
    },
    {
     "name": "stdout",
     "output_type": "stream",
     "text": [
      "Total Loss  |Box Loss    |Conf Loss   |No Obj Loss |Class Loss  \n",
      "------------ ------------ ------------ ------------ ------------\n",
      "68.519      |27.964      |28.330      |6.283       |5.942       \n",
      "\n"
     ]
    },
    {
     "name": "stderr",
     "output_type": "stream",
     "text": [
      "Validating: 100%|██████████| 78/78 [00:18<00:00,  4.13it/s]\n"
     ]
    },
    {
     "name": "stdout",
     "output_type": "stream",
     "text": [
      "Total Loss  |Box Loss    |Conf Loss   |No Obj Loss |Class Loss  \n",
      "------------ ------------ ------------ ------------ ------------\n",
      "75.692      |30.727      |34.083      |3.732       |7.151       \n",
      "\n",
      "New best validation loss: 75.692\n",
      "Saving best model...\n",
      "\n",
      "=== EPOCH 34/219 ===\n",
      "\n",
      "Learning Rate = 0.00045000000000000004\n"
     ]
    },
    {
     "name": "stderr",
     "output_type": "stream",
     "text": [
      "Training: 100%|██████████| 316/316 [01:53<00:00,  2.78it/s]\n"
     ]
    },
    {
     "name": "stdout",
     "output_type": "stream",
     "text": [
      "Total Loss  |Box Loss    |Conf Loss   |No Obj Loss |Class Loss  \n",
      "------------ ------------ ------------ ------------ ------------\n",
      "67.971      |27.792      |28.084      |6.291       |5.804       \n",
      "\n"
     ]
    },
    {
     "name": "stderr",
     "output_type": "stream",
     "text": [
      "Validating: 100%|██████████| 78/78 [00:18<00:00,  4.31it/s]"
     ]
    },
    {
     "name": "stdout",
     "output_type": "stream",
     "text": [
      "Total Loss  |Box Loss    |Conf Loss   |No Obj Loss |Class Loss  \n",
      "------------ ------------ ------------ ------------ ------------\n",
      "75.657      |29.928      |35.206      |3.084       |7.439       \n",
      "\n"
     ]
    },
    {
     "name": "stderr",
     "output_type": "stream",
     "text": [
      "\n",
      "mAP:@.5: 100%|██████████| 2/2 [00:01<00:00,  1.56it/s]\n"
     ]
    },
    {
     "name": "stdout",
     "output_type": "stream",
     "text": [
      "\n",
      "Validation mAP: 0.201\n",
      "\n",
      "New best mAP validation loss: 0.201\n",
      "Saving best mAP model...\n",
      "New best validation loss: 75.657\n",
      "Saving best model...\n",
      "\n",
      "=== EPOCH 35/219 ===\n",
      "\n",
      "Learning Rate = 0.00045000000000000004\n"
     ]
    },
    {
     "name": "stderr",
     "output_type": "stream",
     "text": [
      "Training: 100%|██████████| 316/316 [01:51<00:00,  2.82it/s]\n"
     ]
    },
    {
     "name": "stdout",
     "output_type": "stream",
     "text": [
      "Total Loss  |Box Loss    |Conf Loss   |No Obj Loss |Class Loss  \n",
      "------------ ------------ ------------ ------------ ------------\n",
      "67.536      |27.415      |27.971      |6.257       |5.893       \n",
      "\n"
     ]
    },
    {
     "name": "stderr",
     "output_type": "stream",
     "text": [
      "Validating: 100%|██████████| 78/78 [00:20<00:00,  3.85it/s]\n"
     ]
    },
    {
     "name": "stdout",
     "output_type": "stream",
     "text": [
      "Total Loss  |Box Loss    |Conf Loss   |No Obj Loss |Class Loss  \n",
      "------------ ------------ ------------ ------------ ------------\n",
      "75.392      |30.507      |33.973      |3.497       |7.414       \n",
      "\n",
      "New best validation loss: 75.392\n",
      "Saving best model...\n",
      "\n",
      "=== EPOCH 36/219 ===\n",
      "\n",
      "Learning Rate = 0.00045000000000000004\n"
     ]
    },
    {
     "name": "stderr",
     "output_type": "stream",
     "text": [
      "Training: 100%|██████████| 316/316 [01:55<00:00,  2.74it/s]\n"
     ]
    },
    {
     "name": "stdout",
     "output_type": "stream",
     "text": [
      "Total Loss  |Box Loss    |Conf Loss   |No Obj Loss |Class Loss  \n",
      "------------ ------------ ------------ ------------ ------------\n",
      "67.032      |27.238      |27.829      |6.222       |5.744       \n",
      "\n"
     ]
    },
    {
     "name": "stderr",
     "output_type": "stream",
     "text": [
      "Validating: 100%|██████████| 78/78 [00:21<00:00,  3.60it/s]\n"
     ]
    },
    {
     "name": "stdout",
     "output_type": "stream",
     "text": [
      "Total Loss  |Box Loss    |Conf Loss   |No Obj Loss |Class Loss  \n",
      "------------ ------------ ------------ ------------ ------------\n",
      "75.019      |29.712      |34.780      |3.252       |7.275       \n",
      "\n",
      "New best validation loss: 75.019\n",
      "Saving best model...\n",
      "\n",
      "=== EPOCH 37/219 ===\n",
      "\n",
      "Learning Rate = 0.00045000000000000004\n"
     ]
    },
    {
     "name": "stderr",
     "output_type": "stream",
     "text": [
      "Training: 100%|██████████| 316/316 [01:52<00:00,  2.80it/s]\n"
     ]
    },
    {
     "name": "stdout",
     "output_type": "stream",
     "text": [
      "Total Loss  |Box Loss    |Conf Loss   |No Obj Loss |Class Loss  \n",
      "------------ ------------ ------------ ------------ ------------\n",
      "67.365      |27.386      |27.817      |6.289       |5.873       \n",
      "\n"
     ]
    },
    {
     "name": "stderr",
     "output_type": "stream",
     "text": [
      "Validating: 100%|██████████| 78/78 [00:19<00:00,  4.08it/s]\n"
     ]
    },
    {
     "name": "stdout",
     "output_type": "stream",
     "text": [
      "Total Loss  |Box Loss    |Conf Loss   |No Obj Loss |Class Loss  \n",
      "------------ ------------ ------------ ------------ ------------\n",
      "76.099      |30.232      |34.426      |3.412       |8.029       \n",
      "\n",
      "\n",
      "=== EPOCH 38/219 ===\n",
      "\n",
      "Learning Rate = 0.00045000000000000004\n"
     ]
    },
    {
     "name": "stderr",
     "output_type": "stream",
     "text": [
      "Training: 100%|██████████| 316/316 [01:56<00:00,  2.71it/s]\n"
     ]
    },
    {
     "name": "stdout",
     "output_type": "stream",
     "text": [
      "Total Loss  |Box Loss    |Conf Loss   |No Obj Loss |Class Loss  \n",
      "------------ ------------ ------------ ------------ ------------\n",
      "66.816      |27.302      |27.596      |6.319       |5.599       \n",
      "\n"
     ]
    },
    {
     "name": "stderr",
     "output_type": "stream",
     "text": [
      "Validating: 100%|██████████| 78/78 [00:18<00:00,  4.21it/s]\n"
     ]
    },
    {
     "name": "stdout",
     "output_type": "stream",
     "text": [
      "Total Loss  |Box Loss    |Conf Loss   |No Obj Loss |Class Loss  \n",
      "------------ ------------ ------------ ------------ ------------\n",
      "74.903      |30.669      |33.371      |3.671       |7.192       \n",
      "\n",
      "New best validation loss: 74.903\n",
      "Saving best model...\n",
      "\n",
      "=== EPOCH 39/219 ===\n",
      "\n",
      "Learning Rate = 0.00045000000000000004\n"
     ]
    },
    {
     "name": "stderr",
     "output_type": "stream",
     "text": [
      "Training: 100%|██████████| 316/316 [01:57<00:00,  2.69it/s]\n"
     ]
    },
    {
     "name": "stdout",
     "output_type": "stream",
     "text": [
      "Total Loss  |Box Loss    |Conf Loss   |No Obj Loss |Class Loss  \n",
      "------------ ------------ ------------ ------------ ------------\n",
      "66.747      |27.139      |27.846      |6.152       |5.610       \n",
      "\n"
     ]
    },
    {
     "name": "stderr",
     "output_type": "stream",
     "text": [
      "Validating: 100%|██████████| 78/78 [00:21<00:00,  3.59it/s]"
     ]
    },
    {
     "name": "stdout",
     "output_type": "stream",
     "text": [
      "Total Loss  |Box Loss    |Conf Loss   |No Obj Loss |Class Loss  \n",
      "------------ ------------ ------------ ------------ ------------\n",
      "74.409      |29.592      |33.939      |3.441       |7.437       \n",
      "\n"
     ]
    },
    {
     "name": "stderr",
     "output_type": "stream",
     "text": [
      "\n",
      "mAP:@.5: 100%|██████████| 2/2 [00:01<00:00,  1.42it/s]\n"
     ]
    },
    {
     "name": "stdout",
     "output_type": "stream",
     "text": [
      "\n",
      "Validation mAP: 0.222\n",
      "\n",
      "New best mAP validation loss: 0.222\n",
      "Saving best mAP model...\n",
      "New best validation loss: 74.409\n",
      "Saving best model...\n",
      "\n",
      "=== EPOCH 40/219 ===\n",
      "\n",
      "Learning Rate = 0.00045000000000000004\n"
     ]
    },
    {
     "name": "stderr",
     "output_type": "stream",
     "text": [
      "Training: 100%|██████████| 316/316 [02:04<00:00,  2.53it/s]\n"
     ]
    },
    {
     "name": "stdout",
     "output_type": "stream",
     "text": [
      "Total Loss  |Box Loss    |Conf Loss   |No Obj Loss |Class Loss  \n",
      "------------ ------------ ------------ ------------ ------------\n",
      "66.157      |26.910      |27.453      |6.170       |5.624       \n",
      "\n"
     ]
    },
    {
     "name": "stderr",
     "output_type": "stream",
     "text": [
      "Validating: 100%|██████████| 78/78 [00:26<00:00,  2.98it/s]\n"
     ]
    },
    {
     "name": "stdout",
     "output_type": "stream",
     "text": [
      "Total Loss  |Box Loss    |Conf Loss   |No Obj Loss |Class Loss  \n",
      "------------ ------------ ------------ ------------ ------------\n",
      "74.109      |30.353      |33.211      |4.007       |6.538       \n",
      "\n",
      "New best validation loss: 74.109\n",
      "Saving best model...\n",
      "\n",
      "=== EPOCH 41/219 ===\n",
      "\n",
      "Learning Rate = 0.00045000000000000004\n"
     ]
    },
    {
     "name": "stderr",
     "output_type": "stream",
     "text": [
      "Training: 100%|██████████| 316/316 [02:01<00:00,  2.60it/s]\n"
     ]
    },
    {
     "name": "stdout",
     "output_type": "stream",
     "text": [
      "Total Loss  |Box Loss    |Conf Loss   |No Obj Loss |Class Loss  \n",
      "------------ ------------ ------------ ------------ ------------\n",
      "65.965      |26.707      |27.409      |6.259       |5.590       \n",
      "\n"
     ]
    },
    {
     "name": "stderr",
     "output_type": "stream",
     "text": [
      "Validating: 100%|██████████| 78/78 [00:20<00:00,  3.78it/s]\n"
     ]
    },
    {
     "name": "stdout",
     "output_type": "stream",
     "text": [
      "Total Loss  |Box Loss    |Conf Loss   |No Obj Loss |Class Loss  \n",
      "------------ ------------ ------------ ------------ ------------\n",
      "74.125      |30.236      |33.078      |3.808       |7.002       \n",
      "\n",
      "\n",
      "=== EPOCH 42/219 ===\n",
      "\n",
      "Learning Rate = 0.00045000000000000004\n"
     ]
    },
    {
     "name": "stderr",
     "output_type": "stream",
     "text": [
      "Training: 100%|██████████| 316/316 [01:52<00:00,  2.80it/s]\n"
     ]
    },
    {
     "name": "stdout",
     "output_type": "stream",
     "text": [
      "Total Loss  |Box Loss    |Conf Loss   |No Obj Loss |Class Loss  \n",
      "------------ ------------ ------------ ------------ ------------\n",
      "66.474      |27.021      |27.484      |6.211       |5.758       \n",
      "\n"
     ]
    },
    {
     "name": "stderr",
     "output_type": "stream",
     "text": [
      "Validating: 100%|██████████| 78/78 [00:20<00:00,  3.80it/s]\n"
     ]
    },
    {
     "name": "stdout",
     "output_type": "stream",
     "text": [
      "Total Loss  |Box Loss    |Conf Loss   |No Obj Loss |Class Loss  \n",
      "------------ ------------ ------------ ------------ ------------\n",
      "74.256      |30.199      |33.503      |3.571       |6.983       \n",
      "\n",
      "\n",
      "=== EPOCH 43/219 ===\n",
      "\n",
      "Learning Rate = 0.00045000000000000004\n"
     ]
    },
    {
     "name": "stderr",
     "output_type": "stream",
     "text": [
      "Training: 100%|██████████| 316/316 [01:55<00:00,  2.74it/s]\n"
     ]
    },
    {
     "name": "stdout",
     "output_type": "stream",
     "text": [
      "Total Loss  |Box Loss    |Conf Loss   |No Obj Loss |Class Loss  \n",
      "------------ ------------ ------------ ------------ ------------\n",
      "66.115      |26.623      |27.512      |6.278       |5.702       \n",
      "\n"
     ]
    },
    {
     "name": "stderr",
     "output_type": "stream",
     "text": [
      "Validating: 100%|██████████| 78/78 [00:18<00:00,  4.15it/s]\n"
     ]
    },
    {
     "name": "stdout",
     "output_type": "stream",
     "text": [
      "Total Loss  |Box Loss    |Conf Loss   |No Obj Loss |Class Loss  \n",
      "------------ ------------ ------------ ------------ ------------\n",
      "73.424      |28.499      |34.559      |3.042       |7.323       \n",
      "\n",
      "New best validation loss: 73.424\n",
      "Saving best model...\n",
      "\n",
      "=== EPOCH 44/219 ===\n",
      "\n",
      "Learning Rate = 0.00045000000000000004\n"
     ]
    },
    {
     "name": "stderr",
     "output_type": "stream",
     "text": [
      "Training: 100%|██████████| 316/316 [01:54<00:00,  2.76it/s]"
     ]
    },
    {
     "name": "stdout",
     "output_type": "stream",
     "text": [
      "Total Loss  |Box Loss    |Conf Loss   |No Obj Loss |Class Loss  \n",
      "------------ ------------ ------------ ------------ ------------\n",
      "65.601      |26.523      |27.153      |6.205       |5.720       \n",
      "\n"
     ]
    },
    {
     "name": "stderr",
     "output_type": "stream",
     "text": [
      "\n",
      "mAP:@.5: 100%|██████████| 2/2 [00:12<00:00,  6.22s/it]\n"
     ]
    },
    {
     "name": "stdout",
     "output_type": "stream",
     "text": [
      "\n",
      "Train mAP: 0.275\n"
     ]
    },
    {
     "name": "stderr",
     "output_type": "stream",
     "text": [
      "Validating: 100%|██████████| 78/78 [00:18<00:00,  4.23it/s]"
     ]
    },
    {
     "name": "stdout",
     "output_type": "stream",
     "text": [
      "Total Loss  |Box Loss    |Conf Loss   |No Obj Loss |Class Loss  \n",
      "------------ ------------ ------------ ------------ ------------\n",
      "72.763      |29.083      |33.636      |3.344       |6.699       \n",
      "\n"
     ]
    },
    {
     "name": "stderr",
     "output_type": "stream",
     "text": [
      "\n",
      "mAP:@.5: 100%|██████████| 2/2 [00:01<00:00,  1.48it/s]\n"
     ]
    },
    {
     "name": "stdout",
     "output_type": "stream",
     "text": [
      "\n",
      "Validation mAP: 0.218\n",
      "New best validation loss: 72.763\n",
      "Saving best model...\n",
      "\n",
      "=== EPOCH 45/219 ===\n",
      "\n",
      "Learning Rate = 0.00045000000000000004\n"
     ]
    },
    {
     "name": "stderr",
     "output_type": "stream",
     "text": [
      "Training: 100%|██████████| 316/316 [01:54<00:00,  2.77it/s]\n"
     ]
    },
    {
     "name": "stdout",
     "output_type": "stream",
     "text": [
      "Total Loss  |Box Loss    |Conf Loss   |No Obj Loss |Class Loss  \n",
      "------------ ------------ ------------ ------------ ------------\n",
      "65.672      |26.634      |27.183      |6.193       |5.662       \n",
      "\n"
     ]
    },
    {
     "name": "stderr",
     "output_type": "stream",
     "text": [
      "Validating: 100%|██████████| 78/78 [00:19<00:00,  3.90it/s]\n"
     ]
    },
    {
     "name": "stdout",
     "output_type": "stream",
     "text": [
      "Total Loss  |Box Loss    |Conf Loss   |No Obj Loss |Class Loss  \n",
      "------------ ------------ ------------ ------------ ------------\n",
      "73.306      |29.438      |32.915      |3.673       |7.280       \n",
      "\n",
      "\n",
      "=== EPOCH 46/219 ===\n",
      "\n",
      "Learning Rate = 0.00045000000000000004\n"
     ]
    },
    {
     "name": "stderr",
     "output_type": "stream",
     "text": [
      "Training: 100%|██████████| 316/316 [01:52<00:00,  2.81it/s]\n"
     ]
    },
    {
     "name": "stdout",
     "output_type": "stream",
     "text": [
      "Total Loss  |Box Loss    |Conf Loss   |No Obj Loss |Class Loss  \n",
      "------------ ------------ ------------ ------------ ------------\n",
      "65.124      |26.453      |27.203      |6.132       |5.337       \n",
      "\n"
     ]
    },
    {
     "name": "stderr",
     "output_type": "stream",
     "text": [
      "Validating: 100%|██████████| 78/78 [00:21<00:00,  3.67it/s]\n"
     ]
    },
    {
     "name": "stdout",
     "output_type": "stream",
     "text": [
      "Total Loss  |Box Loss    |Conf Loss   |No Obj Loss |Class Loss  \n",
      "------------ ------------ ------------ ------------ ------------\n",
      "74.566      |30.074      |33.391      |3.536       |7.565       \n",
      "\n",
      "\n",
      "=== EPOCH 47/219 ===\n",
      "\n",
      "Learning Rate = 0.00045000000000000004\n"
     ]
    },
    {
     "name": "stderr",
     "output_type": "stream",
     "text": [
      "Training: 100%|██████████| 316/316 [01:54<00:00,  2.77it/s]\n"
     ]
    },
    {
     "name": "stdout",
     "output_type": "stream",
     "text": [
      "Total Loss  |Box Loss    |Conf Loss   |No Obj Loss |Class Loss  \n",
      "------------ ------------ ------------ ------------ ------------\n",
      "65.932      |26.691      |27.215      |6.300       |5.726       \n",
      "\n"
     ]
    },
    {
     "name": "stderr",
     "output_type": "stream",
     "text": [
      "Validating: 100%|██████████| 78/78 [00:20<00:00,  3.82it/s]\n"
     ]
    },
    {
     "name": "stdout",
     "output_type": "stream",
     "text": [
      "Total Loss  |Box Loss    |Conf Loss   |No Obj Loss |Class Loss  \n",
      "------------ ------------ ------------ ------------ ------------\n",
      "73.785      |30.348      |33.013      |3.595       |6.829       \n",
      "\n",
      "\n",
      "=== EPOCH 48/219 ===\n",
      "\n",
      "Learning Rate = 0.00040500000000000003\n"
     ]
    },
    {
     "name": "stderr",
     "output_type": "stream",
     "text": [
      "Training: 100%|██████████| 316/316 [02:07<00:00,  2.48it/s]\n"
     ]
    },
    {
     "name": "stdout",
     "output_type": "stream",
     "text": [
      "Total Loss  |Box Loss    |Conf Loss   |No Obj Loss |Class Loss  \n",
      "------------ ------------ ------------ ------------ ------------\n",
      "64.688      |25.997      |27.072      |6.244       |5.375       \n",
      "\n"
     ]
    },
    {
     "name": "stderr",
     "output_type": "stream",
     "text": [
      "Validating: 100%|██████████| 78/78 [00:20<00:00,  3.89it/s]\n"
     ]
    },
    {
     "name": "stdout",
     "output_type": "stream",
     "text": [
      "Total Loss  |Box Loss    |Conf Loss   |No Obj Loss |Class Loss  \n",
      "------------ ------------ ------------ ------------ ------------\n",
      "73.161      |28.328      |33.811      |3.246       |7.775       \n",
      "\n",
      "\n",
      "=== EPOCH 49/219 ===\n",
      "\n",
      "Learning Rate = 0.00040500000000000003\n"
     ]
    },
    {
     "name": "stderr",
     "output_type": "stream",
     "text": [
      "Training: 100%|██████████| 316/316 [02:07<00:00,  2.48it/s]\n"
     ]
    },
    {
     "name": "stdout",
     "output_type": "stream",
     "text": [
      "Total Loss  |Box Loss    |Conf Loss   |No Obj Loss |Class Loss  \n",
      "------------ ------------ ------------ ------------ ------------\n",
      "64.890      |26.388      |26.872      |6.211       |5.420       \n",
      "\n"
     ]
    },
    {
     "name": "stderr",
     "output_type": "stream",
     "text": [
      "Validating: 100%|██████████| 78/78 [00:20<00:00,  3.89it/s]"
     ]
    },
    {
     "name": "stdout",
     "output_type": "stream",
     "text": [
      "Total Loss  |Box Loss    |Conf Loss   |No Obj Loss |Class Loss  \n",
      "------------ ------------ ------------ ------------ ------------\n",
      "72.936      |28.554      |33.424      |3.313       |7.645       \n",
      "\n"
     ]
    },
    {
     "name": "stderr",
     "output_type": "stream",
     "text": [
      "\n",
      "mAP:@.5: 100%|██████████| 2/2 [00:01<00:00,  1.47it/s]\n"
     ]
    },
    {
     "name": "stdout",
     "output_type": "stream",
     "text": [
      "\n",
      "Validation mAP: 0.216\n",
      "\n",
      "=== EPOCH 50/219 ===\n",
      "\n",
      "Learning Rate = 0.00040500000000000003\n"
     ]
    },
    {
     "name": "stderr",
     "output_type": "stream",
     "text": [
      "Training: 100%|██████████| 316/316 [02:10<00:00,  2.43it/s]\n"
     ]
    },
    {
     "name": "stdout",
     "output_type": "stream",
     "text": [
      "Total Loss  |Box Loss    |Conf Loss   |No Obj Loss |Class Loss  \n",
      "------------ ------------ ------------ ------------ ------------\n",
      "64.316      |26.083      |26.751      |6.137       |5.345       \n",
      "\n"
     ]
    },
    {
     "name": "stderr",
     "output_type": "stream",
     "text": [
      "Validating: 100%|██████████| 78/78 [00:20<00:00,  3.85it/s]\n"
     ]
    },
    {
     "name": "stdout",
     "output_type": "stream",
     "text": [
      "Total Loss  |Box Loss    |Conf Loss   |No Obj Loss |Class Loss  \n",
      "------------ ------------ ------------ ------------ ------------\n",
      "71.792      |29.134      |32.414      |3.946       |6.297       \n",
      "\n",
      "New best validation loss: 71.792\n",
      "Saving best model...\n",
      "\n",
      "=== EPOCH 51/219 ===\n",
      "\n",
      "Learning Rate = 0.00040500000000000003\n"
     ]
    },
    {
     "name": "stderr",
     "output_type": "stream",
     "text": [
      "Training: 100%|██████████| 316/316 [02:12<00:00,  2.39it/s]\n"
     ]
    },
    {
     "name": "stdout",
     "output_type": "stream",
     "text": [
      "Total Loss  |Box Loss    |Conf Loss   |No Obj Loss |Class Loss  \n",
      "------------ ------------ ------------ ------------ ------------\n",
      "64.190      |25.923      |26.812      |6.201       |5.254       \n",
      "\n"
     ]
    },
    {
     "name": "stderr",
     "output_type": "stream",
     "text": [
      "Validating: 100%|██████████| 78/78 [00:20<00:00,  3.81it/s]\n"
     ]
    },
    {
     "name": "stdout",
     "output_type": "stream",
     "text": [
      "Total Loss  |Box Loss    |Conf Loss   |No Obj Loss |Class Loss  \n",
      "------------ ------------ ------------ ------------ ------------\n",
      "72.280      |28.359      |33.101      |3.526       |7.293       \n",
      "\n",
      "\n",
      "=== EPOCH 52/219 ===\n",
      "\n",
      "Learning Rate = 0.00040500000000000003\n"
     ]
    },
    {
     "name": "stderr",
     "output_type": "stream",
     "text": [
      "Training: 100%|██████████| 316/316 [02:14<00:00,  2.35it/s]\n"
     ]
    },
    {
     "name": "stdout",
     "output_type": "stream",
     "text": [
      "Total Loss  |Box Loss    |Conf Loss   |No Obj Loss |Class Loss  \n",
      "------------ ------------ ------------ ------------ ------------\n",
      "64.263      |25.968      |26.699      |6.294       |5.301       \n",
      "\n"
     ]
    },
    {
     "name": "stderr",
     "output_type": "stream",
     "text": [
      "Validating: 100%|██████████| 78/78 [00:19<00:00,  3.96it/s]\n"
     ]
    },
    {
     "name": "stdout",
     "output_type": "stream",
     "text": [
      "Total Loss  |Box Loss    |Conf Loss   |No Obj Loss |Class Loss  \n",
      "------------ ------------ ------------ ------------ ------------\n",
      "73.190      |30.158      |31.987      |4.076       |6.968       \n",
      "\n",
      "\n",
      "=== EPOCH 53/219 ===\n",
      "\n",
      "Learning Rate = 0.00040500000000000003\n"
     ]
    },
    {
     "name": "stderr",
     "output_type": "stream",
     "text": [
      "Training: 100%|██████████| 316/316 [02:08<00:00,  2.46it/s]\n"
     ]
    },
    {
     "name": "stdout",
     "output_type": "stream",
     "text": [
      "Total Loss  |Box Loss    |Conf Loss   |No Obj Loss |Class Loss  \n",
      "------------ ------------ ------------ ------------ ------------\n",
      "64.863      |26.401      |26.749      |6.208       |5.505       \n",
      "\n"
     ]
    },
    {
     "name": "stderr",
     "output_type": "stream",
     "text": [
      "Validating: 100%|██████████| 78/78 [00:19<00:00,  3.97it/s]\n"
     ]
    },
    {
     "name": "stdout",
     "output_type": "stream",
     "text": [
      "Total Loss  |Box Loss    |Conf Loss   |No Obj Loss |Class Loss  \n",
      "------------ ------------ ------------ ------------ ------------\n",
      "72.755      |29.107      |33.101      |3.479       |7.068       \n",
      "\n",
      "\n",
      "=== EPOCH 54/219 ===\n",
      "\n",
      "Learning Rate = 0.0003645\n"
     ]
    },
    {
     "name": "stderr",
     "output_type": "stream",
     "text": [
      "Training: 100%|██████████| 316/316 [02:12<00:00,  2.39it/s]\n"
     ]
    },
    {
     "name": "stdout",
     "output_type": "stream",
     "text": [
      "Total Loss  |Box Loss    |Conf Loss   |No Obj Loss |Class Loss  \n",
      "------------ ------------ ------------ ------------ ------------\n",
      "63.816      |25.633      |26.712      |6.052       |5.418       \n",
      "\n"
     ]
    },
    {
     "name": "stderr",
     "output_type": "stream",
     "text": [
      "Validating: 100%|██████████| 78/78 [00:20<00:00,  3.89it/s]"
     ]
    },
    {
     "name": "stdout",
     "output_type": "stream",
     "text": [
      "Total Loss  |Box Loss    |Conf Loss   |No Obj Loss |Class Loss  \n",
      "------------ ------------ ------------ ------------ ------------\n",
      "71.973      |29.102      |32.032      |4.062       |6.777       \n",
      "\n"
     ]
    },
    {
     "name": "stderr",
     "output_type": "stream",
     "text": [
      "\n",
      "mAP:@.5: 100%|██████████| 2/2 [00:01<00:00,  1.41it/s]\n"
     ]
    },
    {
     "name": "stdout",
     "output_type": "stream",
     "text": [
      "\n",
      "Validation mAP: 0.228\n",
      "\n",
      "New best mAP validation loss: 0.228\n",
      "Saving best mAP model...\n",
      "\n",
      "=== EPOCH 55/219 ===\n",
      "\n",
      "Learning Rate = 0.0003645\n"
     ]
    },
    {
     "name": "stderr",
     "output_type": "stream",
     "text": [
      "Training: 100%|██████████| 316/316 [02:06<00:00,  2.51it/s]\n"
     ]
    },
    {
     "name": "stdout",
     "output_type": "stream",
     "text": [
      "Total Loss  |Box Loss    |Conf Loss   |No Obj Loss |Class Loss  \n",
      "------------ ------------ ------------ ------------ ------------\n",
      "63.216      |25.404      |26.773      |6.052       |4.987       \n",
      "\n"
     ]
    },
    {
     "name": "stderr",
     "output_type": "stream",
     "text": [
      "Validating: 100%|██████████| 78/78 [00:23<00:00,  3.30it/s]\n"
     ]
    },
    {
     "name": "stdout",
     "output_type": "stream",
     "text": [
      "Total Loss  |Box Loss    |Conf Loss   |No Obj Loss |Class Loss  \n",
      "------------ ------------ ------------ ------------ ------------\n",
      "72.219      |28.987      |32.791      |3.592       |6.849       \n",
      "\n",
      "\n",
      "=== EPOCH 56/219 ===\n",
      "\n",
      "Learning Rate = 0.0003645\n"
     ]
    },
    {
     "name": "stderr",
     "output_type": "stream",
     "text": [
      "Training: 100%|██████████| 316/316 [02:06<00:00,  2.51it/s]\n"
     ]
    },
    {
     "name": "stdout",
     "output_type": "stream",
     "text": [
      "Total Loss  |Box Loss    |Conf Loss   |No Obj Loss |Class Loss  \n",
      "------------ ------------ ------------ ------------ ------------\n",
      "63.173      |25.322      |26.557      |6.102       |5.192       \n",
      "\n"
     ]
    },
    {
     "name": "stderr",
     "output_type": "stream",
     "text": [
      "Validating: 100%|██████████| 78/78 [00:20<00:00,  3.89it/s]\n"
     ]
    },
    {
     "name": "stdout",
     "output_type": "stream",
     "text": [
      "Total Loss  |Box Loss    |Conf Loss   |No Obj Loss |Class Loss  \n",
      "------------ ------------ ------------ ------------ ------------\n",
      "72.710      |28.738      |33.245      |3.293       |7.435       \n",
      "\n",
      "\n",
      "=== EPOCH 57/219 ===\n",
      "\n",
      "Learning Rate = 0.00032805000000000003\n"
     ]
    },
    {
     "name": "stderr",
     "output_type": "stream",
     "text": [
      "Training: 100%|██████████| 316/316 [02:02<00:00,  2.57it/s]\n"
     ]
    },
    {
     "name": "stdout",
     "output_type": "stream",
     "text": [
      "Total Loss  |Box Loss    |Conf Loss   |No Obj Loss |Class Loss  \n",
      "------------ ------------ ------------ ------------ ------------\n",
      "62.928      |25.343      |26.373      |6.079       |5.132       \n",
      "\n"
     ]
    },
    {
     "name": "stderr",
     "output_type": "stream",
     "text": [
      "Validating: 100%|██████████| 78/78 [00:29<00:00,  2.62it/s]\n"
     ]
    },
    {
     "name": "stdout",
     "output_type": "stream",
     "text": [
      "Total Loss  |Box Loss    |Conf Loss   |No Obj Loss |Class Loss  \n",
      "------------ ------------ ------------ ------------ ------------\n",
      "72.158      |29.160      |32.297      |3.694       |7.007       \n",
      "\n",
      "\n",
      "=== EPOCH 58/219 ===\n",
      "\n",
      "Learning Rate = 0.00032805000000000003\n"
     ]
    },
    {
     "name": "stderr",
     "output_type": "stream",
     "text": [
      "Training: 100%|██████████| 316/316 [02:39<00:00,  1.98it/s]\n"
     ]
    },
    {
     "name": "stdout",
     "output_type": "stream",
     "text": [
      "Total Loss  |Box Loss    |Conf Loss   |No Obj Loss |Class Loss  \n",
      "------------ ------------ ------------ ------------ ------------\n",
      "62.771      |25.064      |26.378      |6.105       |5.224       \n",
      "\n"
     ]
    },
    {
     "name": "stderr",
     "output_type": "stream",
     "text": [
      "Validating: 100%|██████████| 78/78 [00:22<00:00,  3.51it/s]\n"
     ]
    },
    {
     "name": "stdout",
     "output_type": "stream",
     "text": [
      "Total Loss  |Box Loss    |Conf Loss   |No Obj Loss |Class Loss  \n",
      "------------ ------------ ------------ ------------ ------------\n",
      "72.299      |28.703      |32.878      |3.479       |7.239       \n",
      "\n",
      "\n",
      "=== EPOCH 59/219 ===\n",
      "\n",
      "Learning Rate = 0.00032805000000000003\n"
     ]
    },
    {
     "name": "stderr",
     "output_type": "stream",
     "text": [
      "Training: 100%|██████████| 316/316 [02:03<00:00,  2.56it/s]"
     ]
    },
    {
     "name": "stdout",
     "output_type": "stream",
     "text": [
      "Total Loss  |Box Loss    |Conf Loss   |No Obj Loss |Class Loss  \n",
      "------------ ------------ ------------ ------------ ------------\n",
      "62.269      |25.205      |26.129      |6.051       |4.885       \n",
      "\n"
     ]
    },
    {
     "name": "stderr",
     "output_type": "stream",
     "text": [
      "\n",
      "mAP:@.5: 100%|██████████| 2/2 [00:13<00:00,  6.60s/it]\n"
     ]
    },
    {
     "name": "stdout",
     "output_type": "stream",
     "text": [
      "\n",
      "Train mAP: 0.300\n"
     ]
    },
    {
     "name": "stderr",
     "output_type": "stream",
     "text": [
      "Validating: 100%|██████████| 78/78 [00:24<00:00,  3.21it/s]"
     ]
    },
    {
     "name": "stdout",
     "output_type": "stream",
     "text": [
      "Total Loss  |Box Loss    |Conf Loss   |No Obj Loss |Class Loss  \n",
      "------------ ------------ ------------ ------------ ------------\n",
      "71.776      |28.551      |32.649      |3.519       |7.058       \n",
      "\n"
     ]
    },
    {
     "name": "stderr",
     "output_type": "stream",
     "text": [
      "\n",
      "mAP:@.5: 100%|██████████| 2/2 [00:01<00:00,  1.40it/s]\n"
     ]
    },
    {
     "name": "stdout",
     "output_type": "stream",
     "text": [
      "\n",
      "Validation mAP: 0.221\n",
      "New best validation loss: 71.776\n",
      "Saving best model...\n",
      "\n",
      "=== EPOCH 60/219 ===\n",
      "\n",
      "Learning Rate = 0.000295245\n"
     ]
    },
    {
     "name": "stderr",
     "output_type": "stream",
     "text": [
      "Training: 100%|██████████| 316/316 [02:06<00:00,  2.49it/s]\n"
     ]
    },
    {
     "name": "stdout",
     "output_type": "stream",
     "text": [
      "Total Loss  |Box Loss    |Conf Loss   |No Obj Loss |Class Loss  \n",
      "------------ ------------ ------------ ------------ ------------\n",
      "62.096      |24.897      |26.062      |6.168       |4.969       \n",
      "\n"
     ]
    },
    {
     "name": "stderr",
     "output_type": "stream",
     "text": [
      "Validating: 100%|██████████| 78/78 [00:20<00:00,  3.90it/s]\n"
     ]
    },
    {
     "name": "stdout",
     "output_type": "stream",
     "text": [
      "Total Loss  |Box Loss    |Conf Loss   |No Obj Loss |Class Loss  \n",
      "------------ ------------ ------------ ------------ ------------\n",
      "71.815      |28.364      |32.583      |3.444       |7.424       \n",
      "\n",
      "\n",
      "=== EPOCH 61/219 ===\n",
      "\n",
      "Learning Rate = 0.000295245\n"
     ]
    },
    {
     "name": "stderr",
     "output_type": "stream",
     "text": [
      "Training: 100%|██████████| 316/316 [02:05<00:00,  2.53it/s]\n"
     ]
    },
    {
     "name": "stdout",
     "output_type": "stream",
     "text": [
      "Total Loss  |Box Loss    |Conf Loss   |No Obj Loss |Class Loss  \n",
      "------------ ------------ ------------ ------------ ------------\n",
      "62.424      |25.394      |25.937      |6.142       |4.950       \n",
      "\n"
     ]
    },
    {
     "name": "stderr",
     "output_type": "stream",
     "text": [
      "Validating: 100%|██████████| 78/78 [00:19<00:00,  4.04it/s]\n"
     ]
    },
    {
     "name": "stdout",
     "output_type": "stream",
     "text": [
      "Total Loss  |Box Loss    |Conf Loss   |No Obj Loss |Class Loss  \n",
      "------------ ------------ ------------ ------------ ------------\n",
      "71.936      |27.794      |32.917      |3.404       |7.820       \n",
      "\n",
      "\n",
      "=== EPOCH 62/219 ===\n",
      "\n",
      "Learning Rate = 0.000295245\n"
     ]
    },
    {
     "name": "stderr",
     "output_type": "stream",
     "text": [
      "Training: 100%|██████████| 316/316 [02:01<00:00,  2.59it/s]\n"
     ]
    },
    {
     "name": "stdout",
     "output_type": "stream",
     "text": [
      "Total Loss  |Box Loss    |Conf Loss   |No Obj Loss |Class Loss  \n",
      "------------ ------------ ------------ ------------ ------------\n",
      "62.227      |24.882      |26.119      |6.090       |5.136       \n",
      "\n"
     ]
    },
    {
     "name": "stderr",
     "output_type": "stream",
     "text": [
      "Validating: 100%|██████████| 78/78 [00:26<00:00,  3.00it/s]\n"
     ]
    },
    {
     "name": "stdout",
     "output_type": "stream",
     "text": [
      "Total Loss  |Box Loss    |Conf Loss   |No Obj Loss |Class Loss  \n",
      "------------ ------------ ------------ ------------ ------------\n",
      "71.384      |28.460      |32.173      |3.642       |7.109       \n",
      "\n",
      "New best validation loss: 71.384\n",
      "Saving best model...\n",
      "\n",
      "=== EPOCH 63/219 ===\n",
      "\n",
      "Learning Rate = 0.000295245\n"
     ]
    },
    {
     "name": "stderr",
     "output_type": "stream",
     "text": [
      "Training: 100%|██████████| 316/316 [01:57<00:00,  2.69it/s]\n"
     ]
    },
    {
     "name": "stdout",
     "output_type": "stream",
     "text": [
      "Total Loss  |Box Loss    |Conf Loss   |No Obj Loss |Class Loss  \n",
      "------------ ------------ ------------ ------------ ------------\n",
      "62.014      |25.020      |25.761      |6.047       |5.186       \n",
      "\n"
     ]
    },
    {
     "name": "stderr",
     "output_type": "stream",
     "text": [
      "Validating: 100%|██████████| 78/78 [00:19<00:00,  4.03it/s]\n"
     ]
    },
    {
     "name": "stdout",
     "output_type": "stream",
     "text": [
      "Total Loss  |Box Loss    |Conf Loss   |No Obj Loss |Class Loss  \n",
      "------------ ------------ ------------ ------------ ------------\n",
      "72.241      |28.482      |32.168      |3.657       |7.934       \n",
      "\n",
      "\n",
      "=== EPOCH 64/219 ===\n",
      "\n",
      "Learning Rate = 0.000295245\n"
     ]
    },
    {
     "name": "stderr",
     "output_type": "stream",
     "text": [
      "Training: 100%|██████████| 316/316 [02:03<00:00,  2.56it/s]\n"
     ]
    },
    {
     "name": "stdout",
     "output_type": "stream",
     "text": [
      "Total Loss  |Box Loss    |Conf Loss   |No Obj Loss |Class Loss  \n",
      "------------ ------------ ------------ ------------ ------------\n",
      "61.147      |24.695      |25.507      |6.066       |4.880       \n",
      "\n"
     ]
    },
    {
     "name": "stderr",
     "output_type": "stream",
     "text": [
      "Validating: 100%|██████████| 78/78 [00:20<00:00,  3.90it/s]"
     ]
    },
    {
     "name": "stdout",
     "output_type": "stream",
     "text": [
      "Total Loss  |Box Loss    |Conf Loss   |No Obj Loss |Class Loss  \n",
      "------------ ------------ ------------ ------------ ------------\n",
      "72.249      |28.164      |32.756      |3.482       |7.847       \n",
      "\n"
     ]
    },
    {
     "name": "stderr",
     "output_type": "stream",
     "text": [
      "\n",
      "mAP:@.5: 100%|██████████| 2/2 [00:01<00:00,  1.44it/s]\n"
     ]
    },
    {
     "name": "stdout",
     "output_type": "stream",
     "text": [
      "\n",
      "Validation mAP: 0.226\n",
      "\n",
      "=== EPOCH 65/219 ===\n",
      "\n",
      "Learning Rate = 0.000295245\n"
     ]
    },
    {
     "name": "stderr",
     "output_type": "stream",
     "text": [
      "Training: 100%|██████████| 316/316 [02:01<00:00,  2.61it/s]\n"
     ]
    },
    {
     "name": "stdout",
     "output_type": "stream",
     "text": [
      "Total Loss  |Box Loss    |Conf Loss   |No Obj Loss |Class Loss  \n",
      "------------ ------------ ------------ ------------ ------------\n",
      "61.946      |24.887      |25.856      |6.198       |5.006       \n",
      "\n"
     ]
    },
    {
     "name": "stderr",
     "output_type": "stream",
     "text": [
      "Validating: 100%|██████████| 78/78 [00:20<00:00,  3.81it/s]\n"
     ]
    },
    {
     "name": "stdout",
     "output_type": "stream",
     "text": [
      "Total Loss  |Box Loss    |Conf Loss   |No Obj Loss |Class Loss  \n",
      "------------ ------------ ------------ ------------ ------------\n",
      "71.330      |28.569      |31.718      |3.996       |7.047       \n",
      "\n",
      "New best validation loss: 71.330\n",
      "Saving best model...\n",
      "\n",
      "=== EPOCH 66/219 ===\n",
      "\n",
      "Learning Rate = 0.0002657205\n"
     ]
    },
    {
     "name": "stderr",
     "output_type": "stream",
     "text": [
      "Training: 100%|██████████| 316/316 [03:37<00:00,  1.45it/s]\n"
     ]
    },
    {
     "name": "stdout",
     "output_type": "stream",
     "text": [
      "Total Loss  |Box Loss    |Conf Loss   |No Obj Loss |Class Loss  \n",
      "------------ ------------ ------------ ------------ ------------\n",
      "61.441      |24.760      |25.831      |5.966       |4.885       \n",
      "\n"
     ]
    },
    {
     "name": "stderr",
     "output_type": "stream",
     "text": [
      "Validating: 100%|██████████| 78/78 [00:32<00:00,  2.39it/s]\n"
     ]
    },
    {
     "name": "stdout",
     "output_type": "stream",
     "text": [
      "Total Loss  |Box Loss    |Conf Loss   |No Obj Loss |Class Loss  \n",
      "------------ ------------ ------------ ------------ ------------\n",
      "71.646      |28.409      |32.054      |3.686       |7.497       \n",
      "\n",
      "\n",
      "=== EPOCH 67/219 ===\n",
      "\n",
      "Learning Rate = 0.0002657205\n"
     ]
    },
    {
     "name": "stderr",
     "output_type": "stream",
     "text": [
      "Training: 100%|██████████| 316/316 [02:05<00:00,  2.52it/s]\n"
     ]
    },
    {
     "name": "stdout",
     "output_type": "stream",
     "text": [
      "Total Loss  |Box Loss    |Conf Loss   |No Obj Loss |Class Loss  \n",
      "------------ ------------ ------------ ------------ ------------\n",
      "61.053      |24.447      |25.763      |6.041       |4.801       \n",
      "\n"
     ]
    },
    {
     "name": "stderr",
     "output_type": "stream",
     "text": [
      "Validating: 100%|██████████| 78/78 [00:19<00:00,  3.93it/s]\n"
     ]
    },
    {
     "name": "stdout",
     "output_type": "stream",
     "text": [
      "Total Loss  |Box Loss    |Conf Loss   |No Obj Loss |Class Loss  \n",
      "------------ ------------ ------------ ------------ ------------\n",
      "71.615      |28.033      |32.564      |3.397       |7.621       \n",
      "\n",
      "\n",
      "=== EPOCH 68/219 ===\n",
      "\n",
      "Learning Rate = 0.0002657205\n"
     ]
    },
    {
     "name": "stderr",
     "output_type": "stream",
     "text": [
      "Training: 100%|██████████| 316/316 [02:05<00:00,  2.51it/s]\n"
     ]
    },
    {
     "name": "stdout",
     "output_type": "stream",
     "text": [
      "Total Loss  |Box Loss    |Conf Loss   |No Obj Loss |Class Loss  \n",
      "------------ ------------ ------------ ------------ ------------\n",
      "61.316      |24.692      |25.817      |5.905       |4.902       \n",
      "\n"
     ]
    },
    {
     "name": "stderr",
     "output_type": "stream",
     "text": [
      "Validating: 100%|██████████| 78/78 [00:19<00:00,  4.03it/s]\n"
     ]
    },
    {
     "name": "stdout",
     "output_type": "stream",
     "text": [
      "Total Loss  |Box Loss    |Conf Loss   |No Obj Loss |Class Loss  \n",
      "------------ ------------ ------------ ------------ ------------\n",
      "70.505      |27.782      |31.799      |3.980       |6.944       \n",
      "\n",
      "New best validation loss: 70.505\n",
      "Saving best model...\n",
      "\n",
      "=== EPOCH 69/219 ===\n",
      "\n",
      "Learning Rate = 0.0002657205\n"
     ]
    },
    {
     "name": "stderr",
     "output_type": "stream",
     "text": [
      "Training: 100%|██████████| 316/316 [01:57<00:00,  2.70it/s]\n"
     ]
    },
    {
     "name": "stdout",
     "output_type": "stream",
     "text": [
      "Total Loss  |Box Loss    |Conf Loss   |No Obj Loss |Class Loss  \n",
      "------------ ------------ ------------ ------------ ------------\n",
      "61.020      |24.594      |25.605      |6.022       |4.798       \n",
      "\n"
     ]
    },
    {
     "name": "stderr",
     "output_type": "stream",
     "text": [
      "Validating: 100%|██████████| 78/78 [00:23<00:00,  3.32it/s]"
     ]
    },
    {
     "name": "stdout",
     "output_type": "stream",
     "text": [
      "Total Loss  |Box Loss    |Conf Loss   |No Obj Loss |Class Loss  \n",
      "------------ ------------ ------------ ------------ ------------\n",
      "71.711      |27.780      |32.313      |3.658       |7.960       \n",
      "\n"
     ]
    },
    {
     "name": "stderr",
     "output_type": "stream",
     "text": [
      "\n",
      "mAP:@.5: 100%|██████████| 2/2 [00:01<00:00,  1.31it/s]\n"
     ]
    },
    {
     "name": "stdout",
     "output_type": "stream",
     "text": [
      "\n",
      "Validation mAP: 0.225\n",
      "\n",
      "=== EPOCH 70/219 ===\n",
      "\n",
      "Learning Rate = 0.0002657205\n"
     ]
    },
    {
     "name": "stderr",
     "output_type": "stream",
     "text": [
      "Training: 100%|██████████| 316/316 [02:02<00:00,  2.59it/s]\n"
     ]
    },
    {
     "name": "stdout",
     "output_type": "stream",
     "text": [
      "Total Loss  |Box Loss    |Conf Loss   |No Obj Loss |Class Loss  \n",
      "------------ ------------ ------------ ------------ ------------\n",
      "60.697      |24.540      |25.464      |5.986       |4.706       \n",
      "\n"
     ]
    },
    {
     "name": "stderr",
     "output_type": "stream",
     "text": [
      "Validating: 100%|██████████| 78/78 [00:20<00:00,  3.84it/s]\n"
     ]
    },
    {
     "name": "stdout",
     "output_type": "stream",
     "text": [
      "Total Loss  |Box Loss    |Conf Loss   |No Obj Loss |Class Loss  \n",
      "------------ ------------ ------------ ------------ ------------\n",
      "71.685      |27.909      |32.308      |3.716       |7.753       \n",
      "\n",
      "\n",
      "=== EPOCH 71/219 ===\n",
      "\n",
      "Learning Rate = 0.0002657205\n"
     ]
    },
    {
     "name": "stderr",
     "output_type": "stream",
     "text": [
      "Training: 100%|██████████| 316/316 [01:59<00:00,  2.65it/s]\n"
     ]
    },
    {
     "name": "stdout",
     "output_type": "stream",
     "text": [
      "Total Loss  |Box Loss    |Conf Loss   |No Obj Loss |Class Loss  \n",
      "------------ ------------ ------------ ------------ ------------\n",
      "60.369      |24.410      |25.284      |5.909       |4.766       \n",
      "\n"
     ]
    },
    {
     "name": "stderr",
     "output_type": "stream",
     "text": [
      "Validating: 100%|██████████| 78/78 [00:22<00:00,  3.41it/s]\n"
     ]
    },
    {
     "name": "stdout",
     "output_type": "stream",
     "text": [
      "Total Loss  |Box Loss    |Conf Loss   |No Obj Loss |Class Loss  \n",
      "------------ ------------ ------------ ------------ ------------\n",
      "70.644      |27.066      |32.237      |3.534       |7.808       \n",
      "\n",
      "\n",
      "=== EPOCH 72/219 ===\n",
      "\n",
      "Learning Rate = 0.00023914845\n"
     ]
    },
    {
     "name": "stderr",
     "output_type": "stream",
     "text": [
      "Training: 100%|██████████| 316/316 [02:03<00:00,  2.56it/s]\n"
     ]
    },
    {
     "name": "stdout",
     "output_type": "stream",
     "text": [
      "Total Loss  |Box Loss    |Conf Loss   |No Obj Loss |Class Loss  \n",
      "------------ ------------ ------------ ------------ ------------\n",
      "60.883      |24.452      |25.547      |6.070       |4.814       \n",
      "\n"
     ]
    },
    {
     "name": "stderr",
     "output_type": "stream",
     "text": [
      "Validating: 100%|██████████| 78/78 [00:22<00:00,  3.40it/s]\n"
     ]
    },
    {
     "name": "stdout",
     "output_type": "stream",
     "text": [
      "Total Loss  |Box Loss    |Conf Loss   |No Obj Loss |Class Loss  \n",
      "------------ ------------ ------------ ------------ ------------\n",
      "70.678      |27.138      |32.150      |3.485       |7.905       \n",
      "\n",
      "\n",
      "=== EPOCH 73/219 ===\n",
      "\n",
      "Learning Rate = 0.00023914845\n"
     ]
    },
    {
     "name": "stderr",
     "output_type": "stream",
     "text": [
      "Training: 100%|██████████| 316/316 [01:58<00:00,  2.67it/s]\n"
     ]
    },
    {
     "name": "stdout",
     "output_type": "stream",
     "text": [
      "Total Loss  |Box Loss    |Conf Loss   |No Obj Loss |Class Loss  \n",
      "------------ ------------ ------------ ------------ ------------\n",
      "60.307      |24.294      |25.379      |5.967       |4.666       \n",
      "\n"
     ]
    },
    {
     "name": "stderr",
     "output_type": "stream",
     "text": [
      "Validating: 100%|██████████| 78/78 [00:19<00:00,  3.91it/s]\n"
     ]
    },
    {
     "name": "stdout",
     "output_type": "stream",
     "text": [
      "Total Loss  |Box Loss    |Conf Loss   |No Obj Loss |Class Loss  \n",
      "------------ ------------ ------------ ------------ ------------\n",
      "70.973      |27.520      |31.805      |3.828       |7.820       \n",
      "\n",
      "\n",
      "=== EPOCH 74/219 ===\n",
      "\n",
      "Learning Rate = 0.00023914845\n"
     ]
    },
    {
     "name": "stderr",
     "output_type": "stream",
     "text": [
      "Training: 100%|██████████| 316/316 [02:23<00:00,  2.20it/s]"
     ]
    },
    {
     "name": "stdout",
     "output_type": "stream",
     "text": [
      "Total Loss  |Box Loss    |Conf Loss   |No Obj Loss |Class Loss  \n",
      "------------ ------------ ------------ ------------ ------------\n",
      "60.074      |24.192      |25.373      |5.943       |4.565       \n",
      "\n"
     ]
    },
    {
     "name": "stderr",
     "output_type": "stream",
     "text": [
      "\n",
      "mAP:@.5: 100%|██████████| 2/2 [00:19<00:00,  9.64s/it]\n"
     ]
    },
    {
     "name": "stdout",
     "output_type": "stream",
     "text": [
      "\n",
      "Train mAP: 0.318\n"
     ]
    },
    {
     "name": "stderr",
     "output_type": "stream",
     "text": [
      "Validating: 100%|██████████| 78/78 [00:38<00:00,  2.01it/s]"
     ]
    },
    {
     "name": "stdout",
     "output_type": "stream",
     "text": [
      "Total Loss  |Box Loss    |Conf Loss   |No Obj Loss |Class Loss  \n",
      "------------ ------------ ------------ ------------ ------------\n",
      "70.772      |27.589      |31.675      |3.752       |7.755       \n",
      "\n"
     ]
    },
    {
     "name": "stderr",
     "output_type": "stream",
     "text": [
      "\n",
      "mAP:@.5: 100%|██████████| 2/2 [00:01<00:00,  1.22it/s]\n"
     ]
    },
    {
     "name": "stdout",
     "output_type": "stream",
     "text": [
      "\n",
      "Validation mAP: 0.235\n",
      "\n",
      "New best mAP validation loss: 0.235\n",
      "Saving best mAP model...\n",
      "\n",
      "=== EPOCH 75/219 ===\n",
      "\n",
      "Learning Rate = 0.000215233605\n"
     ]
    },
    {
     "name": "stderr",
     "output_type": "stream",
     "text": [
      "Training: 100%|██████████| 316/316 [02:24<00:00,  2.19it/s]\n"
     ]
    },
    {
     "name": "stdout",
     "output_type": "stream",
     "text": [
      "Total Loss  |Box Loss    |Conf Loss   |No Obj Loss |Class Loss  \n",
      "------------ ------------ ------------ ------------ ------------\n",
      "60.222      |24.285      |25.350      |5.997       |4.589       \n",
      "\n"
     ]
    },
    {
     "name": "stderr",
     "output_type": "stream",
     "text": [
      "Validating: 100%|██████████| 78/78 [00:21<00:00,  3.71it/s]\n"
     ]
    },
    {
     "name": "stdout",
     "output_type": "stream",
     "text": [
      "Total Loss  |Box Loss    |Conf Loss   |No Obj Loss |Class Loss  \n",
      "------------ ------------ ------------ ------------ ------------\n",
      "70.827      |27.916      |31.816      |3.684       |7.411       \n",
      "\n",
      "\n",
      "=== EPOCH 76/219 ===\n",
      "\n",
      "Learning Rate = 0.000215233605\n"
     ]
    },
    {
     "name": "stderr",
     "output_type": "stream",
     "text": [
      "Training: 100%|██████████| 316/316 [02:02<00:00,  2.58it/s]\n"
     ]
    },
    {
     "name": "stdout",
     "output_type": "stream",
     "text": [
      "Total Loss  |Box Loss    |Conf Loss   |No Obj Loss |Class Loss  \n",
      "------------ ------------ ------------ ------------ ------------\n",
      "59.959      |24.068      |25.398      |5.917       |4.577       \n",
      "\n"
     ]
    },
    {
     "name": "stderr",
     "output_type": "stream",
     "text": [
      "Validating: 100%|██████████| 78/78 [00:22<00:00,  3.45it/s]\n"
     ]
    },
    {
     "name": "stdout",
     "output_type": "stream",
     "text": [
      "Total Loss  |Box Loss    |Conf Loss   |No Obj Loss |Class Loss  \n",
      "------------ ------------ ------------ ------------ ------------\n",
      "70.744      |27.535      |31.874      |3.702       |7.632       \n",
      "\n",
      "\n",
      "=== EPOCH 77/219 ===\n",
      "\n",
      "Learning Rate = 0.000215233605\n"
     ]
    },
    {
     "name": "stderr",
     "output_type": "stream",
     "text": [
      "Training: 100%|██████████| 316/316 [02:01<00:00,  2.60it/s]\n"
     ]
    },
    {
     "name": "stdout",
     "output_type": "stream",
     "text": [
      "Total Loss  |Box Loss    |Conf Loss   |No Obj Loss |Class Loss  \n",
      "------------ ------------ ------------ ------------ ------------\n",
      "59.972      |24.117      |25.227      |5.930       |4.699       \n",
      "\n"
     ]
    },
    {
     "name": "stderr",
     "output_type": "stream",
     "text": [
      "Validating: 100%|██████████| 78/78 [00:19<00:00,  3.98it/s]\n"
     ]
    },
    {
     "name": "stdout",
     "output_type": "stream",
     "text": [
      "Total Loss  |Box Loss    |Conf Loss   |No Obj Loss |Class Loss  \n",
      "------------ ------------ ------------ ------------ ------------\n",
      "71.166      |27.284      |32.249      |3.494       |8.139       \n",
      "\n",
      "\n",
      "=== EPOCH 78/219 ===\n",
      "\n",
      "Learning Rate = 0.0001937102445\n"
     ]
    },
    {
     "name": "stderr",
     "output_type": "stream",
     "text": [
      "Training: 100%|██████████| 316/316 [02:04<00:00,  2.53it/s]\n"
     ]
    },
    {
     "name": "stdout",
     "output_type": "stream",
     "text": [
      "Total Loss  |Box Loss    |Conf Loss   |No Obj Loss |Class Loss  \n",
      "------------ ------------ ------------ ------------ ------------\n",
      "59.927      |24.065      |25.271      |5.983       |4.608       \n",
      "\n"
     ]
    },
    {
     "name": "stderr",
     "output_type": "stream",
     "text": [
      "Validating: 100%|██████████| 78/78 [00:19<00:00,  3.92it/s]\n"
     ]
    },
    {
     "name": "stdout",
     "output_type": "stream",
     "text": [
      "Total Loss  |Box Loss    |Conf Loss   |No Obj Loss |Class Loss  \n",
      "------------ ------------ ------------ ------------ ------------\n",
      "70.469      |27.847      |31.648      |3.659       |7.316       \n",
      "\n",
      "New best validation loss: 70.469\n",
      "Saving best model...\n",
      "\n",
      "=== EPOCH 79/219 ===\n",
      "\n",
      "Learning Rate = 0.0001937102445\n"
     ]
    },
    {
     "name": "stderr",
     "output_type": "stream",
     "text": [
      "Training: 100%|██████████| 316/316 [02:00<00:00,  2.61it/s]\n"
     ]
    },
    {
     "name": "stdout",
     "output_type": "stream",
     "text": [
      "Total Loss  |Box Loss    |Conf Loss   |No Obj Loss |Class Loss  \n",
      "------------ ------------ ------------ ------------ ------------\n",
      "59.934      |24.173      |25.229      |5.909       |4.623       \n",
      "\n"
     ]
    },
    {
     "name": "stderr",
     "output_type": "stream",
     "text": [
      "Validating: 100%|██████████| 78/78 [00:19<00:00,  4.01it/s]"
     ]
    },
    {
     "name": "stdout",
     "output_type": "stream",
     "text": [
      "Total Loss  |Box Loss    |Conf Loss   |No Obj Loss |Class Loss  \n",
      "------------ ------------ ------------ ------------ ------------\n",
      "70.487      |27.844      |31.629      |3.662       |7.352       \n",
      "\n"
     ]
    },
    {
     "name": "stderr",
     "output_type": "stream",
     "text": [
      "\n",
      "mAP:@.5: 100%|██████████| 2/2 [00:01<00:00,  1.49it/s]\n"
     ]
    },
    {
     "name": "stdout",
     "output_type": "stream",
     "text": [
      "\n",
      "Validation mAP: 0.232\n",
      "\n",
      "=== EPOCH 80/219 ===\n",
      "\n",
      "Learning Rate = 0.0001937102445\n"
     ]
    },
    {
     "name": "stderr",
     "output_type": "stream",
     "text": [
      "Training: 100%|██████████| 316/316 [02:02<00:00,  2.59it/s]\n"
     ]
    },
    {
     "name": "stdout",
     "output_type": "stream",
     "text": [
      "Total Loss  |Box Loss    |Conf Loss   |No Obj Loss |Class Loss  \n",
      "------------ ------------ ------------ ------------ ------------\n",
      "59.555      |24.129      |25.094      |5.825       |4.506       \n",
      "\n"
     ]
    },
    {
     "name": "stderr",
     "output_type": "stream",
     "text": [
      "Validating: 100%|██████████| 78/78 [00:19<00:00,  4.00it/s]\n"
     ]
    },
    {
     "name": "stdout",
     "output_type": "stream",
     "text": [
      "Total Loss  |Box Loss    |Conf Loss   |No Obj Loss |Class Loss  \n",
      "------------ ------------ ------------ ------------ ------------\n",
      "71.577      |28.106      |31.728      |3.710       |8.034       \n",
      "\n",
      "\n",
      "=== EPOCH 81/219 ===\n",
      "\n",
      "Learning Rate = 0.00017433922005\n"
     ]
    },
    {
     "name": "stderr",
     "output_type": "stream",
     "text": [
      "Training: 100%|██████████| 316/316 [02:06<00:00,  2.50it/s]\n"
     ]
    },
    {
     "name": "stdout",
     "output_type": "stream",
     "text": [
      "Total Loss  |Box Loss    |Conf Loss   |No Obj Loss |Class Loss  \n",
      "------------ ------------ ------------ ------------ ------------\n",
      "59.692      |24.225      |24.772      |5.961       |4.734       \n",
      "\n"
     ]
    },
    {
     "name": "stderr",
     "output_type": "stream",
     "text": [
      "Validating: 100%|██████████| 78/78 [00:20<00:00,  3.89it/s]\n"
     ]
    },
    {
     "name": "stdout",
     "output_type": "stream",
     "text": [
      "Total Loss  |Box Loss    |Conf Loss   |No Obj Loss |Class Loss  \n",
      "------------ ------------ ------------ ------------ ------------\n",
      "70.549      |26.965      |31.779      |3.667       |8.138       \n",
      "\n",
      "\n",
      "=== EPOCH 82/219 ===\n",
      "\n",
      "Learning Rate = 0.00017433922005\n"
     ]
    },
    {
     "name": "stderr",
     "output_type": "stream",
     "text": [
      "Training: 100%|██████████| 316/316 [01:55<00:00,  2.73it/s]\n"
     ]
    },
    {
     "name": "stdout",
     "output_type": "stream",
     "text": [
      "Total Loss  |Box Loss    |Conf Loss   |No Obj Loss |Class Loss  \n",
      "------------ ------------ ------------ ------------ ------------\n",
      "59.720      |24.244      |25.051      |5.848       |4.577       \n",
      "\n"
     ]
    },
    {
     "name": "stderr",
     "output_type": "stream",
     "text": [
      "Validating: 100%|██████████| 78/78 [00:22<00:00,  3.43it/s]\n"
     ]
    },
    {
     "name": "stdout",
     "output_type": "stream",
     "text": [
      "Total Loss  |Box Loss    |Conf Loss   |No Obj Loss |Class Loss  \n",
      "------------ ------------ ------------ ------------ ------------\n",
      "70.729      |27.285      |32.051      |3.404       |7.989       \n",
      "\n",
      "\n",
      "=== EPOCH 83/219 ===\n",
      "\n",
      "Learning Rate = 0.00017433922005\n"
     ]
    },
    {
     "name": "stderr",
     "output_type": "stream",
     "text": [
      "Training: 100%|██████████| 316/316 [01:58<00:00,  2.67it/s]\n"
     ]
    },
    {
     "name": "stdout",
     "output_type": "stream",
     "text": [
      "Total Loss  |Box Loss    |Conf Loss   |No Obj Loss |Class Loss  \n",
      "------------ ------------ ------------ ------------ ------------\n",
      "59.126      |23.702      |24.950      |5.894       |4.581       \n",
      "\n"
     ]
    },
    {
     "name": "stderr",
     "output_type": "stream",
     "text": [
      "Validating: 100%|██████████| 78/78 [00:19<00:00,  3.98it/s]\n"
     ]
    },
    {
     "name": "stdout",
     "output_type": "stream",
     "text": [
      "Total Loss  |Box Loss    |Conf Loss   |No Obj Loss |Class Loss  \n",
      "------------ ------------ ------------ ------------ ------------\n",
      "70.222      |27.333      |31.341      |3.856       |7.693       \n",
      "\n",
      "New best validation loss: 70.222\n",
      "Saving best model...\n",
      "\n",
      "=== EPOCH 84/219 ===\n",
      "\n",
      "Learning Rate = 0.00017433922005\n"
     ]
    },
    {
     "name": "stderr",
     "output_type": "stream",
     "text": [
      "Training: 100%|██████████| 316/316 [02:03<00:00,  2.56it/s]\n"
     ]
    },
    {
     "name": "stdout",
     "output_type": "stream",
     "text": [
      "Total Loss  |Box Loss    |Conf Loss   |No Obj Loss |Class Loss  \n",
      "------------ ------------ ------------ ------------ ------------\n",
      "58.989      |23.536      |25.005      |5.981       |4.466       \n",
      "\n"
     ]
    },
    {
     "name": "stderr",
     "output_type": "stream",
     "text": [
      "Validating: 100%|██████████| 78/78 [00:20<00:00,  3.83it/s]"
     ]
    },
    {
     "name": "stdout",
     "output_type": "stream",
     "text": [
      "Total Loss  |Box Loss    |Conf Loss   |No Obj Loss |Class Loss  \n",
      "------------ ------------ ------------ ------------ ------------\n",
      "70.462      |27.510      |31.784      |3.481       |7.686       \n",
      "\n"
     ]
    },
    {
     "name": "stderr",
     "output_type": "stream",
     "text": [
      "\n",
      "mAP:@.5: 100%|██████████| 2/2 [00:01<00:00,  1.52it/s]\n"
     ]
    },
    {
     "name": "stdout",
     "output_type": "stream",
     "text": [
      "\n",
      "Validation mAP: 0.231\n",
      "\n",
      "=== EPOCH 85/219 ===\n",
      "\n",
      "Learning Rate = 0.00017433922005\n"
     ]
    },
    {
     "name": "stderr",
     "output_type": "stream",
     "text": [
      "Training: 100%|██████████| 316/316 [01:59<00:00,  2.65it/s]\n"
     ]
    },
    {
     "name": "stdout",
     "output_type": "stream",
     "text": [
      "Total Loss  |Box Loss    |Conf Loss   |No Obj Loss |Class Loss  \n",
      "------------ ------------ ------------ ------------ ------------\n",
      "58.888      |23.669      |24.907      |5.875       |4.437       \n",
      "\n"
     ]
    },
    {
     "name": "stderr",
     "output_type": "stream",
     "text": [
      "Validating: 100%|██████████| 78/78 [00:19<00:00,  4.01it/s]\n"
     ]
    },
    {
     "name": "stdout",
     "output_type": "stream",
     "text": [
      "Total Loss  |Box Loss    |Conf Loss   |No Obj Loss |Class Loss  \n",
      "------------ ------------ ------------ ------------ ------------\n",
      "70.437      |27.373      |31.509      |3.638       |7.916       \n",
      "\n",
      "\n",
      "=== EPOCH 86/219 ===\n",
      "\n",
      "Learning Rate = 0.00017433922005\n"
     ]
    },
    {
     "name": "stderr",
     "output_type": "stream",
     "text": [
      "Training: 100%|██████████| 316/316 [02:01<00:00,  2.59it/s]\n"
     ]
    },
    {
     "name": "stdout",
     "output_type": "stream",
     "text": [
      "Total Loss  |Box Loss    |Conf Loss   |No Obj Loss |Class Loss  \n",
      "------------ ------------ ------------ ------------ ------------\n",
      "59.514      |23.911      |24.978      |5.921       |4.704       \n",
      "\n"
     ]
    },
    {
     "name": "stderr",
     "output_type": "stream",
     "text": [
      "Validating: 100%|██████████| 78/78 [00:18<00:00,  4.13it/s]\n"
     ]
    },
    {
     "name": "stdout",
     "output_type": "stream",
     "text": [
      "Total Loss  |Box Loss    |Conf Loss   |No Obj Loss |Class Loss  \n",
      "------------ ------------ ------------ ------------ ------------\n",
      "70.721      |28.033      |31.369      |3.838       |7.482       \n",
      "\n",
      "\n",
      "=== EPOCH 87/219 ===\n",
      "\n",
      "Learning Rate = 0.00015690529804500002\n"
     ]
    },
    {
     "name": "stderr",
     "output_type": "stream",
     "text": [
      "Training: 100%|██████████| 316/316 [01:58<00:00,  2.66it/s]\n"
     ]
    },
    {
     "name": "stdout",
     "output_type": "stream",
     "text": [
      "Total Loss  |Box Loss    |Conf Loss   |No Obj Loss |Class Loss  \n",
      "------------ ------------ ------------ ------------ ------------\n",
      "58.964      |23.635      |24.983      |5.905       |4.440       \n",
      "\n"
     ]
    },
    {
     "name": "stderr",
     "output_type": "stream",
     "text": [
      "Validating: 100%|██████████| 78/78 [00:22<00:00,  3.42it/s]\n"
     ]
    },
    {
     "name": "stdout",
     "output_type": "stream",
     "text": [
      "Total Loss  |Box Loss    |Conf Loss   |No Obj Loss |Class Loss  \n",
      "------------ ------------ ------------ ------------ ------------\n",
      "70.742      |27.756      |31.774      |3.541       |7.672       \n",
      "\n",
      "\n",
      "=== EPOCH 88/219 ===\n",
      "\n",
      "Learning Rate = 0.00015690529804500002\n"
     ]
    },
    {
     "name": "stderr",
     "output_type": "stream",
     "text": [
      "Training: 100%|██████████| 316/316 [01:55<00:00,  2.74it/s]\n"
     ]
    },
    {
     "name": "stdout",
     "output_type": "stream",
     "text": [
      "Total Loss  |Box Loss    |Conf Loss   |No Obj Loss |Class Loss  \n",
      "------------ ------------ ------------ ------------ ------------\n",
      "58.762      |23.598      |24.846      |5.954       |4.364       \n",
      "\n"
     ]
    },
    {
     "name": "stderr",
     "output_type": "stream",
     "text": [
      "Validating: 100%|██████████| 78/78 [00:19<00:00,  3.99it/s]\n"
     ]
    },
    {
     "name": "stdout",
     "output_type": "stream",
     "text": [
      "Total Loss  |Box Loss    |Conf Loss   |No Obj Loss |Class Loss  \n",
      "------------ ------------ ------------ ------------ ------------\n",
      "71.230      |27.552      |31.889      |3.495       |8.293       \n",
      "\n",
      "\n",
      "=== EPOCH 89/219 ===\n",
      "\n",
      "Learning Rate = 0.00015690529804500002\n"
     ]
    },
    {
     "name": "stderr",
     "output_type": "stream",
     "text": [
      "Training: 100%|██████████| 316/316 [02:00<00:00,  2.61it/s]"
     ]
    },
    {
     "name": "stdout",
     "output_type": "stream",
     "text": [
      "Total Loss  |Box Loss    |Conf Loss   |No Obj Loss |Class Loss  \n",
      "------------ ------------ ------------ ------------ ------------\n",
      "58.303      |23.507      |24.632      |5.813       |4.351       \n",
      "\n"
     ]
    },
    {
     "name": "stderr",
     "output_type": "stream",
     "text": [
      "\n",
      "mAP:@.5: 100%|██████████| 2/2 [00:13<00:00,  6.68s/it]\n"
     ]
    },
    {
     "name": "stdout",
     "output_type": "stream",
     "text": [
      "\n",
      "Train mAP: 0.320\n"
     ]
    },
    {
     "name": "stderr",
     "output_type": "stream",
     "text": [
      "Validating: 100%|██████████| 78/78 [00:19<00:00,  3.92it/s]"
     ]
    },
    {
     "name": "stdout",
     "output_type": "stream",
     "text": [
      "Total Loss  |Box Loss    |Conf Loss   |No Obj Loss |Class Loss  \n",
      "------------ ------------ ------------ ------------ ------------\n",
      "69.721      |27.267      |31.151      |3.845       |7.458       \n",
      "\n"
     ]
    },
    {
     "name": "stderr",
     "output_type": "stream",
     "text": [
      "\n",
      "mAP:@.5: 100%|██████████| 2/2 [00:01<00:00,  1.38it/s]\n"
     ]
    },
    {
     "name": "stdout",
     "output_type": "stream",
     "text": [
      "\n",
      "Validation mAP: 0.241\n",
      "\n",
      "New best mAP validation loss: 0.241\n",
      "Saving best mAP model...\n",
      "New best validation loss: 69.721\n",
      "Saving best model...\n",
      "\n",
      "=== EPOCH 90/219 ===\n",
      "\n",
      "Learning Rate = 0.00015690529804500002\n"
     ]
    },
    {
     "name": "stderr",
     "output_type": "stream",
     "text": [
      "Training: 100%|██████████| 316/316 [02:01<00:00,  2.60it/s]\n"
     ]
    },
    {
     "name": "stdout",
     "output_type": "stream",
     "text": [
      "Total Loss  |Box Loss    |Conf Loss   |No Obj Loss |Class Loss  \n",
      "------------ ------------ ------------ ------------ ------------\n",
      "58.541      |23.402      |24.719      |5.879       |4.541       \n",
      "\n"
     ]
    },
    {
     "name": "stderr",
     "output_type": "stream",
     "text": [
      "Validating: 100%|██████████| 78/78 [00:19<00:00,  3.98it/s]\n"
     ]
    },
    {
     "name": "stdout",
     "output_type": "stream",
     "text": [
      "Total Loss  |Box Loss    |Conf Loss   |No Obj Loss |Class Loss  \n",
      "------------ ------------ ------------ ------------ ------------\n",
      "70.646      |27.636      |31.331      |3.754       |7.925       \n",
      "\n",
      "\n",
      "=== EPOCH 91/219 ===\n",
      "\n",
      "Learning Rate = 0.00015690529804500002\n"
     ]
    },
    {
     "name": "stderr",
     "output_type": "stream",
     "text": [
      "Training: 100%|██████████| 316/316 [01:57<00:00,  2.68it/s]\n"
     ]
    },
    {
     "name": "stdout",
     "output_type": "stream",
     "text": [
      "Total Loss  |Box Loss    |Conf Loss   |No Obj Loss |Class Loss  \n",
      "------------ ------------ ------------ ------------ ------------\n",
      "58.252      |23.535      |24.617      |5.746       |4.355       \n",
      "\n"
     ]
    },
    {
     "name": "stderr",
     "output_type": "stream",
     "text": [
      "Validating: 100%|██████████| 78/78 [00:22<00:00,  3.42it/s]\n"
     ]
    },
    {
     "name": "stdout",
     "output_type": "stream",
     "text": [
      "Total Loss  |Box Loss    |Conf Loss   |No Obj Loss |Class Loss  \n",
      "------------ ------------ ------------ ------------ ------------\n",
      "69.909      |27.520      |31.263      |3.726       |7.400       \n",
      "\n",
      "\n",
      "=== EPOCH 92/219 ===\n",
      "\n",
      "Learning Rate = 0.00015690529804500002\n"
     ]
    },
    {
     "name": "stderr",
     "output_type": "stream",
     "text": [
      "Training:  32%|███▏      | 100/316 [00:36<01:17,  2.78it/s]\n"
     ]
    },
    {
     "ename": "KeyboardInterrupt",
     "evalue": "",
     "output_type": "error",
     "traceback": [
      "\u001b[0;31m---------------------------------------------------------------------------\u001b[0m",
      "\u001b[0;31mKeyboardInterrupt\u001b[0m                         Traceback (most recent call last)",
      "Cell \u001b[0;32mIn[22], line 4\u001b[0m\n\u001b[1;32m      2\u001b[0m \u001b[38;5;28mprint\u001b[39m(\u001b[38;5;124m\"\u001b[39m\u001b[38;5;124mStarting script\u001b[39m\u001b[38;5;130;01m\\n\u001b[39;00m\u001b[38;5;124m\"\u001b[39m)\n\u001b[1;32m      3\u001b[0m \u001b[38;5;66;03m#print(torch.cuda.is_available())\u001b[39;00m\n\u001b[0;32m----> 4\u001b[0m \u001b[43mmain\u001b[49m\u001b[43m(\u001b[49m\u001b[43m)\u001b[49m\n",
      "Cell \u001b[0;32mIn[21], line 198\u001b[0m, in \u001b[0;36mmain\u001b[0;34m()\u001b[0m\n\u001b[1;32m    195\u001b[0m \u001b[38;5;28mprint\u001b[39m(\u001b[38;5;124mf\u001b[39m\u001b[38;5;124m'\u001b[39m\u001b[38;5;130;01m\\n\u001b[39;00m\u001b[38;5;124m=== EPOCH \u001b[39m\u001b[38;5;132;01m{\u001b[39;00mepoch\u001b[38;5;132;01m}\u001b[39;00m\u001b[38;5;124m/\u001b[39m\u001b[38;5;132;01m{\u001b[39;00mEPOCHS\u001b[38;5;241m-\u001b[39m\u001b[38;5;241m1\u001b[39m\u001b[38;5;132;01m}\u001b[39;00m\u001b[38;5;124m ===\u001b[39m\u001b[38;5;130;01m\\n\u001b[39;00m\u001b[38;5;124m'\u001b[39m)\n\u001b[1;32m    197\u001b[0m \u001b[38;5;66;03m# TRAINING\u001b[39;00m\n\u001b[0;32m--> 198\u001b[0m t_loss, b_loss, conf_loss, n_loss, cls_loss \u001b[38;5;241m=\u001b[39m \u001b[43mtrain_fn\u001b[49m\u001b[43m(\u001b[49m\u001b[43mloader\u001b[49m\u001b[38;5;241;43m=\u001b[39;49m\u001b[43mtrain_loader\u001b[49m\u001b[43m,\u001b[49m\u001b[43m \u001b[49m\n\u001b[1;32m    199\u001b[0m \u001b[43m                                                       \u001b[49m\u001b[43mmodel\u001b[49m\u001b[38;5;241;43m=\u001b[39;49m\u001b[43mmodel_tynss\u001b[49m\u001b[43m,\u001b[49m\u001b[43m \u001b[49m\n\u001b[1;32m    200\u001b[0m \u001b[43m                                                       \u001b[49m\u001b[43moptimizer\u001b[49m\u001b[38;5;241;43m=\u001b[39;49m\u001b[43moptimizer\u001b[49m\u001b[43m,\u001b[49m\u001b[43m \u001b[49m\n\u001b[1;32m    201\u001b[0m \u001b[43m                                                       \u001b[49m\u001b[43mloss_fn\u001b[49m\u001b[38;5;241;43m=\u001b[39;49m\u001b[43mloss_fn\u001b[49m\u001b[43m,\u001b[49m\n\u001b[1;32m    202\u001b[0m \u001b[43m                                                       \u001b[49m\u001b[43mdevice\u001b[49m\u001b[38;5;241;43m=\u001b[39;49m\u001b[43mDEVICE\u001b[49m\u001b[43m)\u001b[49m\n\u001b[1;32m    203\u001b[0m \u001b[38;5;66;03m# Appending Train Losses\u001b[39;00m\n\u001b[1;32m    204\u001b[0m train_total_loss\u001b[38;5;241m.\u001b[39mappend(t_loss)\n",
      "Cell \u001b[0;32mIn[18], line 20\u001b[0m, in \u001b[0;36mtrain_fn\u001b[0;34m(loader, model, optimizer, loss_fn, device)\u001b[0m\n\u001b[1;32m     17\u001b[0m     mean_noobj_loss \u001b[38;5;241m=\u001b[39m []\n\u001b[1;32m     18\u001b[0m     mean_class_loss \u001b[38;5;241m=\u001b[39m []\n\u001b[0;32m---> 20\u001b[0m     \u001b[38;5;28;01mfor\u001b[39;00m batch_idx, (x, y) \u001b[38;5;129;01min\u001b[39;00m \u001b[38;5;28menumerate\u001b[39m(loop):\n\u001b[1;32m     21\u001b[0m \u001b[38;5;66;03m#     for batch_idx, (x, y) in enumerate(loader):\u001b[39;00m\n\u001b[1;32m     22\u001b[0m         x, y \u001b[38;5;241m=\u001b[39m x\u001b[38;5;241m.\u001b[39mto(device), y\u001b[38;5;241m.\u001b[39mto(device)\n\u001b[1;32m     23\u001b[0m         out \u001b[38;5;241m=\u001b[39m model(x)\n",
      "File \u001b[0;32m/opt/conda/lib/python3.11/site-packages/tqdm/std.py:1178\u001b[0m, in \u001b[0;36m__iter__\u001b[0;34m(self)\u001b[0m\n\u001b[1;32m   1176\u001b[0m min_start_t \u001b[38;5;241m=\u001b[39m \u001b[38;5;28mself\u001b[39m\u001b[38;5;241m.\u001b[39mstart_t \u001b[38;5;241m+\u001b[39m \u001b[38;5;28mself\u001b[39m\u001b[38;5;241m.\u001b[39mdelay\n\u001b[1;32m   1177\u001b[0m n \u001b[38;5;241m=\u001b[39m \u001b[38;5;28mself\u001b[39m\u001b[38;5;241m.\u001b[39mn\n\u001b[0;32m-> 1178\u001b[0m time \u001b[38;5;241m=\u001b[39m \u001b[38;5;28mself\u001b[39m\u001b[38;5;241m.\u001b[39m_time\n\u001b[1;32m   1180\u001b[0m \u001b[38;5;28;01mtry\u001b[39;00m:\n\u001b[1;32m   1181\u001b[0m     \u001b[38;5;28;01mfor\u001b[39;00m obj \u001b[38;5;129;01min\u001b[39;00m iterable:\n",
      "File \u001b[0;32m/opt/conda/lib/python3.11/site-packages/torch/utils/data/dataloader.py:631\u001b[0m, in \u001b[0;36m_BaseDataLoaderIter.__next__\u001b[0;34m(self)\u001b[0m\n\u001b[1;32m    628\u001b[0m \u001b[38;5;28;01mif\u001b[39;00m \u001b[38;5;28mself\u001b[39m\u001b[38;5;241m.\u001b[39m_sampler_iter \u001b[38;5;129;01mis\u001b[39;00m \u001b[38;5;28;01mNone\u001b[39;00m:\n\u001b[1;32m    629\u001b[0m     \u001b[38;5;66;03m# TODO(https://github.com/pytorch/pytorch/issues/76750)\u001b[39;00m\n\u001b[1;32m    630\u001b[0m     \u001b[38;5;28mself\u001b[39m\u001b[38;5;241m.\u001b[39m_reset()  \u001b[38;5;66;03m# type: ignore[call-arg]\u001b[39;00m\n\u001b[0;32m--> 631\u001b[0m data \u001b[38;5;241m=\u001b[39m \u001b[38;5;28;43mself\u001b[39;49m\u001b[38;5;241;43m.\u001b[39;49m\u001b[43m_next_data\u001b[49m\u001b[43m(\u001b[49m\u001b[43m)\u001b[49m\n\u001b[1;32m    632\u001b[0m \u001b[38;5;28mself\u001b[39m\u001b[38;5;241m.\u001b[39m_num_yielded \u001b[38;5;241m+\u001b[39m\u001b[38;5;241m=\u001b[39m \u001b[38;5;241m1\u001b[39m\n\u001b[1;32m    633\u001b[0m \u001b[38;5;28;01mif\u001b[39;00m \u001b[38;5;28mself\u001b[39m\u001b[38;5;241m.\u001b[39m_dataset_kind \u001b[38;5;241m==\u001b[39m _DatasetKind\u001b[38;5;241m.\u001b[39mIterable \u001b[38;5;129;01mand\u001b[39;00m \\\n\u001b[1;32m    634\u001b[0m         \u001b[38;5;28mself\u001b[39m\u001b[38;5;241m.\u001b[39m_IterableDataset_len_called \u001b[38;5;129;01mis\u001b[39;00m \u001b[38;5;129;01mnot\u001b[39;00m \u001b[38;5;28;01mNone\u001b[39;00m \u001b[38;5;129;01mand\u001b[39;00m \\\n\u001b[1;32m    635\u001b[0m         \u001b[38;5;28mself\u001b[39m\u001b[38;5;241m.\u001b[39m_num_yielded \u001b[38;5;241m>\u001b[39m \u001b[38;5;28mself\u001b[39m\u001b[38;5;241m.\u001b[39m_IterableDataset_len_called:\n",
      "File \u001b[0;32m/opt/conda/lib/python3.11/site-packages/torch/utils/data/dataloader.py:1329\u001b[0m, in \u001b[0;36m_MultiProcessingDataLoaderIter._next_data\u001b[0;34m(self)\u001b[0m\n\u001b[1;32m   1326\u001b[0m     \u001b[38;5;28;01mreturn\u001b[39;00m \u001b[38;5;28mself\u001b[39m\u001b[38;5;241m.\u001b[39m_process_data(data)\n\u001b[1;32m   1328\u001b[0m \u001b[38;5;28;01massert\u001b[39;00m \u001b[38;5;129;01mnot\u001b[39;00m \u001b[38;5;28mself\u001b[39m\u001b[38;5;241m.\u001b[39m_shutdown \u001b[38;5;129;01mand\u001b[39;00m \u001b[38;5;28mself\u001b[39m\u001b[38;5;241m.\u001b[39m_tasks_outstanding \u001b[38;5;241m>\u001b[39m \u001b[38;5;241m0\u001b[39m\n\u001b[0;32m-> 1329\u001b[0m idx, data \u001b[38;5;241m=\u001b[39m \u001b[38;5;28;43mself\u001b[39;49m\u001b[38;5;241;43m.\u001b[39;49m\u001b[43m_get_data\u001b[49m\u001b[43m(\u001b[49m\u001b[43m)\u001b[49m\n\u001b[1;32m   1330\u001b[0m \u001b[38;5;28mself\u001b[39m\u001b[38;5;241m.\u001b[39m_tasks_outstanding \u001b[38;5;241m-\u001b[39m\u001b[38;5;241m=\u001b[39m \u001b[38;5;241m1\u001b[39m\n\u001b[1;32m   1331\u001b[0m \u001b[38;5;28;01mif\u001b[39;00m \u001b[38;5;28mself\u001b[39m\u001b[38;5;241m.\u001b[39m_dataset_kind \u001b[38;5;241m==\u001b[39m _DatasetKind\u001b[38;5;241m.\u001b[39mIterable:\n\u001b[1;32m   1332\u001b[0m     \u001b[38;5;66;03m# Check for _IterableDatasetStopIteration\u001b[39;00m\n",
      "File \u001b[0;32m/opt/conda/lib/python3.11/site-packages/torch/utils/data/dataloader.py:1285\u001b[0m, in \u001b[0;36m_MultiProcessingDataLoaderIter._get_data\u001b[0;34m(self)\u001b[0m\n\u001b[1;32m   1283\u001b[0m \u001b[38;5;28;01melif\u001b[39;00m \u001b[38;5;28mself\u001b[39m\u001b[38;5;241m.\u001b[39m_pin_memory:\n\u001b[1;32m   1284\u001b[0m     \u001b[38;5;28;01mwhile\u001b[39;00m \u001b[38;5;28mself\u001b[39m\u001b[38;5;241m.\u001b[39m_pin_memory_thread\u001b[38;5;241m.\u001b[39mis_alive():\n\u001b[0;32m-> 1285\u001b[0m         success, data \u001b[38;5;241m=\u001b[39m \u001b[38;5;28;43mself\u001b[39;49m\u001b[38;5;241;43m.\u001b[39;49m\u001b[43m_try_get_data\u001b[49m\u001b[43m(\u001b[49m\u001b[43m)\u001b[49m\n\u001b[1;32m   1286\u001b[0m         \u001b[38;5;28;01mif\u001b[39;00m success:\n\u001b[1;32m   1287\u001b[0m             \u001b[38;5;28;01mreturn\u001b[39;00m data\n",
      "File \u001b[0;32m/opt/conda/lib/python3.11/site-packages/torch/utils/data/dataloader.py:1133\u001b[0m, in \u001b[0;36m_MultiProcessingDataLoaderIter._try_get_data\u001b[0;34m(self, timeout)\u001b[0m\n\u001b[1;32m   1120\u001b[0m \u001b[38;5;28;01mdef\u001b[39;00m \u001b[38;5;21m_try_get_data\u001b[39m(\u001b[38;5;28mself\u001b[39m, timeout\u001b[38;5;241m=\u001b[39m_utils\u001b[38;5;241m.\u001b[39mMP_STATUS_CHECK_INTERVAL):\n\u001b[1;32m   1121\u001b[0m     \u001b[38;5;66;03m# Tries to fetch data from `self._data_queue` once for a given timeout.\u001b[39;00m\n\u001b[1;32m   1122\u001b[0m     \u001b[38;5;66;03m# This can also be used as inner loop of fetching without timeout, with\u001b[39;00m\n\u001b[0;32m   (...)\u001b[0m\n\u001b[1;32m   1130\u001b[0m     \u001b[38;5;66;03m# Returns a 2-tuple:\u001b[39;00m\n\u001b[1;32m   1131\u001b[0m     \u001b[38;5;66;03m#   (bool: whether successfully get data, any: data if successful else None)\u001b[39;00m\n\u001b[1;32m   1132\u001b[0m     \u001b[38;5;28;01mtry\u001b[39;00m:\n\u001b[0;32m-> 1133\u001b[0m         data \u001b[38;5;241m=\u001b[39m \u001b[38;5;28;43mself\u001b[39;49m\u001b[38;5;241;43m.\u001b[39;49m\u001b[43m_data_queue\u001b[49m\u001b[38;5;241;43m.\u001b[39;49m\u001b[43mget\u001b[49m\u001b[43m(\u001b[49m\u001b[43mtimeout\u001b[49m\u001b[38;5;241;43m=\u001b[39;49m\u001b[43mtimeout\u001b[49m\u001b[43m)\u001b[49m\n\u001b[1;32m   1134\u001b[0m         \u001b[38;5;28;01mreturn\u001b[39;00m (\u001b[38;5;28;01mTrue\u001b[39;00m, data)\n\u001b[1;32m   1135\u001b[0m     \u001b[38;5;28;01mexcept\u001b[39;00m \u001b[38;5;167;01mException\u001b[39;00m \u001b[38;5;28;01mas\u001b[39;00m e:\n\u001b[1;32m   1136\u001b[0m         \u001b[38;5;66;03m# At timeout and error, we manually check whether any worker has\u001b[39;00m\n\u001b[1;32m   1137\u001b[0m         \u001b[38;5;66;03m# failed. Note that this is the only mechanism for Windows to detect\u001b[39;00m\n\u001b[1;32m   1138\u001b[0m         \u001b[38;5;66;03m# worker failures.\u001b[39;00m\n",
      "File \u001b[0;32m/opt/conda/lib/python3.11/queue.py:180\u001b[0m, in \u001b[0;36mQueue.get\u001b[0;34m(self, block, timeout)\u001b[0m\n\u001b[1;32m    178\u001b[0m         \u001b[38;5;28;01mif\u001b[39;00m remaining \u001b[38;5;241m<\u001b[39m\u001b[38;5;241m=\u001b[39m \u001b[38;5;241m0.0\u001b[39m:\n\u001b[1;32m    179\u001b[0m             \u001b[38;5;28;01mraise\u001b[39;00m Empty\n\u001b[0;32m--> 180\u001b[0m         \u001b[38;5;28;43mself\u001b[39;49m\u001b[38;5;241;43m.\u001b[39;49m\u001b[43mnot_empty\u001b[49m\u001b[38;5;241;43m.\u001b[39;49m\u001b[43mwait\u001b[49m\u001b[43m(\u001b[49m\u001b[43mremaining\u001b[49m\u001b[43m)\u001b[49m\n\u001b[1;32m    181\u001b[0m item \u001b[38;5;241m=\u001b[39m \u001b[38;5;28mself\u001b[39m\u001b[38;5;241m.\u001b[39m_get()\n\u001b[1;32m    182\u001b[0m \u001b[38;5;28mself\u001b[39m\u001b[38;5;241m.\u001b[39mnot_full\u001b[38;5;241m.\u001b[39mnotify()\n",
      "File \u001b[0;32m/opt/conda/lib/python3.11/threading.py:324\u001b[0m, in \u001b[0;36mCondition.wait\u001b[0;34m(self, timeout)\u001b[0m\n\u001b[1;32m    322\u001b[0m \u001b[38;5;28;01melse\u001b[39;00m:\n\u001b[1;32m    323\u001b[0m     \u001b[38;5;28;01mif\u001b[39;00m timeout \u001b[38;5;241m>\u001b[39m \u001b[38;5;241m0\u001b[39m:\n\u001b[0;32m--> 324\u001b[0m         gotit \u001b[38;5;241m=\u001b[39m \u001b[43mwaiter\u001b[49m\u001b[38;5;241;43m.\u001b[39;49m\u001b[43macquire\u001b[49m\u001b[43m(\u001b[49m\u001b[38;5;28;43;01mTrue\u001b[39;49;00m\u001b[43m,\u001b[49m\u001b[43m \u001b[49m\u001b[43mtimeout\u001b[49m\u001b[43m)\u001b[49m\n\u001b[1;32m    325\u001b[0m     \u001b[38;5;28;01melse\u001b[39;00m:\n\u001b[1;32m    326\u001b[0m         gotit \u001b[38;5;241m=\u001b[39m waiter\u001b[38;5;241m.\u001b[39macquire(\u001b[38;5;28;01mFalse\u001b[39;00m)\n",
      "\u001b[0;31mKeyboardInterrupt\u001b[0m: "
     ]
    }
   ],
   "source": [
    "if __name__ == \"__main__\":\n",
    "    print(\"Starting script\\n\")\n",
    "    #print(torch.cuda.is_available())\n",
    "    main()"
   ]
  },
  {
   "cell_type": "code",
   "execution_count": 23,
   "id": "ebb2ee54-7f44-4ec5-a2e7-8b0f7aa7dda7",
   "metadata": {},
   "outputs": [
    {
     "data": {
      "image/png": "[encoded data removed]",
      "text/plain": [
       "<Figure size 800x500 with 6 Axes>"
      ]
     },
     "metadata": {},
     "output_type": "display_data"
    }
   ],
   "source": [
    "#plt.figure(figsize=(8,8))\n",
    "fig, axs = plt.subplots(2,3, figsize=(8, 5))\n",
    "fig.suptitle('Tiny Loss & mAP', fontsize=15)\n",
    "\n",
    "plt.subplot(2,3,1)\n",
    "plt.plot(train_total_loss, label=\"train\")\n",
    "plt.plot(val_total_loss, label=\"val\")\n",
    "plt.title(\"Total Loss\")\n",
    "plt.xlabel(\"Epochs\")\n",
    "plt.ylabel(\"Loss\")\n",
    "plt.legend()\n",
    "plt.grid()\n",
    "\n",
    "plt.subplot(2,3,2)\n",
    "plt.plot(train_box_loss, label=\"train\")\n",
    "plt.plot(val_box_loss, label=\"val\")\n",
    "plt.title(\"Box Loss\")\n",
    "plt.xlabel(\"Epochs\")\n",
    "plt.ylabel(\"Loss\")\n",
    "plt.legend()\n",
    "plt.grid()\n",
    "\n",
    "plt.subplot(2,3,3)\n",
    "plt.plot(train_confidence_loss, label=\"train\")\n",
    "plt.plot(val_confidence_loss, label=\"val\")\n",
    "plt.title(\"Confidence Loss\")\n",
    "plt.xlabel(\"Epochs\")\n",
    "plt.ylabel(\"Loss\")\n",
    "plt.legend()\n",
    "plt.grid()\n",
    "\n",
    "plt.subplot(2,3,4)\n",
    "plt.plot(train_noobj_loss, label=\"train\")\n",
    "plt.plot(val_noobj_loss, label=\"val\")\n",
    "plt.title(\"NoObj Loss\")\n",
    "plt.xlabel(\"Epochs\")\n",
    "plt.ylabel(\"Loss\")\n",
    "plt.legend()\n",
    "plt.grid()\n",
    "\n",
    "plt.subplot(2,3,5)\n",
    "plt.plot(train_class_loss, label=\"train\")\n",
    "plt.plot(val_class_loss, label=\"val\")\n",
    "plt.title(\"Class Loss\")\n",
    "plt.xlabel(\"Epochs\")\n",
    "plt.ylabel(\"Loss\")\n",
    "plt.legend()\n",
    "plt.grid()\n",
    "\n",
    "plt.subplot(2,3,6)\n",
    "plt.plot(val_mAP, label=\"val mAP\")\n",
    "plt.title(\"Val mAP\")\n",
    "plt.ylim([0,1])\n",
    "plt.xlabel(\"Epochs\")\n",
    "plt.ylabel(\"mAP:@.50\")\n",
    "plt.legend()\n",
    "plt.grid()\n",
    "\n",
    "plt.tight_layout()\n",
    "plt.savefig(\"tiny_pytorch_results/tiny_loss_map.png\")\n",
    "plt.show()"
   ]
  },
  {
   "cell_type": "code",
   "execution_count": 24,
   "id": "8191af27-dd22-4718-ab87-6f118df9e476",
   "metadata": {},
   "outputs": [
    {
     "name": "stderr",
     "output_type": "stream",
     "text": [
      "/tmp/ipykernel_2069889/1942273802.py:26: MatplotlibDeprecationWarning: Auto-removal of overlapping axes is deprecated since 3.6 and will be removed two minor releases later; explicitly call ax.remove() as needed.\n",
      "  plt.subplot(1, 3, 1)\n",
      "/tmp/ipykernel_2069889/1942273802.py:34: MatplotlibDeprecationWarning: Auto-removal of overlapping axes is deprecated since 3.6 and will be removed two minor releases later; explicitly call ax.remove() as needed.\n",
      "  plt.subplot(1, 3, 2)\n"
     ]
    },
    {
     "data": {
      "image/png": "[encoded data removed]",
      "text/plain": [
       "<Figure size 800x300 with 3 Axes>"
      ]
     },
     "metadata": {},
     "output_type": "display_data"
    }
   ],
   "source": [
    "# val_class_AP\n",
    "# val_class_precision\n",
    "# val_class_recall\n",
    "\n",
    "smoke_prec = []\n",
    "fire_prec = []\n",
    "for prec in val_class_precision:\n",
    "    smoke_prec.append(prec[0])\n",
    "    fire_prec.append(prec[1])\n",
    "\n",
    "smoke_recall = []\n",
    "fire_recall = []\n",
    "for rec in val_class_recall:\n",
    "    smoke_recall.append(rec[0])\n",
    "    fire_recall.append(rec[1])\n",
    "\n",
    "smoke_ap = []\n",
    "fire_ap = []\n",
    "for ap in val_class_AP:\n",
    "    smoke_ap.append(ap[0])\n",
    "    fire_ap.append(ap[1])\n",
    "\n",
    "fig, axs = plt.subplots(1, 2, figsize=(8, 3))\n",
    "fig.suptitle('Tiny precision, recall, class AP')\n",
    "\n",
    "plt.subplot(1, 3, 1)\n",
    "plt.plot(smoke_prec, label=\"smoke\")\n",
    "plt.plot(fire_prec, label=\"fire\")\n",
    "plt.title(\"Precision\")\n",
    "plt.ylim([0,1])\n",
    "plt.grid()\n",
    "plt.legend()\n",
    "\n",
    "plt.subplot(1, 3, 2)\n",
    "plt.plot(smoke_recall, label=\"smoke\")\n",
    "plt.plot(fire_recall, label=\"fire\")\n",
    "plt.title(\"Recall\")\n",
    "plt.ylim([0,1])\n",
    "plt.grid()\n",
    "plt.legend()\n",
    "\n",
    "plt.subplot(1, 3, 3)\n",
    "plt.plot(smoke_ap, label=\"smoke\")\n",
    "plt.plot(fire_ap, label=\"fire\")\n",
    "plt.title(\"Class AP\")\n",
    "plt.ylim([0,1])\n",
    "plt.grid()\n",
    "plt.legend()\n",
    "\n",
    "plt.tight_layout()\n",
    "plt.savefig(\"tiny_pytorch_results/tiny_precision_recall_classAP.png\")\n",
    "plt.show()"
   ]
  },
  {
   "cell_type": "code",
   "execution_count": null,
   "id": "ab478d8e-df7f-4977-a5cb-d050b8de5d6b",
   "metadata": {},
   "outputs": [],
   "source": []
  }
 ],
 "metadata": {
  "kernelspec": {
   "display_name": "Python 3 (ipykernel)",
   "language": "python",
   "name": "python3"
  },
  "language_info": {
   "codemirror_mode": {
    "name": "ipython",
    "version": 3
   },
   "file_extension": ".py",
   "mimetype": "text/x-python",
   "name": "python",
   "nbconvert_exporter": "python",
   "pygments_lexer": "ipython3",
   "version": "3.10.6"
  }
 },
 "nbformat": 4,
 "nbformat_minor": 5
}
